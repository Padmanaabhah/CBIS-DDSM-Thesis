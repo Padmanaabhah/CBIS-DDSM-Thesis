{
  "cells": [
    {
      "cell_type": "code",
      "execution_count": 1,
      "metadata": {
        "id": "Xzc7BJKDBX3y"
      },
      "outputs": [],
      "source": [
        "#pip install tensorflow"
      ]
    },
    {
      "cell_type": "code",
      "execution_count": 2,
      "metadata": {
        "id": "L6wiaECOBX30"
      },
      "outputs": [],
      "source": [
        "#pip install opencv-python-headless"
      ]
    },
    {
      "cell_type": "code",
      "execution_count": 3,
      "metadata": {
        "id": "cXp-5N_yBX30"
      },
      "outputs": [],
      "source": [
        "from distutils import extension\n",
        "from logging import exception\n",
        "import os\n",
        "from datetime import datetime as dt\n",
        "from regex import E\n",
        "from sqlalchemy import intersect\n",
        "import tensorflow as tf\n",
        "from tensorflow import keras\n",
        "import cv2\n",
        "import numpy as np \n",
        "import pathlib\n",
        "from keras.callbacks import ModelCheckpoint   "
      ]
    },
    {
      "cell_type": "code",
      "execution_count": 4,
      "metadata": {
        "colab": {
          "base_uri": "https://localhost:8080/"
        },
        "id": "9iQkKItqB1-t",
        "outputId": "96f59c8a-6899-4fac-f693-25288d4ffffe"
      },
      "outputs": [
        {
          "output_type": "stream",
          "name": "stdout",
          "text": [
            "Mounted at /content/gdrive\n"
          ]
        }
      ],
      "source": [
        "from google.colab import drive\n",
        "drive.mount('/content/gdrive')"
      ]
    },
    {
      "cell_type": "code",
      "execution_count": 5,
      "metadata": {
        "colab": {
          "base_uri": "https://localhost:8080/"
        },
        "id": "wQYE2sEYB-uE",
        "outputId": "e9379c69-ea29-4a74-c65c-42a18d256466"
      },
      "outputs": [
        {
          "output_type": "stream",
          "name": "stdout",
          "text": [
            "Test_output_full  Test_output_mask  Train_output_full  Train_output_mask\n"
          ]
        }
      ],
      "source": [
        "!ls \"/content/gdrive/MyDrive/cbisddsm\""
      ]
    },
    {
      "cell_type": "code",
      "execution_count": 6,
      "metadata": {
        "id": "2foFHtBFB_U4"
      },
      "outputs": [],
      "source": [
        "# data_dir_train = pathlib.Path(\"/content/gdrive/MyDrive/Images/Train\")\n",
        "# data_dir_test = pathlib.Path('/content/gdrive/MyDrive/Images/Test')"
      ]
    },
    {
      "cell_type": "code",
      "execution_count": 7,
      "metadata": {
        "id": "zYVMXFDEBX31"
      },
      "outputs": [],
      "source": [
        "seed = 43\n",
        "encoder_input_width = 224\n",
        "encode_input_channels = 3\n",
        "encoder_input_shape = (encoder_input_width, encoder_input_width, encode_input_channels)\n",
        "\n",
        "kernsize = 3\n",
        "decoder_kernel_size = (kernsize, kernsize)\n",
        "stride = 2\n",
        "decoder_strides = (stride, stride)\n",
        "decoder_padding = \"same\"\n",
        "decoder_activation = None\n",
        "final_layer_filters = 1\n",
        "final_layer_activation = \"sigmoid\"\n",
        "\n",
        "train_full_img_dir = \"/content/gdrive/MyDrive/cbisddsm/Train_output_full\"\n",
        "train_mask_img_dir = \"/content/gdrive/MyDrive/cbisddsm/Train_output_mask\"\n",
        "\n",
        "test_full_img_dir = \"/content/gdrive/MyDrive/cbisddsm/Test_output_full\"\n",
        "test_mask_img_dir = \"/content/gdrive/MyDrive/cbisddsm/Test_output_mask\"\n",
        "results_dir = \"/content/results/fit\"\n",
        "extension = \".png\"\n",
        "\n",
        "target_size = (224, 224)\n",
        "\n",
        "brightness_delta = 0.3\n",
        "batch_size = 10\n",
        "\n",
        "validate = False\n",
        "loss = \"binary_crossentropy\"\n",
        "learning_rate = 0.0001\n",
        "dropout = 0.5\n",
        "dropout_training = True\n",
        "num_epochs = 80\n",
        "callback_monitor = \"iouMetric\"\n",
        "callback_mode = \"max\"\n",
        "ckpt_save_weights_only = True\n",
        "ckpt_save_best_only = True\n",
        "earlystop_patience = 200\n",
        "restore_best_weights = True"
      ]
    },
    {
      "cell_type": "code",
      "execution_count": 8,
      "metadata": {
        "id": "WiJw56KyBX32"
      },
      "outputs": [],
      "source": [
        "# x_paths_list = []\n",
        "# for full in os.listdir(train_full_img_dir):\n",
        "#   if full.endswith(extension):\n",
        "#     x_paths_list.append(os.path.join(train_full_img_dir, full))\n",
        "\n",
        "# print(len(x_paths_list))"
      ]
    },
    {
      "cell_type": "code",
      "execution_count": 8,
      "metadata": {
        "id": "B28GisyHBX32"
      },
      "outputs": [],
      "source": [
        ""
      ]
    },
    {
      "cell_type": "code",
      "execution_count": 9,
      "metadata": {
        "id": "JGqSf0kQBX32"
      },
      "outputs": [],
      "source": [
        "def datasetPaths(full_img_dir, mask_img_dir):\n",
        "        try:\n",
        "            x_paths_list = []\n",
        "            y_paths_list = []\n",
        "\n",
        "            for full in os.listdir(full_img_dir):\n",
        "                if full.endswith(extension):\n",
        "                    x_paths_list.append(os.path.join(full_img_dir, full))\n",
        "            \n",
        "            for full in os.listdir(mask_img_dir):\n",
        "                if full.endswith(extension):\n",
        "                    y_paths_list.append(os.path.join(mask_img_dir, full))\n",
        "            \n",
        "            x_paths_list.sort()\n",
        "            y_paths_list.sort()\n",
        "\n",
        "            return x_paths_list, y_paths_list\n",
        "        except Exception as e:\n",
        "            print(f\"Error in datasetPaths {e}\")"
      ]
    },
    {
      "cell_type": "code",
      "execution_count": 10,
      "metadata": {
        "id": "7u3oVaRTBX33"
      },
      "outputs": [],
      "source": [
        "# def loadFullImg(path, dsize):\n",
        "#         try:\n",
        "#             if not isinstance(path, str):\n",
        "#                 path = path.decode()\n",
        "             \n",
        "            \n",
        "#             s3_client = boto3.resource('s3')\n",
        "#             obj = s3_client.get_object(Bucket='cbisddsm', Key=path)\n",
        "#             nparr = np.frombuffer(obj['Body'].read(), np.uint8)\n",
        "#             img = cv2.imdecode(nparr, cv2.IMREAD_COLOR)\n",
        "#             print(f'type type{img}')\n",
        "#             #bucket = s3_resource.Bucket('cbisddsm')\n",
        "#             #print(f'bucket.Object(path) {bucket.Object(path)}')\n",
        "#             #img = bucket.Object(path).get().get('Body').read()\n",
        "#             #print(f'img {img}')\n",
        "#             #img = cv2.imdecode(np.asarray(bytearray(img)), cv2.IMREAD_COLOR)\n",
        "           \n",
        "            \n",
        "#             #img = cv2.imread(path, cv2.IMREAD_GRAYSCALE)\n",
        "#             img = cv2.resize(src=img, dsize=dsize)\n",
        "\n",
        "#             norm_img = (img - img.min()) / (img.max() - img.min())\n",
        "\n",
        "#             full_img = np.stack([norm_img, norm_img, norm_img], axis=-1)\n",
        "#             print(f'done for path {path}')\n",
        "#             return full_img\n",
        "        \n",
        "#         except Exception as e:\n",
        "#             print(f\"There is an error in loadFullImg {e}\")\n",
        "            \n",
        "\n",
        "    \n",
        " "
      ]
    },
    {
      "cell_type": "code",
      "execution_count": 11,
      "metadata": {
        "id": "VQf1GqJeBX34"
      },
      "outputs": [],
      "source": [
        "def loadFullImg(path, dsize):\n",
        "        try:\n",
        "            if not isinstance(path, str):\n",
        "                path = path.decode()\n",
        "            \n",
        "            img = cv2.imread(path, cv2.IMREAD_GRAYSCALE)\n",
        "            #print(type(img))\n",
        "            img = cv2.resize(src=img, dsize=dsize)\n",
        "\n",
        "            norm_img = (img - img.min()) / (img.max() - img.min())\n",
        "            #print(f'After norm_img')\n",
        "            #print(f'type {norm_img.shape}')\n",
        "            full_img = np.stack([norm_img, norm_img, norm_img], axis=-1)\n",
        "            #print(f'After full_img')\n",
        "            #print(f'type {full_img.shape}')\n",
        "            #print(f'done for path {path} with shape {full_img.shape}')\n",
        "            return full_img\n",
        "        \n",
        "        except Exception as e:\n",
        "            print(f\"There is an error in loadFullImg {e}\")"
      ]
    },
    {
      "cell_type": "code",
      "execution_count": 12,
      "metadata": {
        "id": "Yfm6JA2rBX34"
      },
      "outputs": [],
      "source": [
        "# s3 = boto3.resource('s3')\n",
        "# my_bucket = s3.Bucket('cbisddsm')\n",
        "# i = 0\n",
        "# for object_summary in my_bucket.objects.filter(Prefix='Train_output_full'):    \n",
        "#     if i == 0:\n",
        "#         pass\n",
        "#     else:\n",
        "#         print(object_summary.key)\n",
        "#         img = loadFullImg(object_summary.key, target_size)\n",
        "#         print(img.shape)\n",
        "#         #break\n",
        "#     i += 1\n",
        "    \n",
        "    \n",
        "#             #print(object_summary.key)\n",
        "        \n",
        "#             #x_paths_list.append(object_summary.key)\n"
      ]
    },
    {
      "cell_type": "code",
      "execution_count": 13,
      "metadata": {
        "id": "KYSP3bIaBX35"
      },
      "outputs": [],
      "source": [
        "def loadMaskImg(path, dsize):\n",
        "        try:\n",
        "            if not isinstance(path, str):\n",
        "                path=path.decode()\n",
        "            \n",
        "            img = cv2.imread(path, cv2.IMREAD_GRAYSCALE)\n",
        "            img = cv2.resize(src=img, dsize=dsize)\n",
        "\n",
        "            norm_img = (img - img.min()) / (img.max() - img.min())\n",
        "\n",
        "            mask_img = np.expand_dims(norm_img, axis=-1)\n",
        "            #print(f'done for path {path} with shape {mask_img.shape}')\n",
        "            return mask_img\n",
        "\n",
        "        except Exception as e:\n",
        "            print(\"Error in loadMaskIMG\")"
      ]
    },
    {
      "cell_type": "code",
      "execution_count": 14,
      "metadata": {
        "id": "Co4SIeY6BX35"
      },
      "outputs": [],
      "source": [
        "# def loadMaskImg(path, dsize):\n",
        "#         try:\n",
        "#             if not isinstance(path, str):\n",
        "#                 path=path.decode()\n",
        "             \n",
        "#             s3_resource = boto3.resource('s3')\n",
        "#             bucket = s3_resource.Bucket('cbisddsm')\n",
        "# #             bucket = s3_resource.Bucket('cbisddsm')\n",
        "#             img = bucket.Object(path).get().get('Body').read()\n",
        "#             img = cv2.imdecode(np.asarray(bytearray(img)), cv2.IMREAD_COLOR)\n",
        "#             print(f'type type(img)')\n",
        "#             #img = cv2.imread(path, cv2.IMREAD_GRAYSCALE)\n",
        "#             img = cv2.resize(src=img, dsize=dsize)\n",
        "\n",
        "#             norm_img = (img - img.min()) / (img.max() - img.min())\n",
        "\n",
        "#             mask_img = np.expand_dims(norm_img, axis=-1)\n",
        "\n",
        "#             return mask_img\n",
        "\n",
        "#         except Exception as e:\n",
        "#             print(\"Error in loadMaskIMG\")"
      ]
    },
    {
      "cell_type": "code",
      "execution_count": 15,
      "metadata": {
        "id": "bawafpnnBX36"
      },
      "outputs": [],
      "source": [
        "def tfParse(x_path, y_path):\n",
        "        try:\n",
        "            def _parse(x_path, y_path):\n",
        "                x = loadFullImg(path=x_path, dsize=target_size)\n",
        "                y = loadMaskImg(path=y_path, dsize=target_size)\n",
        "                return x,y\n",
        "\n",
        "            x, y = tf.numpy_function(_parse, [x_path, y_path], [tf.float64, tf.float64])\n",
        "\n",
        "            x.set_shape([target_size[0], target_size[0], 3])\n",
        "            y.set_shape([target_size[0], target_size[1], 1])\n",
        "\n",
        "            return x,y\n",
        "            \n",
        "\n",
        "        except Exception as e:\n",
        "            print(f\"Error in tfParse {e}\")"
      ]
    },
    {
      "cell_type": "code",
      "execution_count": 16,
      "metadata": {
        "id": "tkHDbxVGBX36"
      },
      "outputs": [],
      "source": [
        "def imgAugment(x_img, y_img):\n",
        "        try:\n",
        "            if tf.random.uniform(()) > 0.5:\n",
        "                x_img = tf.image.flip_up_down(image=x_img)\n",
        "                y_img = tf.image.flip_up_down(image=y_img)\n",
        "\n",
        "            x_img = tf.image.random_brightness(\n",
        "                image=x_img, max_delta=brightness_delta\n",
        "            )\n",
        "\n",
        "            return x_img, y_img\n",
        "\n",
        "        except:\n",
        "            print(\"Erro in imgAugument\")"
      ]
    },
    {
      "cell_type": "code",
      "execution_count": 17,
      "metadata": {
        "id": "Mge3IsdLBX36"
      },
      "outputs": [],
      "source": [
        " def makeTFDataset( shuffle, augument, x_paths_list, y_paths_list, batch_size):\n",
        "        try:\n",
        "            ds = tf.data.Dataset.from_tensor_slices((x_paths_list, y_paths_list))\n",
        "            \n",
        "            if shuffle:\n",
        "                ds = ds.shuffle(buffer_size=len(x_paths_list))\n",
        "\n",
        "            ds = ds.map(tfParse, num_parallel_calls=tf.data.experimental.AUTOTUNE)\n",
        "            \n",
        "            if augument:\n",
        "                ds = ds.map(imgAugment, num_parallel_calls=tf.data.experimental.AUTOTUNE)\n",
        "\n",
        "            ds = ds.batch(batch_size=batch_size, drop_remainder=False)\n",
        "            ds = ds.repeat()\n",
        "\n",
        "            return ds\n",
        "\n",
        "        except Exception as e:\n",
        "            print(f\"Error in make TFDataset {e}\")"
      ]
    },
    {
      "cell_type": "code",
      "execution_count": 18,
      "metadata": {
        "id": "9RGLX5MnBX37"
      },
      "outputs": [],
      "source": [
        "def buildEncoder():\n",
        "        try:\n",
        "            VGG16_ = keras.applications.VGG16(\n",
        "                include_top=False, weights=\"imagenet\", input_shape=encoder_input_shape,\n",
        "            )\n",
        "\n",
        "            layer_names = [layer.name for layer in VGG16_.layers]\n",
        "\n",
        "            all_layer_outputs = [\n",
        "               VGG16_.get_layer(layer).output for layer in layer_names\n",
        "            ]\n",
        "\n",
        "            encoder_model = keras.Model(inputs=VGG16_.input, outputs=all_layer_outputs)\n",
        "\n",
        "            encoder_model.trainable = False\n",
        "\n",
        "            return encoder_model \n",
        "        \n",
        "        except Exception as e:\n",
        "            print(\"Error in buildEncoder\")"
      ]
    },
    {
      "cell_type": "code",
      "execution_count": 19,
      "metadata": {
        "id": "eNHrykF9BX37"
      },
      "outputs": [],
      "source": [
        "def buildUnet():\n",
        "        try:\n",
        "            unet_input = keras.Input(\n",
        "                shape= encoder_input_shape, name=\"unet_input_layer\"\n",
        "            )\n",
        "\n",
        "            x = unet_input\n",
        "            encoder_model = buildEncoder()\n",
        "            all_encoder_layer_outputs = encoder_model(x)\n",
        "\n",
        "            encoded_img = all_encoder_layer_outputs[-1]\n",
        "\n",
        "            #skip_outputs = [all_encoder_layer_outputs[i] for i in [2, 5,9, 13, 17]]\n",
        "            skip_outputs = [all_encoder_layer_outputs[i] for i in [2, 4, 6, 12, 15]]\n",
        "            \n",
        "            decoder_filters = int(encoded_img.shape[-1])\n",
        "\n",
        "            # ------------------------------------------\n",
        "            # Block 5: 7x7 -> 14x14\n",
        "            #  - `encoded_img` as initial input for decoder\n",
        "            x = keras.layers.Conv2DTranspose(\n",
        "                name=\"block5_up_convT\",\n",
        "                filters=decoder_filters,\n",
        "                kernel_size=decoder_kernel_size,\n",
        "                strides=decoder_strides,\n",
        "                padding=decoder_padding,\n",
        "                activation=decoder_activation,\n",
        "            )(encoded_img)\n",
        "\n",
        "            x = keras.layers.Concatenate(name=\"block5_up_concat\", axis=-1)(\n",
        "                [x, skip_outputs[4]]\n",
        "            )\n",
        "\n",
        "            x = keras.layers.Dropout(\n",
        "                name=\"block5_up_dropout\", rate=dropout, seed=seed\n",
        "            )(x, training=dropout_training)\n",
        "\n",
        "            x = keras.layers.Conv2D(\n",
        "                name=\"block5_up_conv3\",\n",
        "                filters=decoder_filters,\n",
        "                kernel_size=decoder_kernel_size,\n",
        "                strides=(1, 1),\n",
        "                padding=\"same\",\n",
        "                activation=\"relu\",\n",
        "            )(x)\n",
        "            x = keras.layers.Conv2D(\n",
        "                name=\"block5_up_conv2\",\n",
        "                filters=decoder_filters,\n",
        "                kernel_size=decoder_kernel_size,\n",
        "                strides=(1, 1),\n",
        "                padding=\"same\",\n",
        "                activation=\"relu\",\n",
        "            )(x)\n",
        "            x = keras.layers.Conv2D(\n",
        "                name=\"block5_up_conv1\",\n",
        "                filters=decoder_filters,\n",
        "                kernel_size=decoder_kernel_size,\n",
        "                strides=(1, 1),\n",
        "                padding=\"same\",\n",
        "                activation=\"relu\",\n",
        "            )(x)\n",
        "\n",
        "            # ------------------------------------------\n",
        "            # Block 4: 14x14 -> 28x28\n",
        "            x = keras.layers.Conv2DTranspose(\n",
        "                name=\"block4_up_convT\",\n",
        "                filters=decoder_filters,\n",
        "                kernel_size=decoder_kernel_size,\n",
        "                strides=decoder_strides,\n",
        "                padding=decoder_padding,\n",
        "                activation=decoder_activation,\n",
        "            )(x)\n",
        "\n",
        "            x = keras.layers.Concatenate(name=\"block4_up_concat\", axis=-1)(\n",
        "                [x, skip_outputs[3]]\n",
        "            )\n",
        "\n",
        "            x = keras.layers.Dropout(\n",
        "                name=\"block4_up_dropout\", rate=dropout, seed=seed\n",
        "            )(x, training=dropout_training)\n",
        "\n",
        "            x = keras.layers.Conv2D(\n",
        "                name=\"block4_up_conv3\",\n",
        "                filters=decoder_filters,\n",
        "                kernel_size=decoder_kernel_size,\n",
        "                strides=(1, 1),\n",
        "                padding=\"same\",\n",
        "                activation=\"relu\",\n",
        "            )(x)\n",
        "            x = keras.layers.Conv2D(\n",
        "                name=\"block4_up_conv2\",\n",
        "                filters=decoder_filters,\n",
        "                kernel_size=decoder_kernel_size,\n",
        "                strides=(1, 1),\n",
        "                padding=\"same\",\n",
        "                activation=\"relu\",\n",
        "            )(x)\n",
        "            x = keras.layers.Conv2D(\n",
        "                name=\"block4_up_conv1\",\n",
        "                filters=decoder_filters,\n",
        "                kernel_size=decoder_kernel_size,\n",
        "                strides=(1, 1),\n",
        "                padding=\"same\",\n",
        "                activation=\"relu\",\n",
        "            )(x)\n",
        "\n",
        "            # ------------------------------------------\n",
        "            # Block 3: 28x28 -> 56x56\n",
        "            x = keras.layers.Conv2DTranspose(\n",
        "                name=\"block3_up_convT\",\n",
        "                filters=int(decoder_filters / 2),\n",
        "                kernel_size=decoder_kernel_size,\n",
        "                strides=decoder_strides,\n",
        "                padding=decoder_padding,\n",
        "                activation=decoder_activation,\n",
        "            )(x)\n",
        "\n",
        "            x = keras.layers.Concatenate(name=\"block3_up_concat\", axis=-1)(\n",
        "                [x, skip_outputs[2]]\n",
        "            )\n",
        "\n",
        "            x = keras.layers.Dropout(\n",
        "                name=\"block3_up_dropout\", rate=dropout, seed=seed\n",
        "            )(x, training=dropout_training)\n",
        "\n",
        "            x = keras.layers.Conv2D(\n",
        "                name=\"block3_up_conv3\",\n",
        "                filters=int(decoder_filters / 2),\n",
        "                kernel_size=decoder_kernel_size,\n",
        "                strides=(1, 1),\n",
        "                padding=\"same\",\n",
        "                activation=\"relu\",\n",
        "            )(x)\n",
        "            x = keras.layers.Conv2D(\n",
        "                name=\"block3_up_conv2\",\n",
        "                filters=int(decoder_filters / 2),\n",
        "                kernel_size=decoder_kernel_size,\n",
        "                strides=(1, 1),\n",
        "                padding=\"same\",\n",
        "                activation=\"relu\",\n",
        "            )(x)\n",
        "            x = keras.layers.Conv2D(\n",
        "                name=\"block3_up_conv1\",\n",
        "                filters=int(decoder_filters / 2),\n",
        "                kernel_size=decoder_kernel_size,\n",
        "                strides=(1, 1),\n",
        "                padding=\"same\",\n",
        "                activation=\"relu\",\n",
        "            )(x)\n",
        "\n",
        "            # ------------------------------------------\n",
        "            # Block 2: 56x56 -> 112x112\n",
        "            x = keras.layers.Conv2DTranspose(\n",
        "                name=\"block2_up_convT\",\n",
        "                filters=int(decoder_filters / 4),\n",
        "                kernel_size=decoder_kernel_size,\n",
        "                strides=decoder_strides,\n",
        "                padding=decoder_padding,\n",
        "                activation=decoder_activation,\n",
        "            )(x)\n",
        "\n",
        "            x = keras.layers.Concatenate(name=\"block2_up_concat\", axis=-1)(\n",
        "                [x, skip_outputs[1]]\n",
        "            )\n",
        "\n",
        "            x = keras.layers.Dropout(\n",
        "                name=\"block2_up_dropout\", rate=dropout, seed=seed\n",
        "            )(x, training=dropout_training)\n",
        "\n",
        "            x = keras.layers.Conv2D(\n",
        "                name=\"block2_up_conv2\",\n",
        "                filters=int(decoder_filters / 4),\n",
        "                kernel_size=decoder_kernel_size,\n",
        "                strides=(1, 1),\n",
        "                padding=\"same\",\n",
        "                activation=\"relu\",\n",
        "            )(x)\n",
        "            x = keras.layers.Conv2D(\n",
        "                name=\"block2_up_conv1\",\n",
        "                filters=int(decoder_filters / 4),\n",
        "                kernel_size=decoder_kernel_size,\n",
        "                strides=(1, 1),\n",
        "                padding=\"same\",\n",
        "                activation=\"relu\",\n",
        "            )(x)\n",
        "\n",
        "            # ------------------------------------------\n",
        "            # Block 1: 112x112 -> 224x224\n",
        "            x = keras.layers.Conv2DTranspose(\n",
        "                name=\"block1_up_convT\",\n",
        "                filters=int(decoder_filters / 8),\n",
        "                kernel_size=decoder_kernel_size,\n",
        "                strides=decoder_strides,\n",
        "                padding=decoder_padding,\n",
        "                activation=decoder_activation,\n",
        "            )(x)\n",
        "\n",
        "            x = keras.layers.Concatenate(name=\"block1_up_concat\", axis=-1)(\n",
        "                [x, skip_outputs[0]]\n",
        "            )\n",
        "\n",
        "            x = keras.layers.Dropout(\n",
        "                name=\"block1_up_dropout\", rate=dropout, seed=seed\n",
        "            )(x, training=dropout_training)\n",
        "\n",
        "            x = keras.layers.Conv2D(\n",
        "                name=\"block1_up_conv2\",\n",
        "                filters=int(decoder_filters / 8),\n",
        "                kernel_size=decoder_kernel_size,\n",
        "                strides=(1, 1),\n",
        "                padding=\"same\",\n",
        "                activation=\"relu\",\n",
        "            )(x)\n",
        "            decoded_img = keras.layers.Conv2D(\n",
        "                name=\"block1_up_conv1\",\n",
        "                filters=int(decoder_filters / 8),\n",
        "                kernel_size=decoder_kernel_size,\n",
        "                strides=(1, 1),\n",
        "                padding=\"same\",\n",
        "                activation=\"relu\",\n",
        "            )(x)\n",
        "\n",
        "            # ------------------------------------------\n",
        "            # Final conv layer\n",
        "            final_img = keras.layers.Conv2D(\n",
        "                name=\"final_up_conv\",\n",
        "                filters=final_layer_filters,\n",
        "                kernel_size=decoder_kernel_size,\n",
        "                strides=(1, 1),\n",
        "                padding=\"same\",\n",
        "                activation=final_layer_activation,\n",
        "            )(decoded_img)\n",
        "\n",
        "            # ======\n",
        "            #  Unet\n",
        "            # ======\n",
        "\n",
        "            unet = keras.Model(inputs=unet_input, outputs=final_img, name=\"Unet_VGG16\")\n",
        "\n",
        "            return unet\n",
        "        except Exception as e:\n",
        "            print(f\"Error in Build Unet {e}\")"
      ]
    },
    {
      "cell_type": "code",
      "execution_count": 20,
      "metadata": {
        "id": "_sq8aqBYBX38"
      },
      "outputs": [],
      "source": [
        "def iouMetric( y_true, y_pred):\n",
        "        try:\n",
        "            def compute_iou(y_true, y_pred):\n",
        "                intersection = (y_true * y_pred).sum()\n",
        "                union = y_true.sum() + y_pred.sum() - intersection\n",
        "                x = (intersection + 1e-15) / (union + 1e-15)\n",
        "                x = x.astype(np.float32)\n",
        "                return x\n",
        "            \n",
        "            return tf.numpy_function(compute_iou, [y_true, y_pred], tf.float32)\n",
        "            \n",
        "        except Exception as e:\n",
        "            print(f\"Error in iouMetric {E}\")"
      ]
    },
    {
      "cell_type": "code",
      "execution_count": 21,
      "metadata": {
        "id": "xCkCusvKBCuz"
      },
      "outputs": [],
      "source": [
        "def dice_coef(y_true, y_pred):\n",
        "        try:\n",
        "            # def dice(true, pred, k = 1):\n",
        "            #     intersection = np.sum(pred[true==k]) * 2.0\n",
        "            #     dice = intersection / (np.sum(pred) + np.sum(true))\n",
        "            #     return dice \n",
        "            # return tf.numpy_function(dice, [y_true, y_pred], tf.double)\n",
        "            \n",
        "            y_true_f = tf.reshape(tf.dtypes.cast(y_true, tf.float32), [-1])\n",
        "            y_pred_f = tf.reshape(tf.dtypes.cast(y_pred, tf.float32), [-1])\n",
        "            intersection = tf.reduce_sum(y_true_f * y_pred_f)\n",
        "            return (2. * intersection + 1.) / (tf.reduce_sum(y_true_f) + tf.reduce_sum(y_pred_f) + 1.)\n",
        "        except Exception as e:\n",
        "            print(f\"Error in dice_coef {e}\")"
      ]
    },
    {
      "cell_type": "code",
      "execution_count": 22,
      "metadata": {
        "id": "Egz73rd9BX39"
      },
      "outputs": [],
      "source": [
        "def compile_( model):\n",
        "        try:\n",
        "            loss = keras.losses.BinaryCrossentropy(from_logits=False)\n",
        "            optimizer = keras.optimizers.Adam(learning_rate=learning_rate)\n",
        "            metrics = [\"accuracy\", iouMetric, dice_coef]\n",
        "            model.compile(loss=loss, optimizer=optimizer, metrics=metrics)\n",
        "\n",
        "            return model\n",
        "        except Exception as e:\n",
        "            print(f\"Failed at compile_ {e}\")"
      ]
    },
    {
      "cell_type": "code",
      "execution_count": 23,
      "metadata": {
        "id": "jNa9nYOcCV15"
      },
      "outputs": [],
      "source": [
        " test_x, test_y = datasetPaths(\n",
        "            full_img_dir=test_full_img_dir,\n",
        "            mask_img_dir=test_mask_img_dir\n",
        "        )\n",
        "        "
      ]
    },
    {
      "cell_type": "code",
      "execution_count": 24,
      "metadata": {
        "id": "wDDyk7GYCWU3"
      },
      "outputs": [],
      "source": [
        "# def evaluate(path,target_size):\n",
        "#   full_img_lst = []\n",
        "#   print(len(path))\n",
        "#   for imgpath in path:\n",
        "#     full_img = loadFullImg(imgpath, target_size)\n",
        "#     full_img_lst.append(full_img)\n",
        "#     #img = cv2.imread(imgpath, cv2.IMREAD_GRAYSCALE)\n",
        "#     #print(full_img.shape)\n",
        "#   return full_img_lst\n",
        "  \n",
        "# full_img_lst = evaluate(test_x, target_size)"
      ]
    },
    {
      "cell_type": "code",
      "execution_count": 25,
      "metadata": {
        "id": "pbuTQcYXCbvv"
      },
      "outputs": [],
      "source": [
        "# def evaluate_mask(path,target_size):\n",
        "#   mask_img_lst = []\n",
        "#   print(len(path))\n",
        "#   for imgpath in path:\n",
        "#     mask_img = loadMaskImg(imgpath, target_size)\n",
        "#     mask_img_lst.append(mask_img)\n",
        "#     #img = cv2.imread(imgpath, cv2.IMREAD_GRAYSCALE)\n",
        "#     #print(full_img.shape)\n",
        "#   return mask_img_lst\n",
        "  \n",
        "# mask_img_lst = evaluate(test_y, target_size)"
      ]
    },
    {
      "cell_type": "code",
      "execution_count": 26,
      "metadata": {
        "id": "_WCc1IIBIety"
      },
      "outputs": [],
      "source": [
        "# img = cv2.imread(test_x[0], cv2.IMREAD_GRAYSCALE)\n",
        "# print(img)"
      ]
    },
    {
      "cell_type": "code",
      "execution_count": 27,
      "metadata": {
        "id": "VeQ8YyfqHgYW"
      },
      "outputs": [],
      "source": [
        "# actual_x, actual_y =tfParse(test_x, test_y)"
      ]
    },
    {
      "cell_type": "code",
      "execution_count": 28,
      "metadata": {
        "id": "c1hGy4M6FyuV"
      },
      "outputs": [],
      "source": [
        "# full_img_lst[0]"
      ]
    },
    {
      "cell_type": "code",
      "execution_count": 29,
      "metadata": {
        "id": "agKhRncmBX39",
        "colab": {
          "base_uri": "https://localhost:8080/"
        },
        "outputId": "70ec22a9-c658-44e8-8b8b-3fee90f07b0e"
      },
      "outputs": [
        {
          "output_type": "stream",
          "name": "stdout",
          "text": [
            "Downloading data from https://storage.googleapis.com/tensorflow/keras-applications/vgg16/vgg16_weights_tf_dim_ordering_tf_kernels_notop.h5\n",
            "58892288/58889256 [==============================] - 1s 0us/step\n",
            "58900480/58889256 [==============================] - 1s 0us/step\n",
            "\n",
            "Size of training set = 1231\n",
            "Size of test set = 361\n",
            "Number of epochs = 80\n",
            "Batch size = 10\n",
            "Number of training steps per epoch = 124\n",
            "Number of test steps per epoch = 37\n",
            "\n",
            "Epoch 1/80\n",
            "124/124 [==============================] - ETA: 0s - loss: 0.0494 - accuracy: 0.9869 - iouMetric: 0.0089 - dice_coef: 0.0174"
          ]
        },
        {
          "output_type": "stream",
          "name": "stderr",
          "text": [
            "WARNING:tensorflow:Can save best model only with val_loss available, skipping.\n"
          ]
        },
        {
          "output_type": "stream",
          "name": "stdout",
          "text": [
            "\n",
            "Epoch 1: saving model to model.weights.best.hdf5\n",
            "124/124 [==============================] - 578s 4s/step - loss: 0.0494 - accuracy: 0.9869 - iouMetric: 0.0089 - dice_coef: 0.0174\n",
            "Epoch 2/80\n",
            "124/124 [==============================] - ETA: 0s - loss: 0.0170 - accuracy: 0.9960 - iouMetric: 0.0791 - dice_coef: 0.1440"
          ]
        },
        {
          "output_type": "stream",
          "name": "stderr",
          "text": [
            "WARNING:tensorflow:Can save best model only with val_loss available, skipping.\n"
          ]
        },
        {
          "output_type": "stream",
          "name": "stdout",
          "text": [
            "\n",
            "Epoch 2: saving model to model.weights.best.hdf5\n",
            "124/124 [==============================] - 202s 2s/step - loss: 0.0170 - accuracy: 0.9960 - iouMetric: 0.0791 - dice_coef: 0.1440\n",
            "Epoch 3/80\n",
            "123/124 [============================>.] - ETA: 1s - loss: 0.0147 - accuracy: 0.9961 - iouMetric: 0.1171 - dice_coef: 0.2072"
          ]
        },
        {
          "output_type": "stream",
          "name": "stderr",
          "text": [
            "WARNING:tensorflow:Can save best model only with val_loss available, skipping.\n"
          ]
        },
        {
          "output_type": "stream",
          "name": "stdout",
          "text": [
            "\n",
            "Epoch 3: saving model to model.weights.best.hdf5\n",
            "124/124 [==============================] - 202s 2s/step - loss: 0.0147 - accuracy: 0.9961 - iouMetric: 0.1179 - dice_coef: 0.2084\n",
            "Epoch 4/80\n",
            "123/124 [============================>.] - ETA: 1s - loss: 0.0135 - accuracy: 0.9963 - iouMetric: 0.1337 - dice_coef: 0.2321"
          ]
        },
        {
          "output_type": "stream",
          "name": "stderr",
          "text": [
            "WARNING:tensorflow:Can save best model only with val_loss available, skipping.\n"
          ]
        },
        {
          "output_type": "stream",
          "name": "stdout",
          "text": [
            "\n",
            "Epoch 4: saving model to model.weights.best.hdf5\n",
            "124/124 [==============================] - 201s 2s/step - loss: 0.0135 - accuracy: 0.9963 - iouMetric: 0.1354 - dice_coef: 0.2344\n",
            "Epoch 5/80\n",
            "123/124 [============================>.] - ETA: 1s - loss: 0.0130 - accuracy: 0.9964 - iouMetric: 0.1414 - dice_coef: 0.2442"
          ]
        },
        {
          "output_type": "stream",
          "name": "stderr",
          "text": [
            "WARNING:tensorflow:Can save best model only with val_loss available, skipping.\n"
          ]
        },
        {
          "output_type": "stream",
          "name": "stdout",
          "text": [
            "\n",
            "Epoch 5: saving model to model.weights.best.hdf5\n",
            "124/124 [==============================] - 201s 2s/step - loss: 0.0130 - accuracy: 0.9964 - iouMetric: 0.1424 - dice_coef: 0.2456\n",
            "Epoch 6/80\n",
            "123/124 [============================>.] - ETA: 1s - loss: 0.0124 - accuracy: 0.9965 - iouMetric: 0.1565 - dice_coef: 0.2666"
          ]
        },
        {
          "output_type": "stream",
          "name": "stderr",
          "text": [
            "WARNING:tensorflow:Can save best model only with val_loss available, skipping.\n"
          ]
        },
        {
          "output_type": "stream",
          "name": "stdout",
          "text": [
            "\n",
            "Epoch 6: saving model to model.weights.best.hdf5\n",
            "124/124 [==============================] - 201s 2s/step - loss: 0.0124 - accuracy: 0.9965 - iouMetric: 0.1572 - dice_coef: 0.2677\n",
            "Epoch 7/80\n",
            "123/124 [============================>.] - ETA: 1s - loss: 0.0119 - accuracy: 0.9966 - iouMetric: 0.1688 - dice_coef: 0.2835"
          ]
        },
        {
          "output_type": "stream",
          "name": "stderr",
          "text": [
            "WARNING:tensorflow:Can save best model only with val_loss available, skipping.\n"
          ]
        },
        {
          "output_type": "stream",
          "name": "stdout",
          "text": [
            "\n",
            "Epoch 7: saving model to model.weights.best.hdf5\n",
            "124/124 [==============================] - 204s 2s/step - loss: 0.0120 - accuracy: 0.9966 - iouMetric: 0.1677 - dice_coef: 0.2817\n",
            "Epoch 8/80\n",
            "123/124 [============================>.] - ETA: 1s - loss: 0.0117 - accuracy: 0.9965 - iouMetric: 0.1649 - dice_coef: 0.2778"
          ]
        },
        {
          "output_type": "stream",
          "name": "stderr",
          "text": [
            "WARNING:tensorflow:Can save best model only with val_loss available, skipping.\n"
          ]
        },
        {
          "output_type": "stream",
          "name": "stdout",
          "text": [
            "\n",
            "Epoch 8: saving model to model.weights.best.hdf5\n",
            "124/124 [==============================] - 201s 2s/step - loss: 0.0117 - accuracy: 0.9966 - iouMetric: 0.1639 - dice_coef: 0.2762\n",
            "Epoch 9/80\n",
            "123/124 [============================>.] - ETA: 1s - loss: 0.0113 - accuracy: 0.9967 - iouMetric: 0.1866 - dice_coef: 0.3099"
          ]
        },
        {
          "output_type": "stream",
          "name": "stderr",
          "text": [
            "WARNING:tensorflow:Can save best model only with val_loss available, skipping.\n"
          ]
        },
        {
          "output_type": "stream",
          "name": "stdout",
          "text": [
            "\n",
            "Epoch 9: saving model to model.weights.best.hdf5\n",
            "124/124 [==============================] - 203s 2s/step - loss: 0.0113 - accuracy: 0.9967 - iouMetric: 0.1877 - dice_coef: 0.3113\n",
            "Epoch 10/80\n",
            "123/124 [============================>.] - ETA: 1s - loss: 0.0111 - accuracy: 0.9967 - iouMetric: 0.1819 - dice_coef: 0.3021"
          ]
        },
        {
          "output_type": "stream",
          "name": "stderr",
          "text": [
            "WARNING:tensorflow:Can save best model only with val_loss available, skipping.\n"
          ]
        },
        {
          "output_type": "stream",
          "name": "stdout",
          "text": [
            "\n",
            "Epoch 10: saving model to model.weights.best.hdf5\n",
            "124/124 [==============================] - 205s 2s/step - loss: 0.0111 - accuracy: 0.9967 - iouMetric: 0.1808 - dice_coef: 0.3005\n",
            "Epoch 11/80\n",
            "123/124 [============================>.] - ETA: 1s - loss: 0.0106 - accuracy: 0.9968 - iouMetric: 0.2058 - dice_coef: 0.3362"
          ]
        },
        {
          "output_type": "stream",
          "name": "stderr",
          "text": [
            "WARNING:tensorflow:Can save best model only with val_loss available, skipping.\n"
          ]
        },
        {
          "output_type": "stream",
          "name": "stdout",
          "text": [
            "\n",
            "Epoch 11: saving model to model.weights.best.hdf5\n",
            "124/124 [==============================] - 205s 2s/step - loss: 0.0106 - accuracy: 0.9968 - iouMetric: 0.2058 - dice_coef: 0.3364\n",
            "Epoch 12/80\n",
            "124/124 [==============================] - ETA: 0s - loss: 0.0105 - accuracy: 0.9968 - iouMetric: 0.2048 - dice_coef: 0.3352"
          ]
        },
        {
          "output_type": "stream",
          "name": "stderr",
          "text": [
            "WARNING:tensorflow:Can save best model only with val_loss available, skipping.\n"
          ]
        },
        {
          "output_type": "stream",
          "name": "stdout",
          "text": [
            "\n",
            "Epoch 12: saving model to model.weights.best.hdf5\n",
            "124/124 [==============================] - 203s 2s/step - loss: 0.0105 - accuracy: 0.9968 - iouMetric: 0.2048 - dice_coef: 0.3352\n",
            "Epoch 13/80\n",
            "123/124 [============================>.] - ETA: 1s - loss: 0.0101 - accuracy: 0.9969 - iouMetric: 0.2214 - dice_coef: 0.3568"
          ]
        },
        {
          "output_type": "stream",
          "name": "stderr",
          "text": [
            "WARNING:tensorflow:Can save best model only with val_loss available, skipping.\n"
          ]
        },
        {
          "output_type": "stream",
          "name": "stdout",
          "text": [
            "\n",
            "Epoch 13: saving model to model.weights.best.hdf5\n",
            "124/124 [==============================] - 203s 2s/step - loss: 0.0101 - accuracy: 0.9969 - iouMetric: 0.2223 - dice_coef: 0.3580\n",
            "Epoch 14/80\n",
            "123/124 [============================>.] - ETA: 1s - loss: 0.0100 - accuracy: 0.9969 - iouMetric: 0.2278 - dice_coef: 0.3653"
          ]
        },
        {
          "output_type": "stream",
          "name": "stderr",
          "text": [
            "WARNING:tensorflow:Can save best model only with val_loss available, skipping.\n"
          ]
        },
        {
          "output_type": "stream",
          "name": "stdout",
          "text": [
            "\n",
            "Epoch 14: saving model to model.weights.best.hdf5\n",
            "124/124 [==============================] - 206s 2s/step - loss: 0.0100 - accuracy: 0.9969 - iouMetric: 0.2266 - dice_coef: 0.3636\n",
            "Epoch 15/80\n",
            "124/124 [==============================] - ETA: 0s - loss: 0.0096 - accuracy: 0.9970 - iouMetric: 0.2387 - dice_coef: 0.3798"
          ]
        },
        {
          "output_type": "stream",
          "name": "stderr",
          "text": [
            "WARNING:tensorflow:Can save best model only with val_loss available, skipping.\n"
          ]
        },
        {
          "output_type": "stream",
          "name": "stdout",
          "text": [
            "\n",
            "Epoch 15: saving model to model.weights.best.hdf5\n",
            "124/124 [==============================] - 203s 2s/step - loss: 0.0096 - accuracy: 0.9970 - iouMetric: 0.2387 - dice_coef: 0.3798\n",
            "Epoch 16/80\n",
            "123/124 [============================>.] - ETA: 1s - loss: 0.0094 - accuracy: 0.9971 - iouMetric: 0.2505 - dice_coef: 0.3940"
          ]
        },
        {
          "output_type": "stream",
          "name": "stderr",
          "text": [
            "WARNING:tensorflow:Can save best model only with val_loss available, skipping.\n"
          ]
        },
        {
          "output_type": "stream",
          "name": "stdout",
          "text": [
            "\n",
            "Epoch 16: saving model to model.weights.best.hdf5\n",
            "124/124 [==============================] - 208s 2s/step - loss: 0.0094 - accuracy: 0.9971 - iouMetric: 0.2517 - dice_coef: 0.3955\n",
            "Epoch 17/80\n",
            "123/124 [============================>.] - ETA: 1s - loss: 0.0092 - accuracy: 0.9972 - iouMetric: 0.2611 - dice_coef: 0.4080"
          ]
        },
        {
          "output_type": "stream",
          "name": "stderr",
          "text": [
            "WARNING:tensorflow:Can save best model only with val_loss available, skipping.\n"
          ]
        },
        {
          "output_type": "stream",
          "name": "stdout",
          "text": [
            "\n",
            "Epoch 17: saving model to model.weights.best.hdf5\n",
            "124/124 [==============================] - 206s 2s/step - loss: 0.0092 - accuracy: 0.9972 - iouMetric: 0.2592 - dice_coef: 0.4050\n",
            "Epoch 18/80\n",
            "123/124 [============================>.] - ETA: 1s - loss: 0.0089 - accuracy: 0.9972 - iouMetric: 0.2732 - dice_coef: 0.4237"
          ]
        },
        {
          "output_type": "stream",
          "name": "stderr",
          "text": [
            "WARNING:tensorflow:Can save best model only with val_loss available, skipping.\n"
          ]
        },
        {
          "output_type": "stream",
          "name": "stdout",
          "text": [
            "\n",
            "Epoch 18: saving model to model.weights.best.hdf5\n",
            "124/124 [==============================] - 207s 2s/step - loss: 0.0089 - accuracy: 0.9972 - iouMetric: 0.2720 - dice_coef: 0.4221\n",
            "Epoch 19/80\n",
            "124/124 [==============================] - ETA: 0s - loss: 0.0090 - accuracy: 0.9971 - iouMetric: 0.2630 - dice_coef: 0.4104"
          ]
        },
        {
          "output_type": "stream",
          "name": "stderr",
          "text": [
            "WARNING:tensorflow:Can save best model only with val_loss available, skipping.\n"
          ]
        },
        {
          "output_type": "stream",
          "name": "stdout",
          "text": [
            "\n",
            "Epoch 19: saving model to model.weights.best.hdf5\n",
            "124/124 [==============================] - 210s 2s/step - loss: 0.0090 - accuracy: 0.9971 - iouMetric: 0.2630 - dice_coef: 0.4104\n",
            "Epoch 20/80\n",
            "123/124 [============================>.] - ETA: 1s - loss: 0.0082 - accuracy: 0.9974 - iouMetric: 0.3067 - dice_coef: 0.4622"
          ]
        },
        {
          "output_type": "stream",
          "name": "stderr",
          "text": [
            "WARNING:tensorflow:Can save best model only with val_loss available, skipping.\n"
          ]
        },
        {
          "output_type": "stream",
          "name": "stdout",
          "text": [
            "\n",
            "Epoch 20: saving model to model.weights.best.hdf5\n",
            "124/124 [==============================] - 210s 2s/step - loss: 0.0082 - accuracy: 0.9974 - iouMetric: 0.3044 - dice_coef: 0.4590\n",
            "Epoch 21/80\n",
            "123/124 [============================>.] - ETA: 1s - loss: 0.0079 - accuracy: 0.9975 - iouMetric: 0.3164 - dice_coef: 0.4749"
          ]
        },
        {
          "output_type": "stream",
          "name": "stderr",
          "text": [
            "WARNING:tensorflow:Can save best model only with val_loss available, skipping.\n"
          ]
        },
        {
          "output_type": "stream",
          "name": "stdout",
          "text": [
            "\n",
            "Epoch 21: saving model to model.weights.best.hdf5\n",
            "124/124 [==============================] - 208s 2s/step - loss: 0.0079 - accuracy: 0.9975 - iouMetric: 0.3164 - dice_coef: 0.4750\n",
            "Epoch 22/80\n",
            "123/124 [============================>.] - ETA: 1s - loss: 0.0077 - accuracy: 0.9975 - iouMetric: 0.3238 - dice_coef: 0.4831"
          ]
        },
        {
          "output_type": "stream",
          "name": "stderr",
          "text": [
            "WARNING:tensorflow:Can save best model only with val_loss available, skipping.\n"
          ]
        },
        {
          "output_type": "stream",
          "name": "stdout",
          "text": [
            "\n",
            "Epoch 22: saving model to model.weights.best.hdf5\n",
            "124/124 [==============================] - 209s 2s/step - loss: 0.0077 - accuracy: 0.9975 - iouMetric: 0.3219 - dice_coef: 0.4807\n",
            "Epoch 23/80\n",
            "123/124 [============================>.] - ETA: 1s - loss: 0.0077 - accuracy: 0.9975 - iouMetric: 0.3241 - dice_coef: 0.4836"
          ]
        },
        {
          "output_type": "stream",
          "name": "stderr",
          "text": [
            "WARNING:tensorflow:Can save best model only with val_loss available, skipping.\n"
          ]
        },
        {
          "output_type": "stream",
          "name": "stdout",
          "text": [
            "\n",
            "Epoch 23: saving model to model.weights.best.hdf5\n",
            "124/124 [==============================] - 206s 2s/step - loss: 0.0077 - accuracy: 0.9975 - iouMetric: 0.3223 - dice_coef: 0.4811\n",
            "Epoch 24/80\n",
            "123/124 [============================>.] - ETA: 1s - loss: 0.0077 - accuracy: 0.9976 - iouMetric: 0.3322 - dice_coef: 0.4927"
          ]
        },
        {
          "output_type": "stream",
          "name": "stderr",
          "text": [
            "WARNING:tensorflow:Can save best model only with val_loss available, skipping.\n"
          ]
        },
        {
          "output_type": "stream",
          "name": "stdout",
          "text": [
            "\n",
            "Epoch 24: saving model to model.weights.best.hdf5\n",
            "124/124 [==============================] - 209s 2s/step - loss: 0.0076 - accuracy: 0.9976 - iouMetric: 0.3340 - dice_coef: 0.4945\n",
            "Epoch 25/80\n",
            "123/124 [============================>.] - ETA: 1s - loss: 0.0071 - accuracy: 0.9977 - iouMetric: 0.3571 - dice_coef: 0.5214"
          ]
        },
        {
          "output_type": "stream",
          "name": "stderr",
          "text": [
            "WARNING:tensorflow:Can save best model only with val_loss available, skipping.\n"
          ]
        },
        {
          "output_type": "stream",
          "name": "stdout",
          "text": [
            "\n",
            "Epoch 25: saving model to model.weights.best.hdf5\n",
            "124/124 [==============================] - 210s 2s/step - loss: 0.0072 - accuracy: 0.9977 - iouMetric: 0.3549 - dice_coef: 0.5186\n",
            "Epoch 26/80\n",
            "124/124 [==============================] - ETA: 0s - loss: 0.0076 - accuracy: 0.9975 - iouMetric: 0.3276 - dice_coef: 0.4880"
          ]
        },
        {
          "output_type": "stream",
          "name": "stderr",
          "text": [
            "WARNING:tensorflow:Can save best model only with val_loss available, skipping.\n"
          ]
        },
        {
          "output_type": "stream",
          "name": "stdout",
          "text": [
            "\n",
            "Epoch 26: saving model to model.weights.best.hdf5\n",
            "124/124 [==============================] - 205s 2s/step - loss: 0.0076 - accuracy: 0.9975 - iouMetric: 0.3276 - dice_coef: 0.4880\n",
            "Epoch 27/80\n",
            "123/124 [============================>.] - ETA: 1s - loss: 0.0071 - accuracy: 0.9977 - iouMetric: 0.3573 - dice_coef: 0.5212"
          ]
        },
        {
          "output_type": "stream",
          "name": "stderr",
          "text": [
            "WARNING:tensorflow:Can save best model only with val_loss available, skipping.\n"
          ]
        },
        {
          "output_type": "stream",
          "name": "stdout",
          "text": [
            "\n",
            "Epoch 27: saving model to model.weights.best.hdf5\n",
            "124/124 [==============================] - 205s 2s/step - loss: 0.0071 - accuracy: 0.9977 - iouMetric: 0.3576 - dice_coef: 0.5216\n",
            "Epoch 28/80\n",
            "123/124 [============================>.] - ETA: 1s - loss: 0.0068 - accuracy: 0.9977 - iouMetric: 0.3672 - dice_coef: 0.5308"
          ]
        },
        {
          "output_type": "stream",
          "name": "stderr",
          "text": [
            "WARNING:tensorflow:Can save best model only with val_loss available, skipping.\n"
          ]
        },
        {
          "output_type": "stream",
          "name": "stdout",
          "text": [
            "\n",
            "Epoch 28: saving model to model.weights.best.hdf5\n",
            "124/124 [==============================] - 209s 2s/step - loss: 0.0068 - accuracy: 0.9977 - iouMetric: 0.3672 - dice_coef: 0.5309\n",
            "Epoch 29/80\n",
            "123/124 [============================>.] - ETA: 1s - loss: 0.0068 - accuracy: 0.9977 - iouMetric: 0.3754 - dice_coef: 0.5398"
          ]
        },
        {
          "output_type": "stream",
          "name": "stderr",
          "text": [
            "WARNING:tensorflow:Can save best model only with val_loss available, skipping.\n"
          ]
        },
        {
          "output_type": "stream",
          "name": "stdout",
          "text": [
            "\n",
            "Epoch 29: saving model to model.weights.best.hdf5\n",
            "124/124 [==============================] - 208s 2s/step - loss: 0.0068 - accuracy: 0.9977 - iouMetric: 0.3724 - dice_coef: 0.5358\n",
            "Epoch 30/80\n",
            "123/124 [============================>.] - ETA: 1s - loss: 0.0065 - accuracy: 0.9978 - iouMetric: 0.3893 - dice_coef: 0.5550"
          ]
        },
        {
          "output_type": "stream",
          "name": "stderr",
          "text": [
            "WARNING:tensorflow:Can save best model only with val_loss available, skipping.\n"
          ]
        },
        {
          "output_type": "stream",
          "name": "stdout",
          "text": [
            "\n",
            "Epoch 30: saving model to model.weights.best.hdf5\n",
            "124/124 [==============================] - 210s 2s/step - loss: 0.0065 - accuracy: 0.9978 - iouMetric: 0.3879 - dice_coef: 0.5534\n",
            "Epoch 31/80\n",
            "123/124 [============================>.] - ETA: 1s - loss: 0.0062 - accuracy: 0.9979 - iouMetric: 0.4059 - dice_coef: 0.5733"
          ]
        },
        {
          "output_type": "stream",
          "name": "stderr",
          "text": [
            "WARNING:tensorflow:Can save best model only with val_loss available, skipping.\n"
          ]
        },
        {
          "output_type": "stream",
          "name": "stdout",
          "text": [
            "\n",
            "Epoch 31: saving model to model.weights.best.hdf5\n",
            "124/124 [==============================] - 211s 2s/step - loss: 0.0062 - accuracy: 0.9979 - iouMetric: 0.4034 - dice_coef: 0.5702\n",
            "Epoch 32/80\n",
            "123/124 [============================>.] - ETA: 1s - loss: 0.0062 - accuracy: 0.9979 - iouMetric: 0.4050 - dice_coef: 0.5718"
          ]
        },
        {
          "output_type": "stream",
          "name": "stderr",
          "text": [
            "WARNING:tensorflow:Can save best model only with val_loss available, skipping.\n"
          ]
        },
        {
          "output_type": "stream",
          "name": "stdout",
          "text": [
            "\n",
            "Epoch 32: saving model to model.weights.best.hdf5\n",
            "124/124 [==============================] - 209s 2s/step - loss: 0.0062 - accuracy: 0.9979 - iouMetric: 0.4068 - dice_coef: 0.5734\n",
            "Epoch 33/80\n",
            "123/124 [============================>.] - ETA: 1s - loss: 0.0060 - accuracy: 0.9980 - iouMetric: 0.4273 - dice_coef: 0.5946"
          ]
        },
        {
          "output_type": "stream",
          "name": "stderr",
          "text": [
            "WARNING:tensorflow:Can save best model only with val_loss available, skipping.\n"
          ]
        },
        {
          "output_type": "stream",
          "name": "stdout",
          "text": [
            "\n",
            "Epoch 33: saving model to model.weights.best.hdf5\n",
            "124/124 [==============================] - 207s 2s/step - loss: 0.0060 - accuracy: 0.9980 - iouMetric: 0.4286 - dice_coef: 0.5958\n",
            "Epoch 34/80\n",
            "124/124 [==============================] - ETA: 0s - loss: 0.0060 - accuracy: 0.9980 - iouMetric: 0.4204 - dice_coef: 0.5861"
          ]
        },
        {
          "output_type": "stream",
          "name": "stderr",
          "text": [
            "WARNING:tensorflow:Can save best model only with val_loss available, skipping.\n"
          ]
        },
        {
          "output_type": "stream",
          "name": "stdout",
          "text": [
            "\n",
            "Epoch 34: saving model to model.weights.best.hdf5\n",
            "124/124 [==============================] - 207s 2s/step - loss: 0.0060 - accuracy: 0.9980 - iouMetric: 0.4204 - dice_coef: 0.5861\n",
            "Epoch 35/80\n",
            "123/124 [============================>.] - ETA: 1s - loss: 0.0058 - accuracy: 0.9980 - iouMetric: 0.4318 - dice_coef: 0.5983"
          ]
        },
        {
          "output_type": "stream",
          "name": "stderr",
          "text": [
            "WARNING:tensorflow:Can save best model only with val_loss available, skipping.\n"
          ]
        },
        {
          "output_type": "stream",
          "name": "stdout",
          "text": [
            "\n",
            "Epoch 35: saving model to model.weights.best.hdf5\n",
            "124/124 [==============================] - 207s 2s/step - loss: 0.0058 - accuracy: 0.9980 - iouMetric: 0.4318 - dice_coef: 0.5983\n",
            "Epoch 36/80\n",
            "123/124 [============================>.] - ETA: 1s - loss: 0.0055 - accuracy: 0.9981 - iouMetric: 0.4497 - dice_coef: 0.6159"
          ]
        },
        {
          "output_type": "stream",
          "name": "stderr",
          "text": [
            "WARNING:tensorflow:Can save best model only with val_loss available, skipping.\n"
          ]
        },
        {
          "output_type": "stream",
          "name": "stdout",
          "text": [
            "\n",
            "Epoch 36: saving model to model.weights.best.hdf5\n",
            "124/124 [==============================] - 207s 2s/step - loss: 0.0055 - accuracy: 0.9981 - iouMetric: 0.4461 - dice_coef: 0.6111\n",
            "Epoch 37/80\n",
            "123/124 [============================>.] - ETA: 1s - loss: 0.0056 - accuracy: 0.9981 - iouMetric: 0.4486 - dice_coef: 0.6150"
          ]
        },
        {
          "output_type": "stream",
          "name": "stderr",
          "text": [
            "WARNING:tensorflow:Can save best model only with val_loss available, skipping.\n"
          ]
        },
        {
          "output_type": "stream",
          "name": "stdout",
          "text": [
            "\n",
            "Epoch 37: saving model to model.weights.best.hdf5\n",
            "124/124 [==============================] - 208s 2s/step - loss: 0.0056 - accuracy: 0.9981 - iouMetric: 0.4472 - dice_coef: 0.6136\n",
            "Epoch 38/80\n",
            "123/124 [============================>.] - ETA: 1s - loss: 0.0057 - accuracy: 0.9981 - iouMetric: 0.4385 - dice_coef: 0.6047"
          ]
        },
        {
          "output_type": "stream",
          "name": "stderr",
          "text": [
            "WARNING:tensorflow:Can save best model only with val_loss available, skipping.\n"
          ]
        },
        {
          "output_type": "stream",
          "name": "stdout",
          "text": [
            "\n",
            "Epoch 38: saving model to model.weights.best.hdf5\n",
            "124/124 [==============================] - 207s 2s/step - loss: 0.0057 - accuracy: 0.9981 - iouMetric: 0.4350 - dice_coef: 0.6002\n",
            "Epoch 39/80\n",
            "123/124 [============================>.] - ETA: 1s - loss: 0.0052 - accuracy: 0.9982 - iouMetric: 0.4687 - dice_coef: 0.6345"
          ]
        },
        {
          "output_type": "stream",
          "name": "stderr",
          "text": [
            "WARNING:tensorflow:Can save best model only with val_loss available, skipping.\n"
          ]
        },
        {
          "output_type": "stream",
          "name": "stdout",
          "text": [
            "\n",
            "Epoch 39: saving model to model.weights.best.hdf5\n",
            "124/124 [==============================] - 207s 2s/step - loss: 0.0052 - accuracy: 0.9982 - iouMetric: 0.4649 - dice_coef: 0.6294\n",
            "Epoch 40/80\n",
            "123/124 [============================>.] - ETA: 1s - loss: 0.0055 - accuracy: 0.9981 - iouMetric: 0.4497 - dice_coef: 0.6164"
          ]
        },
        {
          "output_type": "stream",
          "name": "stderr",
          "text": [
            "WARNING:tensorflow:Can save best model only with val_loss available, skipping.\n"
          ]
        },
        {
          "output_type": "stream",
          "name": "stdout",
          "text": [
            "\n",
            "Epoch 40: saving model to model.weights.best.hdf5\n",
            "124/124 [==============================] - 207s 2s/step - loss: 0.0055 - accuracy: 0.9981 - iouMetric: 0.4468 - dice_coef: 0.6128\n",
            "Epoch 41/80\n",
            "124/124 [==============================] - ETA: 0s - loss: 0.0050 - accuracy: 0.9982 - iouMetric: 0.4740 - dice_coef: 0.6378"
          ]
        },
        {
          "output_type": "stream",
          "name": "stderr",
          "text": [
            "WARNING:tensorflow:Can save best model only with val_loss available, skipping.\n"
          ]
        },
        {
          "output_type": "stream",
          "name": "stdout",
          "text": [
            "\n",
            "Epoch 41: saving model to model.weights.best.hdf5\n",
            "124/124 [==============================] - 208s 2s/step - loss: 0.0050 - accuracy: 0.9982 - iouMetric: 0.4740 - dice_coef: 0.6378\n",
            "Epoch 42/80\n",
            "123/124 [============================>.] - ETA: 1s - loss: 0.0050 - accuracy: 0.9982 - iouMetric: 0.4793 - dice_coef: 0.6451"
          ]
        },
        {
          "output_type": "stream",
          "name": "stderr",
          "text": [
            "WARNING:tensorflow:Can save best model only with val_loss available, skipping.\n"
          ]
        },
        {
          "output_type": "stream",
          "name": "stdout",
          "text": [
            "\n",
            "Epoch 42: saving model to model.weights.best.hdf5\n",
            "124/124 [==============================] - 209s 2s/step - loss: 0.0050 - accuracy: 0.9982 - iouMetric: 0.4783 - dice_coef: 0.6440\n",
            "Epoch 43/80\n",
            "123/124 [============================>.] - ETA: 1s - loss: 0.0050 - accuracy: 0.9983 - iouMetric: 0.4833 - dice_coef: 0.6477"
          ]
        },
        {
          "output_type": "stream",
          "name": "stderr",
          "text": [
            "WARNING:tensorflow:Can save best model only with val_loss available, skipping.\n"
          ]
        },
        {
          "output_type": "stream",
          "name": "stdout",
          "text": [
            "\n",
            "Epoch 43: saving model to model.weights.best.hdf5\n",
            "124/124 [==============================] - 210s 2s/step - loss: 0.0050 - accuracy: 0.9983 - iouMetric: 0.4818 - dice_coef: 0.6462\n",
            "Epoch 44/80\n",
            "123/124 [============================>.] - ETA: 1s - loss: 0.0050 - accuracy: 0.9982 - iouMetric: 0.4781 - dice_coef: 0.6435"
          ]
        },
        {
          "output_type": "stream",
          "name": "stderr",
          "text": [
            "WARNING:tensorflow:Can save best model only with val_loss available, skipping.\n"
          ]
        },
        {
          "output_type": "stream",
          "name": "stdout",
          "text": [
            "\n",
            "Epoch 44: saving model to model.weights.best.hdf5\n",
            "124/124 [==============================] - 209s 2s/step - loss: 0.0050 - accuracy: 0.9982 - iouMetric: 0.4796 - dice_coef: 0.6448\n",
            "Epoch 45/80\n",
            "123/124 [============================>.] - ETA: 1s - loss: 0.0050 - accuracy: 0.9983 - iouMetric: 0.4889 - dice_coef: 0.6532"
          ]
        },
        {
          "output_type": "stream",
          "name": "stderr",
          "text": [
            "WARNING:tensorflow:Can save best model only with val_loss available, skipping.\n"
          ]
        },
        {
          "output_type": "stream",
          "name": "stdout",
          "text": [
            "\n",
            "Epoch 45: saving model to model.weights.best.hdf5\n",
            "124/124 [==============================] - 215s 2s/step - loss: 0.0050 - accuracy: 0.9983 - iouMetric: 0.4854 - dice_coef: 0.6489\n",
            "Epoch 46/80\n",
            "124/124 [==============================] - ETA: 0s - loss: 0.0047 - accuracy: 0.9984 - iouMetric: 0.4972 - dice_coef: 0.6598"
          ]
        },
        {
          "output_type": "stream",
          "name": "stderr",
          "text": [
            "WARNING:tensorflow:Can save best model only with val_loss available, skipping.\n"
          ]
        },
        {
          "output_type": "stream",
          "name": "stdout",
          "text": [
            "\n",
            "Epoch 46: saving model to model.weights.best.hdf5\n",
            "124/124 [==============================] - 209s 2s/step - loss: 0.0047 - accuracy: 0.9984 - iouMetric: 0.4972 - dice_coef: 0.6598\n",
            "Epoch 47/80\n",
            "123/124 [============================>.] - ETA: 1s - loss: 0.0046 - accuracy: 0.9983 - iouMetric: 0.5108 - dice_coef: 0.6733"
          ]
        },
        {
          "output_type": "stream",
          "name": "stderr",
          "text": [
            "WARNING:tensorflow:Can save best model only with val_loss available, skipping.\n"
          ]
        },
        {
          "output_type": "stream",
          "name": "stdout",
          "text": [
            "\n",
            "Epoch 47: saving model to model.weights.best.hdf5\n",
            "124/124 [==============================] - 211s 2s/step - loss: 0.0046 - accuracy: 0.9983 - iouMetric: 0.5110 - dice_coef: 0.6735\n",
            "Epoch 48/80\n",
            "123/124 [============================>.] - ETA: 1s - loss: 0.0043 - accuracy: 0.9984 - iouMetric: 0.5293 - dice_coef: 0.6891"
          ]
        },
        {
          "output_type": "stream",
          "name": "stderr",
          "text": [
            "WARNING:tensorflow:Can save best model only with val_loss available, skipping.\n"
          ]
        },
        {
          "output_type": "stream",
          "name": "stdout",
          "text": [
            "\n",
            "Epoch 48: saving model to model.weights.best.hdf5\n",
            "124/124 [==============================] - 209s 2s/step - loss: 0.0043 - accuracy: 0.9984 - iouMetric: 0.5276 - dice_coef: 0.6875\n",
            "Epoch 49/80\n",
            "123/124 [============================>.] - ETA: 1s - loss: 0.0043 - accuracy: 0.9984 - iouMetric: 0.5256 - dice_coef: 0.6859"
          ]
        },
        {
          "output_type": "stream",
          "name": "stderr",
          "text": [
            "WARNING:tensorflow:Can save best model only with val_loss available, skipping.\n"
          ]
        },
        {
          "output_type": "stream",
          "name": "stdout",
          "text": [
            "\n",
            "Epoch 49: saving model to model.weights.best.hdf5\n",
            "124/124 [==============================] - 210s 2s/step - loss: 0.0043 - accuracy: 0.9984 - iouMetric: 0.5217 - dice_coef: 0.6812\n",
            "Epoch 50/80\n",
            "123/124 [============================>.] - ETA: 1s - loss: 0.0044 - accuracy: 0.9984 - iouMetric: 0.5187 - dice_coef: 0.6798"
          ]
        },
        {
          "output_type": "stream",
          "name": "stderr",
          "text": [
            "WARNING:tensorflow:Can save best model only with val_loss available, skipping.\n"
          ]
        },
        {
          "output_type": "stream",
          "name": "stdout",
          "text": [
            "\n",
            "Epoch 50: saving model to model.weights.best.hdf5\n",
            "124/124 [==============================] - 211s 2s/step - loss: 0.0044 - accuracy: 0.9984 - iouMetric: 0.5160 - dice_coef: 0.6770\n",
            "Epoch 51/80\n",
            "124/124 [==============================] - ETA: 0s - loss: 0.0043 - accuracy: 0.9985 - iouMetric: 0.5261 - dice_coef: 0.6858"
          ]
        },
        {
          "output_type": "stream",
          "name": "stderr",
          "text": [
            "WARNING:tensorflow:Can save best model only with val_loss available, skipping.\n"
          ]
        },
        {
          "output_type": "stream",
          "name": "stdout",
          "text": [
            "\n",
            "Epoch 51: saving model to model.weights.best.hdf5\n",
            "124/124 [==============================] - 210s 2s/step - loss: 0.0043 - accuracy: 0.9985 - iouMetric: 0.5261 - dice_coef: 0.6858\n",
            "Epoch 52/80\n",
            "123/124 [============================>.] - ETA: 1s - loss: 0.0041 - accuracy: 0.9985 - iouMetric: 0.5388 - dice_coef: 0.6975"
          ]
        },
        {
          "output_type": "stream",
          "name": "stderr",
          "text": [
            "WARNING:tensorflow:Can save best model only with val_loss available, skipping.\n"
          ]
        },
        {
          "output_type": "stream",
          "name": "stdout",
          "text": [
            "\n",
            "Epoch 52: saving model to model.weights.best.hdf5\n",
            "124/124 [==============================] - 209s 2s/step - loss: 0.0041 - accuracy: 0.9985 - iouMetric: 0.5354 - dice_coef: 0.6939\n",
            "Epoch 53/80\n",
            "123/124 [============================>.] - ETA: 1s - loss: 0.0040 - accuracy: 0.9985 - iouMetric: 0.5432 - dice_coef: 0.7006"
          ]
        },
        {
          "output_type": "stream",
          "name": "stderr",
          "text": [
            "WARNING:tensorflow:Can save best model only with val_loss available, skipping.\n"
          ]
        },
        {
          "output_type": "stream",
          "name": "stdout",
          "text": [
            "\n",
            "Epoch 53: saving model to model.weights.best.hdf5\n",
            "124/124 [==============================] - 208s 2s/step - loss: 0.0040 - accuracy: 0.9985 - iouMetric: 0.5388 - dice_coef: 0.6950\n",
            "Epoch 54/80\n",
            "123/124 [============================>.] - ETA: 1s - loss: 0.0040 - accuracy: 0.9985 - iouMetric: 0.5510 - dice_coef: 0.7080"
          ]
        },
        {
          "output_type": "stream",
          "name": "stderr",
          "text": [
            "WARNING:tensorflow:Can save best model only with val_loss available, skipping.\n"
          ]
        },
        {
          "output_type": "stream",
          "name": "stdout",
          "text": [
            "\n",
            "Epoch 54: saving model to model.weights.best.hdf5\n",
            "124/124 [==============================] - 208s 2s/step - loss: 0.0040 - accuracy: 0.9985 - iouMetric: 0.5521 - dice_coef: 0.7088\n",
            "Epoch 55/80\n",
            "123/124 [============================>.] - ETA: 1s - loss: 0.0040 - accuracy: 0.9985 - iouMetric: 0.5531 - dice_coef: 0.7098"
          ]
        },
        {
          "output_type": "stream",
          "name": "stderr",
          "text": [
            "WARNING:tensorflow:Can save best model only with val_loss available, skipping.\n"
          ]
        },
        {
          "output_type": "stream",
          "name": "stdout",
          "text": [
            "\n",
            "Epoch 55: saving model to model.weights.best.hdf5\n",
            "124/124 [==============================] - 208s 2s/step - loss: 0.0040 - accuracy: 0.9985 - iouMetric: 0.5526 - dice_coef: 0.7094\n",
            "Epoch 56/80\n",
            "123/124 [============================>.] - ETA: 1s - loss: 0.0038 - accuracy: 0.9986 - iouMetric: 0.5585 - dice_coef: 0.7142"
          ]
        },
        {
          "output_type": "stream",
          "name": "stderr",
          "text": [
            "WARNING:tensorflow:Can save best model only with val_loss available, skipping.\n"
          ]
        },
        {
          "output_type": "stream",
          "name": "stdout",
          "text": [
            "\n",
            "Epoch 56: saving model to model.weights.best.hdf5\n",
            "124/124 [==============================] - 209s 2s/step - loss: 0.0038 - accuracy: 0.9986 - iouMetric: 0.5601 - dice_coef: 0.7154\n",
            "Epoch 57/80\n",
            "123/124 [============================>.] - ETA: 1s - loss: 0.0038 - accuracy: 0.9986 - iouMetric: 0.5645 - dice_coef: 0.7196"
          ]
        },
        {
          "output_type": "stream",
          "name": "stderr",
          "text": [
            "WARNING:tensorflow:Can save best model only with val_loss available, skipping.\n"
          ]
        },
        {
          "output_type": "stream",
          "name": "stdout",
          "text": [
            "\n",
            "Epoch 57: saving model to model.weights.best.hdf5\n",
            "124/124 [==============================] - 208s 2s/step - loss: 0.0038 - accuracy: 0.9986 - iouMetric: 0.5622 - dice_coef: 0.7174\n",
            "Epoch 58/80\n",
            "123/124 [============================>.] - ETA: 1s - loss: 0.0038 - accuracy: 0.9986 - iouMetric: 0.5715 - dice_coef: 0.7254"
          ]
        },
        {
          "output_type": "stream",
          "name": "stderr",
          "text": [
            "WARNING:tensorflow:Can save best model only with val_loss available, skipping.\n"
          ]
        },
        {
          "output_type": "stream",
          "name": "stdout",
          "text": [
            "\n",
            "Epoch 58: saving model to model.weights.best.hdf5\n",
            "124/124 [==============================] - 209s 2s/step - loss: 0.0038 - accuracy: 0.9986 - iouMetric: 0.5719 - dice_coef: 0.7258\n",
            "Epoch 59/80\n",
            "123/124 [============================>.] - ETA: 1s - loss: 0.0038 - accuracy: 0.9986 - iouMetric: 0.5638 - dice_coef: 0.7183"
          ]
        },
        {
          "output_type": "stream",
          "name": "stderr",
          "text": [
            "WARNING:tensorflow:Can save best model only with val_loss available, skipping.\n"
          ]
        },
        {
          "output_type": "stream",
          "name": "stdout",
          "text": [
            "\n",
            "Epoch 59: saving model to model.weights.best.hdf5\n",
            "124/124 [==============================] - 208s 2s/step - loss: 0.0038 - accuracy: 0.9986 - iouMetric: 0.5652 - dice_coef: 0.7194\n",
            "Epoch 60/80\n",
            "123/124 [============================>.] - ETA: 1s - loss: 0.0036 - accuracy: 0.9986 - iouMetric: 0.5733 - dice_coef: 0.7264"
          ]
        },
        {
          "output_type": "stream",
          "name": "stderr",
          "text": [
            "WARNING:tensorflow:Can save best model only with val_loss available, skipping.\n"
          ]
        },
        {
          "output_type": "stream",
          "name": "stdout",
          "text": [
            "\n",
            "Epoch 60: saving model to model.weights.best.hdf5\n",
            "124/124 [==============================] - 208s 2s/step - loss: 0.0037 - accuracy: 0.9986 - iouMetric: 0.5731 - dice_coef: 0.7263\n",
            "Epoch 61/80\n",
            "123/124 [============================>.] - ETA: 1s - loss: 0.0036 - accuracy: 0.9986 - iouMetric: 0.5774 - dice_coef: 0.7295"
          ]
        },
        {
          "output_type": "stream",
          "name": "stderr",
          "text": [
            "WARNING:tensorflow:Can save best model only with val_loss available, skipping.\n"
          ]
        },
        {
          "output_type": "stream",
          "name": "stdout",
          "text": [
            "\n",
            "Epoch 61: saving model to model.weights.best.hdf5\n",
            "124/124 [==============================] - 208s 2s/step - loss: 0.0036 - accuracy: 0.9986 - iouMetric: 0.5781 - dice_coef: 0.7301\n",
            "Epoch 62/80\n",
            "123/124 [============================>.] - ETA: 1s - loss: 0.0036 - accuracy: 0.9986 - iouMetric: 0.5805 - dice_coef: 0.7316"
          ]
        },
        {
          "output_type": "stream",
          "name": "stderr",
          "text": [
            "WARNING:tensorflow:Can save best model only with val_loss available, skipping.\n"
          ]
        },
        {
          "output_type": "stream",
          "name": "stdout",
          "text": [
            "\n",
            "Epoch 62: saving model to model.weights.best.hdf5\n",
            "124/124 [==============================] - 205s 2s/step - loss: 0.0036 - accuracy: 0.9986 - iouMetric: 0.5782 - dice_coef: 0.7293\n",
            "Epoch 63/80\n",
            "123/124 [============================>.] - ETA: 1s - loss: 0.0036 - accuracy: 0.9986 - iouMetric: 0.5799 - dice_coef: 0.7321"
          ]
        },
        {
          "output_type": "stream",
          "name": "stderr",
          "text": [
            "WARNING:tensorflow:Can save best model only with val_loss available, skipping.\n"
          ]
        },
        {
          "output_type": "stream",
          "name": "stdout",
          "text": [
            "\n",
            "Epoch 63: saving model to model.weights.best.hdf5\n",
            "124/124 [==============================] - 209s 2s/step - loss: 0.0036 - accuracy: 0.9986 - iouMetric: 0.5752 - dice_coef: 0.7263\n",
            "Epoch 64/80\n",
            "123/124 [============================>.] - ETA: 1s - loss: 0.0034 - accuracy: 0.9987 - iouMetric: 0.5972 - dice_coef: 0.7460"
          ]
        },
        {
          "output_type": "stream",
          "name": "stderr",
          "text": [
            "WARNING:tensorflow:Can save best model only with val_loss available, skipping.\n"
          ]
        },
        {
          "output_type": "stream",
          "name": "stdout",
          "text": [
            "\n",
            "Epoch 64: saving model to model.weights.best.hdf5\n",
            "124/124 [==============================] - 210s 2s/step - loss: 0.0034 - accuracy: 0.9987 - iouMetric: 0.5969 - dice_coef: 0.7458\n",
            "Epoch 65/80\n",
            "123/124 [============================>.] - ETA: 1s - loss: 0.0033 - accuracy: 0.9987 - iouMetric: 0.6081 - dice_coef: 0.7545"
          ]
        },
        {
          "output_type": "stream",
          "name": "stderr",
          "text": [
            "WARNING:tensorflow:Can save best model only with val_loss available, skipping.\n"
          ]
        },
        {
          "output_type": "stream",
          "name": "stdout",
          "text": [
            "\n",
            "Epoch 65: saving model to model.weights.best.hdf5\n",
            "124/124 [==============================] - 212s 2s/step - loss: 0.0033 - accuracy: 0.9987 - iouMetric: 0.6068 - dice_coef: 0.7534\n",
            "Epoch 66/80\n",
            "123/124 [============================>.] - ETA: 1s - loss: 0.0034 - accuracy: 0.9987 - iouMetric: 0.5921 - dice_coef: 0.7418"
          ]
        },
        {
          "output_type": "stream",
          "name": "stderr",
          "text": [
            "WARNING:tensorflow:Can save best model only with val_loss available, skipping.\n"
          ]
        },
        {
          "output_type": "stream",
          "name": "stdout",
          "text": [
            "\n",
            "Epoch 66: saving model to model.weights.best.hdf5\n",
            "124/124 [==============================] - 209s 2s/step - loss: 0.0034 - accuracy: 0.9987 - iouMetric: 0.5916 - dice_coef: 0.7414\n",
            "Epoch 67/80\n",
            "123/124 [============================>.] - ETA: 1s - loss: 0.0032 - accuracy: 0.9987 - iouMetric: 0.6100 - dice_coef: 0.7560"
          ]
        },
        {
          "output_type": "stream",
          "name": "stderr",
          "text": [
            "WARNING:tensorflow:Can save best model only with val_loss available, skipping.\n"
          ]
        },
        {
          "output_type": "stream",
          "name": "stdout",
          "text": [
            "\n",
            "Epoch 67: saving model to model.weights.best.hdf5\n",
            "124/124 [==============================] - 210s 2s/step - loss: 0.0032 - accuracy: 0.9987 - iouMetric: 0.6103 - dice_coef: 0.7561\n",
            "Epoch 68/80\n",
            "123/124 [============================>.] - ETA: 1s - loss: 0.0031 - accuracy: 0.9988 - iouMetric: 0.6191 - dice_coef: 0.7628"
          ]
        },
        {
          "output_type": "stream",
          "name": "stderr",
          "text": [
            "WARNING:tensorflow:Can save best model only with val_loss available, skipping.\n"
          ]
        },
        {
          "output_type": "stream",
          "name": "stdout",
          "text": [
            "\n",
            "Epoch 68: saving model to model.weights.best.hdf5\n",
            "124/124 [==============================] - 210s 2s/step - loss: 0.0031 - accuracy: 0.9988 - iouMetric: 0.6193 - dice_coef: 0.7629\n",
            "Epoch 69/80\n",
            "123/124 [============================>.] - ETA: 1s - loss: 0.0032 - accuracy: 0.9987 - iouMetric: 0.6109 - dice_coef: 0.7564"
          ]
        },
        {
          "output_type": "stream",
          "name": "stderr",
          "text": [
            "WARNING:tensorflow:Can save best model only with val_loss available, skipping.\n"
          ]
        },
        {
          "output_type": "stream",
          "name": "stdout",
          "text": [
            "\n",
            "Epoch 69: saving model to model.weights.best.hdf5\n",
            "124/124 [==============================] - 210s 2s/step - loss: 0.0032 - accuracy: 0.9987 - iouMetric: 0.6114 - dice_coef: 0.7568\n",
            "Epoch 70/80\n",
            "123/124 [============================>.] - ETA: 1s - loss: 0.0031 - accuracy: 0.9988 - iouMetric: 0.6155 - dice_coef: 0.7600"
          ]
        },
        {
          "output_type": "stream",
          "name": "stderr",
          "text": [
            "WARNING:tensorflow:Can save best model only with val_loss available, skipping.\n"
          ]
        },
        {
          "output_type": "stream",
          "name": "stdout",
          "text": [
            "\n",
            "Epoch 70: saving model to model.weights.best.hdf5\n",
            "124/124 [==============================] - 210s 2s/step - loss: 0.0031 - accuracy: 0.9988 - iouMetric: 0.6166 - dice_coef: 0.7608\n",
            "Epoch 71/80\n",
            "123/124 [============================>.] - ETA: 1s - loss: 0.0031 - accuracy: 0.9988 - iouMetric: 0.6218 - dice_coef: 0.7653"
          ]
        },
        {
          "output_type": "stream",
          "name": "stderr",
          "text": [
            "WARNING:tensorflow:Can save best model only with val_loss available, skipping.\n"
          ]
        },
        {
          "output_type": "stream",
          "name": "stdout",
          "text": [
            "\n",
            "Epoch 71: saving model to model.weights.best.hdf5\n",
            "124/124 [==============================] - 210s 2s/step - loss: 0.0031 - accuracy: 0.9988 - iouMetric: 0.6223 - dice_coef: 0.7656\n",
            "Epoch 72/80\n",
            "123/124 [============================>.] - ETA: 1s - loss: 0.0031 - accuracy: 0.9988 - iouMetric: 0.6154 - dice_coef: 0.7598"
          ]
        },
        {
          "output_type": "stream",
          "name": "stderr",
          "text": [
            "WARNING:tensorflow:Can save best model only with val_loss available, skipping.\n"
          ]
        },
        {
          "output_type": "stream",
          "name": "stdout",
          "text": [
            "\n",
            "Epoch 72: saving model to model.weights.best.hdf5\n",
            "124/124 [==============================] - 212s 2s/step - loss: 0.0031 - accuracy: 0.9988 - iouMetric: 0.6163 - dice_coef: 0.7604\n",
            "Epoch 73/80\n",
            "123/124 [============================>.] - ETA: 1s - loss: 0.0030 - accuracy: 0.9988 - iouMetric: 0.6266 - dice_coef: 0.7686"
          ]
        },
        {
          "output_type": "stream",
          "name": "stderr",
          "text": [
            "WARNING:tensorflow:Can save best model only with val_loss available, skipping.\n"
          ]
        },
        {
          "output_type": "stream",
          "name": "stdout",
          "text": [
            "\n",
            "Epoch 73: saving model to model.weights.best.hdf5\n",
            "124/124 [==============================] - 212s 2s/step - loss: 0.0030 - accuracy: 0.9988 - iouMetric: 0.6267 - dice_coef: 0.7687\n",
            "Epoch 74/80\n",
            "123/124 [============================>.] - ETA: 1s - loss: 0.0031 - accuracy: 0.9988 - iouMetric: 0.6232 - dice_coef: 0.7663"
          ]
        },
        {
          "output_type": "stream",
          "name": "stderr",
          "text": [
            "WARNING:tensorflow:Can save best model only with val_loss available, skipping.\n"
          ]
        },
        {
          "output_type": "stream",
          "name": "stdout",
          "text": [
            "\n",
            "Epoch 74: saving model to model.weights.best.hdf5\n",
            "124/124 [==============================] - 209s 2s/step - loss: 0.0031 - accuracy: 0.9988 - iouMetric: 0.6227 - dice_coef: 0.7659\n",
            "Epoch 75/80\n",
            "123/124 [============================>.] - ETA: 1s - loss: 0.0029 - accuracy: 0.9988 - iouMetric: 0.6303 - dice_coef: 0.7717"
          ]
        },
        {
          "output_type": "stream",
          "name": "stderr",
          "text": [
            "WARNING:tensorflow:Can save best model only with val_loss available, skipping.\n"
          ]
        },
        {
          "output_type": "stream",
          "name": "stdout",
          "text": [
            "\n",
            "Epoch 75: saving model to model.weights.best.hdf5\n",
            "124/124 [==============================] - 210s 2s/step - loss: 0.0029 - accuracy: 0.9988 - iouMetric: 0.6297 - dice_coef: 0.7712\n",
            "Epoch 76/80\n",
            "123/124 [============================>.] - ETA: 1s - loss: 0.0028 - accuracy: 0.9989 - iouMetric: 0.6428 - dice_coef: 0.7807"
          ]
        },
        {
          "output_type": "stream",
          "name": "stderr",
          "text": [
            "WARNING:tensorflow:Can save best model only with val_loss available, skipping.\n"
          ]
        },
        {
          "output_type": "stream",
          "name": "stdout",
          "text": [
            "\n",
            "Epoch 76: saving model to model.weights.best.hdf5\n",
            "124/124 [==============================] - 214s 2s/step - loss: 0.0028 - accuracy: 0.9989 - iouMetric: 0.6428 - dice_coef: 0.7807\n",
            "Epoch 77/80\n",
            "123/124 [============================>.] - ETA: 1s - loss: 0.0028 - accuracy: 0.9989 - iouMetric: 0.6462 - dice_coef: 0.7839"
          ]
        },
        {
          "output_type": "stream",
          "name": "stderr",
          "text": [
            "WARNING:tensorflow:Can save best model only with val_loss available, skipping.\n"
          ]
        },
        {
          "output_type": "stream",
          "name": "stdout",
          "text": [
            "\n",
            "Epoch 77: saving model to model.weights.best.hdf5\n",
            "124/124 [==============================] - 211s 2s/step - loss: 0.0028 - accuracy: 0.9989 - iouMetric: 0.6450 - dice_coef: 0.7830\n",
            "Epoch 78/80\n",
            "123/124 [============================>.] - ETA: 1s - loss: 0.0027 - accuracy: 0.9989 - iouMetric: 0.6514 - dice_coef: 0.7877"
          ]
        },
        {
          "output_type": "stream",
          "name": "stderr",
          "text": [
            "WARNING:tensorflow:Can save best model only with val_loss available, skipping.\n"
          ]
        },
        {
          "output_type": "stream",
          "name": "stdout",
          "text": [
            "\n",
            "Epoch 78: saving model to model.weights.best.hdf5\n",
            "124/124 [==============================] - 211s 2s/step - loss: 0.0027 - accuracy: 0.9989 - iouMetric: 0.6522 - dice_coef: 0.7883\n",
            "Epoch 79/80\n",
            "124/124 [==============================] - ETA: 0s - loss: 0.0028 - accuracy: 0.9989 - iouMetric: 0.6504 - dice_coef: 0.7866"
          ]
        },
        {
          "output_type": "stream",
          "name": "stderr",
          "text": [
            "WARNING:tensorflow:Can save best model only with val_loss available, skipping.\n"
          ]
        },
        {
          "output_type": "stream",
          "name": "stdout",
          "text": [
            "\n",
            "Epoch 79: saving model to model.weights.best.hdf5\n",
            "124/124 [==============================] - 209s 2s/step - loss: 0.0028 - accuracy: 0.9989 - iouMetric: 0.6504 - dice_coef: 0.7866\n",
            "Epoch 80/80\n",
            "123/124 [============================>.] - ETA: 1s - loss: 0.0027 - accuracy: 0.9989 - iouMetric: 0.6519 - dice_coef: 0.7878"
          ]
        },
        {
          "output_type": "stream",
          "name": "stderr",
          "text": [
            "WARNING:tensorflow:Can save best model only with val_loss available, skipping.\n"
          ]
        },
        {
          "output_type": "stream",
          "name": "stdout",
          "text": [
            "\n",
            "Epoch 80: saving model to model.weights.best.hdf5\n",
            "124/124 [==============================] - 209s 2s/step - loss: 0.0027 - accuracy: 0.9989 - iouMetric: 0.6519 - dice_coef: 0.7879\n",
            "Completed\n"
          ]
        }
      ],
      "source": [
        "checkpointer = ModelCheckpoint(filepath='model.weights.best.hdf5', verbose=1)  \n",
        "model_time = dt.now().strftime(\"%Y%m%d_%H%M%S\")\n",
        "model_folder = os.path.join(results_dir, model_time)\n",
        "os.makedirs(model_folder)\n",
        "\n",
        "tensorboard_folder = os.path.join(model_folder, \"tensorlogs\")\n",
        "os.makedirs(tensorboard_folder)\n",
        "\n",
        "ckpt_folder = os.path.join(model_folder, \"checkpoints\")\n",
        "os.makedirs(ckpt_folder)\n",
        "\n",
        "csv_logger_folder = os.path.join(model_folder, \"csv_logger\")\n",
        "os.makedirs(csv_logger_folder)\n",
        "\n",
        "hist_folder = os.path.join(model_folder, \"model_history\")\n",
        "os.makedirs(hist_folder)\n",
        "\n",
        "saved_model_folder = os.path.join(model_folder, \"Saved_model\")\n",
        "os.makedirs(saved_model_folder)\n",
        "\n",
        "model_params_folder = os.path.join(model_folder, \"model_params\")\n",
        "os.makedirs(model_params_folder)\n",
        "\n",
        "train_x, train_y = datasetPaths(\n",
        "    full_img_dir=train_full_img_dir,\n",
        "    mask_img_dir=train_mask_img_dir \n",
        ")\n",
        "\n",
        "test_x, test_y = datasetPaths(\n",
        "    full_img_dir=test_full_img_dir,\n",
        "    mask_img_dir=test_mask_img_dir\n",
        ")\n",
        "\n",
        "train_ds = makeTFDataset(shuffle=True, augument=True,\n",
        "x_paths_list = train_x, y_paths_list=train_y, batch_size=batch_size)\n",
        "\n",
        "\n",
        "test_ds = makeTFDataset(\n",
        "    shuffle=False,\n",
        "    augument=False,\n",
        "    x_paths_list=test_x,\n",
        "    y_paths_list=test_y,\n",
        "    batch_size=batch_size)      \n",
        "    \n",
        "unet = buildUnet()\n",
        "\n",
        "unet = compile_(model=unet)\n",
        "\n",
        "# ckpt_path = (ckpt_folder + f\"/{model_time}\" + \"_Epoch-{epoch:03d}\" + \"_IOU-{iouMetric:.8f\")\n",
        "ckpt_path = (ckpt_folder + f\"/{model_time}\")\n",
        "\n",
        "ckpt_callback = keras.callbacks.ModelCheckpoint(\n",
        "    filepath= ckpt_path,\n",
        "    monitors= callback_monitor,\n",
        "    mode= callback_mode,\n",
        "    save_weights_only= ckpt_save_weights_only,\n",
        "    save_best_only=ckpt_save_best_only,\n",
        "    verbose=1\n",
        ")\n",
        "\n",
        "es_callback = keras.callbacks.EarlyStopping(\n",
        "    patience= earlystop_patience,\n",
        "    monitor= callback_monitor,\n",
        "    mode= callback_mode,\n",
        "    restore_best_weights= restore_best_weights,\n",
        ")\n",
        "\n",
        "# TensorBoard\n",
        "tb_callback = keras.callbacks.TensorBoard(\n",
        "    log_dir=tensorboard_folder, histogram_freq=1, profile_batch=0\n",
        ")\n",
        "\n",
        "# CSV Logger\n",
        "csv_logger_path = os.path.join(csv_logger_folder, \"csv_logger.csv\")\n",
        "csv_logger = keras.callbacks.CSVLogger(\n",
        "    filename=csv_logger_path, separator=\",\", append=True\n",
        ")\n",
        "\n",
        "# Putting them together\n",
        "callbacks = [ckpt_callback, es_callback, tb_callback, csv_logger, checkpointer]\n",
        "\n",
        "train_steps = len(train_x) // batch_size\n",
        "test_steps = len(test_x) // batch_size\n",
        "\n",
        "if len(train_x) % batch_size != 0:\n",
        "    train_steps += 1\n",
        "if len(test_x) % batch_size != 0:\n",
        "    test_steps += 1\n",
        "\n",
        "print()\n",
        "print(f\"Size of training set = {len(train_x)}\")\n",
        "print(f\"Size of test set = {len(test_x)}\")\n",
        "print(f\"Number of epochs = {num_epochs}\")\n",
        "print(f\"Batch size = {batch_size}\")\n",
        "print(f\"Number of training steps per epoch = {train_steps}\")\n",
        "print(f\"Number of test steps per epoch = {test_steps}\")\n",
        "print()\n",
        "\n",
        "if validate:\n",
        "        history = unet.fit(\n",
        "            train_ds,\n",
        "            validation_data=test_ds,\n",
        "            epochs=num_epochs,\n",
        "            steps_per_epoch=train_steps,\n",
        "            validation_steps=test_steps,\n",
        "            callbacks=callbacks,\n",
        "            verbose=1,\n",
        "        )\n",
        "elif not validate:\n",
        "    history = unet.fit(\n",
        "        train_ds,\n",
        "        epochs=num_epochs,\n",
        "        steps_per_epoch=train_steps,\n",
        "        callbacks=callbacks,\n",
        "        verbose=1,\n",
        "    )\n",
        "\n",
        "#y_hat = unet.evaluate(test_ds)\n",
        "\n",
        "print(\"Completed\")     \n",
        "        "
      ]
    },
    {
      "cell_type": "code",
      "source": [
        " def makeTFDataset1( shuffle, augument, x_paths_list, y_paths_list, batch_size):\n",
        "        try:\n",
        "            ds = tf.data.Dataset.from_tensor_slices((x_paths_list, y_paths_list))\n",
        "            \n",
        "            if shuffle:\n",
        "                ds = ds.shuffle(buffer_size=len(x_paths_list))\n",
        "\n",
        "            ds = ds.map(tfParse, num_parallel_calls=tf.data.experimental.AUTOTUNE)\n",
        "            \n",
        "            if augument:\n",
        "                ds = ds.map(imgAugment, num_parallel_calls=tf.data.experimental.AUTOTUNE)\n",
        "\n",
        "            ds = ds.batch(batch_size=batch_size, drop_remainder=False)\n",
        "            #ds = ds.repeat()\n",
        "\n",
        "            return ds\n",
        "\n",
        "        except Exception as e:\n",
        "            print(f\"Error in make TFDataset {e}\")"
      ],
      "metadata": {
        "id": "MBPWHo79s1Hz"
      },
      "execution_count": 30,
      "outputs": []
    },
    {
      "cell_type": "code",
      "execution_count": 31,
      "metadata": {
        "id": "LCumD8yCBX3-"
      },
      "outputs": [],
      "source": [
        "test_ds = makeTFDataset1(\n",
        "    shuffle=False,\n",
        "    augument=False,\n",
        "    x_paths_list=test_x,\n",
        "    y_paths_list=test_y,\n",
        "    batch_size=batch_size)    "
      ]
    },
    {
      "cell_type": "code",
      "execution_count": 32,
      "metadata": {
        "id": "MGkGHRtCIlcu"
      },
      "outputs": [],
      "source": [
        "unet.load_weights('model.weights.best.hdf5')"
      ]
    },
    {
      "cell_type": "code",
      "source": [
        "score = unet.evaluate(test_ds, verbose=0)\n",
        "score"
      ],
      "metadata": {
        "colab": {
          "base_uri": "https://localhost:8080/"
        },
        "id": "bRy91OTxNnym",
        "outputId": "ffe417f5-fb6b-4854-90bf-be01c60b65d4"
      },
      "execution_count": 33,
      "outputs": [
        {
          "output_type": "execute_result",
          "data": {
            "text/plain": [
              "[0.02011868916451931,\n",
              " 0.996737003326416,\n",
              " 0.2201848179101944,\n",
              " 0.34893396496772766]"
            ]
          },
          "metadata": {},
          "execution_count": 33
        }
      ]
    },
    {
      "cell_type": "code",
      "source": [
        ""
      ],
      "metadata": {
        "id": "dtht3dayvWSI"
      },
      "execution_count": 33,
      "outputs": []
    },
    {
      "cell_type": "code",
      "source": [
        "!zip -r /content/results/fit.zip /content/results/fit /content/model.weights.best.hdf5\n"
      ],
      "metadata": {
        "colab": {
          "base_uri": "https://localhost:8080/"
        },
        "id": "IVeEZIevwLzg",
        "outputId": "9794ad12-5825-4c63-a338-1d21ed983738"
      },
      "execution_count": 34,
      "outputs": [
        {
          "output_type": "stream",
          "name": "stdout",
          "text": [
            "  adding: content/results/fit/ (stored 0%)\n",
            "  adding: content/results/fit/20220816_000420/ (stored 0%)\n",
            "  adding: content/results/fit/20220816_000420/csv_logger/ (stored 0%)\n",
            "  adding: content/results/fit/20220816_000420/csv_logger/csv_logger.csv (deflated 52%)\n",
            "  adding: content/results/fit/20220816_000420/model_params/ (stored 0%)\n",
            "  adding: content/results/fit/20220816_000420/model_history/ (stored 0%)\n",
            "  adding: content/results/fit/20220816_000420/tensorlogs/ (stored 0%)\n",
            "  adding: content/results/fit/20220816_000420/tensorlogs/train/ (stored 0%)\n",
            "  adding: content/results/fit/20220816_000420/tensorlogs/train/events.out.tfevents.1660608271.4bb70e4eca74.78.0.v2 (deflated 63%)\n",
            "  adding: content/results/fit/20220816_000420/checkpoints/ (stored 0%)\n",
            "  adding: content/results/fit/20220816_000420/Saved_model/ (stored 0%)\n",
            "  adding: content/model.weights.best.hdf5 (deflated 7%)\n"
          ]
        }
      ]
    },
    {
      "cell_type": "code",
      "source": [
        "from google.colab import files\n",
        "files.download(\"/content/results/fit.zip\")\n",
        "#files.download('model.weights.best.hdf5')"
      ],
      "metadata": {
        "colab": {
          "base_uri": "https://localhost:8080/",
          "height": 17
        },
        "id": "Ms8fiADKwq6i",
        "outputId": "e3d5de66-d3d9-4fa2-fb26-fa12cc1cc07f"
      },
      "execution_count": 35,
      "outputs": [
        {
          "output_type": "display_data",
          "data": {
            "text/plain": [
              "<IPython.core.display.Javascript object>"
            ],
            "application/javascript": [
              "\n",
              "    async function download(id, filename, size) {\n",
              "      if (!google.colab.kernel.accessAllowed) {\n",
              "        return;\n",
              "      }\n",
              "      const div = document.createElement('div');\n",
              "      const label = document.createElement('label');\n",
              "      label.textContent = `Downloading \"${filename}\": `;\n",
              "      div.appendChild(label);\n",
              "      const progress = document.createElement('progress');\n",
              "      progress.max = size;\n",
              "      div.appendChild(progress);\n",
              "      document.body.appendChild(div);\n",
              "\n",
              "      const buffers = [];\n",
              "      let downloaded = 0;\n",
              "\n",
              "      const channel = await google.colab.kernel.comms.open(id);\n",
              "      // Send a message to notify the kernel that we're ready.\n",
              "      channel.send({})\n",
              "\n",
              "      for await (const message of channel.messages) {\n",
              "        // Send a message to notify the kernel that we're ready.\n",
              "        channel.send({})\n",
              "        if (message.buffers) {\n",
              "          for (const buffer of message.buffers) {\n",
              "            buffers.push(buffer);\n",
              "            downloaded += buffer.byteLength;\n",
              "            progress.value = downloaded;\n",
              "          }\n",
              "        }\n",
              "      }\n",
              "      const blob = new Blob(buffers, {type: 'application/binary'});\n",
              "      const a = document.createElement('a');\n",
              "      a.href = window.URL.createObjectURL(blob);\n",
              "      a.download = filename;\n",
              "      div.appendChild(a);\n",
              "      a.click();\n",
              "      div.remove();\n",
              "    }\n",
              "  "
            ]
          },
          "metadata": {}
        },
        {
          "output_type": "display_data",
          "data": {
            "text/plain": [
              "<IPython.core.display.Javascript object>"
            ],
            "application/javascript": [
              "download(\"download_78d51a19-3a14-4b6a-911c-c0259dff2944\", \"fit.zip\", 366127027)"
            ]
          },
          "metadata": {}
        }
      ]
    }
  ],
  "metadata": {
    "accelerator": "GPU",
    "colab": {
      "collapsed_sections": [],
      "name": "Cbisddsm_final_new_1.ipynb",
      "provenance": []
    },
    "gpuClass": "standard",
    "instance_type": "ml.m5.large",
    "kernelspec": {
      "display_name": "Python 3 (Data Science)",
      "language": "python",
      "name": "python3__SAGEMAKER_INTERNAL__arn:aws:sagemaker:us-east-1:081325390199:image/datascience-1.0"
    },
    "language_info": {
      "codemirror_mode": {
        "name": "ipython",
        "version": 3
      },
      "file_extension": ".py",
      "mimetype": "text/x-python",
      "name": "python",
      "nbconvert_exporter": "python",
      "pygments_lexer": "ipython3",
      "version": "3.7.10"
    }
  },
  "nbformat": 4,
  "nbformat_minor": 0
}