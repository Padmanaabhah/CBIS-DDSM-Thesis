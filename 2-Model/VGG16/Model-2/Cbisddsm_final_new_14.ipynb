{
  "cells": [
    {
      "cell_type": "code",
      "execution_count": 1,
      "metadata": {
        "id": "Xzc7BJKDBX3y"
      },
      "outputs": [],
      "source": [
        "#pip install tensorflow"
      ]
    },
    {
      "cell_type": "code",
      "execution_count": 2,
      "metadata": {
        "id": "L6wiaECOBX30"
      },
      "outputs": [],
      "source": [
        "#pip install opencv-python-headless"
      ]
    },
    {
      "cell_type": "code",
      "execution_count": 90,
      "metadata": {
        "id": "cXp-5N_yBX30"
      },
      "outputs": [],
      "source": [
        "from distutils import extension\n",
        "from logging import exception\n",
        "import os\n",
        "from datetime import datetime as dt\n",
        "from regex import E\n",
        "from sqlalchemy import intersect\n",
        "import tensorflow as tf\n",
        "from tensorflow import keras\n",
        "import cv2\n",
        "import numpy as np \n",
        "import pathlib\n",
        "from keras.callbacks import ModelCheckpoint   \n",
        "from keras.regularizers import l2\n",
        "import matplotlib.pyplot as plt"
      ]
    },
    {
      "cell_type": "code",
      "execution_count": 4,
      "metadata": {
        "colab": {
          "base_uri": "https://localhost:8080/"
        },
        "id": "9iQkKItqB1-t",
        "outputId": "876181d6-31b9-400e-c419-629b3ac9a582"
      },
      "outputs": [
        {
          "output_type": "stream",
          "name": "stdout",
          "text": [
            "Mounted at /content/gdrive\n"
          ]
        }
      ],
      "source": [
        "from google.colab import drive\n",
        "drive.mount('/content/gdrive')"
      ]
    },
    {
      "cell_type": "code",
      "execution_count": 5,
      "metadata": {
        "colab": {
          "base_uri": "https://localhost:8080/"
        },
        "id": "wQYE2sEYB-uE",
        "outputId": "0f0cc615-74e0-4af1-8189-5accd18fc2ea"
      },
      "outputs": [
        {
          "output_type": "stream",
          "name": "stdout",
          "text": [
            "Test_output_full  Test_output_mask  Train_output_full  Train_output_mask\n"
          ]
        }
      ],
      "source": [
        "!ls \"/content/gdrive/MyDrive/cbisddsm\""
      ]
    },
    {
      "cell_type": "code",
      "execution_count": 6,
      "metadata": {
        "id": "2foFHtBFB_U4"
      },
      "outputs": [],
      "source": [
        "# data_dir_train = pathlib.Path(\"/content/gdrive/MyDrive/Images/Train\")\n",
        "# data_dir_test = pathlib.Path('/content/gdrive/MyDrive/Images/Test')"
      ]
    },
    {
      "cell_type": "code",
      "execution_count": 7,
      "metadata": {
        "id": "zYVMXFDEBX31"
      },
      "outputs": [],
      "source": [
        "seed = 43\n",
        "encoder_input_width = 224\n",
        "encode_input_channels = 3\n",
        "encoder_input_shape = (encoder_input_width, encoder_input_width, encode_input_channels)\n",
        "\n",
        "kernsize = 3\n",
        "decoder_kernel_size = (kernsize, kernsize)\n",
        "stride = 2\n",
        "decoder_strides = (stride, stride)\n",
        "decoder_padding = \"same\"\n",
        "decoder_activation = None\n",
        "final_layer_filters = 1\n",
        "final_layer_activation = \"sigmoid\"\n",
        "\n",
        "train_full_img_dir = \"/content/gdrive/MyDrive/cbisddsm/Train_output_full\"\n",
        "train_mask_img_dir = \"/content/gdrive/MyDrive/cbisddsm/Train_output_mask\"\n",
        "\n",
        "test_full_img_dir = \"/content/gdrive/MyDrive/cbisddsm/Test_output_full\"\n",
        "test_mask_img_dir = \"/content/gdrive/MyDrive/cbisddsm/Test_output_mask\"\n",
        "results_dir = \"/content/results/fit\"\n",
        "extension = \".png\"\n",
        "\n",
        "target_size = (224, 224)\n",
        "\n",
        "brightness_delta = 0.3\n",
        "batch_size = 10\n",
        "\n",
        "validate = False\n",
        "loss = \"binary_crossentropy\"\n",
        "learning_rate = 0.0001\n",
        "dropout = 0.5\n",
        "dropout_training = True\n",
        "num_epochs = 80\n",
        "callback_monitor = \"iouMetric\"\n",
        "callback_mode = \"max\"\n",
        "ckpt_save_weights_only = True\n",
        "ckpt_save_best_only = True\n",
        "earlystop_patience = 200\n",
        "restore_best_weights = True"
      ]
    },
    {
      "cell_type": "code",
      "execution_count": 8,
      "metadata": {
        "id": "WiJw56KyBX32"
      },
      "outputs": [],
      "source": [
        "# x_paths_list = []\n",
        "# for full in os.listdir(train_full_img_dir):\n",
        "#   if full.endswith(extension):\n",
        "#     x_paths_list.append(os.path.join(train_full_img_dir, full))\n",
        "\n",
        "# print(len(x_paths_list))"
      ]
    },
    {
      "cell_type": "code",
      "execution_count": 8,
      "metadata": {
        "id": "B28GisyHBX32"
      },
      "outputs": [],
      "source": [
        ""
      ]
    },
    {
      "cell_type": "code",
      "execution_count": 9,
      "metadata": {
        "id": "JGqSf0kQBX32"
      },
      "outputs": [],
      "source": [
        "def datasetPaths(full_img_dir, mask_img_dir):\n",
        "        try:\n",
        "            x_paths_list = []\n",
        "            y_paths_list = []\n",
        "\n",
        "            for full in os.listdir(full_img_dir):\n",
        "                if full.endswith(extension):\n",
        "                    x_paths_list.append(os.path.join(full_img_dir, full))\n",
        "            \n",
        "            for full in os.listdir(mask_img_dir):\n",
        "                if full.endswith(extension):\n",
        "                    y_paths_list.append(os.path.join(mask_img_dir, full))\n",
        "            \n",
        "            x_paths_list.sort()\n",
        "            y_paths_list.sort()\n",
        "\n",
        "            return x_paths_list, y_paths_list\n",
        "        except Exception as e:\n",
        "            print(f\"Error in datasetPaths {e}\")"
      ]
    },
    {
      "cell_type": "code",
      "execution_count": 10,
      "metadata": {
        "id": "7u3oVaRTBX33"
      },
      "outputs": [],
      "source": [
        "# def loadFullImg(path, dsize):\n",
        "#         try:\n",
        "#             if not isinstance(path, str):\n",
        "#                 path = path.decode()\n",
        "             \n",
        "            \n",
        "#             s3_client = boto3.resource('s3')\n",
        "#             obj = s3_client.get_object(Bucket='cbisddsm', Key=path)\n",
        "#             nparr = np.frombuffer(obj['Body'].read(), np.uint8)\n",
        "#             img = cv2.imdecode(nparr, cv2.IMREAD_COLOR)\n",
        "#             print(f'type type{img}')\n",
        "#             #bucket = s3_resource.Bucket('cbisddsm')\n",
        "#             #print(f'bucket.Object(path) {bucket.Object(path)}')\n",
        "#             #img = bucket.Object(path).get().get('Body').read()\n",
        "#             #print(f'img {img}')\n",
        "#             #img = cv2.imdecode(np.asarray(bytearray(img)), cv2.IMREAD_COLOR)\n",
        "           \n",
        "            \n",
        "#             #img = cv2.imread(path, cv2.IMREAD_GRAYSCALE)\n",
        "#             img = cv2.resize(src=img, dsize=dsize)\n",
        "\n",
        "#             norm_img = (img - img.min()) / (img.max() - img.min())\n",
        "\n",
        "#             full_img = np.stack([norm_img, norm_img, norm_img], axis=-1)\n",
        "#             print(f'done for path {path}')\n",
        "#             return full_img\n",
        "        \n",
        "#         except Exception as e:\n",
        "#             print(f\"There is an error in loadFullImg {e}\")\n",
        "            \n",
        "\n",
        "    \n",
        " "
      ]
    },
    {
      "cell_type": "code",
      "execution_count": 11,
      "metadata": {
        "id": "VQf1GqJeBX34"
      },
      "outputs": [],
      "source": [
        "def loadFullImg(path, dsize):\n",
        "        try:\n",
        "            if not isinstance(path, str):\n",
        "                path = path.decode()\n",
        "            \n",
        "            img = cv2.imread(path, cv2.IMREAD_GRAYSCALE)\n",
        "            #print(type(img))\n",
        "            img = cv2.resize(src=img, dsize=dsize)\n",
        "\n",
        "            norm_img = (img - img.min()) / (img.max() - img.min())\n",
        "            #print(f'After norm_img')\n",
        "            #print(f'type {norm_img.shape}')\n",
        "            full_img = np.stack([norm_img, norm_img, norm_img], axis=-1)\n",
        "            #print(f'After full_img')\n",
        "            #print(f'type {full_img.shape}')\n",
        "            #print(f'done for path {path} with shape {full_img.shape}')\n",
        "            return full_img\n",
        "        \n",
        "        except Exception as e:\n",
        "            print(f\"There is an error in loadFullImg {e}\")"
      ]
    },
    {
      "cell_type": "code",
      "execution_count": 12,
      "metadata": {
        "id": "Yfm6JA2rBX34"
      },
      "outputs": [],
      "source": [
        "# s3 = boto3.resource('s3')\n",
        "# my_bucket = s3.Bucket('cbisddsm')\n",
        "# i = 0\n",
        "# for object_summary in my_bucket.objects.filter(Prefix='Train_output_full'):    \n",
        "#     if i == 0:\n",
        "#         pass\n",
        "#     else:\n",
        "#         print(object_summary.key)\n",
        "#         img = loadFullImg(object_summary.key, target_size)\n",
        "#         print(img.shape)\n",
        "#         #break\n",
        "#     i += 1\n",
        "    \n",
        "    \n",
        "#             #print(object_summary.key)\n",
        "        \n",
        "#             #x_paths_list.append(object_summary.key)\n"
      ]
    },
    {
      "cell_type": "code",
      "execution_count": 37,
      "metadata": {
        "id": "KYSP3bIaBX35"
      },
      "outputs": [],
      "source": [
        "def loadMaskImg(path, dsize):\n",
        "        try:\n",
        "            if not isinstance(path, str):\n",
        "                path=path.decode()\n",
        "            \n",
        "            img = cv2.imread(path, cv2.IMREAD_GRAYSCALE)\n",
        "            img = cv2.resize(src=img, dsize=dsize)\n",
        "\n",
        "            norm_img = (img - img.min()) / (img.max() - img.min())\n",
        "\n",
        "            mask_img = np.expand_dims(norm_img, axis=-1)\n",
        "            #print(f'done for path {path} with shape {mask_img.shape}')\n",
        "            return mask_img\n",
        "\n",
        "        except Exception as e:\n",
        "            print(f\"Error in loadMaskIMG {e}\")"
      ]
    },
    {
      "cell_type": "code",
      "execution_count": 14,
      "metadata": {
        "id": "Co4SIeY6BX35"
      },
      "outputs": [],
      "source": [
        "# def loadMaskImg(path, dsize):\n",
        "#         try:\n",
        "#             if not isinstance(path, str):\n",
        "#                 path=path.decode()\n",
        "             \n",
        "#             s3_resource = boto3.resource('s3')\n",
        "#             bucket = s3_resource.Bucket('cbisddsm')\n",
        "# #             bucket = s3_resource.Bucket('cbisddsm')\n",
        "#             img = bucket.Object(path).get().get('Body').read()\n",
        "#             img = cv2.imdecode(np.asarray(bytearray(img)), cv2.IMREAD_COLOR)\n",
        "#             print(f'type type(img)')\n",
        "#             #img = cv2.imread(path, cv2.IMREAD_GRAYSCALE)\n",
        "#             img = cv2.resize(src=img, dsize=dsize)\n",
        "\n",
        "#             norm_img = (img - img.min()) / (img.max() - img.min())\n",
        "\n",
        "#             mask_img = np.expand_dims(norm_img, axis=-1)\n",
        "\n",
        "#             return mask_img\n",
        "\n",
        "#         except Exception as e:\n",
        "#             print(\"Error in loadMaskIMG\")"
      ]
    },
    {
      "cell_type": "code",
      "execution_count": 15,
      "metadata": {
        "id": "bawafpnnBX36"
      },
      "outputs": [],
      "source": [
        "def tfParse(x_path, y_path):\n",
        "        try:\n",
        "            def _parse(x_path, y_path):\n",
        "                x = loadFullImg(path=x_path, dsize=target_size)\n",
        "                y = loadMaskImg(path=y_path, dsize=target_size)\n",
        "                return x,y\n",
        "\n",
        "            x, y = tf.numpy_function(_parse, [x_path, y_path], [tf.float64, tf.float64])\n",
        "\n",
        "            x.set_shape([target_size[0], target_size[0], 3])\n",
        "            y.set_shape([target_size[0], target_size[1], 1])\n",
        "\n",
        "            return x,y\n",
        "            \n",
        "\n",
        "        except Exception as e:\n",
        "            print(f\"Error in tfParse {e}\")"
      ]
    },
    {
      "cell_type": "code",
      "execution_count": 16,
      "metadata": {
        "id": "tkHDbxVGBX36"
      },
      "outputs": [],
      "source": [
        "def imgAugment(x_img, y_img):\n",
        "        try:\n",
        "            if tf.random.uniform(()) > 0.5:\n",
        "                x_img = tf.image.flip_up_down(image=x_img)\n",
        "                y_img = tf.image.flip_up_down(image=y_img)\n",
        "\n",
        "            x_img = tf.image.random_brightness(\n",
        "                image=x_img, max_delta=brightness_delta\n",
        "            )\n",
        "\n",
        "            return x_img, y_img\n",
        "\n",
        "        except:\n",
        "            print(\"Erro in imgAugument\")"
      ]
    },
    {
      "cell_type": "code",
      "execution_count": 17,
      "metadata": {
        "id": "Mge3IsdLBX36"
      },
      "outputs": [],
      "source": [
        " def makeTFDataset( shuffle, augument, x_paths_list, y_paths_list, batch_size):\n",
        "        try:\n",
        "            ds = tf.data.Dataset.from_tensor_slices((x_paths_list, y_paths_list))\n",
        "            \n",
        "            if shuffle:\n",
        "                ds = ds.shuffle(buffer_size=len(x_paths_list))\n",
        "\n",
        "            ds = ds.map(tfParse, num_parallel_calls=tf.data.experimental.AUTOTUNE)\n",
        "            \n",
        "            if augument:\n",
        "                ds = ds.map(imgAugment, num_parallel_calls=tf.data.experimental.AUTOTUNE)\n",
        "\n",
        "            ds = ds.batch(batch_size=batch_size, drop_remainder=False)\n",
        "            ds = ds.repeat()\n",
        "\n",
        "            return ds\n",
        "\n",
        "        except Exception as e:\n",
        "            print(f\"Error in make TFDataset {e}\")"
      ]
    },
    {
      "cell_type": "code",
      "execution_count": 18,
      "metadata": {
        "id": "9RGLX5MnBX37"
      },
      "outputs": [],
      "source": [
        "def buildEncoder():\n",
        "        try:\n",
        "            VGG16_ = keras.applications.VGG16(\n",
        "                include_top=False, weights=\"imagenet\", input_shape=encoder_input_shape,\n",
        "            )\n",
        "\n",
        "            layer_names = [layer.name for layer in VGG16_.layers]\n",
        "\n",
        "            all_layer_outputs = [\n",
        "               VGG16_.get_layer(layer).output for layer in layer_names\n",
        "            ]\n",
        "\n",
        "            encoder_model = keras.Model(inputs=VGG16_.input, outputs=all_layer_outputs)\n",
        "\n",
        "            encoder_model.trainable = False\n",
        "\n",
        "            return encoder_model \n",
        "        \n",
        "        except Exception as e:\n",
        "            print(\"Error in buildEncoder\")"
      ]
    },
    {
      "cell_type": "code",
      "execution_count": 19,
      "metadata": {
        "id": "eNHrykF9BX37"
      },
      "outputs": [],
      "source": [
        "def buildUnet():\n",
        "        try:\n",
        "            unet_input = keras.Input(\n",
        "                shape= encoder_input_shape, name=\"unet_input_layer\"\n",
        "            )\n",
        "\n",
        "            x = unet_input\n",
        "            encoder_model = buildEncoder()\n",
        "            all_encoder_layer_outputs = encoder_model(x)\n",
        "\n",
        "            encoded_img = all_encoder_layer_outputs[-1]\n",
        "\n",
        "            #skip_outputs = [all_encoder_layer_outputs[i] for i in [2, 5,9, 13, 17]]\n",
        "            skip_outputs = [all_encoder_layer_outputs[i] for i in [2, 4, 6, 12, 15]]\n",
        "            \n",
        "            decoder_filters = int(encoded_img.shape[-1])\n",
        "\n",
        "            # ------------------------------------------\n",
        "            # Block 5: 7x7 -> 14x14\n",
        "            #  - `encoded_img` as initial input for decoder\n",
        "            x = keras.layers.Conv2DTranspose(\n",
        "                name=\"block5_up_convT\",\n",
        "                filters=decoder_filters,\n",
        "                kernel_size=decoder_kernel_size,\n",
        "                strides=decoder_strides,\n",
        "                padding=decoder_padding,\n",
        "                activation=decoder_activation,\n",
        "            )(encoded_img)\n",
        "\n",
        "            x = keras.layers.Concatenate(name=\"block5_up_concat\", axis=-1)(\n",
        "                [x, skip_outputs[4]]\n",
        "            )\n",
        "\n",
        "            x = keras.layers.Dropout(\n",
        "                name=\"block5_up_dropout\", rate=dropout, seed=seed\n",
        "            )(x, training=dropout_training)\n",
        "\n",
        "            x = keras.layers.Conv2D(\n",
        "                name=\"block5_up_conv3\",\n",
        "                filters=decoder_filters,\n",
        "                kernel_size=decoder_kernel_size,\n",
        "                strides=(1, 1),\n",
        "                padding=\"same\",\n",
        "                kernel_regularizer=l2(0.01),\n",
        "                bias_regularizer=l2(0.01),\n",
        "                activation=\"relu\",\n",
        "            )(x)\n",
        "            x = keras.layers.Conv2D(\n",
        "                name=\"block5_up_conv2\",\n",
        "                filters=decoder_filters,\n",
        "                kernel_size=decoder_kernel_size,\n",
        "                strides=(1, 1),\n",
        "                padding=\"same\",\n",
        "                kernel_regularizer=l2(0.01),\n",
        "                bias_regularizer=l2(0.01),\n",
        "                activation=\"relu\",\n",
        "            )(x)\n",
        "            x = keras.layers.Conv2D(\n",
        "                name=\"block5_up_conv1\",\n",
        "                filters=decoder_filters,\n",
        "                kernel_size=decoder_kernel_size,\n",
        "                strides=(1, 1),\n",
        "                padding=\"same\",\n",
        "                activation=\"relu\",\n",
        "            )(x)\n",
        "\n",
        "            # ------------------------------------------\n",
        "            # Block 4: 14x14 -> 28x28\n",
        "            x = keras.layers.Conv2DTranspose(\n",
        "                name=\"block4_up_convT\",\n",
        "                filters=decoder_filters,\n",
        "                kernel_size=decoder_kernel_size,\n",
        "                strides=decoder_strides,\n",
        "                padding=decoder_padding,\n",
        "                activation=decoder_activation,\n",
        "            )(x)\n",
        "\n",
        "            x = keras.layers.Concatenate(name=\"block4_up_concat\", axis=-1)(\n",
        "                [x, skip_outputs[3]]\n",
        "            )\n",
        "\n",
        "            x = keras.layers.Dropout(\n",
        "                name=\"block4_up_dropout\", rate=dropout, seed=seed\n",
        "            )(x, training=dropout_training)\n",
        "\n",
        "            x = keras.layers.Conv2D(\n",
        "                name=\"block4_up_conv3\",\n",
        "                filters=decoder_filters,\n",
        "                kernel_size=decoder_kernel_size,\n",
        "                strides=(1, 1),\n",
        "                padding=\"same\",\n",
        "                kernel_regularizer=l2(0.01),\n",
        "                bias_regularizer=l2(0.01),\n",
        "                activation=\"relu\",\n",
        "            )(x)\n",
        "            x = keras.layers.Conv2D(\n",
        "                name=\"block4_up_conv2\",\n",
        "                filters=decoder_filters,\n",
        "                kernel_size=decoder_kernel_size,\n",
        "                strides=(1, 1),\n",
        "                padding=\"same\",\n",
        "                kernel_regularizer=l2(0.01),\n",
        "                bias_regularizer=l2(0.01),\n",
        "                activation=\"relu\",\n",
        "            )(x)\n",
        "            x = keras.layers.Conv2D(\n",
        "                name=\"block4_up_conv1\",\n",
        "                filters=decoder_filters,\n",
        "                kernel_size=decoder_kernel_size,\n",
        "                strides=(1, 1),\n",
        "                padding=\"same\",\n",
        "                kernel_regularizer=l2(0.01),\n",
        "                bias_regularizer=l2(0.01),\n",
        "                activation=\"relu\",\n",
        "            )(x)\n",
        "\n",
        "            # ------------------------------------------\n",
        "            # Block 3: 28x28 -> 56x56\n",
        "            x = keras.layers.Conv2DTranspose(\n",
        "                name=\"block3_up_convT\",\n",
        "                filters=int(decoder_filters / 2),\n",
        "                kernel_size=decoder_kernel_size,\n",
        "                strides=decoder_strides,\n",
        "                padding=decoder_padding,\n",
        "                activation=decoder_activation,\n",
        "            )(x)\n",
        "\n",
        "            x = keras.layers.Concatenate(name=\"block3_up_concat\", axis=-1)(\n",
        "                [x, skip_outputs[2]]\n",
        "            )\n",
        "\n",
        "            x = keras.layers.Dropout(\n",
        "                name=\"block3_up_dropout\", rate=dropout, seed=seed\n",
        "            )(x, training=dropout_training)\n",
        "\n",
        "            x = keras.layers.Conv2D(\n",
        "                name=\"block3_up_conv3\",\n",
        "                filters=int(decoder_filters / 2),\n",
        "                kernel_size=decoder_kernel_size,\n",
        "                strides=(1, 1),\n",
        "                padding=\"same\",\n",
        "                activation=\"relu\",\n",
        "            )(x)\n",
        "            x = keras.layers.Conv2D(\n",
        "                name=\"block3_up_conv2\",\n",
        "                filters=int(decoder_filters / 2),\n",
        "                kernel_size=decoder_kernel_size,\n",
        "                strides=(1, 1),\n",
        "                padding=\"same\",\n",
        "                activation=\"relu\",\n",
        "            )(x)\n",
        "            x = keras.layers.Conv2D(\n",
        "                name=\"block3_up_conv1\",\n",
        "                filters=int(decoder_filters / 2),\n",
        "                kernel_size=decoder_kernel_size,\n",
        "                strides=(1, 1),\n",
        "                padding=\"same\",\n",
        "                activation=\"relu\",\n",
        "            )(x)\n",
        "\n",
        "            # ------------------------------------------\n",
        "            # Block 2: 56x56 -> 112x112\n",
        "            x = keras.layers.Conv2DTranspose(\n",
        "                name=\"block2_up_convT\",\n",
        "                filters=int(decoder_filters / 4),\n",
        "                kernel_size=decoder_kernel_size,\n",
        "                strides=decoder_strides,\n",
        "                padding=decoder_padding,\n",
        "                activation=decoder_activation,\n",
        "            )(x)\n",
        "\n",
        "            x = keras.layers.Concatenate(name=\"block2_up_concat\", axis=-1)(\n",
        "                [x, skip_outputs[1]]\n",
        "            )\n",
        "\n",
        "            x = keras.layers.Dropout(\n",
        "                name=\"block2_up_dropout\", rate=dropout, seed=seed\n",
        "            )(x, training=dropout_training)\n",
        "\n",
        "            x = keras.layers.Conv2D(\n",
        "                name=\"block2_up_conv2\",\n",
        "                filters=int(decoder_filters / 4),\n",
        "                kernel_size=decoder_kernel_size,\n",
        "                strides=(1, 1),\n",
        "                padding=\"same\",\n",
        "                activation=\"relu\",\n",
        "            )(x)\n",
        "            x = keras.layers.Conv2D(\n",
        "                name=\"block2_up_conv1\",\n",
        "                filters=int(decoder_filters / 4),\n",
        "                kernel_size=decoder_kernel_size,\n",
        "                strides=(1, 1),\n",
        "                padding=\"same\",\n",
        "                activation=\"relu\",\n",
        "            )(x)\n",
        "\n",
        "            # ------------------------------------------\n",
        "            # Block 1: 112x112 -> 224x224\n",
        "            x = keras.layers.Conv2DTranspose(\n",
        "                name=\"block1_up_convT\",\n",
        "                filters=int(decoder_filters / 8),\n",
        "                kernel_size=decoder_kernel_size,\n",
        "                strides=decoder_strides,\n",
        "                padding=decoder_padding,\n",
        "                activation=decoder_activation,\n",
        "            )(x)\n",
        "\n",
        "            x = keras.layers.Concatenate(name=\"block1_up_concat\", axis=-1)(\n",
        "                [x, skip_outputs[0]]\n",
        "            )\n",
        "\n",
        "            x = keras.layers.Dropout(\n",
        "                name=\"block1_up_dropout\", rate=dropout, seed=seed\n",
        "            )(x, training=dropout_training)\n",
        "\n",
        "            x = keras.layers.Conv2D(\n",
        "                name=\"block1_up_conv2\",\n",
        "                filters=int(decoder_filters / 8),\n",
        "                kernel_size=decoder_kernel_size,\n",
        "                strides=(1, 1),\n",
        "                padding=\"same\",\n",
        "                kernel_regularizer=l2(0.01),\n",
        "                bias_regularizer=l2(0.01),\n",
        "                activation=\"relu\",\n",
        "            )(x)\n",
        "            decoded_img = keras.layers.Conv2D(\n",
        "                name=\"block1_up_conv1\",\n",
        "                filters=int(decoder_filters / 8),\n",
        "                kernel_size=decoder_kernel_size,\n",
        "                strides=(1, 1),\n",
        "                padding=\"same\",\n",
        "                kernel_regularizer=l2(0.01),\n",
        "                bias_regularizer=l2(0.01),\n",
        "                activation=\"relu\",\n",
        "            )(x)\n",
        "\n",
        "            # ------------------------------------------\n",
        "            # Final conv layer\n",
        "            final_img = keras.layers.Conv2D(\n",
        "                name=\"final_up_conv\",\n",
        "                filters=final_layer_filters,\n",
        "                kernel_size=decoder_kernel_size,\n",
        "                strides=(1, 1),\n",
        "                padding=\"same\",\n",
        "                kernel_regularizer=l2(0.01),\n",
        "                bias_regularizer=l2(0.01),\n",
        "                activation=final_layer_activation,\n",
        "            )(decoded_img)\n",
        "\n",
        "            # ======\n",
        "            #  Unet\n",
        "            # ======\n",
        "\n",
        "            unet = keras.Model(inputs=unet_input, outputs=final_img, name=\"Unet_VGG16\")\n",
        "\n",
        "            return unet\n",
        "        except Exception as e:\n",
        "            print(f\"Error in Build Unet {e}\")"
      ]
    },
    {
      "cell_type": "code",
      "execution_count": 20,
      "metadata": {
        "id": "_sq8aqBYBX38"
      },
      "outputs": [],
      "source": [
        "def iouMetric( y_true, y_pred):\n",
        "        try:\n",
        "            def compute_iou(y_true, y_pred):\n",
        "                intersection = (y_true * y_pred).sum()\n",
        "                union = y_true.sum() + y_pred.sum() - intersection\n",
        "                x = (intersection + 1e-15) / (union + 1e-15)\n",
        "                x = x.astype(np.float32)\n",
        "                return x\n",
        "            \n",
        "            return tf.numpy_function(compute_iou, [y_true, y_pred], tf.float32)\n",
        "            \n",
        "        except Exception as e:\n",
        "            print(f\"Error in iouMetric {E}\")"
      ]
    },
    {
      "cell_type": "code",
      "execution_count": 21,
      "metadata": {
        "id": "xCkCusvKBCuz"
      },
      "outputs": [],
      "source": [
        "def dice_coef(y_true, y_pred):\n",
        "        try:\n",
        "            # def dice(true, pred, k = 1):\n",
        "            #     intersection = np.sum(pred[true==k]) * 2.0\n",
        "            #     dice = intersection / (np.sum(pred) + np.sum(true))\n",
        "            #     return dice \n",
        "            # return tf.numpy_function(dice, [y_true, y_pred], tf.double)\n",
        "            \n",
        "            y_true_f = tf.reshape(tf.dtypes.cast(y_true, tf.float32), [-1])\n",
        "            y_pred_f = tf.reshape(tf.dtypes.cast(y_pred, tf.float32), [-1])\n",
        "            intersection = tf.reduce_sum(y_true_f * y_pred_f)\n",
        "            return (2. * intersection + 1.) / (tf.reduce_sum(y_true_f) + tf.reduce_sum(y_pred_f) + 1.)\n",
        "        except Exception as e:\n",
        "            print(f\"Error in dice_coef {e}\")"
      ]
    },
    {
      "cell_type": "code",
      "execution_count": 22,
      "metadata": {
        "id": "Egz73rd9BX39"
      },
      "outputs": [],
      "source": [
        "def compile_( model):\n",
        "        try:\n",
        "            loss = keras.losses.BinaryCrossentropy(from_logits=False)\n",
        "            optimizer = keras.optimizers.Adam(learning_rate=learning_rate)\n",
        "            metrics = [\"accuracy\", iouMetric, dice_coef]\n",
        "            model.compile(loss=loss, optimizer=optimizer, metrics=metrics)\n",
        "\n",
        "            return model\n",
        "        except Exception as e:\n",
        "            print(f\"Failed at compile_ {e}\")"
      ]
    },
    {
      "cell_type": "code",
      "execution_count": 23,
      "metadata": {
        "id": "jNa9nYOcCV15"
      },
      "outputs": [],
      "source": [
        " test_x, test_y = datasetPaths(\n",
        "            full_img_dir=test_full_img_dir,\n",
        "            mask_img_dir=test_mask_img_dir\n",
        "        )\n",
        "        "
      ]
    },
    {
      "cell_type": "code",
      "execution_count": 24,
      "metadata": {
        "id": "wDDyk7GYCWU3"
      },
      "outputs": [],
      "source": [
        "# def evaluate(path,target_size):\n",
        "#   full_img_lst = []\n",
        "#   print(len(path))\n",
        "#   for imgpath in path:\n",
        "#     full_img = loadFullImg(imgpath, target_size)\n",
        "#     full_img_lst.append(full_img)\n",
        "#     #img = cv2.imread(imgpath, cv2.IMREAD_GRAYSCALE)\n",
        "#     #print(full_img.shape)\n",
        "#   return full_img_lst\n",
        "  \n",
        "# full_img_lst = evaluate(test_x, target_size)"
      ]
    },
    {
      "cell_type": "code",
      "execution_count": 25,
      "metadata": {
        "id": "pbuTQcYXCbvv"
      },
      "outputs": [],
      "source": [
        "# def evaluate_mask(path,target_size):\n",
        "#   mask_img_lst = []\n",
        "#   print(len(path))\n",
        "#   for imgpath in path:\n",
        "#     mask_img = loadMaskImg(imgpath, target_size)\n",
        "#     mask_img_lst.append(mask_img)\n",
        "#     #img = cv2.imread(imgpath, cv2.IMREAD_GRAYSCALE)\n",
        "#     #print(full_img.shape)\n",
        "#   return mask_img_lst\n",
        "  \n",
        "# mask_img_lst = evaluate(test_y, target_size)"
      ]
    },
    {
      "cell_type": "code",
      "execution_count": 26,
      "metadata": {
        "id": "_WCc1IIBIety"
      },
      "outputs": [],
      "source": [
        "# img = cv2.imread(test_x[0], cv2.IMREAD_GRAYSCALE)\n",
        "# print(img)"
      ]
    },
    {
      "cell_type": "code",
      "execution_count": 27,
      "metadata": {
        "id": "VeQ8YyfqHgYW"
      },
      "outputs": [],
      "source": [
        "# actual_x, actual_y =tfParse(test_x, test_y)"
      ]
    },
    {
      "cell_type": "code",
      "execution_count": 28,
      "metadata": {
        "id": "c1hGy4M6FyuV"
      },
      "outputs": [],
      "source": [
        "# full_img_lst[0]"
      ]
    },
    {
      "cell_type": "code",
      "execution_count": 29,
      "metadata": {
        "id": "agKhRncmBX39",
        "colab": {
          "base_uri": "https://localhost:8080/"
        },
        "outputId": "42d64d40-3a6a-4114-dc86-8bbb41e7d40d"
      },
      "outputs": [
        {
          "output_type": "stream",
          "name": "stdout",
          "text": [
            "Downloading data from https://storage.googleapis.com/tensorflow/keras-applications/vgg16/vgg16_weights_tf_dim_ordering_tf_kernels_notop.h5\n",
            "58892288/58889256 [==============================] - 0s 0us/step\n",
            "58900480/58889256 [==============================] - 0s 0us/step\n",
            "\n",
            "Size of training set = 1231\n",
            "Size of test set = 361\n",
            "Number of epochs = 80\n",
            "Batch size = 10\n",
            "Number of training steps per epoch = 124\n",
            "Number of test steps per epoch = 37\n",
            "\n",
            "Epoch 1/80\n",
            "124/124 [==============================] - ETA: 0s - loss: 15.3778 - accuracy: 0.9832 - iouMetric: 0.0017 - dice_coef: 0.0037"
          ]
        },
        {
          "output_type": "stream",
          "name": "stderr",
          "text": [
            "WARNING:tensorflow:Can save best model only with val_loss available, skipping.\n"
          ]
        },
        {
          "output_type": "stream",
          "name": "stdout",
          "text": [
            "\n",
            "Epoch 1: saving model to model.weights.best.hdf5\n",
            "124/124 [==============================] - 379s 3s/step - loss: 15.3778 - accuracy: 0.9832 - iouMetric: 0.0017 - dice_coef: 0.0037\n",
            "Epoch 2/80\n",
            "124/124 [==============================] - ETA: 0s - loss: 3.1659 - accuracy: 0.9959 - iouMetric: 0.0238 - dice_coef: 0.0464"
          ]
        },
        {
          "output_type": "stream",
          "name": "stderr",
          "text": [
            "WARNING:tensorflow:Can save best model only with val_loss available, skipping.\n"
          ]
        },
        {
          "output_type": "stream",
          "name": "stdout",
          "text": [
            "\n",
            "Epoch 2: saving model to model.weights.best.hdf5\n",
            "124/124 [==============================] - 223s 2s/step - loss: 3.1659 - accuracy: 0.9959 - iouMetric: 0.0238 - dice_coef: 0.0464\n",
            "Epoch 3/80\n",
            "124/124 [==============================] - ETA: 0s - loss: 1.0728 - accuracy: 0.9959 - iouMetric: 0.0503 - dice_coef: 0.0954"
          ]
        },
        {
          "output_type": "stream",
          "name": "stderr",
          "text": [
            "WARNING:tensorflow:Can save best model only with val_loss available, skipping.\n"
          ]
        },
        {
          "output_type": "stream",
          "name": "stdout",
          "text": [
            "\n",
            "Epoch 3: saving model to model.weights.best.hdf5\n",
            "124/124 [==============================] - 224s 2s/step - loss: 1.0728 - accuracy: 0.9959 - iouMetric: 0.0503 - dice_coef: 0.0954\n",
            "Epoch 4/80\n",
            "123/124 [============================>.] - ETA: 1s - loss: 0.6811 - accuracy: 0.9960 - iouMetric: 0.0740 - dice_coef: 0.1372"
          ]
        },
        {
          "output_type": "stream",
          "name": "stderr",
          "text": [
            "WARNING:tensorflow:Can save best model only with val_loss available, skipping.\n"
          ]
        },
        {
          "output_type": "stream",
          "name": "stdout",
          "text": [
            "\n",
            "Epoch 4: saving model to model.weights.best.hdf5\n",
            "124/124 [==============================] - 224s 2s/step - loss: 0.6810 - accuracy: 0.9960 - iouMetric: 0.0744 - dice_coef: 0.1379\n",
            "Epoch 5/80\n",
            "123/124 [============================>.] - ETA: 1s - loss: 0.5302 - accuracy: 0.9960 - iouMetric: 0.0876 - dice_coef: 0.1599"
          ]
        },
        {
          "output_type": "stream",
          "name": "stderr",
          "text": [
            "WARNING:tensorflow:Can save best model only with val_loss available, skipping.\n"
          ]
        },
        {
          "output_type": "stream",
          "name": "stdout",
          "text": [
            "\n",
            "Epoch 5: saving model to model.weights.best.hdf5\n",
            "124/124 [==============================] - 224s 2s/step - loss: 0.5302 - accuracy: 0.9960 - iouMetric: 0.0870 - dice_coef: 0.1589\n",
            "Epoch 6/80\n",
            "123/124 [============================>.] - ETA: 1s - loss: 0.4307 - accuracy: 0.9961 - iouMetric: 0.0861 - dice_coef: 0.1573"
          ]
        },
        {
          "output_type": "stream",
          "name": "stderr",
          "text": [
            "WARNING:tensorflow:Can save best model only with val_loss available, skipping.\n"
          ]
        },
        {
          "output_type": "stream",
          "name": "stdout",
          "text": [
            "\n",
            "Epoch 6: saving model to model.weights.best.hdf5\n",
            "124/124 [==============================] - 222s 2s/step - loss: 0.4307 - accuracy: 0.9961 - iouMetric: 0.0856 - dice_coef: 0.1563\n",
            "Epoch 7/80\n",
            "124/124 [==============================] - ETA: 0s - loss: 0.3559 - accuracy: 0.9962 - iouMetric: 0.1038 - dice_coef: 0.1867"
          ]
        },
        {
          "output_type": "stream",
          "name": "stderr",
          "text": [
            "WARNING:tensorflow:Can save best model only with val_loss available, skipping.\n"
          ]
        },
        {
          "output_type": "stream",
          "name": "stdout",
          "text": [
            "\n",
            "Epoch 7: saving model to model.weights.best.hdf5\n",
            "124/124 [==============================] - 225s 2s/step - loss: 0.3559 - accuracy: 0.9962 - iouMetric: 0.1038 - dice_coef: 0.1867\n",
            "Epoch 8/80\n",
            "123/124 [============================>.] - ETA: 1s - loss: 0.2988 - accuracy: 0.9963 - iouMetric: 0.1112 - dice_coef: 0.1971"
          ]
        },
        {
          "output_type": "stream",
          "name": "stderr",
          "text": [
            "WARNING:tensorflow:Can save best model only with val_loss available, skipping.\n"
          ]
        },
        {
          "output_type": "stream",
          "name": "stdout",
          "text": [
            "\n",
            "Epoch 8: saving model to model.weights.best.hdf5\n",
            "124/124 [==============================] - 225s 2s/step - loss: 0.2988 - accuracy: 0.9963 - iouMetric: 0.1133 - dice_coef: 0.2000\n",
            "Epoch 9/80\n",
            "123/124 [============================>.] - ETA: 1s - loss: 0.2537 - accuracy: 0.9964 - iouMetric: 0.1216 - dice_coef: 0.2140"
          ]
        },
        {
          "output_type": "stream",
          "name": "stderr",
          "text": [
            "WARNING:tensorflow:Can save best model only with val_loss available, skipping.\n"
          ]
        },
        {
          "output_type": "stream",
          "name": "stdout",
          "text": [
            "\n",
            "Epoch 9: saving model to model.weights.best.hdf5\n",
            "124/124 [==============================] - 223s 2s/step - loss: 0.2537 - accuracy: 0.9964 - iouMetric: 0.1210 - dice_coef: 0.2131\n",
            "Epoch 10/80\n",
            "123/124 [============================>.] - ETA: 1s - loss: 0.2180 - accuracy: 0.9963 - iouMetric: 0.1170 - dice_coef: 0.2072"
          ]
        },
        {
          "output_type": "stream",
          "name": "stderr",
          "text": [
            "WARNING:tensorflow:Can save best model only with val_loss available, skipping.\n"
          ]
        },
        {
          "output_type": "stream",
          "name": "stdout",
          "text": [
            "\n",
            "Epoch 10: saving model to model.weights.best.hdf5\n",
            "124/124 [==============================] - 224s 2s/step - loss: 0.2179 - accuracy: 0.9963 - iouMetric: 0.1175 - dice_coef: 0.2080\n",
            "Epoch 11/80\n",
            "123/124 [============================>.] - ETA: 1s - loss: 0.1880 - accuracy: 0.9964 - iouMetric: 0.1277 - dice_coef: 0.2233"
          ]
        },
        {
          "output_type": "stream",
          "name": "stderr",
          "text": [
            "WARNING:tensorflow:Can save best model only with val_loss available, skipping.\n"
          ]
        },
        {
          "output_type": "stream",
          "name": "stdout",
          "text": [
            "\n",
            "Epoch 11: saving model to model.weights.best.hdf5\n",
            "124/124 [==============================] - 224s 2s/step - loss: 0.1880 - accuracy: 0.9964 - iouMetric: 0.1285 - dice_coef: 0.2245\n",
            "Epoch 12/80\n",
            "123/124 [============================>.] - ETA: 1s - loss: 0.1633 - accuracy: 0.9965 - iouMetric: 0.1390 - dice_coef: 0.2410"
          ]
        },
        {
          "output_type": "stream",
          "name": "stderr",
          "text": [
            "WARNING:tensorflow:Can save best model only with val_loss available, skipping.\n"
          ]
        },
        {
          "output_type": "stream",
          "name": "stdout",
          "text": [
            "\n",
            "Epoch 12: saving model to model.weights.best.hdf5\n",
            "124/124 [==============================] - 225s 2s/step - loss: 0.1634 - accuracy: 0.9965 - iouMetric: 0.1380 - dice_coef: 0.2393\n",
            "Epoch 13/80\n",
            "123/124 [============================>.] - ETA: 1s - loss: 0.1430 - accuracy: 0.9964 - iouMetric: 0.1287 - dice_coef: 0.2253"
          ]
        },
        {
          "output_type": "stream",
          "name": "stderr",
          "text": [
            "WARNING:tensorflow:Can save best model only with val_loss available, skipping.\n"
          ]
        },
        {
          "output_type": "stream",
          "name": "stdout",
          "text": [
            "\n",
            "Epoch 13: saving model to model.weights.best.hdf5\n",
            "124/124 [==============================] - 224s 2s/step - loss: 0.1430 - accuracy: 0.9964 - iouMetric: 0.1286 - dice_coef: 0.2252\n",
            "Epoch 14/80\n",
            "123/124 [============================>.] - ETA: 1s - loss: 0.1253 - accuracy: 0.9965 - iouMetric: 0.1378 - dice_coef: 0.2389"
          ]
        },
        {
          "output_type": "stream",
          "name": "stderr",
          "text": [
            "WARNING:tensorflow:Can save best model only with val_loss available, skipping.\n"
          ]
        },
        {
          "output_type": "stream",
          "name": "stdout",
          "text": [
            "\n",
            "Epoch 14: saving model to model.weights.best.hdf5\n",
            "124/124 [==============================] - 227s 2s/step - loss: 0.1253 - accuracy: 0.9965 - iouMetric: 0.1373 - dice_coef: 0.2381\n",
            "Epoch 15/80\n",
            "123/124 [============================>.] - ETA: 1s - loss: 0.1104 - accuracy: 0.9965 - iouMetric: 0.1441 - dice_coef: 0.2486"
          ]
        },
        {
          "output_type": "stream",
          "name": "stderr",
          "text": [
            "WARNING:tensorflow:Can save best model only with val_loss available, skipping.\n"
          ]
        },
        {
          "output_type": "stream",
          "name": "stdout",
          "text": [
            "\n",
            "Epoch 15: saving model to model.weights.best.hdf5\n",
            "124/124 [==============================] - 226s 2s/step - loss: 0.1104 - accuracy: 0.9965 - iouMetric: 0.1436 - dice_coef: 0.2478\n",
            "Epoch 16/80\n",
            "123/124 [============================>.] - ETA: 1s - loss: 0.0976 - accuracy: 0.9966 - iouMetric: 0.1489 - dice_coef: 0.2555"
          ]
        },
        {
          "output_type": "stream",
          "name": "stderr",
          "text": [
            "WARNING:tensorflow:Can save best model only with val_loss available, skipping.\n"
          ]
        },
        {
          "output_type": "stream",
          "name": "stdout",
          "text": [
            "\n",
            "Epoch 16: saving model to model.weights.best.hdf5\n",
            "124/124 [==============================] - 225s 2s/step - loss: 0.0976 - accuracy: 0.9966 - iouMetric: 0.1477 - dice_coef: 0.2535\n",
            "Epoch 17/80\n",
            "124/124 [==============================] - ETA: 0s - loss: 0.0872 - accuracy: 0.9965 - iouMetric: 0.1365 - dice_coef: 0.2369"
          ]
        },
        {
          "output_type": "stream",
          "name": "stderr",
          "text": [
            "WARNING:tensorflow:Can save best model only with val_loss available, skipping.\n"
          ]
        },
        {
          "output_type": "stream",
          "name": "stdout",
          "text": [
            "\n",
            "Epoch 17: saving model to model.weights.best.hdf5\n",
            "124/124 [==============================] - 210s 2s/step - loss: 0.0872 - accuracy: 0.9965 - iouMetric: 0.1365 - dice_coef: 0.2369\n",
            "Epoch 18/80\n",
            "123/124 [============================>.] - ETA: 1s - loss: 0.0773 - accuracy: 0.9965 - iouMetric: 0.1411 - dice_coef: 0.2437"
          ]
        },
        {
          "output_type": "stream",
          "name": "stderr",
          "text": [
            "WARNING:tensorflow:Can save best model only with val_loss available, skipping.\n"
          ]
        },
        {
          "output_type": "stream",
          "name": "stdout",
          "text": [
            "\n",
            "Epoch 18: saving model to model.weights.best.hdf5\n",
            "124/124 [==============================] - 209s 2s/step - loss: 0.0773 - accuracy: 0.9965 - iouMetric: 0.1412 - dice_coef: 0.2439\n",
            "Epoch 19/80\n",
            "123/124 [============================>.] - ETA: 1s - loss: 0.0692 - accuracy: 0.9966 - iouMetric: 0.1517 - dice_coef: 0.2606"
          ]
        },
        {
          "output_type": "stream",
          "name": "stderr",
          "text": [
            "WARNING:tensorflow:Can save best model only with val_loss available, skipping.\n"
          ]
        },
        {
          "output_type": "stream",
          "name": "stdout",
          "text": [
            "\n",
            "Epoch 19: saving model to model.weights.best.hdf5\n",
            "124/124 [==============================] - 210s 2s/step - loss: 0.0691 - accuracy: 0.9966 - iouMetric: 0.1505 - dice_coef: 0.2587\n",
            "Epoch 20/80\n",
            "123/124 [============================>.] - ETA: 1s - loss: 0.0620 - accuracy: 0.9966 - iouMetric: 0.1515 - dice_coef: 0.2597"
          ]
        },
        {
          "output_type": "stream",
          "name": "stderr",
          "text": [
            "WARNING:tensorflow:Can save best model only with val_loss available, skipping.\n"
          ]
        },
        {
          "output_type": "stream",
          "name": "stdout",
          "text": [
            "\n",
            "Epoch 20: saving model to model.weights.best.hdf5\n",
            "124/124 [==============================] - 211s 2s/step - loss: 0.0620 - accuracy: 0.9966 - iouMetric: 0.1506 - dice_coef: 0.2582\n",
            "Epoch 21/80\n",
            "123/124 [============================>.] - ETA: 1s - loss: 0.0558 - accuracy: 0.9966 - iouMetric: 0.1477 - dice_coef: 0.2538"
          ]
        },
        {
          "output_type": "stream",
          "name": "stderr",
          "text": [
            "WARNING:tensorflow:Can save best model only with val_loss available, skipping.\n"
          ]
        },
        {
          "output_type": "stream",
          "name": "stdout",
          "text": [
            "\n",
            "Epoch 21: saving model to model.weights.best.hdf5\n",
            "124/124 [==============================] - 210s 2s/step - loss: 0.0558 - accuracy: 0.9966 - iouMetric: 0.1489 - dice_coef: 0.2555\n",
            "Epoch 22/80\n",
            "123/124 [============================>.] - ETA: 1s - loss: 0.0504 - accuracy: 0.9966 - iouMetric: 0.1563 - dice_coef: 0.2663"
          ]
        },
        {
          "output_type": "stream",
          "name": "stderr",
          "text": [
            "WARNING:tensorflow:Can save best model only with val_loss available, skipping.\n"
          ]
        },
        {
          "output_type": "stream",
          "name": "stdout",
          "text": [
            "\n",
            "Epoch 22: saving model to model.weights.best.hdf5\n",
            "124/124 [==============================] - 212s 2s/step - loss: 0.0504 - accuracy: 0.9966 - iouMetric: 0.1560 - dice_coef: 0.2660\n",
            "Epoch 23/80\n",
            "123/124 [============================>.] - ETA: 1s - loss: 0.0456 - accuracy: 0.9966 - iouMetric: 0.1554 - dice_coef: 0.2645"
          ]
        },
        {
          "output_type": "stream",
          "name": "stderr",
          "text": [
            "WARNING:tensorflow:Can save best model only with val_loss available, skipping.\n"
          ]
        },
        {
          "output_type": "stream",
          "name": "stdout",
          "text": [
            "\n",
            "Epoch 23: saving model to model.weights.best.hdf5\n",
            "124/124 [==============================] - 208s 2s/step - loss: 0.0456 - accuracy: 0.9966 - iouMetric: 0.1541 - dice_coef: 0.2626\n",
            "Epoch 24/80\n",
            "123/124 [============================>.] - ETA: 1s - loss: 0.0416 - accuracy: 0.9966 - iouMetric: 0.1587 - dice_coef: 0.2707"
          ]
        },
        {
          "output_type": "stream",
          "name": "stderr",
          "text": [
            "WARNING:tensorflow:Can save best model only with val_loss available, skipping.\n"
          ]
        },
        {
          "output_type": "stream",
          "name": "stdout",
          "text": [
            "\n",
            "Epoch 24: saving model to model.weights.best.hdf5\n",
            "124/124 [==============================] - 208s 2s/step - loss: 0.0416 - accuracy: 0.9966 - iouMetric: 0.1575 - dice_coef: 0.2686\n",
            "Epoch 25/80\n",
            "123/124 [============================>.] - ETA: 1s - loss: 0.0379 - accuracy: 0.9966 - iouMetric: 0.1538 - dice_coef: 0.2634"
          ]
        },
        {
          "output_type": "stream",
          "name": "stderr",
          "text": [
            "WARNING:tensorflow:Can save best model only with val_loss available, skipping.\n"
          ]
        },
        {
          "output_type": "stream",
          "name": "stdout",
          "text": [
            "\n",
            "Epoch 25: saving model to model.weights.best.hdf5\n",
            "124/124 [==============================] - 210s 2s/step - loss: 0.0379 - accuracy: 0.9966 - iouMetric: 0.1526 - dice_coef: 0.2614\n",
            "Epoch 26/80\n",
            "123/124 [============================>.] - ETA: 1s - loss: 0.0347 - accuracy: 0.9966 - iouMetric: 0.1542 - dice_coef: 0.2638"
          ]
        },
        {
          "output_type": "stream",
          "name": "stderr",
          "text": [
            "WARNING:tensorflow:Can save best model only with val_loss available, skipping.\n"
          ]
        },
        {
          "output_type": "stream",
          "name": "stdout",
          "text": [
            "\n",
            "Epoch 26: saving model to model.weights.best.hdf5\n",
            "124/124 [==============================] - 212s 2s/step - loss: 0.0346 - accuracy: 0.9966 - iouMetric: 0.1541 - dice_coef: 0.2637\n",
            "Epoch 27/80\n",
            "123/124 [============================>.] - ETA: 1s - loss: 0.0320 - accuracy: 0.9965 - iouMetric: 0.1519 - dice_coef: 0.2600"
          ]
        },
        {
          "output_type": "stream",
          "name": "stderr",
          "text": [
            "WARNING:tensorflow:Can save best model only with val_loss available, skipping.\n"
          ]
        },
        {
          "output_type": "stream",
          "name": "stdout",
          "text": [
            "\n",
            "Epoch 27: saving model to model.weights.best.hdf5\n",
            "124/124 [==============================] - 210s 2s/step - loss: 0.0320 - accuracy: 0.9965 - iouMetric: 0.1523 - dice_coef: 0.2606\n",
            "Epoch 28/80\n",
            "124/124 [==============================] - ETA: 0s - loss: 0.0292 - accuracy: 0.9967 - iouMetric: 0.1679 - dice_coef: 0.2843"
          ]
        },
        {
          "output_type": "stream",
          "name": "stderr",
          "text": [
            "WARNING:tensorflow:Can save best model only with val_loss available, skipping.\n"
          ]
        },
        {
          "output_type": "stream",
          "name": "stdout",
          "text": [
            "\n",
            "Epoch 28: saving model to model.weights.best.hdf5\n",
            "124/124 [==============================] - 212s 2s/step - loss: 0.0292 - accuracy: 0.9967 - iouMetric: 0.1679 - dice_coef: 0.2843\n",
            "Epoch 29/80\n",
            "123/124 [============================>.] - ETA: 1s - loss: 0.0272 - accuracy: 0.9967 - iouMetric: 0.1625 - dice_coef: 0.2760"
          ]
        },
        {
          "output_type": "stream",
          "name": "stderr",
          "text": [
            "WARNING:tensorflow:Can save best model only with val_loss available, skipping.\n"
          ]
        },
        {
          "output_type": "stream",
          "name": "stdout",
          "text": [
            "\n",
            "Epoch 29: saving model to model.weights.best.hdf5\n",
            "124/124 [==============================] - 207s 2s/step - loss: 0.0272 - accuracy: 0.9967 - iouMetric: 0.1641 - dice_coef: 0.2780\n",
            "Epoch 30/80\n",
            "124/124 [==============================] - ETA: 0s - loss: 0.0253 - accuracy: 0.9967 - iouMetric: 0.1636 - dice_coef: 0.2762"
          ]
        },
        {
          "output_type": "stream",
          "name": "stderr",
          "text": [
            "WARNING:tensorflow:Can save best model only with val_loss available, skipping.\n"
          ]
        },
        {
          "output_type": "stream",
          "name": "stdout",
          "text": [
            "\n",
            "Epoch 30: saving model to model.weights.best.hdf5\n",
            "124/124 [==============================] - 207s 2s/step - loss: 0.0253 - accuracy: 0.9967 - iouMetric: 0.1636 - dice_coef: 0.2762\n",
            "Epoch 31/80\n",
            "123/124 [============================>.] - ETA: 1s - loss: 0.0235 - accuracy: 0.9967 - iouMetric: 0.1634 - dice_coef: 0.2771"
          ]
        },
        {
          "output_type": "stream",
          "name": "stderr",
          "text": [
            "WARNING:tensorflow:Can save best model only with val_loss available, skipping.\n"
          ]
        },
        {
          "output_type": "stream",
          "name": "stdout",
          "text": [
            "\n",
            "Epoch 31: saving model to model.weights.best.hdf5\n",
            "124/124 [==============================] - 208s 2s/step - loss: 0.0235 - accuracy: 0.9967 - iouMetric: 0.1634 - dice_coef: 0.2772\n",
            "Epoch 32/80\n",
            "123/124 [============================>.] - ETA: 1s - loss: 0.0221 - accuracy: 0.9966 - iouMetric: 0.1664 - dice_coef: 0.2815"
          ]
        },
        {
          "output_type": "stream",
          "name": "stderr",
          "text": [
            "WARNING:tensorflow:Can save best model only with val_loss available, skipping.\n"
          ]
        },
        {
          "output_type": "stream",
          "name": "stdout",
          "text": [
            "\n",
            "Epoch 32: saving model to model.weights.best.hdf5\n",
            "124/124 [==============================] - 206s 2s/step - loss: 0.0221 - accuracy: 0.9966 - iouMetric: 0.1651 - dice_coef: 0.2793\n",
            "Epoch 33/80\n",
            "123/124 [============================>.] - ETA: 1s - loss: 0.0207 - accuracy: 0.9967 - iouMetric: 0.1684 - dice_coef: 0.2835"
          ]
        },
        {
          "output_type": "stream",
          "name": "stderr",
          "text": [
            "WARNING:tensorflow:Can save best model only with val_loss available, skipping.\n"
          ]
        },
        {
          "output_type": "stream",
          "name": "stdout",
          "text": [
            "\n",
            "Epoch 33: saving model to model.weights.best.hdf5\n",
            "124/124 [==============================] - 208s 2s/step - loss: 0.0207 - accuracy: 0.9967 - iouMetric: 0.1691 - dice_coef: 0.2845\n",
            "Epoch 34/80\n",
            "124/124 [==============================] - ETA: 0s - loss: 0.0195 - accuracy: 0.9967 - iouMetric: 0.1662 - dice_coef: 0.2803"
          ]
        },
        {
          "output_type": "stream",
          "name": "stderr",
          "text": [
            "WARNING:tensorflow:Can save best model only with val_loss available, skipping.\n"
          ]
        },
        {
          "output_type": "stream",
          "name": "stdout",
          "text": [
            "\n",
            "Epoch 34: saving model to model.weights.best.hdf5\n",
            "124/124 [==============================] - 212s 2s/step - loss: 0.0195 - accuracy: 0.9967 - iouMetric: 0.1662 - dice_coef: 0.2803\n",
            "Epoch 35/80\n",
            "123/124 [============================>.] - ETA: 1s - loss: 0.0185 - accuracy: 0.9967 - iouMetric: 0.1686 - dice_coef: 0.2842"
          ]
        },
        {
          "output_type": "stream",
          "name": "stderr",
          "text": [
            "WARNING:tensorflow:Can save best model only with val_loss available, skipping.\n"
          ]
        },
        {
          "output_type": "stream",
          "name": "stdout",
          "text": [
            "\n",
            "Epoch 35: saving model to model.weights.best.hdf5\n",
            "124/124 [==============================] - 214s 2s/step - loss: 0.0185 - accuracy: 0.9967 - iouMetric: 0.1689 - dice_coef: 0.2848\n",
            "Epoch 36/80\n",
            "123/124 [============================>.] - ETA: 1s - loss: 0.0175 - accuracy: 0.9967 - iouMetric: 0.1716 - dice_coef: 0.2889"
          ]
        },
        {
          "output_type": "stream",
          "name": "stderr",
          "text": [
            "WARNING:tensorflow:Can save best model only with val_loss available, skipping.\n"
          ]
        },
        {
          "output_type": "stream",
          "name": "stdout",
          "text": [
            "\n",
            "Epoch 36: saving model to model.weights.best.hdf5\n",
            "124/124 [==============================] - 212s 2s/step - loss: 0.0175 - accuracy: 0.9967 - iouMetric: 0.1703 - dice_coef: 0.2868\n",
            "Epoch 37/80\n",
            "123/124 [============================>.] - ETA: 1s - loss: 0.0167 - accuracy: 0.9967 - iouMetric: 0.1715 - dice_coef: 0.2882"
          ]
        },
        {
          "output_type": "stream",
          "name": "stderr",
          "text": [
            "WARNING:tensorflow:Can save best model only with val_loss available, skipping.\n"
          ]
        },
        {
          "output_type": "stream",
          "name": "stdout",
          "text": [
            "\n",
            "Epoch 37: saving model to model.weights.best.hdf5\n",
            "124/124 [==============================] - 210s 2s/step - loss: 0.0167 - accuracy: 0.9967 - iouMetric: 0.1705 - dice_coef: 0.2866\n",
            "Epoch 38/80\n",
            "123/124 [============================>.] - ETA: 1s - loss: 0.0158 - accuracy: 0.9967 - iouMetric: 0.1789 - dice_coef: 0.2991"
          ]
        },
        {
          "output_type": "stream",
          "name": "stderr",
          "text": [
            "WARNING:tensorflow:Can save best model only with val_loss available, skipping.\n"
          ]
        },
        {
          "output_type": "stream",
          "name": "stdout",
          "text": [
            "\n",
            "Epoch 38: saving model to model.weights.best.hdf5\n",
            "124/124 [==============================] - 211s 2s/step - loss: 0.0158 - accuracy: 0.9967 - iouMetric: 0.1775 - dice_coef: 0.2968\n",
            "Epoch 39/80\n",
            "123/124 [============================>.] - ETA: 1s - loss: 0.0155 - accuracy: 0.9967 - iouMetric: 0.1719 - dice_coef: 0.2896"
          ]
        },
        {
          "output_type": "stream",
          "name": "stderr",
          "text": [
            "WARNING:tensorflow:Can save best model only with val_loss available, skipping.\n"
          ]
        },
        {
          "output_type": "stream",
          "name": "stdout",
          "text": [
            "\n",
            "Epoch 39: saving model to model.weights.best.hdf5\n",
            "124/124 [==============================] - 209s 2s/step - loss: 0.0155 - accuracy: 0.9967 - iouMetric: 0.1712 - dice_coef: 0.2885\n",
            "Epoch 40/80\n",
            "123/124 [============================>.] - ETA: 1s - loss: 0.0149 - accuracy: 0.9967 - iouMetric: 0.1733 - dice_coef: 0.2918"
          ]
        },
        {
          "output_type": "stream",
          "name": "stderr",
          "text": [
            "WARNING:tensorflow:Can save best model only with val_loss available, skipping.\n"
          ]
        },
        {
          "output_type": "stream",
          "name": "stdout",
          "text": [
            "\n",
            "Epoch 40: saving model to model.weights.best.hdf5\n",
            "124/124 [==============================] - 207s 2s/step - loss: 0.0149 - accuracy: 0.9967 - iouMetric: 0.1745 - dice_coef: 0.2933\n",
            "Epoch 41/80\n",
            "123/124 [============================>.] - ETA: 1s - loss: 0.0142 - accuracy: 0.9967 - iouMetric: 0.1785 - dice_coef: 0.2990"
          ]
        },
        {
          "output_type": "stream",
          "name": "stderr",
          "text": [
            "WARNING:tensorflow:Can save best model only with val_loss available, skipping.\n"
          ]
        },
        {
          "output_type": "stream",
          "name": "stdout",
          "text": [
            "\n",
            "Epoch 41: saving model to model.weights.best.hdf5\n",
            "124/124 [==============================] - 212s 2s/step - loss: 0.0142 - accuracy: 0.9967 - iouMetric: 0.1774 - dice_coef: 0.2973\n",
            "Epoch 42/80\n",
            "123/124 [============================>.] - ETA: 1s - loss: 0.0138 - accuracy: 0.9968 - iouMetric: 0.1861 - dice_coef: 0.3092"
          ]
        },
        {
          "output_type": "stream",
          "name": "stderr",
          "text": [
            "WARNING:tensorflow:Can save best model only with val_loss available, skipping.\n"
          ]
        },
        {
          "output_type": "stream",
          "name": "stdout",
          "text": [
            "\n",
            "Epoch 42: saving model to model.weights.best.hdf5\n",
            "124/124 [==============================] - 209s 2s/step - loss: 0.0138 - accuracy: 0.9968 - iouMetric: 0.1847 - dice_coef: 0.3069\n",
            "Epoch 43/80\n",
            "124/124 [==============================] - ETA: 0s - loss: 0.0137 - accuracy: 0.9967 - iouMetric: 0.1764 - dice_coef: 0.2950"
          ]
        },
        {
          "output_type": "stream",
          "name": "stderr",
          "text": [
            "WARNING:tensorflow:Can save best model only with val_loss available, skipping.\n"
          ]
        },
        {
          "output_type": "stream",
          "name": "stdout",
          "text": [
            "\n",
            "Epoch 43: saving model to model.weights.best.hdf5\n",
            "124/124 [==============================] - 212s 2s/step - loss: 0.0137 - accuracy: 0.9967 - iouMetric: 0.1764 - dice_coef: 0.2950\n",
            "Epoch 44/80\n",
            "123/124 [============================>.] - ETA: 1s - loss: 0.0133 - accuracy: 0.9968 - iouMetric: 0.1827 - dice_coef: 0.3043"
          ]
        },
        {
          "output_type": "stream",
          "name": "stderr",
          "text": [
            "WARNING:tensorflow:Can save best model only with val_loss available, skipping.\n"
          ]
        },
        {
          "output_type": "stream",
          "name": "stdout",
          "text": [
            "\n",
            "Epoch 44: saving model to model.weights.best.hdf5\n",
            "124/124 [==============================] - 210s 2s/step - loss: 0.0133 - accuracy: 0.9968 - iouMetric: 0.1820 - dice_coef: 0.3032\n",
            "Epoch 45/80\n",
            "123/124 [============================>.] - ETA: 1s - loss: 0.0128 - accuracy: 0.9968 - iouMetric: 0.1819 - dice_coef: 0.3037"
          ]
        },
        {
          "output_type": "stream",
          "name": "stderr",
          "text": [
            "WARNING:tensorflow:Can save best model only with val_loss available, skipping.\n"
          ]
        },
        {
          "output_type": "stream",
          "name": "stdout",
          "text": [
            "\n",
            "Epoch 45: saving model to model.weights.best.hdf5\n",
            "124/124 [==============================] - 212s 2s/step - loss: 0.0128 - accuracy: 0.9968 - iouMetric: 0.1809 - dice_coef: 0.3021\n",
            "Epoch 46/80\n",
            "123/124 [============================>.] - ETA: 1s - loss: 0.0125 - accuracy: 0.9967 - iouMetric: 0.1841 - dice_coef: 0.3069"
          ]
        },
        {
          "output_type": "stream",
          "name": "stderr",
          "text": [
            "WARNING:tensorflow:Can save best model only with val_loss available, skipping.\n"
          ]
        },
        {
          "output_type": "stream",
          "name": "stdout",
          "text": [
            "\n",
            "Epoch 46: saving model to model.weights.best.hdf5\n",
            "124/124 [==============================] - 211s 2s/step - loss: 0.0125 - accuracy: 0.9967 - iouMetric: 0.1838 - dice_coef: 0.3066\n",
            "Epoch 47/80\n",
            "124/124 [==============================] - ETA: 0s - loss: 0.0124 - accuracy: 0.9968 - iouMetric: 0.1864 - dice_coef: 0.3109"
          ]
        },
        {
          "output_type": "stream",
          "name": "stderr",
          "text": [
            "WARNING:tensorflow:Can save best model only with val_loss available, skipping.\n"
          ]
        },
        {
          "output_type": "stream",
          "name": "stdout",
          "text": [
            "\n",
            "Epoch 47: saving model to model.weights.best.hdf5\n",
            "124/124 [==============================] - 212s 2s/step - loss: 0.0124 - accuracy: 0.9968 - iouMetric: 0.1864 - dice_coef: 0.3109\n",
            "Epoch 48/80\n",
            "123/124 [============================>.] - ETA: 1s - loss: 0.0120 - accuracy: 0.9968 - iouMetric: 0.1880 - dice_coef: 0.3123"
          ]
        },
        {
          "output_type": "stream",
          "name": "stderr",
          "text": [
            "WARNING:tensorflow:Can save best model only with val_loss available, skipping.\n"
          ]
        },
        {
          "output_type": "stream",
          "name": "stdout",
          "text": [
            "\n",
            "Epoch 48: saving model to model.weights.best.hdf5\n",
            "124/124 [==============================] - 212s 2s/step - loss: 0.0120 - accuracy: 0.9968 - iouMetric: 0.1871 - dice_coef: 0.3110\n",
            "Epoch 49/80\n",
            "124/124 [==============================] - ETA: 0s - loss: 0.0117 - accuracy: 0.9968 - iouMetric: 0.1961 - dice_coef: 0.3240"
          ]
        },
        {
          "output_type": "stream",
          "name": "stderr",
          "text": [
            "WARNING:tensorflow:Can save best model only with val_loss available, skipping.\n"
          ]
        },
        {
          "output_type": "stream",
          "name": "stdout",
          "text": [
            "\n",
            "Epoch 49: saving model to model.weights.best.hdf5\n",
            "124/124 [==============================] - 213s 2s/step - loss: 0.0117 - accuracy: 0.9968 - iouMetric: 0.1961 - dice_coef: 0.3240\n",
            "Epoch 50/80\n",
            "124/124 [==============================] - ETA: 0s - loss: 0.0118 - accuracy: 0.9967 - iouMetric: 0.1839 - dice_coef: 0.3060"
          ]
        },
        {
          "output_type": "stream",
          "name": "stderr",
          "text": [
            "WARNING:tensorflow:Can save best model only with val_loss available, skipping.\n"
          ]
        },
        {
          "output_type": "stream",
          "name": "stdout",
          "text": [
            "\n",
            "Epoch 50: saving model to model.weights.best.hdf5\n",
            "124/124 [==============================] - 210s 2s/step - loss: 0.0118 - accuracy: 0.9967 - iouMetric: 0.1839 - dice_coef: 0.3060\n",
            "Epoch 51/80\n",
            "123/124 [============================>.] - ETA: 1s - loss: 0.0116 - accuracy: 0.9968 - iouMetric: 0.1887 - dice_coef: 0.3130"
          ]
        },
        {
          "output_type": "stream",
          "name": "stderr",
          "text": [
            "WARNING:tensorflow:Can save best model only with val_loss available, skipping.\n"
          ]
        },
        {
          "output_type": "stream",
          "name": "stdout",
          "text": [
            "\n",
            "Epoch 51: saving model to model.weights.best.hdf5\n",
            "124/124 [==============================] - 211s 2s/step - loss: 0.0116 - accuracy: 0.9968 - iouMetric: 0.1887 - dice_coef: 0.3131\n",
            "Epoch 52/80\n",
            "123/124 [============================>.] - ETA: 1s - loss: 0.0115 - accuracy: 0.9968 - iouMetric: 0.1928 - dice_coef: 0.3191"
          ]
        },
        {
          "output_type": "stream",
          "name": "stderr",
          "text": [
            "WARNING:tensorflow:Can save best model only with val_loss available, skipping.\n"
          ]
        },
        {
          "output_type": "stream",
          "name": "stdout",
          "text": [
            "\n",
            "Epoch 52: saving model to model.weights.best.hdf5\n",
            "124/124 [==============================] - 210s 2s/step - loss: 0.0115 - accuracy: 0.9968 - iouMetric: 0.1912 - dice_coef: 0.3165\n",
            "Epoch 53/80\n",
            "123/124 [============================>.] - ETA: 1s - loss: 0.0115 - accuracy: 0.9968 - iouMetric: 0.1869 - dice_coef: 0.3104"
          ]
        },
        {
          "output_type": "stream",
          "name": "stderr",
          "text": [
            "WARNING:tensorflow:Can save best model only with val_loss available, skipping.\n"
          ]
        },
        {
          "output_type": "stream",
          "name": "stdout",
          "text": [
            "\n",
            "Epoch 53: saving model to model.weights.best.hdf5\n",
            "124/124 [==============================] - 213s 2s/step - loss: 0.0115 - accuracy: 0.9968 - iouMetric: 0.1854 - dice_coef: 0.3080\n",
            "Epoch 54/80\n",
            "123/124 [============================>.] - ETA: 1s - loss: 0.0111 - accuracy: 0.9968 - iouMetric: 0.1978 - dice_coef: 0.3263"
          ]
        },
        {
          "output_type": "stream",
          "name": "stderr",
          "text": [
            "WARNING:tensorflow:Can save best model only with val_loss available, skipping.\n"
          ]
        },
        {
          "output_type": "stream",
          "name": "stdout",
          "text": [
            "\n",
            "Epoch 54: saving model to model.weights.best.hdf5\n",
            "124/124 [==============================] - 211s 2s/step - loss: 0.0111 - accuracy: 0.9968 - iouMetric: 0.1968 - dice_coef: 0.3248\n",
            "Epoch 55/80\n",
            "124/124 [==============================] - ETA: 0s - loss: 0.0111 - accuracy: 0.9968 - iouMetric: 0.1966 - dice_coef: 0.3247"
          ]
        },
        {
          "output_type": "stream",
          "name": "stderr",
          "text": [
            "WARNING:tensorflow:Can save best model only with val_loss available, skipping.\n"
          ]
        },
        {
          "output_type": "stream",
          "name": "stdout",
          "text": [
            "\n",
            "Epoch 55: saving model to model.weights.best.hdf5\n",
            "124/124 [==============================] - 214s 2s/step - loss: 0.0111 - accuracy: 0.9968 - iouMetric: 0.1966 - dice_coef: 0.3247\n",
            "Epoch 56/80\n",
            "123/124 [============================>.] - ETA: 1s - loss: 0.0109 - accuracy: 0.9969 - iouMetric: 0.2041 - dice_coef: 0.3345"
          ]
        },
        {
          "output_type": "stream",
          "name": "stderr",
          "text": [
            "WARNING:tensorflow:Can save best model only with val_loss available, skipping.\n"
          ]
        },
        {
          "output_type": "stream",
          "name": "stdout",
          "text": [
            "\n",
            "Epoch 56: saving model to model.weights.best.hdf5\n",
            "124/124 [==============================] - 214s 2s/step - loss: 0.0109 - accuracy: 0.9969 - iouMetric: 0.2052 - dice_coef: 0.3360\n",
            "Epoch 57/80\n",
            "123/124 [============================>.] - ETA: 1s - loss: 0.0109 - accuracy: 0.9969 - iouMetric: 0.2054 - dice_coef: 0.3372"
          ]
        },
        {
          "output_type": "stream",
          "name": "stderr",
          "text": [
            "WARNING:tensorflow:Can save best model only with val_loss available, skipping.\n"
          ]
        },
        {
          "output_type": "stream",
          "name": "stdout",
          "text": [
            "\n",
            "Epoch 57: saving model to model.weights.best.hdf5\n",
            "124/124 [==============================] - 217s 2s/step - loss: 0.0109 - accuracy: 0.9969 - iouMetric: 0.2051 - dice_coef: 0.3368\n",
            "Epoch 58/80\n",
            "124/124 [==============================] - ETA: 0s - loss: 0.0110 - accuracy: 0.9969 - iouMetric: 0.1985 - dice_coef: 0.3275"
          ]
        },
        {
          "output_type": "stream",
          "name": "stderr",
          "text": [
            "WARNING:tensorflow:Can save best model only with val_loss available, skipping.\n"
          ]
        },
        {
          "output_type": "stream",
          "name": "stdout",
          "text": [
            "\n",
            "Epoch 58: saving model to model.weights.best.hdf5\n",
            "124/124 [==============================] - 215s 2s/step - loss: 0.0110 - accuracy: 0.9969 - iouMetric: 0.1985 - dice_coef: 0.3275\n",
            "Epoch 59/80\n",
            "123/124 [============================>.] - ETA: 1s - loss: 0.0108 - accuracy: 0.9969 - iouMetric: 0.2018 - dice_coef: 0.3315"
          ]
        },
        {
          "output_type": "stream",
          "name": "stderr",
          "text": [
            "WARNING:tensorflow:Can save best model only with val_loss available, skipping.\n"
          ]
        },
        {
          "output_type": "stream",
          "name": "stdout",
          "text": [
            "\n",
            "Epoch 59: saving model to model.weights.best.hdf5\n",
            "124/124 [==============================] - 216s 2s/step - loss: 0.0108 - accuracy: 0.9969 - iouMetric: 0.2003 - dice_coef: 0.3291\n",
            "Epoch 60/80\n",
            "123/124 [============================>.] - ETA: 1s - loss: 0.0109 - accuracy: 0.9969 - iouMetric: 0.1987 - dice_coef: 0.3272"
          ]
        },
        {
          "output_type": "stream",
          "name": "stderr",
          "text": [
            "WARNING:tensorflow:Can save best model only with val_loss available, skipping.\n"
          ]
        },
        {
          "output_type": "stream",
          "name": "stdout",
          "text": [
            "\n",
            "Epoch 60: saving model to model.weights.best.hdf5\n",
            "124/124 [==============================] - 214s 2s/step - loss: 0.0109 - accuracy: 0.9969 - iouMetric: 0.1971 - dice_coef: 0.3247\n",
            "Epoch 61/80\n",
            "124/124 [==============================] - ETA: 0s - loss: 0.0106 - accuracy: 0.9969 - iouMetric: 0.2068 - dice_coef: 0.3377"
          ]
        },
        {
          "output_type": "stream",
          "name": "stderr",
          "text": [
            "WARNING:tensorflow:Can save best model only with val_loss available, skipping.\n"
          ]
        },
        {
          "output_type": "stream",
          "name": "stdout",
          "text": [
            "\n",
            "Epoch 61: saving model to model.weights.best.hdf5\n",
            "124/124 [==============================] - 216s 2s/step - loss: 0.0106 - accuracy: 0.9969 - iouMetric: 0.2068 - dice_coef: 0.3377\n",
            "Epoch 62/80\n",
            "123/124 [============================>.] - ETA: 1s - loss: 0.0106 - accuracy: 0.9969 - iouMetric: 0.2085 - dice_coef: 0.3400"
          ]
        },
        {
          "output_type": "stream",
          "name": "stderr",
          "text": [
            "WARNING:tensorflow:Can save best model only with val_loss available, skipping.\n"
          ]
        },
        {
          "output_type": "stream",
          "name": "stdout",
          "text": [
            "\n",
            "Epoch 62: saving model to model.weights.best.hdf5\n",
            "124/124 [==============================] - 210s 2s/step - loss: 0.0106 - accuracy: 0.9969 - iouMetric: 0.2097 - dice_coef: 0.3415\n",
            "Epoch 63/80\n",
            "123/124 [============================>.] - ETA: 1s - loss: 0.0103 - accuracy: 0.9969 - iouMetric: 0.2154 - dice_coef: 0.3504"
          ]
        },
        {
          "output_type": "stream",
          "name": "stderr",
          "text": [
            "WARNING:tensorflow:Can save best model only with val_loss available, skipping.\n"
          ]
        },
        {
          "output_type": "stream",
          "name": "stdout",
          "text": [
            "\n",
            "Epoch 63: saving model to model.weights.best.hdf5\n",
            "124/124 [==============================] - 216s 2s/step - loss: 0.0103 - accuracy: 0.9969 - iouMetric: 0.2169 - dice_coef: 0.3523\n",
            "Epoch 64/80\n",
            "123/124 [============================>.] - ETA: 1s - loss: 0.0102 - accuracy: 0.9970 - iouMetric: 0.2177 - dice_coef: 0.3533"
          ]
        },
        {
          "output_type": "stream",
          "name": "stderr",
          "text": [
            "WARNING:tensorflow:Can save best model only with val_loss available, skipping.\n"
          ]
        },
        {
          "output_type": "stream",
          "name": "stdout",
          "text": [
            "\n",
            "Epoch 64: saving model to model.weights.best.hdf5\n",
            "124/124 [==============================] - 212s 2s/step - loss: 0.0102 - accuracy: 0.9970 - iouMetric: 0.2184 - dice_coef: 0.3542\n",
            "Epoch 65/80\n",
            "123/124 [============================>.] - ETA: 1s - loss: 0.0104 - accuracy: 0.9969 - iouMetric: 0.2190 - dice_coef: 0.3548"
          ]
        },
        {
          "output_type": "stream",
          "name": "stderr",
          "text": [
            "WARNING:tensorflow:Can save best model only with val_loss available, skipping.\n"
          ]
        },
        {
          "output_type": "stream",
          "name": "stdout",
          "text": [
            "\n",
            "Epoch 65: saving model to model.weights.best.hdf5\n",
            "124/124 [==============================] - 216s 2s/step - loss: 0.0104 - accuracy: 0.9969 - iouMetric: 0.2196 - dice_coef: 0.3556\n",
            "Epoch 66/80\n",
            "124/124 [==============================] - ETA: 0s - loss: 0.0101 - accuracy: 0.9970 - iouMetric: 0.2241 - dice_coef: 0.3614"
          ]
        },
        {
          "output_type": "stream",
          "name": "stderr",
          "text": [
            "WARNING:tensorflow:Can save best model only with val_loss available, skipping.\n"
          ]
        },
        {
          "output_type": "stream",
          "name": "stdout",
          "text": [
            "\n",
            "Epoch 66: saving model to model.weights.best.hdf5\n",
            "124/124 [==============================] - 211s 2s/step - loss: 0.0101 - accuracy: 0.9970 - iouMetric: 0.2241 - dice_coef: 0.3614\n",
            "Epoch 67/80\n",
            "123/124 [============================>.] - ETA: 1s - loss: 0.0102 - accuracy: 0.9969 - iouMetric: 0.2199 - dice_coef: 0.3554"
          ]
        },
        {
          "output_type": "stream",
          "name": "stderr",
          "text": [
            "WARNING:tensorflow:Can save best model only with val_loss available, skipping.\n"
          ]
        },
        {
          "output_type": "stream",
          "name": "stdout",
          "text": [
            "\n",
            "Epoch 67: saving model to model.weights.best.hdf5\n",
            "124/124 [==============================] - 214s 2s/step - loss: 0.0102 - accuracy: 0.9969 - iouMetric: 0.2182 - dice_coef: 0.3526\n",
            "Epoch 68/80\n",
            "123/124 [============================>.] - ETA: 1s - loss: 0.0101 - accuracy: 0.9970 - iouMetric: 0.2317 - dice_coef: 0.3717"
          ]
        },
        {
          "output_type": "stream",
          "name": "stderr",
          "text": [
            "WARNING:tensorflow:Can save best model only with val_loss available, skipping.\n"
          ]
        },
        {
          "output_type": "stream",
          "name": "stdout",
          "text": [
            "\n",
            "Epoch 68: saving model to model.weights.best.hdf5\n",
            "124/124 [==============================] - 213s 2s/step - loss: 0.0101 - accuracy: 0.9970 - iouMetric: 0.2299 - dice_coef: 0.3689\n",
            "Epoch 69/80\n",
            "124/124 [==============================] - ETA: 0s - loss: 0.0100 - accuracy: 0.9970 - iouMetric: 0.2262 - dice_coef: 0.3645"
          ]
        },
        {
          "output_type": "stream",
          "name": "stderr",
          "text": [
            "WARNING:tensorflow:Can save best model only with val_loss available, skipping.\n"
          ]
        },
        {
          "output_type": "stream",
          "name": "stdout",
          "text": [
            "\n",
            "Epoch 69: saving model to model.weights.best.hdf5\n",
            "124/124 [==============================] - 213s 2s/step - loss: 0.0100 - accuracy: 0.9970 - iouMetric: 0.2262 - dice_coef: 0.3645\n",
            "Epoch 70/80\n",
            "123/124 [============================>.] - ETA: 1s - loss: 0.0098 - accuracy: 0.9970 - iouMetric: 0.2344 - dice_coef: 0.3755"
          ]
        },
        {
          "output_type": "stream",
          "name": "stderr",
          "text": [
            "WARNING:tensorflow:Can save best model only with val_loss available, skipping.\n"
          ]
        },
        {
          "output_type": "stream",
          "name": "stdout",
          "text": [
            "\n",
            "Epoch 70: saving model to model.weights.best.hdf5\n",
            "124/124 [==============================] - 217s 2s/step - loss: 0.0098 - accuracy: 0.9970 - iouMetric: 0.2355 - dice_coef: 0.3768\n",
            "Epoch 71/80\n",
            "124/124 [==============================] - ETA: 0s - loss: 0.0100 - accuracy: 0.9970 - iouMetric: 0.2299 - dice_coef: 0.3687"
          ]
        },
        {
          "output_type": "stream",
          "name": "stderr",
          "text": [
            "WARNING:tensorflow:Can save best model only with val_loss available, skipping.\n"
          ]
        },
        {
          "output_type": "stream",
          "name": "stdout",
          "text": [
            "\n",
            "Epoch 71: saving model to model.weights.best.hdf5\n",
            "124/124 [==============================] - 218s 2s/step - loss: 0.0100 - accuracy: 0.9970 - iouMetric: 0.2299 - dice_coef: 0.3687\n",
            "Epoch 72/80\n",
            "123/124 [============================>.] - ETA: 1s - loss: 0.0097 - accuracy: 0.9970 - iouMetric: 0.2370 - dice_coef: 0.3786"
          ]
        },
        {
          "output_type": "stream",
          "name": "stderr",
          "text": [
            "WARNING:tensorflow:Can save best model only with val_loss available, skipping.\n"
          ]
        },
        {
          "output_type": "stream",
          "name": "stdout",
          "text": [
            "\n",
            "Epoch 72: saving model to model.weights.best.hdf5\n",
            "124/124 [==============================] - 215s 2s/step - loss: 0.0097 - accuracy: 0.9970 - iouMetric: 0.2383 - dice_coef: 0.3801\n",
            "Epoch 73/80\n",
            "124/124 [==============================] - ETA: 0s - loss: 0.0097 - accuracy: 0.9970 - iouMetric: 0.2356 - dice_coef: 0.3769"
          ]
        },
        {
          "output_type": "stream",
          "name": "stderr",
          "text": [
            "WARNING:tensorflow:Can save best model only with val_loss available, skipping.\n"
          ]
        },
        {
          "output_type": "stream",
          "name": "stdout",
          "text": [
            "\n",
            "Epoch 73: saving model to model.weights.best.hdf5\n",
            "124/124 [==============================] - 211s 2s/step - loss: 0.0097 - accuracy: 0.9970 - iouMetric: 0.2356 - dice_coef: 0.3769\n",
            "Epoch 74/80\n",
            "123/124 [============================>.] - ETA: 1s - loss: 0.0096 - accuracy: 0.9971 - iouMetric: 0.2438 - dice_coef: 0.3878"
          ]
        },
        {
          "output_type": "stream",
          "name": "stderr",
          "text": [
            "WARNING:tensorflow:Can save best model only with val_loss available, skipping.\n"
          ]
        },
        {
          "output_type": "stream",
          "name": "stdout",
          "text": [
            "\n",
            "Epoch 74: saving model to model.weights.best.hdf5\n",
            "124/124 [==============================] - 211s 2s/step - loss: 0.0096 - accuracy: 0.9971 - iouMetric: 0.2419 - dice_coef: 0.3849\n",
            "Epoch 75/80\n",
            "124/124 [==============================] - ETA: 0s - loss: 0.0094 - accuracy: 0.9971 - iouMetric: 0.2464 - dice_coef: 0.3905"
          ]
        },
        {
          "output_type": "stream",
          "name": "stderr",
          "text": [
            "WARNING:tensorflow:Can save best model only with val_loss available, skipping.\n"
          ]
        },
        {
          "output_type": "stream",
          "name": "stdout",
          "text": [
            "\n",
            "Epoch 75: saving model to model.weights.best.hdf5\n",
            "124/124 [==============================] - 210s 2s/step - loss: 0.0094 - accuracy: 0.9971 - iouMetric: 0.2464 - dice_coef: 0.3905\n",
            "Epoch 76/80\n",
            "123/124 [============================>.] - ETA: 1s - loss: 0.0092 - accuracy: 0.9972 - iouMetric: 0.2556 - dice_coef: 0.4029"
          ]
        },
        {
          "output_type": "stream",
          "name": "stderr",
          "text": [
            "WARNING:tensorflow:Can save best model only with val_loss available, skipping.\n"
          ]
        },
        {
          "output_type": "stream",
          "name": "stdout",
          "text": [
            "\n",
            "Epoch 76: saving model to model.weights.best.hdf5\n",
            "124/124 [==============================] - 213s 2s/step - loss: 0.0092 - accuracy: 0.9972 - iouMetric: 0.2578 - dice_coef: 0.4052\n",
            "Epoch 77/80\n",
            "123/124 [============================>.] - ETA: 1s - loss: 0.0092 - accuracy: 0.9971 - iouMetric: 0.2586 - dice_coef: 0.4058"
          ]
        },
        {
          "output_type": "stream",
          "name": "stderr",
          "text": [
            "WARNING:tensorflow:Can save best model only with val_loss available, skipping.\n"
          ]
        },
        {
          "output_type": "stream",
          "name": "stdout",
          "text": [
            "\n",
            "Epoch 77: saving model to model.weights.best.hdf5\n",
            "124/124 [==============================] - 213s 2s/step - loss: 0.0092 - accuracy: 0.9971 - iouMetric: 0.2571 - dice_coef: 0.4036\n",
            "Epoch 78/80\n",
            "123/124 [============================>.] - ETA: 1s - loss: 0.0092 - accuracy: 0.9971 - iouMetric: 0.2592 - dice_coef: 0.4062"
          ]
        },
        {
          "output_type": "stream",
          "name": "stderr",
          "text": [
            "WARNING:tensorflow:Can save best model only with val_loss available, skipping.\n"
          ]
        },
        {
          "output_type": "stream",
          "name": "stdout",
          "text": [
            "\n",
            "Epoch 78: saving model to model.weights.best.hdf5\n",
            "124/124 [==============================] - 211s 2s/step - loss: 0.0092 - accuracy: 0.9971 - iouMetric: 0.2586 - dice_coef: 0.4055\n",
            "Epoch 79/80\n",
            "123/124 [============================>.] - ETA: 1s - loss: 0.0090 - accuracy: 0.9972 - iouMetric: 0.2604 - dice_coef: 0.4068"
          ]
        },
        {
          "output_type": "stream",
          "name": "stderr",
          "text": [
            "WARNING:tensorflow:Can save best model only with val_loss available, skipping.\n"
          ]
        },
        {
          "output_type": "stream",
          "name": "stdout",
          "text": [
            "\n",
            "Epoch 79: saving model to model.weights.best.hdf5\n",
            "124/124 [==============================] - 212s 2s/step - loss: 0.0090 - accuracy: 0.9972 - iouMetric: 0.2590 - dice_coef: 0.4048\n",
            "Epoch 80/80\n",
            "123/124 [============================>.] - ETA: 1s - loss: 0.0090 - accuracy: 0.9972 - iouMetric: 0.2635 - dice_coef: 0.4111"
          ]
        },
        {
          "output_type": "stream",
          "name": "stderr",
          "text": [
            "WARNING:tensorflow:Can save best model only with val_loss available, skipping.\n"
          ]
        },
        {
          "output_type": "stream",
          "name": "stdout",
          "text": [
            "\n",
            "Epoch 80: saving model to model.weights.best.hdf5\n",
            "124/124 [==============================] - 210s 2s/step - loss: 0.0090 - accuracy: 0.9972 - iouMetric: 0.2628 - dice_coef: 0.4101\n",
            "Completed\n"
          ]
        }
      ],
      "source": [
        "checkpointer = ModelCheckpoint(filepath='model.weights.best.hdf5', verbose=1)  \n",
        "model_time = dt.now().strftime(\"%Y%m%d_%H%M%S\")\n",
        "model_folder = os.path.join(results_dir, model_time)\n",
        "os.makedirs(model_folder)\n",
        "\n",
        "tensorboard_folder = os.path.join(model_folder, \"tensorlogs\")\n",
        "os.makedirs(tensorboard_folder)\n",
        "\n",
        "ckpt_folder = os.path.join(model_folder, \"checkpoints\")\n",
        "os.makedirs(ckpt_folder)\n",
        "\n",
        "csv_logger_folder = os.path.join(model_folder, \"csv_logger\")\n",
        "os.makedirs(csv_logger_folder)\n",
        "\n",
        "hist_folder = os.path.join(model_folder, \"model_history\")\n",
        "os.makedirs(hist_folder)\n",
        "\n",
        "saved_model_folder = os.path.join(model_folder, \"Saved_model\")\n",
        "os.makedirs(saved_model_folder)\n",
        "\n",
        "model_params_folder = os.path.join(model_folder, \"model_params\")\n",
        "os.makedirs(model_params_folder)\n",
        "\n",
        "train_x, train_y = datasetPaths(\n",
        "    full_img_dir=train_full_img_dir,\n",
        "    mask_img_dir=train_mask_img_dir \n",
        ")\n",
        "\n",
        "test_x, test_y = datasetPaths(\n",
        "    full_img_dir=test_full_img_dir,\n",
        "    mask_img_dir=test_mask_img_dir\n",
        ")\n",
        "\n",
        "train_ds = makeTFDataset(shuffle=True, augument=True,\n",
        "x_paths_list = train_x, y_paths_list=train_y, batch_size=batch_size)\n",
        "\n",
        "\n",
        "test_ds = makeTFDataset(\n",
        "    shuffle=False,\n",
        "    augument=False,\n",
        "    x_paths_list=test_x,\n",
        "    y_paths_list=test_y,\n",
        "    batch_size=batch_size)      \n",
        "    \n",
        "unet = buildUnet()\n",
        "\n",
        "unet = compile_(model=unet)\n",
        "\n",
        "# ckpt_path = (ckpt_folder + f\"/{model_time}\" + \"_Epoch-{epoch:03d}\" + \"_IOU-{iouMetric:.8f\")\n",
        "ckpt_path = (ckpt_folder + f\"/{model_time}\")\n",
        "\n",
        "ckpt_callback = keras.callbacks.ModelCheckpoint(\n",
        "    filepath= ckpt_path,\n",
        "    monitors= callback_monitor,\n",
        "    mode= callback_mode,\n",
        "    save_weights_only= ckpt_save_weights_only,\n",
        "    save_best_only=ckpt_save_best_only,\n",
        "    verbose=1\n",
        ")\n",
        "\n",
        "es_callback = keras.callbacks.EarlyStopping(\n",
        "    patience= earlystop_patience,\n",
        "    monitor= callback_monitor,\n",
        "    mode= callback_mode,\n",
        "    restore_best_weights= restore_best_weights,\n",
        ")\n",
        "\n",
        "# TensorBoard\n",
        "tb_callback = keras.callbacks.TensorBoard(\n",
        "    log_dir=tensorboard_folder, histogram_freq=1, profile_batch=0\n",
        ")\n",
        "\n",
        "# CSV Logger\n",
        "csv_logger_path = os.path.join(csv_logger_folder, \"csv_logger.csv\")\n",
        "csv_logger = keras.callbacks.CSVLogger(\n",
        "    filename=csv_logger_path, separator=\",\", append=True\n",
        ")\n",
        "\n",
        "# Putting them together\n",
        "callbacks = [ckpt_callback, es_callback, tb_callback, csv_logger, checkpointer]\n",
        "\n",
        "train_steps = len(train_x) // batch_size\n",
        "test_steps = len(test_x) // batch_size\n",
        "\n",
        "if len(train_x) % batch_size != 0:\n",
        "    train_steps += 1\n",
        "if len(test_x) % batch_size != 0:\n",
        "    test_steps += 1\n",
        "\n",
        "print()\n",
        "print(f\"Size of training set = {len(train_x)}\")\n",
        "print(f\"Size of test set = {len(test_x)}\")\n",
        "print(f\"Number of epochs = {num_epochs}\")\n",
        "print(f\"Batch size = {batch_size}\")\n",
        "print(f\"Number of training steps per epoch = {train_steps}\")\n",
        "print(f\"Number of test steps per epoch = {test_steps}\")\n",
        "print()\n",
        "\n",
        "if validate:\n",
        "        history = unet.fit(\n",
        "            train_ds,\n",
        "            validation_data=test_ds,\n",
        "            epochs=num_epochs,\n",
        "            steps_per_epoch=train_steps,\n",
        "            validation_steps=test_steps,\n",
        "            callbacks=callbacks,\n",
        "            verbose=1,\n",
        "        )\n",
        "elif not validate:\n",
        "    history = unet.fit(\n",
        "        train_ds,\n",
        "        epochs=num_epochs,\n",
        "        steps_per_epoch=train_steps,\n",
        "        callbacks=callbacks,\n",
        "        verbose=1,\n",
        "    )\n",
        "\n",
        "#y_hat = unet.evaluate(test_ds)\n",
        "\n",
        "print(\"Completed\")     \n",
        "        "
      ]
    },
    {
      "cell_type": "code",
      "source": [
        " def makeTFDataset1( shuffle, augument, x_paths_list, y_paths_list, batch_size):\n",
        "        try:\n",
        "            ds = tf.data.Dataset.from_tensor_slices((x_paths_list, y_paths_list))\n",
        "            \n",
        "            if shuffle:\n",
        "                ds = ds.shuffle(buffer_size=len(x_paths_list))\n",
        "\n",
        "            ds = ds.map(tfParse, num_parallel_calls=tf.data.experimental.AUTOTUNE)\n",
        "            \n",
        "            if augument:\n",
        "                ds = ds.map(imgAugment, num_parallel_calls=tf.data.experimental.AUTOTUNE)\n",
        "\n",
        "            ds = ds.batch(batch_size=batch_size, drop_remainder=False)\n",
        "            #ds = ds.repeat()\n",
        "\n",
        "            return ds\n",
        "\n",
        "        except Exception as e:\n",
        "            print(f\"Error in make TFDataset {e}\")"
      ],
      "metadata": {
        "id": "MBPWHo79s1Hz"
      },
      "execution_count": 30,
      "outputs": []
    },
    {
      "cell_type": "code",
      "execution_count": 31,
      "metadata": {
        "id": "LCumD8yCBX3-"
      },
      "outputs": [],
      "source": [
        "test_ds = makeTFDataset1(\n",
        "    shuffle=False,\n",
        "    augument=False,\n",
        "    x_paths_list=test_x,\n",
        "    y_paths_list=test_y,\n",
        "    batch_size=batch_size)    "
      ]
    },
    {
      "cell_type": "code",
      "execution_count": 32,
      "metadata": {
        "id": "MGkGHRtCIlcu"
      },
      "outputs": [],
      "source": [
        "unet.load_weights('model.weights.best.hdf5')"
      ]
    },
    {
      "cell_type": "code",
      "source": [
        "score = unet.evaluate(test_ds, verbose=0)\n",
        "score"
      ],
      "metadata": {
        "colab": {
          "base_uri": "https://localhost:8080/"
        },
        "id": "bRy91OTxNnym",
        "outputId": "f03ea198-63ab-460a-9b46-ec0087bfdafa"
      },
      "execution_count": 33,
      "outputs": [
        {
          "output_type": "execute_result",
          "data": {
            "text/plain": [
              "[0.01257326640188694,\n",
              " 0.9966688752174377,\n",
              " 0.1951829493045807,\n",
              " 0.320146381855011]"
            ]
          },
          "metadata": {},
          "execution_count": 33
        }
      ]
    },
    {
      "cell_type": "code",
      "source": [
        ""
      ],
      "metadata": {
        "id": "dtht3dayvWSI"
      },
      "execution_count": 33,
      "outputs": []
    },
    {
      "cell_type": "code",
      "source": [
        "!zip -r /content/results/fit.zip /content/results/fit /content/model.weights.best.hdf5\n"
      ],
      "metadata": {
        "colab": {
          "base_uri": "https://localhost:8080/"
        },
        "id": "IVeEZIevwLzg",
        "outputId": "d061f7f9-0d4c-4025-fe9b-160bbb968601"
      },
      "execution_count": 34,
      "outputs": [
        {
          "output_type": "stream",
          "name": "stdout",
          "text": [
            "  adding: content/results/fit/ (stored 0%)\n",
            "  adding: content/results/fit/20220816_055334/ (stored 0%)\n",
            "  adding: content/results/fit/20220816_055334/csv_logger/ (stored 0%)\n",
            "  adding: content/results/fit/20220816_055334/csv_logger/csv_logger.csv (deflated 51%)\n",
            "  adding: content/results/fit/20220816_055334/model_params/ (stored 0%)\n",
            "  adding: content/results/fit/20220816_055334/model_history/ (stored 0%)\n",
            "  adding: content/results/fit/20220816_055334/tensorlogs/ (stored 0%)\n",
            "  adding: content/results/fit/20220816_055334/tensorlogs/train/ (stored 0%)\n",
            "  adding: content/results/fit/20220816_055334/tensorlogs/train/events.out.tfevents.1660629223.87be539935ef.70.0.v2 (deflated 64%)\n",
            "  adding: content/results/fit/20220816_055334/checkpoints/ (stored 0%)\n",
            "  adding: content/results/fit/20220816_055334/Saved_model/ (stored 0%)\n",
            "  adding: content/model.weights.best.hdf5 (deflated 14%)\n"
          ]
        }
      ]
    },
    {
      "cell_type": "code",
      "source": [
        "from google.colab import files\n",
        "files.download(\"/content/results/fit.zip\")\n",
        "#files.download('model.weights.best.hdf5')"
      ],
      "metadata": {
        "colab": {
          "base_uri": "https://localhost:8080/",
          "height": 17
        },
        "id": "Ms8fiADKwq6i",
        "outputId": "68f1272b-be9e-4844-ff5e-9ecb2ff332ca"
      },
      "execution_count": 35,
      "outputs": [
        {
          "output_type": "display_data",
          "data": {
            "text/plain": [
              "<IPython.core.display.Javascript object>"
            ],
            "application/javascript": [
              "\n",
              "    async function download(id, filename, size) {\n",
              "      if (!google.colab.kernel.accessAllowed) {\n",
              "        return;\n",
              "      }\n",
              "      const div = document.createElement('div');\n",
              "      const label = document.createElement('label');\n",
              "      label.textContent = `Downloading \"${filename}\": `;\n",
              "      div.appendChild(label);\n",
              "      const progress = document.createElement('progress');\n",
              "      progress.max = size;\n",
              "      div.appendChild(progress);\n",
              "      document.body.appendChild(div);\n",
              "\n",
              "      const buffers = [];\n",
              "      let downloaded = 0;\n",
              "\n",
              "      const channel = await google.colab.kernel.comms.open(id);\n",
              "      // Send a message to notify the kernel that we're ready.\n",
              "      channel.send({})\n",
              "\n",
              "      for await (const message of channel.messages) {\n",
              "        // Send a message to notify the kernel that we're ready.\n",
              "        channel.send({})\n",
              "        if (message.buffers) {\n",
              "          for (const buffer of message.buffers) {\n",
              "            buffers.push(buffer);\n",
              "            downloaded += buffer.byteLength;\n",
              "            progress.value = downloaded;\n",
              "          }\n",
              "        }\n",
              "      }\n",
              "      const blob = new Blob(buffers, {type: 'application/binary'});\n",
              "      const a = document.createElement('a');\n",
              "      a.href = window.URL.createObjectURL(blob);\n",
              "      a.download = filename;\n",
              "      div.appendChild(a);\n",
              "      a.click();\n",
              "      div.remove();\n",
              "    }\n",
              "  "
            ]
          },
          "metadata": {}
        },
        {
          "output_type": "display_data",
          "data": {
            "text/plain": [
              "<IPython.core.display.Javascript object>"
            ],
            "application/javascript": [
              "download(\"download_81510d71-4901-4422-a38d-fee2e3290e5f\", \"fit.zip\", 337769203)"
            ]
          },
          "metadata": {}
        }
      ]
    },
    {
      "cell_type": "code",
      "source": [
        "def loadFullImg_1(path, dsize):\n",
        "        try:\n",
        "             \n",
        "            print(path)\n",
        "            img = cv2.imread(\"/content/gdrive/MyDrive/cbisddsm/Test_output_full/Mass-Test_P_00016_LEFT_CC_FULL__PRE.png\", cv2.IMREAD_GRAYSCALE)\n",
        "            print(type(img))\n",
        "            img = cv2.resize(src=img, dsize=dsize)\n",
        "      \n",
        "            norm_img = (img - img.min()) / (img.max() - img.min())\n",
        "            print(f'After norm_img')\n",
        "            print(f'type {norm_img.shape}')\n",
        "            full_img = np.stack([norm_img, norm_img, norm_img], axis=-1)\n",
        "            print(f'After full_img')\n",
        "            print(f'type {full_img.shape}')\n",
        "            print(f'done for path {path} with shape {full_img.shape}')\n",
        "            return full_img\n",
        "        \n",
        "        except Exception as e:\n",
        "            print(f\"There is an error in loadFullImg {e}\")"
      ],
      "metadata": {
        "id": "A2Hu8b8_UMD2"
      },
      "execution_count": 71,
      "outputs": []
    },
    {
      "cell_type": "code",
      "source": [
        "def loadMaskImg_1(path, dsize):\n",
        "        try:\n",
        "            # if not isinstance(path, str):\n",
        "            #     path=path.decode()\n",
        "            print(path)\n",
        "            img = cv2.imread(\"/content/gdrive/MyDrive/cbisddsm/Test_output_mask/Mass-Test_P_00016_LEFT_CC_MASK_1__PRE.png\", cv2.IMREAD_GRAYSCALE)\n",
        "            img = cv2.resize(src=img, dsize=dsize)\n",
        "\n",
        "            norm_img = (img - img.min()) / (img.max() - img.min())\n",
        "\n",
        "            mask_img = np.expand_dims(norm_img, axis=-1)\n",
        "            print(f'done for path {path} with shape {mask_img.shape}')\n",
        "            return mask_img\n",
        "\n",
        "        except Exception as e:\n",
        "            print(f\"Error in loadMaskIMG {e}\")"
      ],
      "metadata": {
        "id": "MN8ydZ_-UV74"
      },
      "execution_count": 80,
      "outputs": []
    },
    {
      "cell_type": "code",
      "source": [
        "def tfParse_1(x_path, y_path):\n",
        "        try:\n",
        "            def _parse(x_path, y_path):\n",
        "                x = loadFullImg_1(path=x_path, dsize=target_size)\n",
        "                y = loadMaskImg_1(path=y_path, dsize=target_size)\n",
        "                return x,y\n",
        "\n",
        "            x, y = tf.numpy_function(_parse, [x_path, y_path], [tf.float64, tf.float64])\n",
        "              \n",
        "            x.set_shape([target_size[0], target_size[0], 3])\n",
        "            y.set_shape([target_size[0], target_size[1], 1])\n",
        "\n",
        "            return x,y\n",
        "            \n",
        "\n",
        "        except Exception as e:\n",
        "            print(f\"Error in tfParse {e}\")"
      ],
      "metadata": {
        "id": "wb2fsrPDUMK1"
      },
      "execution_count": 107,
      "outputs": []
    },
    {
      "cell_type": "code",
      "source": [
        " "
      ],
      "metadata": {
        "colab": {
          "base_uri": "https://localhost:8080/"
        },
        "id": "06CumsaLV6JC",
        "outputId": "d3f27dbd-a70b-411a-cbc2-5022a56d3d85"
      },
      "execution_count": 74,
      "outputs": [
        {
          "output_type": "stream",
          "name": "stdout",
          "text": [
            "<class 'str'>\n"
          ]
        }
      ]
    },
    {
      "cell_type": "code",
      "source": [
        "res_x, res_y = tfParse_1(test_x[0], test_y[0])"
      ],
      "metadata": {
        "colab": {
          "base_uri": "https://localhost:8080/"
        },
        "id": "aRVx-4W1T0jO",
        "outputId": "fa41216d-3929-4f65-8df5-04b8e42555c1"
      },
      "execution_count": 108,
      "outputs": [
        {
          "output_type": "stream",
          "name": "stdout",
          "text": [
            "/content/gdrive/MyDrive/cbisddsm/Test_output_full/Mass-Test_P_00016_LEFT_CC_FULL__PRE.png\n",
            "<class 'numpy.ndarray'>\n",
            "After norm_img\n",
            "type (224, 224)\n",
            "After full_img\n",
            "type (224, 224, 3)\n",
            "done for path /content/gdrive/MyDrive/cbisddsm/Test_output_full/Mass-Test_P_00016_LEFT_CC_FULL__PRE.png with shape (224, 224, 3)\n",
            "/content/gdrive/MyDrive/cbisddsm/Test_output_mask/Mass-Test_P_00016_LEFT_CC_MASK_1__PRE.png\n",
            "done for path /content/gdrive/MyDrive/cbisddsm/Test_output_mask/Mass-Test_P_00016_LEFT_CC_MASK_1__PRE.png with shape (224, 224, 1)\n"
          ]
        }
      ]
    },
    {
      "cell_type": "code",
      "source": [
        "print(res_x.shape)\n",
        "print(res_y.shape)\n",
        "print(type(res_y.numpy())) \n",
        "print(res_y.numpy().shape)"
      ],
      "metadata": {
        "colab": {
          "base_uri": "https://localhost:8080/"
        },
        "id": "XMaOVHjUT6He",
        "outputId": "4d7b2158-ae67-4f28-ba3c-9f9055c98efa"
      },
      "execution_count": 102,
      "outputs": [
        {
          "output_type": "stream",
          "name": "stdout",
          "text": [
            "(224, 224, 3)\n",
            "(224, 224, 1)\n",
            "<class 'numpy.ndarray'>\n",
            "(224, 224, 1)\n"
          ]
        }
      ]
    },
    {
      "cell_type": "code",
      "source": [
        "plt.figure(figsize = (50,8))\n",
        "plt.imshow(res_x.numpy(), cmap=\"gray\")\n",
        "plt.title(f\"Before cropping \", x=0.5, y=-0.1)"
      ],
      "metadata": {
        "colab": {
          "base_uri": "https://localhost:8080/",
          "height": 526
        },
        "id": "hh-whdVrYM4j",
        "outputId": "66c23b7f-d953-4cd6-8faa-508de08e6a2a"
      },
      "execution_count": 97,
      "outputs": [
        {
          "output_type": "execute_result",
          "data": {
            "text/plain": [
              "Text(0.5, -0.1, 'Before cropping ')"
            ]
          },
          "metadata": {},
          "execution_count": 97
        },
        {
          "output_type": "display_data",
          "data": {
            "text/plain": [
              "<Figure size 3600x576 with 1 Axes>"
            ],
            "image/png": "[encoded data removed]"
          },
          "metadata": {
            "needs_background": "light"
          }
        }
      ]
    },
    {
      "cell_type": "code",
      "source": [
        "# plt.figure(figsize = (50,8))\n",
        "# plt.imshow(res_y.numpy(), cmap=\"gray\")\n",
        "# plt.title(f\"Before cropping \", x=0.5, y=-0.1)\n",
        "print(res_x.numpy().shape)"
      ],
      "metadata": {
        "colab": {
          "base_uri": "https://localhost:8080/"
        },
        "id": "pVcmbNaQZDTX",
        "outputId": "32c861df-b582-4b10-f9e3-c262d9e823aa"
      },
      "execution_count": 103,
      "outputs": [
        {
          "output_type": "stream",
          "name": "stdout",
          "text": [
            "(224, 224, 3)\n"
          ]
        }
      ]
    },
    {
      "cell_type": "code",
      "source": [
        "prediction = unet.predict(res_x.numpy())"
      ],
      "metadata": {
        "colab": {
          "base_uri": "https://localhost:8080/",
          "height": 588
        },
        "id": "qjA1jjBgTnMf",
        "outputId": "e1683f78-2a05-4ba7-9f02-aede479eccb0"
      },
      "execution_count": 109,
      "outputs": [
        {
          "output_type": "error",
          "ename": "ValueError",
          "evalue": "ignored",
          "traceback": [
            "\u001b[0;31m---------------------------------------------------------------------------\u001b[0m",
            "\u001b[0;31mValueError\u001b[0m                                Traceback (most recent call last)",
            "\u001b[0;32m<ipython-input-109-412aeafa4501>\u001b[0m in \u001b[0;36m<module>\u001b[0;34m\u001b[0m\n\u001b[0;32m----> 1\u001b[0;31m \u001b[0mprediction\u001b[0m \u001b[0;34m=\u001b[0m \u001b[0munet\u001b[0m\u001b[0;34m.\u001b[0m\u001b[0mpredict\u001b[0m\u001b[0;34m(\u001b[0m\u001b[0mres_x\u001b[0m\u001b[0;34m.\u001b[0m\u001b[0mnumpy\u001b[0m\u001b[0;34m(\u001b[0m\u001b[0;34m)\u001b[0m\u001b[0;34m)\u001b[0m\u001b[0;34m\u001b[0m\u001b[0;34m\u001b[0m\u001b[0m\n\u001b[0m",
            "\u001b[0;32m/usr/local/lib/python3.7/dist-packages/keras/utils/traceback_utils.py\u001b[0m in \u001b[0;36merror_handler\u001b[0;34m(*args, **kwargs)\u001b[0m\n\u001b[1;32m     65\u001b[0m     \u001b[0;32mexcept\u001b[0m \u001b[0mException\u001b[0m \u001b[0;32mas\u001b[0m \u001b[0me\u001b[0m\u001b[0;34m:\u001b[0m  \u001b[0;31m# pylint: disable=broad-except\u001b[0m\u001b[0;34m\u001b[0m\u001b[0;34m\u001b[0m\u001b[0m\n\u001b[1;32m     66\u001b[0m       \u001b[0mfiltered_tb\u001b[0m \u001b[0;34m=\u001b[0m \u001b[0m_process_traceback_frames\u001b[0m\u001b[0;34m(\u001b[0m\u001b[0me\u001b[0m\u001b[0;34m.\u001b[0m\u001b[0m__traceback__\u001b[0m\u001b[0;34m)\u001b[0m\u001b[0;34m\u001b[0m\u001b[0;34m\u001b[0m\u001b[0m\n\u001b[0;32m---> 67\u001b[0;31m       \u001b[0;32mraise\u001b[0m \u001b[0me\u001b[0m\u001b[0;34m.\u001b[0m\u001b[0mwith_traceback\u001b[0m\u001b[0;34m(\u001b[0m\u001b[0mfiltered_tb\u001b[0m\u001b[0;34m)\u001b[0m \u001b[0;32mfrom\u001b[0m \u001b[0;32mNone\u001b[0m\u001b[0;34m\u001b[0m\u001b[0;34m\u001b[0m\u001b[0m\n\u001b[0m\u001b[1;32m     68\u001b[0m     \u001b[0;32mfinally\u001b[0m\u001b[0;34m:\u001b[0m\u001b[0;34m\u001b[0m\u001b[0;34m\u001b[0m\u001b[0m\n\u001b[1;32m     69\u001b[0m       \u001b[0;32mdel\u001b[0m \u001b[0mfiltered_tb\u001b[0m\u001b[0;34m\u001b[0m\u001b[0;34m\u001b[0m\u001b[0m\n",
            "\u001b[0;32m/usr/local/lib/python3.7/dist-packages/tensorflow/python/framework/func_graph.py\u001b[0m in \u001b[0;36mautograph_handler\u001b[0;34m(*args, **kwargs)\u001b[0m\n\u001b[1;32m   1145\u001b[0m           \u001b[0;32mexcept\u001b[0m \u001b[0mException\u001b[0m \u001b[0;32mas\u001b[0m \u001b[0me\u001b[0m\u001b[0;34m:\u001b[0m  \u001b[0;31m# pylint:disable=broad-except\u001b[0m\u001b[0;34m\u001b[0m\u001b[0;34m\u001b[0m\u001b[0m\n\u001b[1;32m   1146\u001b[0m             \u001b[0;32mif\u001b[0m \u001b[0mhasattr\u001b[0m\u001b[0;34m(\u001b[0m\u001b[0me\u001b[0m\u001b[0;34m,\u001b[0m \u001b[0;34m\"ag_error_metadata\"\u001b[0m\u001b[0;34m)\u001b[0m\u001b[0;34m:\u001b[0m\u001b[0;34m\u001b[0m\u001b[0;34m\u001b[0m\u001b[0m\n\u001b[0;32m-> 1147\u001b[0;31m               \u001b[0;32mraise\u001b[0m \u001b[0me\u001b[0m\u001b[0;34m.\u001b[0m\u001b[0mag_error_metadata\u001b[0m\u001b[0;34m.\u001b[0m\u001b[0mto_exception\u001b[0m\u001b[0;34m(\u001b[0m\u001b[0me\u001b[0m\u001b[0;34m)\u001b[0m\u001b[0;34m\u001b[0m\u001b[0;34m\u001b[0m\u001b[0m\n\u001b[0m\u001b[1;32m   1148\u001b[0m             \u001b[0;32melse\u001b[0m\u001b[0;34m:\u001b[0m\u001b[0;34m\u001b[0m\u001b[0;34m\u001b[0m\u001b[0m\n\u001b[1;32m   1149\u001b[0m               \u001b[0;32mraise\u001b[0m\u001b[0;34m\u001b[0m\u001b[0;34m\u001b[0m\u001b[0m\n",
            "\u001b[0;31mValueError\u001b[0m: in user code:\n\n    File \"/usr/local/lib/python3.7/dist-packages/keras/engine/training.py\", line 1801, in predict_function  *\n        return step_function(self, iterator)\n    File \"/usr/local/lib/python3.7/dist-packages/keras/engine/training.py\", line 1790, in step_function  **\n        outputs = model.distribute_strategy.run(run_step, args=(data,))\n    File \"/usr/local/lib/python3.7/dist-packages/keras/engine/training.py\", line 1783, in run_step  **\n        outputs = model.predict_step(data)\n    File \"/usr/local/lib/python3.7/dist-packages/keras/engine/training.py\", line 1751, in predict_step\n        return self(x, training=False)\n    File \"/usr/local/lib/python3.7/dist-packages/keras/utils/traceback_utils.py\", line 67, in error_handler\n        raise e.with_traceback(filtered_tb) from None\n    File \"/usr/local/lib/python3.7/dist-packages/keras/engine/input_spec.py\", line 264, in assert_input_compatibility\n        raise ValueError(f'Input {input_index} of layer \"{layer_name}\" is '\n\n    ValueError: Input 0 of layer \"Unet_VGG16\" is incompatible with the layer: expected shape=(None, 224, 224, 3), found shape=(32, 224, 3)\n"
          ]
        }
      ]
    }
  ],
  "metadata": {
    "accelerator": "GPU",
    "colab": {
      "collapsed_sections": [],
      "name": "Cbisddsm_final_new_1.ipynb",
      "provenance": []
    },
    "gpuClass": "standard",
    "instance_type": "ml.m5.large",
    "kernelspec": {
      "display_name": "Python 3 (Data Science)",
      "language": "python",
      "name": "python3__SAGEMAKER_INTERNAL__arn:aws:sagemaker:us-east-1:081325390199:image/datascience-1.0"
    },
    "language_info": {
      "codemirror_mode": {
        "name": "ipython",
        "version": 3
      },
      "file_extension": ".py",
      "mimetype": "text/x-python",
      "name": "python",
      "nbconvert_exporter": "python",
      "pygments_lexer": "ipython3",
      "version": "3.7.10"
    }
  },
  "nbformat": 4,
  "nbformat_minor": 0
}