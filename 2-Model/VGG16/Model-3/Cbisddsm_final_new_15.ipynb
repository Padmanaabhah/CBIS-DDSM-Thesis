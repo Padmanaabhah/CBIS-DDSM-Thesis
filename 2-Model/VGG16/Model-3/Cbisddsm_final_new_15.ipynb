{
  "cells": [
    {
      "cell_type": "code",
      "execution_count": 1,
      "metadata": {
        "id": "Xzc7BJKDBX3y"
      },
      "outputs": [],
      "source": [
        "#pip install tensorflow"
      ]
    },
    {
      "cell_type": "code",
      "execution_count": 2,
      "metadata": {
        "id": "L6wiaECOBX30"
      },
      "outputs": [],
      "source": [
        "#pip install opencv-python-headless"
      ]
    },
    {
      "cell_type": "code",
      "execution_count": 3,
      "metadata": {
        "id": "cXp-5N_yBX30"
      },
      "outputs": [],
      "source": [
        "from distutils import extension\n",
        "from logging import exception\n",
        "import os\n",
        "from datetime import datetime as dt\n",
        "from regex import E\n",
        "from sqlalchemy import intersect\n",
        "import tensorflow as tf\n",
        "from tensorflow import keras\n",
        "import cv2\n",
        "import numpy as np \n",
        "import pathlib\n",
        "from keras.callbacks import ModelCheckpoint   \n",
        "from keras.regularizers import l2\n",
        "import matplotlib.pyplot as plt"
      ]
    },
    {
      "cell_type": "code",
      "execution_count": 4,
      "metadata": {
        "colab": {
          "base_uri": "https://localhost:8080/"
        },
        "id": "9iQkKItqB1-t",
        "outputId": "d02a0c03-6e78-4abb-e3fc-f3ccdbf61d48"
      },
      "outputs": [
        {
          "output_type": "stream",
          "name": "stdout",
          "text": [
            "Mounted at /content/gdrive\n"
          ]
        }
      ],
      "source": [
        "from google.colab import drive\n",
        "drive.mount('/content/gdrive')"
      ]
    },
    {
      "cell_type": "code",
      "execution_count": 5,
      "metadata": {
        "id": "wQYE2sEYB-uE",
        "colab": {
          "base_uri": "https://localhost:8080/"
        },
        "outputId": "1871309c-3a3b-406f-856d-1a64c7cd583a"
      },
      "outputs": [
        {
          "output_type": "stream",
          "name": "stdout",
          "text": [
            "Test_output_full  Test_output_mask  Train_output_full  Train_output_mask\n"
          ]
        }
      ],
      "source": [
        "!ls \"/content/gdrive/MyDrive/cbisddsm\""
      ]
    },
    {
      "cell_type": "code",
      "execution_count": 6,
      "metadata": {
        "id": "2foFHtBFB_U4"
      },
      "outputs": [],
      "source": [
        "# data_dir_train = pathlib.Path(\"/content/gdrive/MyDrive/Images/Train\")\n",
        "# data_dir_test = pathlib.Path('/content/gdrive/MyDrive/Images/Test')"
      ]
    },
    {
      "cell_type": "code",
      "execution_count": 7,
      "metadata": {
        "id": "zYVMXFDEBX31"
      },
      "outputs": [],
      "source": [
        "seed = 43\n",
        "encoder_input_width = 224\n",
        "encode_input_channels = 3\n",
        "encoder_input_shape = (encoder_input_width, encoder_input_width, encode_input_channels)\n",
        "\n",
        "kernsize = 3\n",
        "decoder_kernel_size = (kernsize, kernsize)\n",
        "stride = 2\n",
        "decoder_strides = (stride, stride)\n",
        "decoder_padding = \"same\"\n",
        "decoder_activation = None\n",
        "final_layer_filters = 1\n",
        "final_layer_activation = \"sigmoid\"\n",
        "\n",
        "train_full_img_dir = \"/content/gdrive/MyDrive/cbisddsm/Train_output_full\"\n",
        "train_mask_img_dir = \"/content/gdrive/MyDrive/cbisddsm/Train_output_mask\"\n",
        "\n",
        "test_full_img_dir = \"/content/gdrive/MyDrive/cbisddsm/Test_output_full\"\n",
        "test_mask_img_dir = \"/content/gdrive/MyDrive/cbisddsm/Test_output_mask\"\n",
        "results_dir = \"/content/results/fit\"\n",
        "extension = \".png\"\n",
        "\n",
        "target_size = (224, 224)\n",
        "\n",
        "brightness_delta = 0.3\n",
        "batch_size = 10\n",
        "\n",
        "validate = False\n",
        "loss = \"binary_crossentropy\"\n",
        "learning_rate = 0.00001\n",
        "dropout = 0.5\n",
        "dropout_training = True\n",
        "num_epochs = 80\n",
        "callback_monitor = \"iouMetric\"\n",
        "callback_mode = \"max\"\n",
        "ckpt_save_weights_only = True\n",
        "ckpt_save_best_only = True\n",
        "earlystop_patience = 200\n",
        "restore_best_weights = True"
      ]
    },
    {
      "cell_type": "code",
      "execution_count": 8,
      "metadata": {
        "id": "WiJw56KyBX32"
      },
      "outputs": [],
      "source": [
        "# x_paths_list = []\n",
        "# for full in os.listdir(train_full_img_dir):\n",
        "#   if full.endswith(extension):\n",
        "#     x_paths_list.append(os.path.join(train_full_img_dir, full))\n",
        "\n",
        "# print(len(x_paths_list))"
      ]
    },
    {
      "cell_type": "code",
      "execution_count": 8,
      "metadata": {
        "id": "B28GisyHBX32"
      },
      "outputs": [],
      "source": [
        ""
      ]
    },
    {
      "cell_type": "code",
      "execution_count": 9,
      "metadata": {
        "id": "JGqSf0kQBX32"
      },
      "outputs": [],
      "source": [
        "def datasetPaths(full_img_dir, mask_img_dir):\n",
        "        try:\n",
        "            x_paths_list = []\n",
        "            y_paths_list = []\n",
        "\n",
        "            for full in os.listdir(full_img_dir):\n",
        "                if full.endswith(extension):\n",
        "                    x_paths_list.append(os.path.join(full_img_dir, full))\n",
        "            \n",
        "            for full in os.listdir(mask_img_dir):\n",
        "                if full.endswith(extension):\n",
        "                    y_paths_list.append(os.path.join(mask_img_dir, full))\n",
        "            \n",
        "            x_paths_list.sort()\n",
        "            y_paths_list.sort()\n",
        "\n",
        "            return x_paths_list, y_paths_list\n",
        "        except Exception as e:\n",
        "            print(f\"Error in datasetPaths {e}\")"
      ]
    },
    {
      "cell_type": "code",
      "execution_count": 10,
      "metadata": {
        "id": "7u3oVaRTBX33"
      },
      "outputs": [],
      "source": [
        "# def loadFullImg(path, dsize):\n",
        "#         try:\n",
        "#             if not isinstance(path, str):\n",
        "#                 path = path.decode()\n",
        "             \n",
        "            \n",
        "#             s3_client = boto3.resource('s3')\n",
        "#             obj = s3_client.get_object(Bucket='cbisddsm', Key=path)\n",
        "#             nparr = np.frombuffer(obj['Body'].read(), np.uint8)\n",
        "#             img = cv2.imdecode(nparr, cv2.IMREAD_COLOR)\n",
        "#             print(f'type type{img}')\n",
        "#             #bucket = s3_resource.Bucket('cbisddsm')\n",
        "#             #print(f'bucket.Object(path) {bucket.Object(path)}')\n",
        "#             #img = bucket.Object(path).get().get('Body').read()\n",
        "#             #print(f'img {img}')\n",
        "#             #img = cv2.imdecode(np.asarray(bytearray(img)), cv2.IMREAD_COLOR)\n",
        "           \n",
        "            \n",
        "#             #img = cv2.imread(path, cv2.IMREAD_GRAYSCALE)\n",
        "#             img = cv2.resize(src=img, dsize=dsize)\n",
        "\n",
        "#             norm_img = (img - img.min()) / (img.max() - img.min())\n",
        "\n",
        "#             full_img = np.stack([norm_img, norm_img, norm_img], axis=-1)\n",
        "#             print(f'done for path {path}')\n",
        "#             return full_img\n",
        "        \n",
        "#         except Exception as e:\n",
        "#             print(f\"There is an error in loadFullImg {e}\")\n",
        "            \n",
        "\n",
        "    \n",
        " "
      ]
    },
    {
      "cell_type": "code",
      "execution_count": 11,
      "metadata": {
        "id": "VQf1GqJeBX34"
      },
      "outputs": [],
      "source": [
        "def loadFullImg(path, dsize):\n",
        "        try:\n",
        "            if not isinstance(path, str):\n",
        "                path = path.decode()\n",
        "            \n",
        "            img = cv2.imread(path, cv2.IMREAD_GRAYSCALE)\n",
        "            #print(type(img))\n",
        "            img = cv2.resize(src=img, dsize=dsize)\n",
        "\n",
        "            norm_img = (img - img.min()) / (img.max() - img.min())\n",
        "            #print(f'After norm_img')\n",
        "            #print(f'type {norm_img.shape}')\n",
        "            full_img = np.stack([norm_img, norm_img, norm_img], axis=-1)\n",
        "            #print(f'After full_img')\n",
        "            #print(f'type {full_img.shape}')\n",
        "            #print(f'done for path {path} with shape {full_img.shape}')\n",
        "            return full_img\n",
        "        \n",
        "        except Exception as e:\n",
        "            print(f\"There is an error in loadFullImg {e}\")"
      ]
    },
    {
      "cell_type": "code",
      "execution_count": 12,
      "metadata": {
        "id": "Yfm6JA2rBX34"
      },
      "outputs": [],
      "source": [
        "# s3 = boto3.resource('s3')\n",
        "# my_bucket = s3.Bucket('cbisddsm')\n",
        "# i = 0\n",
        "# for object_summary in my_bucket.objects.filter(Prefix='Train_output_full'):    \n",
        "#     if i == 0:\n",
        "#         pass\n",
        "#     else:\n",
        "#         print(object_summary.key)\n",
        "#         img = loadFullImg(object_summary.key, target_size)\n",
        "#         print(img.shape)\n",
        "#         #break\n",
        "#     i += 1\n",
        "    \n",
        "    \n",
        "#             #print(object_summary.key)\n",
        "        \n",
        "#             #x_paths_list.append(object_summary.key)\n"
      ]
    },
    {
      "cell_type": "code",
      "execution_count": 13,
      "metadata": {
        "id": "KYSP3bIaBX35"
      },
      "outputs": [],
      "source": [
        "def loadMaskImg(path, dsize):\n",
        "        try:\n",
        "            if not isinstance(path, str):\n",
        "                path=path.decode()\n",
        "            \n",
        "            img = cv2.imread(path, cv2.IMREAD_GRAYSCALE)\n",
        "            img = cv2.resize(src=img, dsize=dsize)\n",
        "\n",
        "            norm_img = (img - img.min()) / (img.max() - img.min())\n",
        "\n",
        "            mask_img = np.expand_dims(norm_img, axis=-1)\n",
        "            #print(f'done for path {path} with shape {mask_img.shape}')\n",
        "            return mask_img\n",
        "\n",
        "        except Exception as e:\n",
        "            print(f\"Error in loadMaskIMG {e}\")"
      ]
    },
    {
      "cell_type": "code",
      "execution_count": 14,
      "metadata": {
        "id": "Co4SIeY6BX35"
      },
      "outputs": [],
      "source": [
        "# def loadMaskImg(path, dsize):\n",
        "#         try:\n",
        "#             if not isinstance(path, str):\n",
        "#                 path=path.decode()\n",
        "             \n",
        "#             s3_resource = boto3.resource('s3')\n",
        "#             bucket = s3_resource.Bucket('cbisddsm')\n",
        "# #             bucket = s3_resource.Bucket('cbisddsm')\n",
        "#             img = bucket.Object(path).get().get('Body').read()\n",
        "#             img = cv2.imdecode(np.asarray(bytearray(img)), cv2.IMREAD_COLOR)\n",
        "#             print(f'type type(img)')\n",
        "#             #img = cv2.imread(path, cv2.IMREAD_GRAYSCALE)\n",
        "#             img = cv2.resize(src=img, dsize=dsize)\n",
        "\n",
        "#             norm_img = (img - img.min()) / (img.max() - img.min())\n",
        "\n",
        "#             mask_img = np.expand_dims(norm_img, axis=-1)\n",
        "\n",
        "#             return mask_img\n",
        "\n",
        "#         except Exception as e:\n",
        "#             print(\"Error in loadMaskIMG\")"
      ]
    },
    {
      "cell_type": "code",
      "execution_count": 15,
      "metadata": {
        "id": "bawafpnnBX36"
      },
      "outputs": [],
      "source": [
        "def tfParse(x_path, y_path):\n",
        "        try:\n",
        "            def _parse(x_path, y_path):\n",
        "                x = loadFullImg(path=x_path, dsize=target_size)\n",
        "                y = loadMaskImg(path=y_path, dsize=target_size)\n",
        "                return x,y\n",
        "\n",
        "            x, y = tf.numpy_function(_parse, [x_path, y_path], [tf.float64, tf.float64])\n",
        "\n",
        "            x.set_shape([target_size[0], target_size[0], 3])\n",
        "            y.set_shape([target_size[0], target_size[1], 1])\n",
        "\n",
        "            return x,y\n",
        "            \n",
        "\n",
        "        except Exception as e:\n",
        "            print(f\"Error in tfParse {e}\")"
      ]
    },
    {
      "cell_type": "code",
      "execution_count": 16,
      "metadata": {
        "id": "tkHDbxVGBX36"
      },
      "outputs": [],
      "source": [
        "def imgAugment(x_img, y_img):\n",
        "        try:\n",
        "            if tf.random.uniform(()) > 0.5:\n",
        "                x_img = tf.image.flip_up_down(image=x_img)\n",
        "                y_img = tf.image.flip_up_down(image=y_img)\n",
        "\n",
        "            x_img = tf.image.random_brightness(\n",
        "                image=x_img, max_delta=brightness_delta\n",
        "            )\n",
        "\n",
        "            return x_img, y_img\n",
        "\n",
        "        except:\n",
        "            print(\"Erro in imgAugument\")"
      ]
    },
    {
      "cell_type": "code",
      "execution_count": 17,
      "metadata": {
        "id": "Mge3IsdLBX36"
      },
      "outputs": [],
      "source": [
        " def makeTFDataset( shuffle, augument, x_paths_list, y_paths_list, batch_size):\n",
        "        try:\n",
        "            ds = tf.data.Dataset.from_tensor_slices((x_paths_list, y_paths_list))\n",
        "            \n",
        "            if shuffle:\n",
        "                ds = ds.shuffle(buffer_size=len(x_paths_list))\n",
        "\n",
        "            ds = ds.map(tfParse, num_parallel_calls=tf.data.experimental.AUTOTUNE)\n",
        "            \n",
        "            if augument:\n",
        "                ds = ds.map(imgAugment, num_parallel_calls=tf.data.experimental.AUTOTUNE)\n",
        "\n",
        "            ds = ds.batch(batch_size=batch_size, drop_remainder=False)\n",
        "            ds = ds.repeat()\n",
        "\n",
        "            return ds\n",
        "\n",
        "        except Exception as e:\n",
        "            print(f\"Error in make TFDataset {e}\")"
      ]
    },
    {
      "cell_type": "code",
      "execution_count": 18,
      "metadata": {
        "id": "9RGLX5MnBX37"
      },
      "outputs": [],
      "source": [
        "def buildEncoder():\n",
        "        try:\n",
        "            VGG16_ = keras.applications.VGG16(\n",
        "                include_top=False, weights=\"imagenet\", input_shape=encoder_input_shape,\n",
        "            )\n",
        "\n",
        "            layer_names = [layer.name for layer in VGG16_.layers]\n",
        "\n",
        "            all_layer_outputs = [\n",
        "               VGG16_.get_layer(layer).output for layer in layer_names\n",
        "            ]\n",
        "\n",
        "            encoder_model = keras.Model(inputs=VGG16_.input, outputs=all_layer_outputs)\n",
        "\n",
        "            encoder_model.trainable = False\n",
        "\n",
        "            return encoder_model \n",
        "        \n",
        "        except Exception as e:\n",
        "            print(\"Error in buildEncoder\")"
      ]
    },
    {
      "cell_type": "code",
      "execution_count": 19,
      "metadata": {
        "id": "eNHrykF9BX37"
      },
      "outputs": [],
      "source": [
        "def buildUnet():\n",
        "        try:\n",
        "            unet_input = keras.Input(\n",
        "                shape= encoder_input_shape, name=\"unet_input_layer\"\n",
        "            )\n",
        "\n",
        "            x = unet_input\n",
        "            encoder_model = buildEncoder()\n",
        "            all_encoder_layer_outputs = encoder_model(x)\n",
        "\n",
        "            encoded_img = all_encoder_layer_outputs[-1]\n",
        "\n",
        "            #skip_outputs = [all_encoder_layer_outputs[i] for i in [2, 5,9, 13, 17]]\n",
        "            skip_outputs = [all_encoder_layer_outputs[i] for i in [2, 4, 6, 12, 15]]\n",
        "            \n",
        "            decoder_filters = int(encoded_img.shape[-1])\n",
        "\n",
        "            # ------------------------------------------\n",
        "            # Block 5: 7x7 -> 14x14\n",
        "            #  - `encoded_img` as initial input for decoder\n",
        "            x = keras.layers.Conv2DTranspose(\n",
        "                name=\"block5_up_convT\",\n",
        "                filters=decoder_filters,\n",
        "                kernel_size=decoder_kernel_size,\n",
        "                strides=decoder_strides,\n",
        "                padding=decoder_padding,\n",
        "                activation=decoder_activation,\n",
        "            )(encoded_img)\n",
        "\n",
        "            x = keras.layers.Concatenate(name=\"block5_up_concat\", axis=-1)(\n",
        "                [x, skip_outputs[4]]\n",
        "            )\n",
        "\n",
        "            x = keras.layers.Dropout(\n",
        "                name=\"block5_up_dropout\", rate=dropout, seed=seed\n",
        "            )(x, training=dropout_training)\n",
        "\n",
        "            x = keras.layers.Conv2D(\n",
        "                name=\"block5_up_conv3\",\n",
        "                filters=decoder_filters,\n",
        "                kernel_size=decoder_kernel_size,\n",
        "                strides=(1, 1),\n",
        "                padding=\"same\",\n",
        "                kernel_regularizer=l2(0.01),\n",
        "                bias_regularizer=l2(0.01),\n",
        "                activation=\"relu\",\n",
        "            )(x)\n",
        "            x = keras.layers.Conv2D(\n",
        "                name=\"block5_up_conv2\",\n",
        "                filters=decoder_filters,\n",
        "                kernel_size=decoder_kernel_size,\n",
        "                strides=(1, 1),\n",
        "                padding=\"same\",\n",
        "                kernel_regularizer=l2(0.01),\n",
        "                bias_regularizer=l2(0.01),\n",
        "                activation=\"relu\",\n",
        "            )(x)\n",
        "            x = keras.layers.Conv2D(\n",
        "                name=\"block5_up_conv1\",\n",
        "                filters=decoder_filters,\n",
        "                kernel_size=decoder_kernel_size,\n",
        "                strides=(1, 1),\n",
        "                padding=\"same\",\n",
        "                activation=\"relu\",\n",
        "            )(x)\n",
        "\n",
        "            # ------------------------------------------\n",
        "            # Block 4: 14x14 -> 28x28\n",
        "            x = keras.layers.Conv2DTranspose(\n",
        "                name=\"block4_up_convT\",\n",
        "                filters=decoder_filters,\n",
        "                kernel_size=decoder_kernel_size,\n",
        "                strides=decoder_strides,\n",
        "                padding=decoder_padding,\n",
        "                activation=decoder_activation,\n",
        "            )(x)\n",
        "\n",
        "            x = keras.layers.Concatenate(name=\"block4_up_concat\", axis=-1)(\n",
        "                [x, skip_outputs[3]]\n",
        "            )\n",
        "\n",
        "            x = keras.layers.Dropout(\n",
        "                name=\"block4_up_dropout\", rate=dropout, seed=seed\n",
        "            )(x, training=dropout_training)\n",
        "\n",
        "            x = keras.layers.Conv2D(\n",
        "                name=\"block4_up_conv3\",\n",
        "                filters=decoder_filters,\n",
        "                kernel_size=decoder_kernel_size,\n",
        "                strides=(1, 1),\n",
        "                padding=\"same\",\n",
        "                kernel_regularizer=l2(0.01),\n",
        "                bias_regularizer=l2(0.01),\n",
        "                activation=\"relu\",\n",
        "            )(x)\n",
        "            x = keras.layers.Conv2D(\n",
        "                name=\"block4_up_conv2\",\n",
        "                filters=decoder_filters,\n",
        "                kernel_size=decoder_kernel_size,\n",
        "                strides=(1, 1),\n",
        "                padding=\"same\",\n",
        "                kernel_regularizer=l2(0.01),\n",
        "                bias_regularizer=l2(0.01),\n",
        "                activation=\"relu\",\n",
        "            )(x)\n",
        "            x = keras.layers.Conv2D(\n",
        "                name=\"block4_up_conv1\",\n",
        "                filters=decoder_filters,\n",
        "                kernel_size=decoder_kernel_size,\n",
        "                strides=(1, 1),\n",
        "                padding=\"same\",\n",
        "                kernel_regularizer=l2(0.01),\n",
        "                bias_regularizer=l2(0.01),\n",
        "                activation=\"relu\",\n",
        "            )(x)\n",
        "\n",
        "            # ------------------------------------------\n",
        "            # Block 3: 28x28 -> 56x56\n",
        "            x = keras.layers.Conv2DTranspose(\n",
        "                name=\"block3_up_convT\",\n",
        "                filters=int(decoder_filters / 2),\n",
        "                kernel_size=decoder_kernel_size,\n",
        "                strides=decoder_strides,\n",
        "                padding=decoder_padding,\n",
        "                activation=decoder_activation,\n",
        "            )(x)\n",
        "\n",
        "            x = keras.layers.Concatenate(name=\"block3_up_concat\", axis=-1)(\n",
        "                [x, skip_outputs[2]]\n",
        "            )\n",
        "\n",
        "            x = keras.layers.Dropout(\n",
        "                name=\"block3_up_dropout\", rate=dropout, seed=seed\n",
        "            )(x, training=dropout_training)\n",
        "\n",
        "            x = keras.layers.Conv2D(\n",
        "                name=\"block3_up_conv3\",\n",
        "                filters=int(decoder_filters / 2),\n",
        "                kernel_size=decoder_kernel_size,\n",
        "                strides=(1, 1),\n",
        "                padding=\"same\",\n",
        "                activation=\"relu\",\n",
        "            )(x)\n",
        "            x = keras.layers.Conv2D(\n",
        "                name=\"block3_up_conv2\",\n",
        "                filters=int(decoder_filters / 2),\n",
        "                kernel_size=decoder_kernel_size,\n",
        "                strides=(1, 1),\n",
        "                padding=\"same\",\n",
        "                activation=\"relu\",\n",
        "            )(x)\n",
        "            x = keras.layers.Conv2D(\n",
        "                name=\"block3_up_conv1\",\n",
        "                filters=int(decoder_filters / 2),\n",
        "                kernel_size=decoder_kernel_size,\n",
        "                strides=(1, 1),\n",
        "                padding=\"same\",\n",
        "                activation=\"relu\",\n",
        "            )(x)\n",
        "\n",
        "            # ------------------------------------------\n",
        "            # Block 2: 56x56 -> 112x112\n",
        "            x = keras.layers.Conv2DTranspose(\n",
        "                name=\"block2_up_convT\",\n",
        "                filters=int(decoder_filters / 4),\n",
        "                kernel_size=decoder_kernel_size,\n",
        "                strides=decoder_strides,\n",
        "                padding=decoder_padding,\n",
        "                activation=decoder_activation,\n",
        "            )(x)\n",
        "\n",
        "            x = keras.layers.Concatenate(name=\"block2_up_concat\", axis=-1)(\n",
        "                [x, skip_outputs[1]]\n",
        "            )\n",
        "\n",
        "            x = keras.layers.Dropout(\n",
        "                name=\"block2_up_dropout\", rate=dropout, seed=seed\n",
        "            )(x, training=dropout_training)\n",
        "\n",
        "            x = keras.layers.Conv2D(\n",
        "                name=\"block2_up_conv2\",\n",
        "                filters=int(decoder_filters / 4),\n",
        "                kernel_size=decoder_kernel_size,\n",
        "                strides=(1, 1),\n",
        "                padding=\"same\",\n",
        "                activation=\"relu\",\n",
        "            )(x)\n",
        "            x = keras.layers.Conv2D(\n",
        "                name=\"block2_up_conv1\",\n",
        "                filters=int(decoder_filters / 4),\n",
        "                kernel_size=decoder_kernel_size,\n",
        "                strides=(1, 1),\n",
        "                padding=\"same\",\n",
        "                activation=\"relu\",\n",
        "            )(x)\n",
        "\n",
        "            # ------------------------------------------\n",
        "            # Block 1: 112x112 -> 224x224\n",
        "            x = keras.layers.Conv2DTranspose(\n",
        "                name=\"block1_up_convT\",\n",
        "                filters=int(decoder_filters / 8),\n",
        "                kernel_size=decoder_kernel_size,\n",
        "                strides=decoder_strides,\n",
        "                padding=decoder_padding,\n",
        "                activation=decoder_activation,\n",
        "            )(x)\n",
        "\n",
        "            x = keras.layers.Concatenate(name=\"block1_up_concat\", axis=-1)(\n",
        "                [x, skip_outputs[0]]\n",
        "            )\n",
        "\n",
        "            x = keras.layers.Dropout(\n",
        "                name=\"block1_up_dropout\", rate=dropout, seed=seed\n",
        "            )(x, training=dropout_training)\n",
        "\n",
        "            x = keras.layers.Conv2D(\n",
        "                name=\"block1_up_conv2\",\n",
        "                filters=int(decoder_filters / 8),\n",
        "                kernel_size=decoder_kernel_size,\n",
        "                strides=(1, 1),\n",
        "                padding=\"same\",\n",
        "                kernel_regularizer=l2(0.01),\n",
        "                bias_regularizer=l2(0.01),\n",
        "                activation=\"relu\",\n",
        "            )(x)\n",
        "            decoded_img = keras.layers.Conv2D(\n",
        "                name=\"block1_up_conv1\",\n",
        "                filters=int(decoder_filters / 8),\n",
        "                kernel_size=decoder_kernel_size,\n",
        "                strides=(1, 1),\n",
        "                padding=\"same\",\n",
        "                kernel_regularizer=l2(0.01),\n",
        "                bias_regularizer=l2(0.01),\n",
        "                activation=\"relu\",\n",
        "            )(x)\n",
        "\n",
        "            # ------------------------------------------\n",
        "            # Final conv layer\n",
        "            final_img = keras.layers.Conv2D(\n",
        "                name=\"final_up_conv\",\n",
        "                filters=final_layer_filters,\n",
        "                kernel_size=decoder_kernel_size,\n",
        "                strides=(1, 1),\n",
        "                padding=\"same\",\n",
        "                kernel_regularizer=l2(0.01),\n",
        "                bias_regularizer=l2(0.01),\n",
        "                activation=final_layer_activation,\n",
        "            )(decoded_img)\n",
        "\n",
        "            # ======\n",
        "            #  Unet\n",
        "            # ======\n",
        "\n",
        "            unet = keras.Model(inputs=unet_input, outputs=final_img, name=\"Unet_VGG16\")\n",
        "\n",
        "            return unet\n",
        "        except Exception as e:\n",
        "            print(f\"Error in Build Unet {e}\")"
      ]
    },
    {
      "cell_type": "code",
      "execution_count": 20,
      "metadata": {
        "id": "_sq8aqBYBX38"
      },
      "outputs": [],
      "source": [
        "def iouMetric( y_true, y_pred):\n",
        "        try:\n",
        "            def compute_iou(y_true, y_pred):\n",
        "                intersection = (y_true * y_pred).sum()\n",
        "                union = y_true.sum() + y_pred.sum() - intersection\n",
        "                x = (intersection + 1e-15) / (union + 1e-15)\n",
        "                x = x.astype(np.float32)\n",
        "                return x\n",
        "            \n",
        "            return tf.numpy_function(compute_iou, [y_true, y_pred], tf.float32)\n",
        "            \n",
        "        except Exception as e:\n",
        "            print(f\"Error in iouMetric {E}\")"
      ]
    },
    {
      "cell_type": "code",
      "execution_count": 21,
      "metadata": {
        "id": "xCkCusvKBCuz"
      },
      "outputs": [],
      "source": [
        "def dice_coef(y_true, y_pred):\n",
        "        try:\n",
        "            # def dice(true, pred, k = 1):\n",
        "            #     intersection = np.sum(pred[true==k]) * 2.0\n",
        "            #     dice = intersection / (np.sum(pred) + np.sum(true))\n",
        "            #     return dice \n",
        "            # return tf.numpy_function(dice, [y_true, y_pred], tf.double)\n",
        "            \n",
        "            y_true_f = tf.reshape(tf.dtypes.cast(y_true, tf.float32), [-1])\n",
        "            y_pred_f = tf.reshape(tf.dtypes.cast(y_pred, tf.float32), [-1])\n",
        "            intersection = tf.reduce_sum(y_true_f * y_pred_f)\n",
        "            return (2. * intersection + 1.) / (tf.reduce_sum(y_true_f) + tf.reduce_sum(y_pred_f) + 1.)\n",
        "        except Exception as e:\n",
        "            print(f\"Error in dice_coef {e}\")"
      ]
    },
    {
      "cell_type": "code",
      "execution_count": 22,
      "metadata": {
        "id": "Egz73rd9BX39"
      },
      "outputs": [],
      "source": [
        "def compile_( model):\n",
        "        try:\n",
        "            loss = keras.losses.BinaryCrossentropy(from_logits=False)\n",
        "            optimizer = keras.optimizers.Adam(learning_rate=learning_rate)\n",
        "            metrics = [\"accuracy\", iouMetric, dice_coef]\n",
        "            model.compile(loss=loss, optimizer=optimizer, metrics=metrics)\n",
        "\n",
        "            return model\n",
        "        except Exception as e:\n",
        "            print(f\"Failed at compile_ {e}\")"
      ]
    },
    {
      "cell_type": "code",
      "execution_count": 23,
      "metadata": {
        "id": "jNa9nYOcCV15"
      },
      "outputs": [],
      "source": [
        " test_x, test_y = datasetPaths(\n",
        "            full_img_dir=test_full_img_dir,\n",
        "            mask_img_dir=test_mask_img_dir\n",
        "        )\n",
        "        "
      ]
    },
    {
      "cell_type": "code",
      "execution_count": 24,
      "metadata": {
        "id": "wDDyk7GYCWU3"
      },
      "outputs": [],
      "source": [
        "# def evaluate(path,target_size):\n",
        "#   full_img_lst = []\n",
        "#   print(len(path))\n",
        "#   for imgpath in path:\n",
        "#     full_img = loadFullImg(imgpath, target_size)\n",
        "#     full_img_lst.append(full_img)\n",
        "#     #img = cv2.imread(imgpath, cv2.IMREAD_GRAYSCALE)\n",
        "#     #print(full_img.shape)\n",
        "#   return full_img_lst\n",
        "  \n",
        "# full_img_lst = evaluate(test_x, target_size)"
      ]
    },
    {
      "cell_type": "code",
      "execution_count": 25,
      "metadata": {
        "id": "pbuTQcYXCbvv"
      },
      "outputs": [],
      "source": [
        "# def evaluate_mask(path,target_size):\n",
        "#   mask_img_lst = []\n",
        "#   print(len(path))\n",
        "#   for imgpath in path:\n",
        "#     mask_img = loadMaskImg(imgpath, target_size)\n",
        "#     mask_img_lst.append(mask_img)\n",
        "#     #img = cv2.imread(imgpath, cv2.IMREAD_GRAYSCALE)\n",
        "#     #print(full_img.shape)\n",
        "#   return mask_img_lst\n",
        "  \n",
        "# mask_img_lst = evaluate(test_y, target_size)"
      ]
    },
    {
      "cell_type": "code",
      "execution_count": 26,
      "metadata": {
        "id": "_WCc1IIBIety"
      },
      "outputs": [],
      "source": [
        "# img = cv2.imread(test_x[0], cv2.IMREAD_GRAYSCALE)\n",
        "# print(img)"
      ]
    },
    {
      "cell_type": "code",
      "execution_count": 27,
      "metadata": {
        "id": "VeQ8YyfqHgYW"
      },
      "outputs": [],
      "source": [
        "# actual_x, actual_y =tfParse(test_x, test_y)"
      ]
    },
    {
      "cell_type": "code",
      "execution_count": 28,
      "metadata": {
        "id": "c1hGy4M6FyuV"
      },
      "outputs": [],
      "source": [
        "# full_img_lst[0]"
      ]
    },
    {
      "cell_type": "code",
      "execution_count": 29,
      "metadata": {
        "id": "agKhRncmBX39",
        "colab": {
          "base_uri": "https://localhost:8080/"
        },
        "outputId": "a255f889-c79a-4f9f-a301-0e8fc994d145"
      },
      "outputs": [
        {
          "metadata": {
            "tags": null
          },
          "name": "stdout",
          "output_type": "stream",
          "text": [
            "Downloading data from https://storage.googleapis.com/tensorflow/keras-applications/vgg16/vgg16_weights_tf_dim_ordering_tf_kernels_notop.h5\n",
            "58892288/58889256 [==============================] - 0s 0us/step\n",
            "58900480/58889256 [==============================] - 0s 0us/step\n",
            "\n",
            "Size of training set = 1231\n",
            "Size of test set = 361\n",
            "Number of epochs = 80\n",
            "Batch size = 10\n",
            "Number of training steps per epoch = 124\n",
            "Number of test steps per epoch = 37\n",
            "\n",
            "Epoch 1/80\n",
            "124/124 [==============================] - ETA: 0s - loss: 28.3982 - accuracy: 0.9746 - iouMetric: 0.0014 - dice_coef: 0.0030"
          ]
        },
        {
          "metadata": {
            "tags": null
          },
          "name": "stderr",
          "output_type": "stream",
          "text": [
            "WARNING:tensorflow:Can save best model only with val_loss available, skipping.\n",
            "WARNING:tensorflow:Can save best model only with val_loss available, skipping.\n"
          ]
        },
        {
          "metadata": {
            "tags": null
          },
          "name": "stdout",
          "output_type": "stream",
          "text": [
            "124/124 [==============================] - 445s 3s/step - loss: 28.3982 - accuracy: 0.9746 - iouMetric: 0.0014 - dice_coef: 0.0030\n",
            "Epoch 2/80\n",
            "124/124 [==============================] - ETA: 0s - loss: 24.2704 - accuracy: 0.9958 - iouMetric: 0.0026 - dice_coef: 0.0055"
          ]
        },
        {
          "metadata": {
            "tags": null
          },
          "name": "stderr",
          "output_type": "stream",
          "text": [
            "WARNING:tensorflow:Can save best model only with val_loss available, skipping.\n",
            "WARNING:tensorflow:Can save best model only with val_loss available, skipping.\n"
          ]
        },
        {
          "metadata": {
            "tags": null
          },
          "name": "stdout",
          "output_type": "stream",
          "text": [
            "124/124 [==============================] - 231s 2s/step - loss: 24.2704 - accuracy: 0.9958 - iouMetric: 0.0026 - dice_coef: 0.0055\n",
            "Epoch 3/80\n",
            "124/124 [==============================] - ETA: 0s - loss: 20.7610 - accuracy: 0.9960 - iouMetric: 0.0090 - dice_coef: 0.0181"
          ]
        },
        {
          "metadata": {
            "tags": null
          },
          "name": "stderr",
          "output_type": "stream",
          "text": [
            "WARNING:tensorflow:Can save best model only with val_loss available, skipping.\n",
            "WARNING:tensorflow:Can save best model only with val_loss available, skipping.\n"
          ]
        },
        {
          "metadata": {
            "tags": null
          },
          "name": "stdout",
          "output_type": "stream",
          "text": [
            "124/124 [==============================] - 232s 2s/step - loss: 20.7610 - accuracy: 0.9960 - iouMetric: 0.0090 - dice_coef: 0.0181\n",
            "Epoch 4/80\n",
            "123/124 [============================>.] - ETA: 1s - loss: 17.7413 - accuracy: 0.9959 - iouMetric: 0.0160 - dice_coef: 0.0318"
          ]
        },
        {
          "metadata": {
            "tags": null
          },
          "name": "stderr",
          "output_type": "stream",
          "text": [
            "WARNING:tensorflow:Can save best model only with val_loss available, skipping.\n",
            "WARNING:tensorflow:Can save best model only with val_loss available, skipping.\n"
          ]
        },
        {
          "metadata": {
            "tags": null
          },
          "name": "stdout",
          "output_type": "stream",
          "text": [
            "124/124 [==============================] - 231s 2s/step - loss: 17.7402 - accuracy: 0.9959 - iouMetric: 0.0160 - dice_coef: 0.0317\n",
            "Epoch 5/80\n",
            "123/124 [============================>.] - ETA: 1s - loss: 15.1387 - accuracy: 0.9959 - iouMetric: 0.0228 - dice_coef: 0.0448"
          ]
        },
        {
          "metadata": {
            "tags": null
          },
          "name": "stderr",
          "output_type": "stream",
          "text": [
            "WARNING:tensorflow:Can save best model only with val_loss available, skipping.\n",
            "WARNING:tensorflow:Can save best model only with val_loss available, skipping.\n"
          ]
        },
        {
          "metadata": {
            "tags": null
          },
          "name": "stdout",
          "output_type": "stream",
          "text": [
            "124/124 [==============================] - 231s 2s/step - loss: 15.1377 - accuracy: 0.9959 - iouMetric: 0.0229 - dice_coef: 0.0449\n",
            "Epoch 6/80\n",
            "123/124 [============================>.] - ETA: 1s - loss: 12.8974 - accuracy: 0.9958 - iouMetric: 0.0308 - dice_coef: 0.0600"
          ]
        },
        {
          "metadata": {
            "tags": null
          },
          "name": "stderr",
          "output_type": "stream",
          "text": [
            "WARNING:tensorflow:Can save best model only with val_loss available, skipping.\n",
            "WARNING:tensorflow:Can save best model only with val_loss available, skipping.\n"
          ]
        },
        {
          "metadata": {
            "tags": null
          },
          "name": "stdout",
          "output_type": "stream",
          "text": [
            "124/124 [==============================] - 230s 2s/step - loss: 12.8966 - accuracy: 0.9958 - iouMetric: 0.0310 - dice_coef: 0.0602\n",
            "Epoch 7/80\n",
            "124/124 [==============================] - ETA: 0s - loss: 10.9688 - accuracy: 0.9958 - iouMetric: 0.0360 - dice_coef: 0.0696"
          ]
        },
        {
          "metadata": {
            "tags": null
          },
          "name": "stderr",
          "output_type": "stream",
          "text": [
            "WARNING:tensorflow:Can save best model only with val_loss available, skipping.\n",
            "WARNING:tensorflow:Can save best model only with val_loss available, skipping.\n"
          ]
        },
        {
          "metadata": {
            "tags": null
          },
          "name": "stdout",
          "output_type": "stream",
          "text": [
            "124/124 [==============================] - 223s 2s/step - loss: 10.9688 - accuracy: 0.9958 - iouMetric: 0.0360 - dice_coef: 0.0696\n",
            "Epoch 8/80\n",
            "123/124 [============================>.] - ETA: 1s - loss: 9.3140 - accuracy: 0.9958 - iouMetric: 0.0415 - dice_coef: 0.0797"
          ]
        },
        {
          "metadata": {
            "tags": null
          },
          "name": "stderr",
          "output_type": "stream",
          "text": [
            "WARNING:tensorflow:Can save best model only with val_loss available, skipping.\n",
            "WARNING:tensorflow:Can save best model only with val_loss available, skipping.\n"
          ]
        },
        {
          "metadata": {
            "tags": null
          },
          "name": "stdout",
          "output_type": "stream",
          "text": [
            "124/124 [==============================] - 234s 2s/step - loss: 9.3134 - accuracy: 0.9958 - iouMetric: 0.0418 - dice_coef: 0.0802\n",
            "Epoch 9/80\n",
            "123/124 [============================>.] - ETA: 1s - loss: 7.8957 - accuracy: 0.9958 - iouMetric: 0.0478 - dice_coef: 0.0913"
          ]
        },
        {
          "metadata": {
            "tags": null
          },
          "name": "stderr",
          "output_type": "stream",
          "text": [
            "WARNING:tensorflow:Can save best model only with val_loss available, skipping.\n",
            "WARNING:tensorflow:Can save best model only with val_loss available, skipping.\n"
          ]
        },
        {
          "metadata": {
            "tags": null
          },
          "name": "stdout",
          "output_type": "stream",
          "text": [
            "124/124 [==============================] - 234s 2s/step - loss: 7.8952 - accuracy: 0.9958 - iouMetric: 0.0477 - dice_coef: 0.0910\n",
            "Epoch 10/80\n",
            "124/124 [==============================] - ETA: 0s - loss: 6.6830 - accuracy: 0.9958 - iouMetric: 0.0508 - dice_coef: 0.0966"
          ]
        },
        {
          "metadata": {
            "tags": null
          },
          "name": "stderr",
          "output_type": "stream",
          "text": [
            "WARNING:tensorflow:Can save best model only with val_loss available, skipping.\n",
            "WARNING:tensorflow:Can save best model only with val_loss available, skipping.\n"
          ]
        },
        {
          "metadata": {
            "tags": null
          },
          "name": "stdout",
          "output_type": "stream",
          "text": [
            "124/124 [==============================] - 236s 2s/step - loss: 6.6830 - accuracy: 0.9958 - iouMetric: 0.0508 - dice_coef: 0.0966\n",
            "Epoch 11/80\n",
            "123/124 [============================>.] - ETA: 1s - loss: 5.6505 - accuracy: 0.9958 - iouMetric: 0.0572 - dice_coef: 0.1081"
          ]
        },
        {
          "metadata": {
            "tags": null
          },
          "name": "stderr",
          "output_type": "stream",
          "text": [
            "WARNING:tensorflow:Can save best model only with val_loss available, skipping.\n",
            "WARNING:tensorflow:Can save best model only with val_loss available, skipping.\n"
          ]
        },
        {
          "metadata": {
            "tags": null
          },
          "name": "stdout",
          "output_type": "stream",
          "text": [
            "124/124 [==============================] - 235s 2s/step - loss: 5.6501 - accuracy: 0.9958 - iouMetric: 0.0576 - dice_coef: 0.1088\n",
            "Epoch 12/80\n",
            "123/124 [============================>.] - ETA: 1s - loss: 4.7732 - accuracy: 0.9959 - iouMetric: 0.0630 - dice_coef: 0.1181"
          ]
        },
        {
          "metadata": {
            "tags": null
          },
          "name": "stderr",
          "output_type": "stream",
          "text": [
            "WARNING:tensorflow:Can save best model only with val_loss available, skipping.\n",
            "WARNING:tensorflow:Can save best model only with val_loss available, skipping.\n"
          ]
        },
        {
          "metadata": {
            "tags": null
          },
          "name": "stdout",
          "output_type": "stream",
          "text": [
            "124/124 [==============================] - 236s 2s/step - loss: 4.7729 - accuracy: 0.9959 - iouMetric: 0.0628 - dice_coef: 0.1178\n",
            "Epoch 13/80\n",
            "123/124 [============================>.] - ETA: 1s - loss: 4.0308 - accuracy: 0.9959 - iouMetric: 0.0653 - dice_coef: 0.1220"
          ]
        },
        {
          "metadata": {
            "tags": null
          },
          "name": "stderr",
          "output_type": "stream",
          "text": [
            "WARNING:tensorflow:Can save best model only with val_loss available, skipping.\n",
            "WARNING:tensorflow:Can save best model only with val_loss available, skipping.\n"
          ]
        },
        {
          "metadata": {
            "tags": null
          },
          "name": "stdout",
          "output_type": "stream",
          "text": [
            "124/124 [==============================] - 238s 2s/step - loss: 4.0305 - accuracy: 0.9959 - iouMetric: 0.0663 - dice_coef: 0.1237\n",
            "Epoch 14/80\n",
            "123/124 [============================>.] - ETA: 1s - loss: 3.4045 - accuracy: 0.9959 - iouMetric: 0.0756 - dice_coef: 0.1397"
          ]
        },
        {
          "metadata": {
            "tags": null
          },
          "name": "stderr",
          "output_type": "stream",
          "text": [
            "WARNING:tensorflow:Can save best model only with val_loss available, skipping.\n",
            "WARNING:tensorflow:Can save best model only with val_loss available, skipping.\n"
          ]
        },
        {
          "metadata": {
            "tags": null
          },
          "name": "stdout",
          "output_type": "stream",
          "text": [
            "124/124 [==============================] - 214s 2s/step - loss: 3.4043 - accuracy: 0.9959 - iouMetric: 0.0751 - dice_coef: 0.1387\n",
            "Epoch 15/80\n",
            "123/124 [============================>.] - ETA: 1s - loss: 2.8791 - accuracy: 0.9960 - iouMetric: 0.0802 - dice_coef: 0.1474"
          ]
        },
        {
          "metadata": {
            "tags": null
          },
          "name": "stderr",
          "output_type": "stream",
          "text": [
            "WARNING:tensorflow:Can save best model only with val_loss available, skipping.\n",
            "WARNING:tensorflow:Can save best model only with val_loss available, skipping.\n"
          ]
        },
        {
          "metadata": {
            "tags": null
          },
          "name": "stdout",
          "output_type": "stream",
          "text": [
            "124/124 [==============================] - 217s 2s/step - loss: 2.8789 - accuracy: 0.9960 - iouMetric: 0.0796 - dice_coef: 0.1463\n",
            "Epoch 16/80\n",
            "123/124 [============================>.] - ETA: 1s - loss: 2.4393 - accuracy: 0.9960 - iouMetric: 0.0904 - dice_coef: 0.1643"
          ]
        },
        {
          "metadata": {
            "tags": null
          },
          "name": "stderr",
          "output_type": "stream",
          "text": [
            "WARNING:tensorflow:Can save best model only with val_loss available, skipping.\n",
            "WARNING:tensorflow:Can save best model only with val_loss available, skipping.\n"
          ]
        },
        {
          "metadata": {
            "tags": null
          },
          "name": "stdout",
          "output_type": "stream",
          "text": [
            "124/124 [==============================] - 217s 2s/step - loss: 2.4391 - accuracy: 0.9960 - iouMetric: 0.0916 - dice_coef: 0.1661\n",
            "Epoch 17/80\n",
            "123/124 [============================>.] - ETA: 1s - loss: 2.0731 - accuracy: 0.9960 - iouMetric: 0.0989 - dice_coef: 0.1783"
          ]
        },
        {
          "metadata": {
            "tags": null
          },
          "name": "stderr",
          "output_type": "stream",
          "text": [
            "WARNING:tensorflow:Can save best model only with val_loss available, skipping.\n",
            "WARNING:tensorflow:Can save best model only with val_loss available, skipping.\n"
          ]
        },
        {
          "metadata": {
            "tags": null
          },
          "name": "stdout",
          "output_type": "stream",
          "text": [
            "124/124 [==============================] - 239s 2s/step - loss: 2.0730 - accuracy: 0.9960 - iouMetric: 0.0982 - dice_coef: 0.1770\n",
            "Epoch 18/80\n",
            "124/124 [==============================] - ETA: 0s - loss: 1.7690 - accuracy: 0.9961 - iouMetric: 0.1034 - dice_coef: 0.1856"
          ]
        },
        {
          "metadata": {
            "tags": null
          },
          "name": "stderr",
          "output_type": "stream",
          "text": [
            "WARNING:tensorflow:Can save best model only with val_loss available, skipping.\n",
            "WARNING:tensorflow:Can save best model only with val_loss available, skipping.\n"
          ]
        },
        {
          "metadata": {
            "tags": null
          },
          "name": "stdout",
          "output_type": "stream",
          "text": [
            "124/124 [==============================] - 240s 2s/step - loss: 1.7690 - accuracy: 0.9961 - iouMetric: 0.1034 - dice_coef: 0.1856\n",
            "Epoch 19/80\n",
            "123/124 [============================>.] - ETA: 1s - loss: 1.5178 - accuracy: 0.9961 - iouMetric: 0.1080 - dice_coef: 0.1927"
          ]
        },
        {
          "metadata": {
            "tags": null
          },
          "name": "stderr",
          "output_type": "stream",
          "text": [
            "WARNING:tensorflow:Can save best model only with val_loss available, skipping.\n",
            "WARNING:tensorflow:Can save best model only with val_loss available, skipping.\n"
          ]
        },
        {
          "metadata": {
            "tags": null
          },
          "name": "stdout",
          "output_type": "stream",
          "text": [
            "124/124 [==============================] - 241s 2s/step - loss: 1.5177 - accuracy: 0.9961 - iouMetric: 0.1083 - dice_coef: 0.1931\n",
            "Epoch 20/80\n",
            "124/124 [==============================] - ETA: 0s - loss: 1.3104 - accuracy: 0.9962 - iouMetric: 0.1081 - dice_coef: 0.1929"
          ]
        },
        {
          "metadata": {
            "tags": null
          },
          "name": "stderr",
          "output_type": "stream",
          "text": [
            "WARNING:tensorflow:Can save best model only with val_loss available, skipping.\n",
            "WARNING:tensorflow:Can save best model only with val_loss available, skipping.\n"
          ]
        },
        {
          "metadata": {
            "tags": null
          },
          "name": "stdout",
          "output_type": "stream",
          "text": [
            "124/124 [==============================] - 238s 2s/step - loss: 1.3104 - accuracy: 0.9962 - iouMetric: 0.1081 - dice_coef: 0.1929\n",
            "Epoch 21/80\n",
            "124/124 [==============================] - ETA: 0s - loss: 1.1402 - accuracy: 0.9962 - iouMetric: 0.1071 - dice_coef: 0.1914"
          ]
        },
        {
          "metadata": {
            "tags": null
          },
          "name": "stderr",
          "output_type": "stream",
          "text": [
            "WARNING:tensorflow:Can save best model only with val_loss available, skipping.\n",
            "WARNING:tensorflow:Can save best model only with val_loss available, skipping.\n"
          ]
        },
        {
          "metadata": {
            "tags": null
          },
          "name": "stdout",
          "output_type": "stream",
          "text": [
            "124/124 [==============================] - 239s 2s/step - loss: 1.1402 - accuracy: 0.9962 - iouMetric: 0.1071 - dice_coef: 0.1914\n",
            "Epoch 22/80\n",
            "124/124 [==============================] - ETA: 0s - loss: 1.0002 - accuracy: 0.9961 - iouMetric: 0.1072 - dice_coef: 0.1920"
          ]
        },
        {
          "metadata": {
            "tags": null
          },
          "name": "stderr",
          "output_type": "stream",
          "text": [
            "WARNING:tensorflow:Can save best model only with val_loss available, skipping.\n",
            "WARNING:tensorflow:Can save best model only with val_loss available, skipping.\n"
          ]
        },
        {
          "metadata": {
            "tags": null
          },
          "name": "stdout",
          "output_type": "stream",
          "text": [
            "124/124 [==============================] - 240s 2s/step - loss: 1.0002 - accuracy: 0.9961 - iouMetric: 0.1072 - dice_coef: 0.1920\n",
            "Epoch 23/80\n",
            "124/124 [==============================] - ETA: 0s - loss: 0.8848 - accuracy: 0.9962 - iouMetric: 0.1129 - dice_coef: 0.2007"
          ]
        },
        {
          "metadata": {
            "tags": null
          },
          "name": "stderr",
          "output_type": "stream",
          "text": [
            "WARNING:tensorflow:Can save best model only with val_loss available, skipping.\n",
            "WARNING:tensorflow:Can save best model only with val_loss available, skipping.\n"
          ]
        },
        {
          "metadata": {
            "tags": null
          },
          "name": "stdout",
          "output_type": "stream",
          "text": [
            "124/124 [==============================] - 240s 2s/step - loss: 0.8848 - accuracy: 0.9962 - iouMetric: 0.1129 - dice_coef: 0.2007\n",
            "Epoch 24/80\n",
            "123/124 [============================>.] - ETA: 1s - loss: 0.7898 - accuracy: 0.9963 - iouMetric: 0.1196 - dice_coef: 0.2113"
          ]
        },
        {
          "metadata": {
            "tags": null
          },
          "name": "stderr",
          "output_type": "stream",
          "text": [
            "WARNING:tensorflow:Can save best model only with val_loss available, skipping.\n",
            "WARNING:tensorflow:Can save best model only with val_loss available, skipping.\n"
          ]
        },
        {
          "metadata": {
            "tags": null
          },
          "name": "stdout",
          "output_type": "stream",
          "text": [
            "124/124 [==============================] - 238s 2s/step - loss: 0.7898 - accuracy: 0.9963 - iouMetric: 0.1187 - dice_coef: 0.2097\n",
            "Epoch 25/80\n",
            "123/124 [============================>.] - ETA: 1s - loss: 0.7115 - accuracy: 0.9963 - iouMetric: 0.1208 - dice_coef: 0.2125"
          ]
        },
        {
          "metadata": {
            "tags": null
          },
          "name": "stderr",
          "output_type": "stream",
          "text": [
            "WARNING:tensorflow:Can save best model only with val_loss available, skipping.\n",
            "WARNING:tensorflow:Can save best model only with val_loss available, skipping.\n"
          ]
        },
        {
          "metadata": {
            "tags": null
          },
          "name": "stdout",
          "output_type": "stream",
          "text": [
            "124/124 [==============================] - 229s 2s/step - loss: 0.7115 - accuracy: 0.9963 - iouMetric: 0.1200 - dice_coef: 0.2112\n",
            "Epoch 26/80\n",
            "123/124 [============================>.] - ETA: 1s - loss: 0.6462 - accuracy: 0.9963 - iouMetric: 0.1226 - dice_coef: 0.2165"
          ]
        },
        {
          "metadata": {
            "tags": null
          },
          "name": "stderr",
          "output_type": "stream",
          "text": [
            "WARNING:tensorflow:Can save best model only with val_loss available, skipping.\n",
            "WARNING:tensorflow:Can save best model only with val_loss available, skipping.\n"
          ]
        },
        {
          "metadata": {
            "tags": null
          },
          "name": "stdout",
          "output_type": "stream",
          "text": [
            "124/124 [==============================] - 239s 2s/step - loss: 0.6462 - accuracy: 0.9963 - iouMetric: 0.1218 - dice_coef: 0.2151\n",
            "Epoch 27/80\n",
            "124/124 [==============================] - ETA: 0s - loss: 0.5916 - accuracy: 0.9963 - iouMetric: 0.1222 - dice_coef: 0.2154"
          ]
        },
        {
          "metadata": {
            "tags": null
          },
          "name": "stderr",
          "output_type": "stream",
          "text": [
            "WARNING:tensorflow:Can save best model only with val_loss available, skipping.\n",
            "WARNING:tensorflow:Can save best model only with val_loss available, skipping.\n"
          ]
        },
        {
          "metadata": {
            "tags": null
          },
          "name": "stdout",
          "output_type": "stream",
          "text": [
            "124/124 [==============================] - 239s 2s/step - loss: 0.5916 - accuracy: 0.9963 - iouMetric: 0.1222 - dice_coef: 0.2154\n",
            "Epoch 28/80\n",
            "124/124 [==============================] - ETA: 0s - loss: 0.5453 - accuracy: 0.9963 - iouMetric: 0.1193 - dice_coef: 0.2107"
          ]
        },
        {
          "metadata": {
            "tags": null
          },
          "name": "stderr",
          "output_type": "stream",
          "text": [
            "WARNING:tensorflow:Can save best model only with val_loss available, skipping.\n",
            "WARNING:tensorflow:Can save best model only with val_loss available, skipping.\n"
          ]
        },
        {
          "metadata": {
            "tags": null
          },
          "name": "stdout",
          "output_type": "stream",
          "text": [
            "124/124 [==============================] - 241s 2s/step - loss: 0.5453 - accuracy: 0.9963 - iouMetric: 0.1193 - dice_coef: 0.2107\n",
            "Epoch 29/80\n",
            "123/124 [============================>.] - ETA: 1s - loss: 0.5054 - accuracy: 0.9963 - iouMetric: 0.1269 - dice_coef: 0.2223"
          ]
        },
        {
          "metadata": {
            "tags": null
          },
          "name": "stderr",
          "output_type": "stream",
          "text": [
            "WARNING:tensorflow:Can save best model only with val_loss available, skipping.\n",
            "WARNING:tensorflow:Can save best model only with val_loss available, skipping.\n"
          ]
        },
        {
          "metadata": {
            "tags": null
          },
          "name": "stdout",
          "output_type": "stream",
          "text": [
            "124/124 [==============================] - 240s 2s/step - loss: 0.5054 - accuracy: 0.9963 - iouMetric: 0.1259 - dice_coef: 0.2206\n",
            "Epoch 30/80\n",
            "123/124 [============================>.] - ETA: 1s - loss: 0.4707 - accuracy: 0.9964 - iouMetric: 0.1287 - dice_coef: 0.2252"
          ]
        },
        {
          "metadata": {
            "tags": null
          },
          "name": "stderr",
          "output_type": "stream",
          "text": [
            "WARNING:tensorflow:Can save best model only with val_loss available, skipping.\n",
            "WARNING:tensorflow:Can save best model only with val_loss available, skipping.\n"
          ]
        },
        {
          "metadata": {
            "tags": null
          },
          "name": "stdout",
          "output_type": "stream",
          "text": [
            "124/124 [==============================] - 233s 2s/step - loss: 0.4707 - accuracy: 0.9964 - iouMetric: 0.1281 - dice_coef: 0.2242\n",
            "Epoch 31/80\n",
            "123/124 [============================>.] - ETA: 1s - loss: 0.4401 - accuracy: 0.9964 - iouMetric: 0.1311 - dice_coef: 0.2289"
          ]
        },
        {
          "metadata": {
            "tags": null
          },
          "name": "stderr",
          "output_type": "stream",
          "text": [
            "WARNING:tensorflow:Can save best model only with val_loss available, skipping.\n",
            "WARNING:tensorflow:Can save best model only with val_loss available, skipping.\n"
          ]
        },
        {
          "metadata": {
            "tags": null
          },
          "name": "stdout",
          "output_type": "stream",
          "text": [
            "124/124 [==============================] - 229s 2s/step - loss: 0.4401 - accuracy: 0.9964 - iouMetric: 0.1306 - dice_coef: 0.2283\n",
            "Epoch 32/80\n",
            "123/124 [============================>.] - ETA: 1s - loss: 0.4127 - accuracy: 0.9964 - iouMetric: 0.1324 - dice_coef: 0.2310"
          ]
        },
        {
          "metadata": {
            "tags": null
          },
          "name": "stderr",
          "output_type": "stream",
          "text": [
            "WARNING:tensorflow:Can save best model only with val_loss available, skipping.\n",
            "WARNING:tensorflow:Can save best model only with val_loss available, skipping.\n"
          ]
        },
        {
          "metadata": {
            "tags": null
          },
          "name": "stdout",
          "output_type": "stream",
          "text": [
            "124/124 [==============================] - 237s 2s/step - loss: 0.4127 - accuracy: 0.9964 - iouMetric: 0.1331 - dice_coef: 0.2321\n",
            "Epoch 33/80\n",
            "123/124 [============================>.] - ETA: 1s - loss: 0.3877 - accuracy: 0.9964 - iouMetric: 0.1347 - dice_coef: 0.2342"
          ]
        },
        {
          "metadata": {
            "tags": null
          },
          "name": "stderr",
          "output_type": "stream",
          "text": [
            "WARNING:tensorflow:Can save best model only with val_loss available, skipping.\n",
            "WARNING:tensorflow:Can save best model only with val_loss available, skipping.\n"
          ]
        },
        {
          "metadata": {
            "tags": null
          },
          "name": "stdout",
          "output_type": "stream",
          "text": [
            "124/124 [==============================] - 237s 2s/step - loss: 0.3877 - accuracy: 0.9964 - iouMetric: 0.1336 - dice_coef: 0.2324\n",
            "Epoch 34/80\n",
            "123/124 [============================>.] - ETA: 1s - loss: 0.3648 - accuracy: 0.9964 - iouMetric: 0.1365 - dice_coef: 0.2374"
          ]
        },
        {
          "metadata": {
            "tags": null
          },
          "name": "stderr",
          "output_type": "stream",
          "text": [
            "WARNING:tensorflow:Can save best model only with val_loss available, skipping.\n",
            "WARNING:tensorflow:Can save best model only with val_loss available, skipping.\n"
          ]
        },
        {
          "metadata": {
            "tags": null
          },
          "name": "stdout",
          "output_type": "stream",
          "text": [
            "124/124 [==============================] - 235s 2s/step - loss: 0.3648 - accuracy: 0.9964 - iouMetric: 0.1368 - dice_coef: 0.2379\n",
            "Epoch 35/80\n",
            "123/124 [============================>.] - ETA: 1s - loss: 0.3435 - accuracy: 0.9964 - iouMetric: 0.1366 - dice_coef: 0.2372"
          ]
        },
        {
          "metadata": {
            "tags": null
          },
          "name": "stderr",
          "output_type": "stream",
          "text": [
            "WARNING:tensorflow:Can save best model only with val_loss available, skipping.\n",
            "WARNING:tensorflow:Can save best model only with val_loss available, skipping.\n"
          ]
        },
        {
          "metadata": {
            "tags": null
          },
          "name": "stdout",
          "output_type": "stream",
          "text": [
            "124/124 [==============================] - 236s 2s/step - loss: 0.3435 - accuracy: 0.9964 - iouMetric: 0.1372 - dice_coef: 0.2381\n",
            "Epoch 36/80\n",
            "123/124 [============================>.] - ETA: 1s - loss: 0.3237 - accuracy: 0.9964 - iouMetric: 0.1351 - dice_coef: 0.2352"
          ]
        },
        {
          "metadata": {
            "tags": null
          },
          "name": "stderr",
          "output_type": "stream",
          "text": [
            "WARNING:tensorflow:Can save best model only with val_loss available, skipping.\n",
            "WARNING:tensorflow:Can save best model only with val_loss available, skipping.\n"
          ]
        },
        {
          "metadata": {
            "tags": null
          },
          "name": "stdout",
          "output_type": "stream",
          "text": [
            "124/124 [==============================] - 239s 2s/step - loss: 0.3237 - accuracy: 0.9964 - iouMetric: 0.1351 - dice_coef: 0.2352\n",
            "Epoch 37/80\n",
            "124/124 [==============================] - ETA: 0s - loss: 0.3049 - accuracy: 0.9965 - iouMetric: 0.1390 - dice_coef: 0.2407"
          ]
        },
        {
          "metadata": {
            "tags": null
          },
          "name": "stderr",
          "output_type": "stream",
          "text": [
            "WARNING:tensorflow:Can save best model only with val_loss available, skipping.\n",
            "WARNING:tensorflow:Can save best model only with val_loss available, skipping.\n"
          ]
        },
        {
          "metadata": {
            "tags": null
          },
          "name": "stdout",
          "output_type": "stream",
          "text": [
            "124/124 [==============================] - 239s 2s/step - loss: 0.3049 - accuracy: 0.9965 - iouMetric: 0.1390 - dice_coef: 0.2407\n",
            "Epoch 38/80\n",
            "123/124 [============================>.] - ETA: 1s - loss: 0.2873 - accuracy: 0.9964 - iouMetric: 0.1404 - dice_coef: 0.2432"
          ]
        },
        {
          "metadata": {
            "tags": null
          },
          "name": "stderr",
          "output_type": "stream",
          "text": [
            "WARNING:tensorflow:Can save best model only with val_loss available, skipping.\n",
            "WARNING:tensorflow:Can save best model only with val_loss available, skipping.\n"
          ]
        },
        {
          "metadata": {
            "tags": null
          },
          "name": "stdout",
          "output_type": "stream",
          "text": [
            "124/124 [==============================] - 225s 2s/step - loss: 0.2873 - accuracy: 0.9964 - iouMetric: 0.1393 - dice_coef: 0.2413\n",
            "Epoch 39/80\n",
            "123/124 [============================>.] - ETA: 1s - loss: 0.2706 - accuracy: 0.9965 - iouMetric: 0.1369 - dice_coef: 0.2379"
          ]
        },
        {
          "metadata": {
            "tags": null
          },
          "name": "stderr",
          "output_type": "stream",
          "text": [
            "WARNING:tensorflow:Can save best model only with val_loss available, skipping.\n",
            "WARNING:tensorflow:Can save best model only with val_loss available, skipping.\n"
          ]
        },
        {
          "metadata": {
            "tags": null
          },
          "name": "stdout",
          "output_type": "stream",
          "text": [
            "124/124 [==============================] - 217s 2s/step - loss: 0.2706 - accuracy: 0.9965 - iouMetric: 0.1358 - dice_coef: 0.2360\n",
            "Epoch 40/80\n",
            "123/124 [============================>.] - ETA: 1s - loss: 0.2548 - accuracy: 0.9965 - iouMetric: 0.1374 - dice_coef: 0.2383"
          ]
        },
        {
          "metadata": {
            "tags": null
          },
          "name": "stderr",
          "output_type": "stream",
          "text": [
            "WARNING:tensorflow:Can save best model only with val_loss available, skipping.\n",
            "WARNING:tensorflow:Can save best model only with val_loss available, skipping.\n"
          ]
        },
        {
          "metadata": {
            "tags": null
          },
          "name": "stdout",
          "output_type": "stream",
          "text": [
            "124/124 [==============================] - 232s 2s/step - loss: 0.2547 - accuracy: 0.9965 - iouMetric: 0.1389 - dice_coef: 0.2402\n",
            "Epoch 41/80\n",
            "124/124 [==============================] - ETA: 0s - loss: 0.2396 - accuracy: 0.9965 - iouMetric: 0.1442 - dice_coef: 0.2489"
          ]
        },
        {
          "metadata": {
            "tags": null
          },
          "name": "stderr",
          "output_type": "stream",
          "text": [
            "WARNING:tensorflow:Can save best model only with val_loss available, skipping.\n",
            "WARNING:tensorflow:Can save best model only with val_loss available, skipping.\n"
          ]
        },
        {
          "metadata": {
            "tags": null
          },
          "name": "stdout",
          "output_type": "stream",
          "text": [
            "124/124 [==============================] - 238s 2s/step - loss: 0.2396 - accuracy: 0.9965 - iouMetric: 0.1442 - dice_coef: 0.2489\n",
            "Epoch 42/80\n",
            "123/124 [============================>.] - ETA: 1s - loss: 0.2253 - accuracy: 0.9965 - iouMetric: 0.1469 - dice_coef: 0.2527"
          ]
        },
        {
          "metadata": {
            "tags": null
          },
          "name": "stderr",
          "output_type": "stream",
          "text": [
            "WARNING:tensorflow:Can save best model only with val_loss available, skipping.\n",
            "WARNING:tensorflow:Can save best model only with val_loss available, skipping.\n"
          ]
        },
        {
          "metadata": {
            "tags": null
          },
          "name": "stdout",
          "output_type": "stream",
          "text": [
            "124/124 [==============================] - 229s 2s/step - loss: 0.2253 - accuracy: 0.9965 - iouMetric: 0.1475 - dice_coef: 0.2537\n",
            "Epoch 43/80\n",
            "123/124 [============================>.] - ETA: 1s - loss: 0.2119 - accuracy: 0.9965 - iouMetric: 0.1422 - dice_coef: 0.2457"
          ]
        },
        {
          "metadata": {
            "tags": null
          },
          "name": "stderr",
          "output_type": "stream",
          "text": [
            "WARNING:tensorflow:Can save best model only with val_loss available, skipping.\n",
            "WARNING:tensorflow:Can save best model only with val_loss available, skipping.\n"
          ]
        },
        {
          "metadata": {
            "tags": null
          },
          "name": "stdout",
          "output_type": "stream",
          "text": [
            "124/124 [==============================] - 235s 2s/step - loss: 0.2119 - accuracy: 0.9965 - iouMetric: 0.1430 - dice_coef: 0.2470\n",
            "Epoch 44/80\n",
            "123/124 [============================>.] - ETA: 1s - loss: 0.1991 - accuracy: 0.9965 - iouMetric: 0.1433 - dice_coef: 0.2464"
          ]
        },
        {
          "metadata": {
            "tags": null
          },
          "name": "stderr",
          "output_type": "stream",
          "text": [
            "WARNING:tensorflow:Can save best model only with val_loss available, skipping.\n",
            "WARNING:tensorflow:Can save best model only with val_loss available, skipping.\n"
          ]
        },
        {
          "metadata": {
            "tags": null
          },
          "name": "stdout",
          "output_type": "stream",
          "text": [
            "124/124 [==============================] - 229s 2s/step - loss: 0.1991 - accuracy: 0.9965 - iouMetric: 0.1439 - dice_coef: 0.2474\n",
            "Epoch 45/80\n",
            "124/124 [==============================] - ETA: 0s - loss: 0.1869 - accuracy: 0.9965 - iouMetric: 0.1409 - dice_coef: 0.2431"
          ]
        },
        {
          "metadata": {
            "tags": null
          },
          "name": "stderr",
          "output_type": "stream",
          "text": [
            "WARNING:tensorflow:Can save best model only with val_loss available, skipping.\n",
            "WARNING:tensorflow:Can save best model only with val_loss available, skipping.\n"
          ]
        },
        {
          "metadata": {
            "tags": null
          },
          "name": "stdout",
          "output_type": "stream",
          "text": [
            "124/124 [==============================] - 234s 2s/step - loss: 0.1869 - accuracy: 0.9965 - iouMetric: 0.1409 - dice_coef: 0.2431\n",
            "Epoch 46/80\n",
            "123/124 [============================>.] - ETA: 1s - loss: 0.1754 - accuracy: 0.9965 - iouMetric: 0.1438 - dice_coef: 0.2484"
          ]
        },
        {
          "metadata": {
            "tags": null
          },
          "name": "stderr",
          "output_type": "stream",
          "text": [
            "WARNING:tensorflow:Can save best model only with val_loss available, skipping.\n",
            "WARNING:tensorflow:Can save best model only with val_loss available, skipping.\n"
          ]
        },
        {
          "metadata": {
            "tags": null
          },
          "name": "stdout",
          "output_type": "stream",
          "text": [
            "124/124 [==============================] - 236s 2s/step - loss: 0.1754 - accuracy: 0.9965 - iouMetric: 0.1428 - dice_coef: 0.2467\n",
            "Epoch 47/80\n",
            "123/124 [============================>.] - ETA: 1s - loss: 0.1644 - accuracy: 0.9965 - iouMetric: 0.1464 - dice_coef: 0.2515"
          ]
        },
        {
          "metadata": {
            "tags": null
          },
          "name": "stderr",
          "output_type": "stream",
          "text": [
            "WARNING:tensorflow:Can save best model only with val_loss available, skipping.\n",
            "WARNING:tensorflow:Can save best model only with val_loss available, skipping.\n"
          ]
        },
        {
          "metadata": {
            "tags": null
          },
          "name": "stdout",
          "output_type": "stream",
          "text": [
            "124/124 [==============================] - 237s 2s/step - loss: 0.1644 - accuracy: 0.9965 - iouMetric: 0.1455 - dice_coef: 0.2499\n",
            "Epoch 48/80\n",
            "123/124 [============================>.] - ETA: 1s - loss: 0.1544 - accuracy: 0.9966 - iouMetric: 0.1429 - dice_coef: 0.2463"
          ]
        },
        {
          "metadata": {
            "tags": null
          },
          "name": "stderr",
          "output_type": "stream",
          "text": [
            "WARNING:tensorflow:Can save best model only with val_loss available, skipping.\n",
            "WARNING:tensorflow:Can save best model only with val_loss available, skipping.\n"
          ]
        },
        {
          "output_type": "stream",
          "name": "stdout",
          "text": [
            "124/124 [==============================] - 236s 2s/step - loss: 0.1544 - accuracy: 0.9966 - iouMetric: 0.1432 - dice_coef: 0.2468\n",
            "Epoch 49/80\n",
            "123/124 [============================>.] - ETA: 1s - loss: 0.1445 - accuracy: 0.9965 - iouMetric: 0.1524 - dice_coef: 0.2606"
          ]
        },
        {
          "output_type": "stream",
          "name": "stderr",
          "text": [
            "WARNING:tensorflow:Can save best model only with val_loss available, skipping.\n",
            "WARNING:tensorflow:Can save best model only with val_loss available, skipping.\n"
          ]
        },
        {
          "output_type": "stream",
          "name": "stdout",
          "text": [
            "\b\b\b\b\b\b\b\b\b\b\b\b\b\b\b\b\b\b\b\b\b\b\b\b\b\b\b\b\b\b\b\b\b\b\b\b\b\b\b\b\b\b\b\b\b\b\b\b\b\b\b\b\b\b\b\b\b\b\b\b\b\b\b\b\b\b\b\b\b\b\b\b\b\b\b\b\b\b\b\b\b\b\b\b\b\b\b\b\b\b\b\b\b\b\b\b\b\b\b\b\b\b\b\b\b\b\b\b\b\b\b\b\b\b\b\b\b\b\b\b\b\b\b\b\r124/124 [==============================] - 219s 2s/step - loss: 0.1445 - accuracy: 0.9965 - iouMetric: 0.1521 - dice_coef: 0.2601\n",
            "Epoch 50/80\n",
            "123/124 [============================>.] - ETA: 1s - loss: 0.1355 - accuracy: 0.9965 - iouMetric: 0.1474 - dice_coef: 0.2531"
          ]
        },
        {
          "output_type": "stream",
          "name": "stderr",
          "text": [
            "WARNING:tensorflow:Can save best model only with val_loss available, skipping.\n",
            "WARNING:tensorflow:Can save best model only with val_loss available, skipping.\n"
          ]
        },
        {
          "output_type": "stream",
          "name": "stdout",
          "text": [
            "\b\b\b\b\b\b\b\b\b\b\b\b\b\b\b\b\b\b\b\b\b\b\b\b\b\b\b\b\b\b\b\b\b\b\b\b\b\b\b\b\b\b\b\b\b\b\b\b\b\b\b\b\b\b\b\b\b\b\b\b\b\b\b\b\b\b\b\b\b\b\b\b\b\b\b\b\b\b\b\b\b\b\b\b\b\b\b\b\b\b\b\b\b\b\b\b\b\b\b\b\b\b\b\b\b\b\b\b\b\b\b\b\b\b\b\b\b\b\b\b\b\b\b\b\r124/124 [==============================] - 227s 2s/step - loss: 0.1355 - accuracy: 0.9965 - iouMetric: 0.1484 - dice_coef: 0.2545\n",
            "Epoch 51/80\n",
            "123/124 [============================>.] - ETA: 1s - loss: 0.1270 - accuracy: 0.9966 - iouMetric: 0.1491 - dice_coef: 0.2563"
          ]
        },
        {
          "output_type": "stream",
          "name": "stderr",
          "text": [
            "WARNING:tensorflow:Can save best model only with val_loss available, skipping.\n",
            "WARNING:tensorflow:Can save best model only with val_loss available, skipping.\n"
          ]
        },
        {
          "output_type": "stream",
          "name": "stdout",
          "text": [
            "\b\b\b\b\b\b\b\b\b\b\b\b\b\b\b\b\b\b\b\b\b\b\b\b\b\b\b\b\b\b\b\b\b\b\b\b\b\b\b\b\b\b\b\b\b\b\b\b\b\b\b\b\b\b\b\b\b\b\b\b\b\b\b\b\b\b\b\b\b\b\b\b\b\b\b\b\b\b\b\b\b\b\b\b\b\b\b\b\b\b\b\b\b\b\b\b\b\b\b\b\b\b\b\b\b\b\b\b\b\b\b\b\b\b\b\b\b\b\b\b\b\b\b\b\r124/124 [==============================] - 222s 2s/step - loss: 0.1270 - accuracy: 0.9966 - iouMetric: 0.1497 - dice_coef: 0.2572\n",
            "Epoch 52/80\n",
            "124/124 [==============================] - ETA: 0s - loss: 0.1189 - accuracy: 0.9965 - iouMetric: 0.1469 - dice_coef: 0.2526"
          ]
        },
        {
          "output_type": "stream",
          "name": "stderr",
          "text": [
            "WARNING:tensorflow:Can save best model only with val_loss available, skipping.\n",
            "WARNING:tensorflow:Can save best model only with val_loss available, skipping.\n"
          ]
        },
        {
          "output_type": "stream",
          "name": "stdout",
          "text": [
            "\b\b\b\b\b\b\b\b\b\b\b\b\b\b\b\b\b\b\b\b\b\b\b\b\b\b\b\b\b\b\b\b\b\b\b\b\b\b\b\b\b\b\b\b\b\b\b\b\b\b\b\b\b\b\b\b\b\b\b\b\b\b\b\b\b\b\b\b\b\b\b\b\b\b\b\b\b\b\b\b\b\b\b\b\b\b\b\b\b\b\b\b\b\b\b\b\b\b\b\b\b\b\b\b\b\b\b\b\b\b\b\b\b\b\b\b\b\b\b\b\b\b\b\b\r124/124 [==============================] - 242s 2s/step - loss: 0.1189 - accuracy: 0.9965 - iouMetric: 0.1469 - dice_coef: 0.2526\n",
            "Epoch 53/80\n",
            "124/124 [==============================] - ETA: 0s - loss: 0.1115 - accuracy: 0.9966 - iouMetric: 0.1448 - dice_coef: 0.2494"
          ]
        },
        {
          "output_type": "stream",
          "name": "stderr",
          "text": [
            "WARNING:tensorflow:Can save best model only with val_loss available, skipping.\n",
            "WARNING:tensorflow:Can save best model only with val_loss available, skipping.\n"
          ]
        },
        {
          "output_type": "stream",
          "name": "stdout",
          "text": [
            "\b\b\b\b\b\b\b\b\b\b\b\b\b\b\b\b\b\b\b\b\b\b\b\b\b\b\b\b\b\b\b\b\b\b\b\b\b\b\b\b\b\b\b\b\b\b\b\b\b\b\b\b\b\b\b\b\b\b\b\b\b\b\b\b\b\b\b\b\b\b\b\b\b\b\b\b\b\b\b\b\b\b\b\b\b\b\b\b\b\b\b\b\b\b\b\b\b\b\b\b\b\b\b\b\b\b\b\b\b\b\b\b\b\b\b\b\b\b\b\b\b\b\b\b\r124/124 [==============================] - 234s 2s/step - loss: 0.1115 - accuracy: 0.9966 - iouMetric: 0.1448 - dice_coef: 0.2494\n",
            "Epoch 54/80\n",
            "124/124 [==============================] - ETA: 0s - loss: 0.1044 - accuracy: 0.9965 - iouMetric: 0.1439 - dice_coef: 0.2488"
          ]
        },
        {
          "output_type": "stream",
          "name": "stderr",
          "text": [
            "WARNING:tensorflow:Can save best model only with val_loss available, skipping.\n",
            "WARNING:tensorflow:Can save best model only with val_loss available, skipping.\n"
          ]
        },
        {
          "output_type": "stream",
          "name": "stdout",
          "text": [
            "\b\b\b\b\b\b\b\b\b\b\b\b\b\b\b\b\b\b\b\b\b\b\b\b\b\b\b\b\b\b\b\b\b\b\b\b\b\b\b\b\b\b\b\b\b\b\b\b\b\b\b\b\b\b\b\b\b\b\b\b\b\b\b\b\b\b\b\b\b\b\b\b\b\b\b\b\b\b\b\b\b\b\b\b\b\b\b\b\b\b\b\b\b\b\b\b\b\b\b\b\b\b\b\b\b\b\b\b\b\b\b\b\b\b\b\b\b\b\b\b\b\b\b\b\r124/124 [==============================] - 240s 2s/step - loss: 0.1044 - accuracy: 0.9965 - iouMetric: 0.1439 - dice_coef: 0.2488\n",
            "Epoch 55/80\n",
            "123/124 [============================>.] - ETA: 1s - loss: 0.0978 - accuracy: 0.9966 - iouMetric: 0.1489 - dice_coef: 0.2553"
          ]
        },
        {
          "output_type": "stream",
          "name": "stderr",
          "text": [
            "WARNING:tensorflow:Can save best model only with val_loss available, skipping.\n",
            "WARNING:tensorflow:Can save best model only with val_loss available, skipping.\n"
          ]
        },
        {
          "output_type": "stream",
          "name": "stdout",
          "text": [
            "\b\b\b\b\b\b\b\b\b\b\b\b\b\b\b\b\b\b\b\b\b\b\b\b\b\b\b\b\b\b\b\b\b\b\b\b\b\b\b\b\b\b\b\b\b\b\b\b\b\b\b\b\b\b\b\b\b\b\b\b\b\b\b\b\b\b\b\b\b\b\b\b\b\b\b\b\b\b\b\b\b\b\b\b\b\b\b\b\b\b\b\b\b\b\b\b\b\b\b\b\b\b\b\b\b\b\b\b\b\b\b\b\b\b\b\b\b\b\b\b\b\b\b\b\r124/124 [==============================] - 242s 2s/step - loss: 0.0978 - accuracy: 0.9966 - iouMetric: 0.1477 - dice_coef: 0.2534\n",
            "Epoch 56/80\n",
            "123/124 [============================>.] - ETA: 1s - loss: 0.0914 - accuracy: 0.9966 - iouMetric: 0.1538 - dice_coef: 0.2630"
          ]
        },
        {
          "output_type": "stream",
          "name": "stderr",
          "text": [
            "WARNING:tensorflow:Can save best model only with val_loss available, skipping.\n",
            "WARNING:tensorflow:Can save best model only with val_loss available, skipping.\n"
          ]
        },
        {
          "output_type": "stream",
          "name": "stdout",
          "text": [
            "\b\b\b\b\b\b\b\b\b\b\b\b\b\b\b\b\b\b\b\b\b\b\b\b\b\b\b\b\b\b\b\b\b\b\b\b\b\b\b\b\b\b\b\b\b\b\b\b\b\b\b\b\b\b\b\b\b\b\b\b\b\b\b\b\b\b\b\b\b\b\b\b\b\b\b\b\b\b\b\b\b\b\b\b\b\b\b\b\b\b\b\b\b\b\b\b\b\b\b\b\b\b\b\b\b\b\b\b\b\b\b\b\b\b\b\b\b\b\b\b\b\b\b\b\r124/124 [==============================] - 242s 2s/step - loss: 0.0914 - accuracy: 0.9966 - iouMetric: 0.1547 - dice_coef: 0.2643\n",
            "Epoch 57/80\n",
            "124/124 [==============================] - ETA: 0s - loss: 0.0858 - accuracy: 0.9966 - iouMetric: 0.1532 - dice_coef: 0.2613"
          ]
        },
        {
          "output_type": "stream",
          "name": "stderr",
          "text": [
            "WARNING:tensorflow:Can save best model only with val_loss available, skipping.\n",
            "WARNING:tensorflow:Can save best model only with val_loss available, skipping.\n"
          ]
        },
        {
          "output_type": "stream",
          "name": "stdout",
          "text": [
            "\b\b\b\b\b\b\b\b\b\b\b\b\b\b\b\b\b\b\b\b\b\b\b\b\b\b\b\b\b\b\b\b\b\b\b\b\b\b\b\b\b\b\b\b\b\b\b\b\b\b\b\b\b\b\b\b\b\b\b\b\b\b\b\b\b\b\b\b\b\b\b\b\b\b\b\b\b\b\b\b\b\b\b\b\b\b\b\b\b\b\b\b\b\b\b\b\b\b\b\b\b\b\b\b\b\b\b\b\b\b\b\b\b\b\b\b\b\b\b\b\b\b\b\b\r124/124 [==============================] - 220s 2s/step - loss: 0.0858 - accuracy: 0.9966 - iouMetric: 0.1532 - dice_coef: 0.2613\n",
            "Epoch 58/80\n",
            "124/124 [==============================] - ETA: 0s - loss: 0.0803 - accuracy: 0.9966 - iouMetric: 0.1560 - dice_coef: 0.2662"
          ]
        },
        {
          "output_type": "stream",
          "name": "stderr",
          "text": [
            "WARNING:tensorflow:Can save best model only with val_loss available, skipping.\n",
            "WARNING:tensorflow:Can save best model only with val_loss available, skipping.\n"
          ]
        },
        {
          "output_type": "stream",
          "name": "stdout",
          "text": [
            "\b\b\b\b\b\b\b\b\b\b\b\b\b\b\b\b\b\b\b\b\b\b\b\b\b\b\b\b\b\b\b\b\b\b\b\b\b\b\b\b\b\b\b\b\b\b\b\b\b\b\b\b\b\b\b\b\b\b\b\b\b\b\b\b\b\b\b\b\b\b\b\b\b\b\b\b\b\b\b\b\b\b\b\b\b\b\b\b\b\b\b\b\b\b\b\b\b\b\b\b\b\b\b\b\b\b\b\b\b\b\b\b\b\b\b\b\b\b\b\b\b\b\b\b\r124/124 [==============================] - 215s 2s/step - loss: 0.0803 - accuracy: 0.9966 - iouMetric: 0.1560 - dice_coef: 0.2662\n",
            "Epoch 59/80\n",
            "124/124 [==============================] - ETA: 0s - loss: 0.0755 - accuracy: 0.9966 - iouMetric: 0.1530 - dice_coef: 0.2608"
          ]
        },
        {
          "output_type": "stream",
          "name": "stderr",
          "text": [
            "WARNING:tensorflow:Can save best model only with val_loss available, skipping.\n",
            "WARNING:tensorflow:Can save best model only with val_loss available, skipping.\n"
          ]
        },
        {
          "output_type": "stream",
          "name": "stdout",
          "text": [
            "\b\b\b\b\b\b\b\b\b\b\b\b\b\b\b\b\b\b\b\b\b\b\b\b\b\b\b\b\b\b\b\b\b\b\b\b\b\b\b\b\b\b\b\b\b\b\b\b\b\b\b\b\b\b\b\b\b\b\b\b\b\b\b\b\b\b\b\b\b\b\b\b\b\b\b\b\b\b\b\b\b\b\b\b\b\b\b\b\b\b\b\b\b\b\b\b\b\b\b\b\b\b\b\b\b\b\b\b\b\b\b\b\b\b\b\b\b\b\b\b\b\b\b\b\r124/124 [==============================] - 221s 2s/step - loss: 0.0755 - accuracy: 0.9966 - iouMetric: 0.1530 - dice_coef: 0.2608\n",
            "Epoch 60/80\n",
            "123/124 [============================>.] - ETA: 1s - loss: 0.0706 - accuracy: 0.9966 - iouMetric: 0.1542 - dice_coef: 0.2638"
          ]
        },
        {
          "output_type": "stream",
          "name": "stderr",
          "text": [
            "WARNING:tensorflow:Can save best model only with val_loss available, skipping.\n",
            "WARNING:tensorflow:Can save best model only with val_loss available, skipping.\n"
          ]
        },
        {
          "output_type": "stream",
          "name": "stdout",
          "text": [
            "\b\b\b\b\b\b\b\b\b\b\b\b\b\b\b\b\b\b\b\b\b\b\b\b\b\b\b\b\b\b\b\b\b\b\b\b\b\b\b\b\b\b\b\b\b\b\b\b\b\b\b\b\b\b\b\b\b\b\b\b\b\b\b\b\b\b\b\b\b\b\b\b\b\b\b\b\b\b\b\b\b\b\b\b\b\b\b\b\b\b\b\b\b\b\b\b\b\b\b\b\b\b\b\b\b\b\b\b\b\b\b\b\b\b\b\b\b\b\b\b\b\b\b\b\r124/124 [==============================] - 227s 2s/step - loss: 0.0706 - accuracy: 0.9966 - iouMetric: 0.1543 - dice_coef: 0.2640\n",
            "Epoch 61/80\n",
            "124/124 [==============================] - ETA: 0s - loss: 0.0665 - accuracy: 0.9966 - iouMetric: 0.1531 - dice_coef: 0.2626"
          ]
        },
        {
          "output_type": "stream",
          "name": "stderr",
          "text": [
            "WARNING:tensorflow:Can save best model only with val_loss available, skipping.\n",
            "WARNING:tensorflow:Can save best model only with val_loss available, skipping.\n"
          ]
        },
        {
          "output_type": "stream",
          "name": "stdout",
          "text": [
            "\b\b\b\b\b\b\b\b\b\b\b\b\b\b\b\b\b\b\b\b\b\b\b\b\b\b\b\b\b\b\b\b\b\b\b\b\b\b\b\b\b\b\b\b\b\b\b\b\b\b\b\b\b\b\b\b\b\b\b\b\b\b\b\b\b\b\b\b\b\b\b\b\b\b\b\b\b\b\b\b\b\b\b\b\b\b\b\b\b\b\b\b\b\b\b\b\b\b\b\b\b\b\b\b\b\b\b\b\b\b\b\b\b\b\b\b\b\b\b\b\b\b\b\b\r124/124 [==============================] - 224s 2s/step - loss: 0.0665 - accuracy: 0.9966 - iouMetric: 0.1531 - dice_coef: 0.2626\n",
            "Epoch 62/80\n",
            "124/124 [==============================] - ETA: 0s - loss: 0.0625 - accuracy: 0.9966 - iouMetric: 0.1511 - dice_coef: 0.2589"
          ]
        },
        {
          "output_type": "stream",
          "name": "stderr",
          "text": [
            "WARNING:tensorflow:Can save best model only with val_loss available, skipping.\n",
            "WARNING:tensorflow:Can save best model only with val_loss available, skipping.\n"
          ]
        },
        {
          "output_type": "stream",
          "name": "stdout",
          "text": [
            "\b\b\b\b\b\b\b\b\b\b\b\b\b\b\b\b\b\b\b\b\b\b\b\b\b\b\b\b\b\b\b\b\b\b\b\b\b\b\b\b\b\b\b\b\b\b\b\b\b\b\b\b\b\b\b\b\b\b\b\b\b\b\b\b\b\b\b\b\b\b\b\b\b\b\b\b\b\b\b\b\b\b\b\b\b\b\b\b\b\b\b\b\b\b\b\b\b\b\b\b\b\b\b\b\b\b\b\b\b\b\b\b\b\b\b\b\b\b\b\b\b\b\b\b\r124/124 [==============================] - 224s 2s/step - loss: 0.0625 - accuracy: 0.9966 - iouMetric: 0.1511 - dice_coef: 0.2589\n",
            "Epoch 63/80\n",
            "124/124 [==============================] - ETA: 0s - loss: 0.0588 - accuracy: 0.9966 - iouMetric: 0.1504 - dice_coef: 0.2572"
          ]
        },
        {
          "output_type": "stream",
          "name": "stderr",
          "text": [
            "WARNING:tensorflow:Can save best model only with val_loss available, skipping.\n",
            "WARNING:tensorflow:Can save best model only with val_loss available, skipping.\n"
          ]
        },
        {
          "output_type": "stream",
          "name": "stdout",
          "text": [
            "\b\b\b\b\b\b\b\b\b\b\b\b\b\b\b\b\b\b\b\b\b\b\b\b\b\b\b\b\b\b\b\b\b\b\b\b\b\b\b\b\b\b\b\b\b\b\b\b\b\b\b\b\b\b\b\b\b\b\b\b\b\b\b\b\b\b\b\b\b\b\b\b\b\b\b\b\b\b\b\b\b\b\b\b\b\b\b\b\b\b\b\b\b\b\b\b\b\b\b\b\b\b\b\b\b\b\b\b\b\b\b\b\b\b\b\b\b\b\b\b\b\b\b\b\r124/124 [==============================] - 232s 2s/step - loss: 0.0588 - accuracy: 0.9966 - iouMetric: 0.1504 - dice_coef: 0.2572\n",
            "Epoch 64/80\n",
            "123/124 [============================>.] - ETA: 1s - loss: 0.0554 - accuracy: 0.9966 - iouMetric: 0.1500 - dice_coef: 0.2573"
          ]
        },
        {
          "output_type": "stream",
          "name": "stderr",
          "text": [
            "WARNING:tensorflow:Can save best model only with val_loss available, skipping.\n",
            "WARNING:tensorflow:Can save best model only with val_loss available, skipping.\n"
          ]
        },
        {
          "output_type": "stream",
          "name": "stdout",
          "text": [
            "\b\b\b\b\b\b\b\b\b\b\b\b\b\b\b\b\b\b\b\b\b\b\b\b\b\b\b\b\b\b\b\b\b\b\b\b\b\b\b\b\b\b\b\b\b\b\b\b\b\b\b\b\b\b\b\b\b\b\b\b\b\b\b\b\b\b\b\b\b\b\b\b\b\b\b\b\b\b\b\b\b\b\b\b\b\b\b\b\b\b\b\b\b\b\b\b\b\b\b\b\b\b\b\b\b\b\b\b\b\b\b\b\b\b\b\b\b\b\b\b\b\b\b\b\r124/124 [==============================] - 234s 2s/step - loss: 0.0554 - accuracy: 0.9966 - iouMetric: 0.1489 - dice_coef: 0.2554\n",
            "Epoch 65/80\n",
            "123/124 [============================>.] - ETA: 1s - loss: 0.0523 - accuracy: 0.9966 - iouMetric: 0.1486 - dice_coef: 0.2551"
          ]
        },
        {
          "output_type": "stream",
          "name": "stderr",
          "text": [
            "WARNING:tensorflow:Can save best model only with val_loss available, skipping.\n",
            "WARNING:tensorflow:Can save best model only with val_loss available, skipping.\n"
          ]
        },
        {
          "output_type": "stream",
          "name": "stdout",
          "text": [
            "\b\b\b\b\b\b\b\b\b\b\b\b\b\b\b\b\b\b\b\b\b\b\b\b\b\b\b\b\b\b\b\b\b\b\b\b\b\b\b\b\b\b\b\b\b\b\b\b\b\b\b\b\b\b\b\b\b\b\b\b\b\b\b\b\b\b\b\b\b\b\b\b\b\b\b\b\b\b\b\b\b\b\b\b\b\b\b\b\b\b\b\b\b\b\b\b\b\b\b\b\b\b\b\b\b\b\b\b\b\b\b\b\b\b\b\b\b\b\b\b\b\b\b\b\r124/124 [==============================] - 235s 2s/step - loss: 0.0523 - accuracy: 0.9966 - iouMetric: 0.1475 - dice_coef: 0.2532\n",
            "Epoch 66/80\n",
            "124/124 [==============================] - ETA: 0s - loss: 0.0490 - accuracy: 0.9966 - iouMetric: 0.1569 - dice_coef: 0.2682"
          ]
        },
        {
          "output_type": "stream",
          "name": "stderr",
          "text": [
            "WARNING:tensorflow:Can save best model only with val_loss available, skipping.\n",
            "WARNING:tensorflow:Can save best model only with val_loss available, skipping.\n"
          ]
        },
        {
          "output_type": "stream",
          "name": "stdout",
          "text": [
            "\b\b\b\b\b\b\b\b\b\b\b\b\b\b\b\b\b\b\b\b\b\b\b\b\b\b\b\b\b\b\b\b\b\b\b\b\b\b\b\b\b\b\b\b\b\b\b\b\b\b\b\b\b\b\b\b\b\b\b\b\b\b\b\b\b\b\b\b\b\b\b\b\b\b\b\b\b\b\b\b\b\b\b\b\b\b\b\b\b\b\b\b\b\b\b\b\b\b\b\b\b\b\b\b\b\b\b\b\b\b\b\b\b\b\b\b\b\b\b\b\b\b\b\b\r124/124 [==============================] - 234s 2s/step - loss: 0.0490 - accuracy: 0.9966 - iouMetric: 0.1569 - dice_coef: 0.2682\n",
            "Epoch 67/80\n",
            "123/124 [============================>.] - ETA: 1s - loss: 0.0464 - accuracy: 0.9967 - iouMetric: 0.1594 - dice_coef: 0.2712"
          ]
        },
        {
          "output_type": "stream",
          "name": "stderr",
          "text": [
            "WARNING:tensorflow:Can save best model only with val_loss available, skipping.\n",
            "WARNING:tensorflow:Can save best model only with val_loss available, skipping.\n"
          ]
        },
        {
          "output_type": "stream",
          "name": "stdout",
          "text": [
            "\b\b\b\b\b\b\b\b\b\b\b\b\b\b\b\b\b\b\b\b\b\b\b\b\b\b\b\b\b\b\b\b\b\b\b\b\b\b\b\b\b\b\b\b\b\b\b\b\b\b\b\b\b\b\b\b\b\b\b\b\b\b\b\b\b\b\b\b\b\b\b\b\b\b\b\b\b\b\b\b\b\b\b\b\b\b\b\b\b\b\b\b\b\b\b\b\b\b\b\b\b\b\b\b\b\b\b\b\b\b\b\b\b\b\b\b\b\b\b\b\b\b\b\b\r124/124 [==============================] - 237s 2s/step - loss: 0.0464 - accuracy: 0.9967 - iouMetric: 0.1613 - dice_coef: 0.2736\n",
            "Epoch 68/80\n",
            "123/124 [============================>.] - ETA: 1s - loss: 0.0440 - accuracy: 0.9966 - iouMetric: 0.1570 - dice_coef: 0.2675"
          ]
        },
        {
          "output_type": "stream",
          "name": "stderr",
          "text": [
            "WARNING:tensorflow:Can save best model only with val_loss available, skipping.\n",
            "WARNING:tensorflow:Can save best model only with val_loss available, skipping.\n"
          ]
        },
        {
          "output_type": "stream",
          "name": "stdout",
          "text": [
            "\b\b\b\b\b\b\b\b\b\b\b\b\b\b\b\b\b\b\b\b\b\b\b\b\b\b\b\b\b\b\b\b\b\b\b\b\b\b\b\b\b\b\b\b\b\b\b\b\b\b\b\b\b\b\b\b\b\b\b\b\b\b\b\b\b\b\b\b\b\b\b\b\b\b\b\b\b\b\b\b\b\b\b\b\b\b\b\b\b\b\b\b\b\b\b\b\b\b\b\b\b\b\b\b\b\b\b\b\b\b\b\b\b\b\b\b\b\b\b\b\b\b\b\b\r124/124 [==============================] - 224s 2s/step - loss: 0.0440 - accuracy: 0.9966 - iouMetric: 0.1570 - dice_coef: 0.2676\n",
            "Epoch 69/80\n",
            "123/124 [============================>.] - ETA: 1s - loss: 0.0417 - accuracy: 0.9966 - iouMetric: 0.1580 - dice_coef: 0.2691"
          ]
        },
        {
          "output_type": "stream",
          "name": "stderr",
          "text": [
            "WARNING:tensorflow:Can save best model only with val_loss available, skipping.\n",
            "WARNING:tensorflow:Can save best model only with val_loss available, skipping.\n"
          ]
        },
        {
          "output_type": "stream",
          "name": "stdout",
          "text": [
            "\b\b\b\b\b\b\b\b\b\b\b\b\b\b\b\b\b\b\b\b\b\b\b\b\b\b\b\b\b\b\b\b\b\b\b\b\b\b\b\b\b\b\b\b\b\b\b\b\b\b\b\b\b\b\b\b\b\b\b\b\b\b\b\b\b\b\b\b\b\b\b\b\b\b\b\b\b\b\b\b\b\b\b\b\b\b\b\b\b\b\b\b\b\b\b\b\b\b\b\b\b\b\b\b\b\b\b\b\b\b\b\b\b\b\b\b\b\b\b\b\b\b\b\b\r124/124 [==============================] - 233s 2s/step - loss: 0.0417 - accuracy: 0.9966 - iouMetric: 0.1580 - dice_coef: 0.2690\n",
            "Epoch 70/80\n",
            "124/124 [==============================] - ETA: 0s - loss: 0.0396 - accuracy: 0.9966 - iouMetric: 0.1516 - dice_coef: 0.2596"
          ]
        },
        {
          "output_type": "stream",
          "name": "stderr",
          "text": [
            "WARNING:tensorflow:Can save best model only with val_loss available, skipping.\n",
            "WARNING:tensorflow:Can save best model only with val_loss available, skipping.\n"
          ]
        },
        {
          "output_type": "stream",
          "name": "stdout",
          "text": [
            "\b\b\b\b\b\b\b\b\b\b\b\b\b\b\b\b\b\b\b\b\b\b\b\b\b\b\b\b\b\b\b\b\b\b\b\b\b\b\b\b\b\b\b\b\b\b\b\b\b\b\b\b\b\b\b\b\b\b\b\b\b\b\b\b\b\b\b\b\b\b\b\b\b\b\b\b\b\b\b\b\b\b\b\b\b\b\b\b\b\b\b\b\b\b\b\b\b\b\b\b\b\b\b\b\b\b\b\b\b\b\b\b\b\b\b\b\b\b\b\b\b\b\b\b\r124/124 [==============================] - 234s 2s/step - loss: 0.0396 - accuracy: 0.9966 - iouMetric: 0.1516 - dice_coef: 0.2596\n",
            "Epoch 71/80\n",
            "123/124 [============================>.] - ETA: 1s - loss: 0.0376 - accuracy: 0.9966 - iouMetric: 0.1542 - dice_coef: 0.2634"
          ]
        },
        {
          "output_type": "stream",
          "name": "stderr",
          "text": [
            "WARNING:tensorflow:Can save best model only with val_loss available, skipping.\n",
            "WARNING:tensorflow:Can save best model only with val_loss available, skipping.\n"
          ]
        },
        {
          "output_type": "stream",
          "name": "stdout",
          "text": [
            "\b\b\b\b\b\b\b\b\b\b\b\b\b\b\b\b\b\b\b\b\b\b\b\b\b\b\b\b\b\b\b\b\b\b\b\b\b\b\b\b\b\b\b\b\b\b\b\b\b\b\b\b\b\b\b\b\b\b\b\b\b\b\b\b\b\b\b\b\b\b\b\b\b\b\b\b\b\b\b\b\b\b\b\b\b\b\b\b\b\b\b\b\b\b\b\b\b\b\b\b\b\b\b\b\b\b\b\b\b\b\b\b\b\b\b\b\b\b\b\b\b\b\b\b\r124/124 [==============================] - 235s 2s/step - loss: 0.0376 - accuracy: 0.9966 - iouMetric: 0.1552 - dice_coef: 0.2648\n",
            "Epoch 72/80\n",
            "123/124 [============================>.] - ETA: 1s - loss: 0.0358 - accuracy: 0.9966 - iouMetric: 0.1546 - dice_coef: 0.2649"
          ]
        },
        {
          "output_type": "stream",
          "name": "stderr",
          "text": [
            "WARNING:tensorflow:Can save best model only with val_loss available, skipping.\n",
            "WARNING:tensorflow:Can save best model only with val_loss available, skipping.\n"
          ]
        },
        {
          "output_type": "stream",
          "name": "stdout",
          "text": [
            "\b\b\b\b\b\b\b\b\b\b\b\b\b\b\b\b\b\b\b\b\b\b\b\b\b\b\b\b\b\b\b\b\b\b\b\b\b\b\b\b\b\b\b\b\b\b\b\b\b\b\b\b\b\b\b\b\b\b\b\b\b\b\b\b\b\b\b\b\b\b\b\b\b\b\b\b\b\b\b\b\b\b\b\b\b\b\b\b\b\b\b\b\b\b\b\b\b\b\b\b\b\b\b\b\b\b\b\b\b\b\b\b\b\b\b\b\b\b\b\b\b\b\b\b\r124/124 [==============================] - 231s 2s/step - loss: 0.0358 - accuracy: 0.9966 - iouMetric: 0.1544 - dice_coef: 0.2645\n",
            "Epoch 73/80\n",
            "124/124 [==============================] - ETA: 0s - loss: 0.0340 - accuracy: 0.9966 - iouMetric: 0.1554 - dice_coef: 0.2650"
          ]
        },
        {
          "output_type": "stream",
          "name": "stderr",
          "text": [
            "WARNING:tensorflow:Can save best model only with val_loss available, skipping.\n",
            "WARNING:tensorflow:Can save best model only with val_loss available, skipping.\n"
          ]
        },
        {
          "output_type": "stream",
          "name": "stdout",
          "text": [
            "\b\b\b\b\b\b\b\b\b\b\b\b\b\b\b\b\b\b\b\b\b\b\b\b\b\b\b\b\b\b\b\b\b\b\b\b\b\b\b\b\b\b\b\b\b\b\b\b\b\b\b\b\b\b\b\b\b\b\b\b\b\b\b\b\b\b\b\b\b\b\b\b\b\b\b\b\b\b\b\b\b\b\b\b\b\b\b\b\b\b\b\b\b\b\b\b\b\b\b\b\b\b\b\b\b\b\b\b\b\b\b\b\b\b\b\b\b\b\b\b\b\b\b\b\r124/124 [==============================] - 231s 2s/step - loss: 0.0340 - accuracy: 0.9966 - iouMetric: 0.1554 - dice_coef: 0.2650\n",
            "Epoch 74/80\n",
            "123/124 [============================>.] - ETA: 1s - loss: 0.0325 - accuracy: 0.9966 - iouMetric: 0.1558 - dice_coef: 0.2663"
          ]
        },
        {
          "output_type": "stream",
          "name": "stderr",
          "text": [
            "WARNING:tensorflow:Can save best model only with val_loss available, skipping.\n",
            "WARNING:tensorflow:Can save best model only with val_loss available, skipping.\n"
          ]
        },
        {
          "output_type": "stream",
          "name": "stdout",
          "text": [
            "\b\b\b\b\b\b\b\b\b\b\b\b\b\b\b\b\b\b\b\b\b\b\b\b\b\b\b\b\b\b\b\b\b\b\b\b\b\b\b\b\b\b\b\b\b\b\b\b\b\b\b\b\b\b\b\b\b\b\b\b\b\b\b\b\b\b\b\b\b\b\b\b\b\b\b\b\b\b\b\b\b\b\b\b\b\b\b\b\b\b\b\b\b\b\b\b\b\b\b\b\b\b\b\b\b\b\b\b\b\b\b\b\b\b\b\b\b\b\b\b\b\b\b\b\r124/124 [==============================] - 237s 2s/step - loss: 0.0325 - accuracy: 0.9966 - iouMetric: 0.1549 - dice_coef: 0.2647\n",
            "Epoch 75/80\n",
            "123/124 [============================>.] - ETA: 1s - loss: 0.0310 - accuracy: 0.9966 - iouMetric: 0.1581 - dice_coef: 0.2697"
          ]
        },
        {
          "output_type": "stream",
          "name": "stderr",
          "text": [
            "WARNING:tensorflow:Can save best model only with val_loss available, skipping.\n",
            "WARNING:tensorflow:Can save best model only with val_loss available, skipping.\n"
          ]
        },
        {
          "output_type": "stream",
          "name": "stdout",
          "text": [
            "\b\b\b\b\b\b\b\b\b\b\b\b\b\b\b\b\b\b\b\b\b\b\b\b\b\b\b\b\b\b\b\b\b\b\b\b\b\b\b\b\b\b\b\b\b\b\b\b\b\b\b\b\b\b\b\b\b\b\b\b\b\b\b\b\b\b\b\b\b\b\b\b\b\b\b\b\b\b\b\b\b\b\b\b\b\b\b\b\b\b\b\b\b\b\b\b\b\b\b\b\b\b\b\b\b\b\b\b\b\b\b\b\b\b\b\b\b\b\b\b\b\b\b\b\r124/124 [==============================] - 229s 2s/step - loss: 0.0310 - accuracy: 0.9966 - iouMetric: 0.1596 - dice_coef: 0.2717\n",
            "Epoch 76/80\n",
            "123/124 [============================>.] - ETA: 1s - loss: 0.0298 - accuracy: 0.9967 - iouMetric: 0.1551 - dice_coef: 0.2652"
          ]
        },
        {
          "output_type": "stream",
          "name": "stderr",
          "text": [
            "WARNING:tensorflow:Can save best model only with val_loss available, skipping.\n",
            "WARNING:tensorflow:Can save best model only with val_loss available, skipping.\n"
          ]
        },
        {
          "output_type": "stream",
          "name": "stdout",
          "text": [
            "\b\b\b\b\b\b\b\b\b\b\b\b\b\b\b\b\b\b\b\b\b\b\b\b\b\b\b\b\b\b\b\b\b\b\b\b\b\b\b\b\b\b\b\b\b\b\b\b\b\b\b\b\b\b\b\b\b\b\b\b\b\b\b\b\b\b\b\b\b\b\b\b\b\b\b\b\b\b\b\b\b\b\b\b\b\b\b\b\b\b\b\b\b\b\b\b\b\b\b\b\b\b\b\b\b\b\b\b\b\b\b\b\b\b\b\b\b\b\b\b\b\b\b\b\r124/124 [==============================] - 236s 2s/step - loss: 0.0298 - accuracy: 0.9967 - iouMetric: 0.1539 - dice_coef: 0.2631\n",
            "Epoch 77/80\n",
            "123/124 [============================>.] - ETA: 1s - loss: 0.0285 - accuracy: 0.9966 - iouMetric: 0.1564 - dice_coef: 0.2670"
          ]
        },
        {
          "output_type": "stream",
          "name": "stderr",
          "text": [
            "WARNING:tensorflow:Can save best model only with val_loss available, skipping.\n",
            "WARNING:tensorflow:Can save best model only with val_loss available, skipping.\n"
          ]
        },
        {
          "output_type": "stream",
          "name": "stdout",
          "text": [
            "\b\b\b\b\b\b\b\b\b\b\b\b\b\b\b\b\b\b\b\b\b\b\b\b\b\b\b\b\b\b\b\b\b\b\b\b\b\b\b\b\b\b\b\b\b\b\b\b\b\b\b\b\b\b\b\b\b\b\b\b\b\b\b\b\b\b\b\b\b\b\b\b\b\b\b\b\b\b\b\b\b\b\b\b\b\b\b\b\b\b\b\b\b\b\b\b\b\b\b\b\b\b\b\b\b\b\b\b\b\b\b\b\b\b\b\b\b\b\b\b\b\b\b\b\r124/124 [==============================] - 236s 2s/step - loss: 0.0285 - accuracy: 0.9966 - iouMetric: 0.1564 - dice_coef: 0.2671\n",
            "Epoch 78/80\n",
            "123/124 [============================>.] - ETA: 1s - loss: 0.0273 - accuracy: 0.9966 - iouMetric: 0.1582 - dice_coef: 0.2693"
          ]
        },
        {
          "output_type": "stream",
          "name": "stderr",
          "text": [
            "WARNING:tensorflow:Can save best model only with val_loss available, skipping.\n",
            "WARNING:tensorflow:Can save best model only with val_loss available, skipping.\n"
          ]
        },
        {
          "output_type": "stream",
          "name": "stdout",
          "text": [
            "\b\b\b\b\b\b\b\b\b\b\b\b\b\b\b\b\b\b\b\b\b\b\b\b\b\b\b\b\b\b\b\b\b\b\b\b\b\b\b\b\b\b\b\b\b\b\b\b\b\b\b\b\b\b\b\b\b\b\b\b\b\b\b\b\b\b\b\b\b\b\b\b\b\b\b\b\b\b\b\b\b\b\b\b\b\b\b\b\b\b\b\b\b\b\b\b\b\b\b\b\b\b\b\b\b\b\b\b\b\b\b\b\b\b\b\b\b\b\b\b\b\b\b\b\r124/124 [==============================] - 237s 2s/step - loss: 0.0273 - accuracy: 0.9966 - iouMetric: 0.1585 - dice_coef: 0.2699\n",
            "Epoch 79/80\n",
            "123/124 [============================>.] - ETA: 1s - loss: 0.0263 - accuracy: 0.9966 - iouMetric: 0.1579 - dice_coef: 0.2687"
          ]
        },
        {
          "output_type": "stream",
          "name": "stderr",
          "text": [
            "WARNING:tensorflow:Can save best model only with val_loss available, skipping.\n",
            "WARNING:tensorflow:Can save best model only with val_loss available, skipping.\n"
          ]
        },
        {
          "output_type": "stream",
          "name": "stdout",
          "text": [
            "\b\b\b\b\b\b\b\b\b\b\b\b\b\b\b\b\b\b\b\b\b\b\b\b\b\b\b\b\b\b\b\b\b\b\b\b\b\b\b\b\b\b\b\b\b\b\b\b\b\b\b\b\b\b\b\b\b\b\b\b\b\b\b\b\b\b\b\b\b\b\b\b\b\b\b\b\b\b\b\b\b\b\b\b\b\b\b\b\b\b\b\b\b\b\b\b\b\b\b\b\b\b\b\b\b\b\b\b\b\b\b\b\b\b\b\b\b\b\b\b\b\b\b\b\r124/124 [==============================] - 223s 2s/step - loss: 0.0263 - accuracy: 0.9966 - iouMetric: 0.1584 - dice_coef: 0.2694\n",
            "Epoch 80/80\n",
            "123/124 [============================>.] - ETA: 1s - loss: 0.0254 - accuracy: 0.9967 - iouMetric: 0.1557 - dice_coef: 0.2664"
          ]
        },
        {
          "output_type": "stream",
          "name": "stderr",
          "text": [
            "WARNING:tensorflow:Can save best model only with val_loss available, skipping.\n",
            "WARNING:tensorflow:Can save best model only with val_loss available, skipping.\n"
          ]
        },
        {
          "output_type": "stream",
          "name": "stdout",
          "text": [
            "\b\b\b\b\b\b\b\b\b\b\b\b\b\b\b\b\b\b\b\b\b\b\b\b\b\b\b\b\b\b\b\b\b\b\b\b\b\b\b\b\b\b\b\b\b\b\b\b\b\b\b\b\b\b\b\b\b\b\b\b\b\b\b\b\b\b\b\b\b\b\b\b\b\b\b\b\b\b\b\b\b\b\b\b\b\b\b\b\b\b\b\b\b\b\b\b\b\b\b\b\b\b\b\b\b\b\b\b\b\b\b\b\b\b\b\b\b\b\b\b\b\b\b\b\r124/124 [==============================] - 231s 2s/step - loss: 0.0254 - accuracy: 0.9967 - iouMetric: 0.1546 - dice_coef: 0.2644\n",
            "Completed\n"
          ]
        }
      ],
      "source": [
        "checkpointer = ModelCheckpoint(filepath='model.weights.best.hdf5', verbose=1, save_best_only=True)  \n",
        "model_time = dt.now().strftime(\"%Y%m%d_%H%M%S\")\n",
        "model_folder = os.path.join(results_dir, model_time)\n",
        "os.makedirs(model_folder)\n",
        "\n",
        "tensorboard_folder = os.path.join(model_folder, \"tensorlogs\")\n",
        "os.makedirs(tensorboard_folder)\n",
        "\n",
        "ckpt_folder = os.path.join(model_folder, \"checkpoints\")\n",
        "os.makedirs(ckpt_folder)\n",
        "\n",
        "csv_logger_folder = os.path.join(model_folder, \"csv_logger\")\n",
        "os.makedirs(csv_logger_folder)\n",
        "\n",
        "hist_folder = os.path.join(model_folder, \"model_history\")\n",
        "os.makedirs(hist_folder)\n",
        "\n",
        "saved_model_folder = os.path.join(model_folder, \"Saved_model\")\n",
        "os.makedirs(saved_model_folder)\n",
        "\n",
        "model_params_folder = os.path.join(model_folder, \"model_params\")\n",
        "os.makedirs(model_params_folder)\n",
        "\n",
        "train_x, train_y = datasetPaths(\n",
        "    full_img_dir=train_full_img_dir,\n",
        "    mask_img_dir=train_mask_img_dir \n",
        ")\n",
        "\n",
        "test_x, test_y = datasetPaths(\n",
        "    full_img_dir=test_full_img_dir,\n",
        "    mask_img_dir=test_mask_img_dir\n",
        ")\n",
        "\n",
        "train_ds = makeTFDataset(shuffle=True, augument=True,\n",
        "x_paths_list = train_x, y_paths_list=train_y, batch_size=batch_size)\n",
        "\n",
        "\n",
        "test_ds = makeTFDataset(\n",
        "    shuffle=False,\n",
        "    augument=False,\n",
        "    x_paths_list=test_x,\n",
        "    y_paths_list=test_y,\n",
        "    batch_size=batch_size)      \n",
        "    \n",
        "unet = buildUnet()\n",
        "\n",
        "unet = compile_(model=unet)\n",
        "\n",
        "# ckpt_path = (ckpt_folder + f\"/{model_time}\" + \"_Epoch-{epoch:03d}\" + \"_IOU-{iouMetric:.8f\")\n",
        "ckpt_path = (ckpt_folder + f\"/{model_time}\")\n",
        "\n",
        "ckpt_callback = keras.callbacks.ModelCheckpoint(\n",
        "    filepath= ckpt_path,\n",
        "    monitors= callback_monitor,\n",
        "    mode= callback_mode,\n",
        "    save_weights_only= ckpt_save_weights_only,\n",
        "    save_best_only=ckpt_save_best_only,\n",
        "    verbose=1\n",
        ")\n",
        "\n",
        "es_callback = keras.callbacks.EarlyStopping(\n",
        "    patience= earlystop_patience,\n",
        "    monitor= callback_monitor,\n",
        "    mode= callback_mode,\n",
        "    restore_best_weights= restore_best_weights,\n",
        ")\n",
        "\n",
        "# TensorBoard\n",
        "tb_callback = keras.callbacks.TensorBoard(\n",
        "    log_dir=tensorboard_folder, histogram_freq=1, profile_batch=0\n",
        ")\n",
        "\n",
        "# CSV Logger\n",
        "csv_logger_path = os.path.join(csv_logger_folder, \"csv_logger.csv\")\n",
        "csv_logger = keras.callbacks.CSVLogger(\n",
        "    filename=csv_logger_path, separator=\",\", append=True\n",
        ")\n",
        "\n",
        "# Putting them together\n",
        "callbacks = [ckpt_callback, es_callback, tb_callback, csv_logger, checkpointer]\n",
        "\n",
        "train_steps = len(train_x) // batch_size\n",
        "test_steps = len(test_x) // batch_size\n",
        "\n",
        "if len(train_x) % batch_size != 0:\n",
        "    train_steps += 1\n",
        "if len(test_x) % batch_size != 0:\n",
        "    test_steps += 1\n",
        "\n",
        "print()\n",
        "print(f\"Size of training set = {len(train_x)}\")\n",
        "print(f\"Size of test set = {len(test_x)}\")\n",
        "print(f\"Number of epochs = {num_epochs}\")\n",
        "print(f\"Batch size = {batch_size}\")\n",
        "print(f\"Number of training steps per epoch = {train_steps}\")\n",
        "print(f\"Number of test steps per epoch = {test_steps}\")\n",
        "print()\n",
        "\n",
        "if validate:\n",
        "        history = unet.fit(\n",
        "            train_ds,\n",
        "            validation_data=test_ds,\n",
        "            epochs=num_epochs,\n",
        "            steps_per_epoch=train_steps,\n",
        "            validation_steps=test_steps,\n",
        "            callbacks=callbacks,\n",
        "            verbose=1,\n",
        "        )\n",
        "elif not validate:\n",
        "    history = unet.fit(\n",
        "        train_ds,\n",
        "        epochs=num_epochs,\n",
        "        steps_per_epoch=train_steps,\n",
        "        callbacks=callbacks,\n",
        "        verbose=1,\n",
        "    )\n",
        "\n",
        "#y_hat = unet.evaluate(test_ds)\n",
        "\n",
        "print(\"Completed\")     \n",
        "        "
      ]
    },
    {
      "cell_type": "code",
      "source": [
        " def makeTFDataset1( shuffle, augument, x_paths_list, y_paths_list, batch_size):\n",
        "        try:\n",
        "            ds = tf.data.Dataset.from_tensor_slices((x_paths_list, y_paths_list))\n",
        "            \n",
        "            if shuffle:\n",
        "                ds = ds.shuffle(buffer_size=len(x_paths_list))\n",
        "\n",
        "            ds = ds.map(tfParse, num_parallel_calls=tf.data.experimental.AUTOTUNE)\n",
        "            \n",
        "            if augument:\n",
        "                ds = ds.map(imgAugment, num_parallel_calls=tf.data.experimental.AUTOTUNE)\n",
        "\n",
        "            ds = ds.batch(batch_size=batch_size, drop_remainder=False)\n",
        "            #ds = ds.repeat()\n",
        "\n",
        "            return ds\n",
        "\n",
        "        except Exception as e:\n",
        "            print(f\"Error in make TFDataset {e}\")"
      ],
      "metadata": {
        "id": "MBPWHo79s1Hz"
      },
      "execution_count": 30,
      "outputs": []
    },
    {
      "cell_type": "code",
      "execution_count": 31,
      "metadata": {
        "id": "LCumD8yCBX3-"
      },
      "outputs": [],
      "source": [
        "test_ds = makeTFDataset1(\n",
        "    shuffle=False,\n",
        "    augument=False,\n",
        "    x_paths_list=test_x,\n",
        "    y_paths_list=test_y,\n",
        "    batch_size=batch_size)    "
      ]
    },
    {
      "cell_type": "code",
      "execution_count": 32,
      "metadata": {
        "id": "MGkGHRtCIlcu",
        "colab": {
          "base_uri": "https://localhost:8080/",
          "height": 450
        },
        "outputId": "a370dae1-a57a-47ea-addb-a946a08781eb"
      },
      "outputs": [
        {
          "output_type": "error",
          "ename": "OSError",
          "evalue": "ignored",
          "traceback": [
            "\u001b[0;31m---------------------------------------------------------------------------\u001b[0m",
            "\u001b[0;31mOSError\u001b[0m                                   Traceback (most recent call last)",
            "\u001b[0;32m<ipython-input-32-31480435d5c8>\u001b[0m in \u001b[0;36m<module>\u001b[0;34m\u001b[0m\n\u001b[0;32m----> 1\u001b[0;31m \u001b[0munet\u001b[0m\u001b[0;34m.\u001b[0m\u001b[0mload_weights\u001b[0m\u001b[0;34m(\u001b[0m\u001b[0;34m'model.weights.best.hdf5'\u001b[0m\u001b[0;34m)\u001b[0m\u001b[0;34m\u001b[0m\u001b[0;34m\u001b[0m\u001b[0m\n\u001b[0m",
            "\u001b[0;32m/usr/local/lib/python3.7/dist-packages/keras/utils/traceback_utils.py\u001b[0m in \u001b[0;36merror_handler\u001b[0;34m(*args, **kwargs)\u001b[0m\n\u001b[1;32m     65\u001b[0m     \u001b[0;32mexcept\u001b[0m \u001b[0mException\u001b[0m \u001b[0;32mas\u001b[0m \u001b[0me\u001b[0m\u001b[0;34m:\u001b[0m  \u001b[0;31m# pylint: disable=broad-except\u001b[0m\u001b[0;34m\u001b[0m\u001b[0;34m\u001b[0m\u001b[0m\n\u001b[1;32m     66\u001b[0m       \u001b[0mfiltered_tb\u001b[0m \u001b[0;34m=\u001b[0m \u001b[0m_process_traceback_frames\u001b[0m\u001b[0;34m(\u001b[0m\u001b[0me\u001b[0m\u001b[0;34m.\u001b[0m\u001b[0m__traceback__\u001b[0m\u001b[0;34m)\u001b[0m\u001b[0;34m\u001b[0m\u001b[0;34m\u001b[0m\u001b[0m\n\u001b[0;32m---> 67\u001b[0;31m       \u001b[0;32mraise\u001b[0m \u001b[0me\u001b[0m\u001b[0;34m.\u001b[0m\u001b[0mwith_traceback\u001b[0m\u001b[0;34m(\u001b[0m\u001b[0mfiltered_tb\u001b[0m\u001b[0;34m)\u001b[0m \u001b[0;32mfrom\u001b[0m \u001b[0;32mNone\u001b[0m\u001b[0;34m\u001b[0m\u001b[0;34m\u001b[0m\u001b[0m\n\u001b[0m\u001b[1;32m     68\u001b[0m     \u001b[0;32mfinally\u001b[0m\u001b[0;34m:\u001b[0m\u001b[0;34m\u001b[0m\u001b[0;34m\u001b[0m\u001b[0m\n\u001b[1;32m     69\u001b[0m       \u001b[0;32mdel\u001b[0m \u001b[0mfiltered_tb\u001b[0m\u001b[0;34m\u001b[0m\u001b[0;34m\u001b[0m\u001b[0m\n",
            "\u001b[0;32m/usr/local/lib/python3.7/dist-packages/h5py/_hl/files.py\u001b[0m in \u001b[0;36m__init__\u001b[0;34m(self, name, mode, driver, libver, userblock_size, swmr, rdcc_nslots, rdcc_nbytes, rdcc_w0, track_order, fs_strategy, fs_persist, fs_threshold, **kwds)\u001b[0m\n\u001b[1;32m    425\u001b[0m                                fapl, fcpl=make_fcpl(track_order=track_order, fs_strategy=fs_strategy,\n\u001b[1;32m    426\u001b[0m                                fs_persist=fs_persist, fs_threshold=fs_threshold),\n\u001b[0;32m--> 427\u001b[0;31m                                swmr=swmr)\n\u001b[0m\u001b[1;32m    428\u001b[0m \u001b[0;34m\u001b[0m\u001b[0m\n\u001b[1;32m    429\u001b[0m             \u001b[0;32mif\u001b[0m \u001b[0misinstance\u001b[0m\u001b[0;34m(\u001b[0m\u001b[0mlibver\u001b[0m\u001b[0;34m,\u001b[0m \u001b[0mtuple\u001b[0m\u001b[0;34m)\u001b[0m\u001b[0;34m:\u001b[0m\u001b[0;34m\u001b[0m\u001b[0;34m\u001b[0m\u001b[0m\n",
            "\u001b[0;32m/usr/local/lib/python3.7/dist-packages/h5py/_hl/files.py\u001b[0m in \u001b[0;36mmake_fid\u001b[0;34m(name, mode, userblock_size, fapl, fcpl, swmr)\u001b[0m\n\u001b[1;32m    188\u001b[0m         \u001b[0;32mif\u001b[0m \u001b[0mswmr\u001b[0m \u001b[0;32mand\u001b[0m \u001b[0mswmr_support\u001b[0m\u001b[0;34m:\u001b[0m\u001b[0;34m\u001b[0m\u001b[0;34m\u001b[0m\u001b[0m\n\u001b[1;32m    189\u001b[0m             \u001b[0mflags\u001b[0m \u001b[0;34m|=\u001b[0m \u001b[0mh5f\u001b[0m\u001b[0;34m.\u001b[0m\u001b[0mACC_SWMR_READ\u001b[0m\u001b[0;34m\u001b[0m\u001b[0;34m\u001b[0m\u001b[0m\n\u001b[0;32m--> 190\u001b[0;31m         \u001b[0mfid\u001b[0m \u001b[0;34m=\u001b[0m \u001b[0mh5f\u001b[0m\u001b[0;34m.\u001b[0m\u001b[0mopen\u001b[0m\u001b[0;34m(\u001b[0m\u001b[0mname\u001b[0m\u001b[0;34m,\u001b[0m \u001b[0mflags\u001b[0m\u001b[0;34m,\u001b[0m \u001b[0mfapl\u001b[0m\u001b[0;34m=\u001b[0m\u001b[0mfapl\u001b[0m\u001b[0;34m)\u001b[0m\u001b[0;34m\u001b[0m\u001b[0;34m\u001b[0m\u001b[0m\n\u001b[0m\u001b[1;32m    191\u001b[0m     \u001b[0;32melif\u001b[0m \u001b[0mmode\u001b[0m \u001b[0;34m==\u001b[0m \u001b[0;34m'r+'\u001b[0m\u001b[0;34m:\u001b[0m\u001b[0;34m\u001b[0m\u001b[0;34m\u001b[0m\u001b[0m\n\u001b[1;32m    192\u001b[0m         \u001b[0mfid\u001b[0m \u001b[0;34m=\u001b[0m \u001b[0mh5f\u001b[0m\u001b[0;34m.\u001b[0m\u001b[0mopen\u001b[0m\u001b[0;34m(\u001b[0m\u001b[0mname\u001b[0m\u001b[0;34m,\u001b[0m \u001b[0mh5f\u001b[0m\u001b[0;34m.\u001b[0m\u001b[0mACC_RDWR\u001b[0m\u001b[0;34m,\u001b[0m \u001b[0mfapl\u001b[0m\u001b[0;34m=\u001b[0m\u001b[0mfapl\u001b[0m\u001b[0;34m)\u001b[0m\u001b[0;34m\u001b[0m\u001b[0;34m\u001b[0m\u001b[0m\n",
            "\u001b[0;32mh5py/_objects.pyx\u001b[0m in \u001b[0;36mh5py._objects.with_phil.wrapper\u001b[0;34m()\u001b[0m\n",
            "\u001b[0;32mh5py/_objects.pyx\u001b[0m in \u001b[0;36mh5py._objects.with_phil.wrapper\u001b[0;34m()\u001b[0m\n",
            "\u001b[0;32mh5py/h5f.pyx\u001b[0m in \u001b[0;36mh5py.h5f.open\u001b[0;34m()\u001b[0m\n",
            "\u001b[0;31mOSError\u001b[0m: Unable to open file (unable to open file: name = 'model.weights.best.hdf5', errno = 2, error message = 'No such file or directory', flags = 0, o_flags = 0)"
          ]
        }
      ],
      "source": [
        ""
      ]
    },
    {
      "cell_type": "code",
      "source": [
        "score = unet.evaluate(test_ds, verbose=0)\n",
        "score"
      ],
      "metadata": {
        "id": "bRy91OTxNnym"
      },
      "execution_count": null,
      "outputs": []
    },
    {
      "cell_type": "code",
      "source": [
        ""
      ],
      "metadata": {
        "id": "dtht3dayvWSI"
      },
      "execution_count": null,
      "outputs": []
    },
    {
      "cell_type": "code",
      "source": [
        "!zip -r /content/results/fit.zip /content/results/fit /content/model.weights.best.hdf5\n"
      ],
      "metadata": {
        "id": "IVeEZIevwLzg",
        "colab": {
          "base_uri": "https://localhost:8080/"
        },
        "outputId": "4b1de68d-c6b8-457d-d4de-29d789a3324e"
      },
      "execution_count": 33,
      "outputs": [
        {
          "output_type": "stream",
          "name": "stdout",
          "text": [
            "\tzip warning: name not matched: /content/model.weights.best.hdf5\n",
            "  adding: content/results/fit/ (stored 0%)\n",
            "  adding: content/results/fit/20220817_012934/ (stored 0%)\n",
            "  adding: content/results/fit/20220817_012934/checkpoints/ (stored 0%)\n",
            "  adding: content/results/fit/20220817_012934/model_history/ (stored 0%)\n",
            "  adding: content/results/fit/20220817_012934/model_params/ (stored 0%)\n",
            "  adding: content/results/fit/20220817_012934/Saved_model/ (stored 0%)\n",
            "  adding: content/results/fit/20220817_012934/tensorlogs/ (stored 0%)\n",
            "  adding: content/results/fit/20220817_012934/tensorlogs/train/ (stored 0%)\n",
            "  adding: content/results/fit/20220817_012934/tensorlogs/train/events.out.tfevents.1660699782.875686dc28cb.73.0.v2 (deflated 63%)\n",
            "  adding: content/results/fit/20220817_012934/csv_logger/ (stored 0%)\n",
            "  adding: content/results/fit/20220817_012934/csv_logger/csv_logger.csv (deflated 51%)\n"
          ]
        }
      ]
    },
    {
      "cell_type": "code",
      "source": [
        "from google.colab import files\n",
        "files.download(\"/content/results/fit.zip\")\n",
        "# files.download('model.weights.best.hdf5')"
      ],
      "metadata": {
        "id": "Ms8fiADKwq6i",
        "colab": {
          "base_uri": "https://localhost:8080/",
          "height": 321
        },
        "outputId": "ef484550-3d1b-409f-89ce-8be10bbbd3f9"
      },
      "execution_count": 34,
      "outputs": [
        {
          "output_type": "display_data",
          "data": {
            "text/plain": [
              "<IPython.core.display.Javascript object>"
            ],
            "application/javascript": [
              "\n",
              "    async function download(id, filename, size) {\n",
              "      if (!google.colab.kernel.accessAllowed) {\n",
              "        return;\n",
              "      }\n",
              "      const div = document.createElement('div');\n",
              "      const label = document.createElement('label');\n",
              "      label.textContent = `Downloading \"${filename}\": `;\n",
              "      div.appendChild(label);\n",
              "      const progress = document.createElement('progress');\n",
              "      progress.max = size;\n",
              "      div.appendChild(progress);\n",
              "      document.body.appendChild(div);\n",
              "\n",
              "      const buffers = [];\n",
              "      let downloaded = 0;\n",
              "\n",
              "      const channel = await google.colab.kernel.comms.open(id);\n",
              "      // Send a message to notify the kernel that we're ready.\n",
              "      channel.send({})\n",
              "\n",
              "      for await (const message of channel.messages) {\n",
              "        // Send a message to notify the kernel that we're ready.\n",
              "        channel.send({})\n",
              "        if (message.buffers) {\n",
              "          for (const buffer of message.buffers) {\n",
              "            buffers.push(buffer);\n",
              "            downloaded += buffer.byteLength;\n",
              "            progress.value = downloaded;\n",
              "          }\n",
              "        }\n",
              "      }\n",
              "      const blob = new Blob(buffers, {type: 'application/binary'});\n",
              "      const a = document.createElement('a');\n",
              "      a.href = window.URL.createObjectURL(blob);\n",
              "      a.download = filename;\n",
              "      div.appendChild(a);\n",
              "      a.click();\n",
              "      div.remove();\n",
              "    }\n",
              "  "
            ]
          },
          "metadata": {}
        },
        {
          "output_type": "display_data",
          "data": {
            "text/plain": [
              "<IPython.core.display.Javascript object>"
            ],
            "application/javascript": [
              "download(\"download_e8a66e8f-2abb-459c-b3fd-ae4c04dba328\", \"fit.zip\", 1649412)"
            ]
          },
          "metadata": {}
        },
        {
          "output_type": "error",
          "ename": "FileNotFoundError",
          "evalue": "ignored",
          "traceback": [
            "\u001b[0;31m---------------------------------------------------------------------------\u001b[0m",
            "\u001b[0;31mFileNotFoundError\u001b[0m                         Traceback (most recent call last)",
            "\u001b[0;32m<ipython-input-34-79d643f65d7e>\u001b[0m in \u001b[0;36m<module>\u001b[0;34m\u001b[0m\n\u001b[1;32m      1\u001b[0m \u001b[0;32mfrom\u001b[0m \u001b[0mgoogle\u001b[0m\u001b[0;34m.\u001b[0m\u001b[0mcolab\u001b[0m \u001b[0;32mimport\u001b[0m \u001b[0mfiles\u001b[0m\u001b[0;34m\u001b[0m\u001b[0;34m\u001b[0m\u001b[0m\n\u001b[1;32m      2\u001b[0m \u001b[0mfiles\u001b[0m\u001b[0;34m.\u001b[0m\u001b[0mdownload\u001b[0m\u001b[0;34m(\u001b[0m\u001b[0;34m\"/content/results/fit.zip\"\u001b[0m\u001b[0;34m)\u001b[0m\u001b[0;34m\u001b[0m\u001b[0;34m\u001b[0m\u001b[0m\n\u001b[0;32m----> 3\u001b[0;31m \u001b[0mfiles\u001b[0m\u001b[0;34m.\u001b[0m\u001b[0mdownload\u001b[0m\u001b[0;34m(\u001b[0m\u001b[0;34m'model.weights.best.hdf5'\u001b[0m\u001b[0;34m)\u001b[0m\u001b[0;34m\u001b[0m\u001b[0;34m\u001b[0m\u001b[0m\n\u001b[0m",
            "\u001b[0;32m/usr/local/lib/python3.7/dist-packages/google/colab/files.py\u001b[0m in \u001b[0;36mdownload\u001b[0;34m(filename)\u001b[0m\n\u001b[1;32m    179\u001b[0m   \u001b[0;32mif\u001b[0m \u001b[0;32mnot\u001b[0m \u001b[0m_os\u001b[0m\u001b[0;34m.\u001b[0m\u001b[0mpath\u001b[0m\u001b[0;34m.\u001b[0m\u001b[0mexists\u001b[0m\u001b[0;34m(\u001b[0m\u001b[0mfilename\u001b[0m\u001b[0;34m)\u001b[0m\u001b[0;34m:\u001b[0m\u001b[0;34m\u001b[0m\u001b[0;34m\u001b[0m\u001b[0m\n\u001b[1;32m    180\u001b[0m     \u001b[0mmsg\u001b[0m \u001b[0;34m=\u001b[0m \u001b[0;34m'Cannot find file: {}'\u001b[0m\u001b[0;34m.\u001b[0m\u001b[0mformat\u001b[0m\u001b[0;34m(\u001b[0m\u001b[0mfilename\u001b[0m\u001b[0;34m)\u001b[0m\u001b[0;34m\u001b[0m\u001b[0;34m\u001b[0m\u001b[0m\n\u001b[0;32m--> 181\u001b[0;31m     \u001b[0;32mraise\u001b[0m \u001b[0mFileNotFoundError\u001b[0m\u001b[0;34m(\u001b[0m\u001b[0mmsg\u001b[0m\u001b[0;34m)\u001b[0m  \u001b[0;31m# pylint: disable=undefined-variable\u001b[0m\u001b[0;34m\u001b[0m\u001b[0;34m\u001b[0m\u001b[0m\n\u001b[0m\u001b[1;32m    182\u001b[0m \u001b[0;34m\u001b[0m\u001b[0m\n\u001b[1;32m    183\u001b[0m   \u001b[0mcomm_manager\u001b[0m \u001b[0;34m=\u001b[0m \u001b[0m_IPython\u001b[0m\u001b[0;34m.\u001b[0m\u001b[0mget_ipython\u001b[0m\u001b[0;34m(\u001b[0m\u001b[0;34m)\u001b[0m\u001b[0;34m.\u001b[0m\u001b[0mkernel\u001b[0m\u001b[0;34m.\u001b[0m\u001b[0mcomm_manager\u001b[0m\u001b[0;34m\u001b[0m\u001b[0;34m\u001b[0m\u001b[0m\n",
            "\u001b[0;31mFileNotFoundError\u001b[0m: Cannot find file: model.weights.best.hdf5"
          ]
        }
      ]
    },
    {
      "cell_type": "code",
      "source": [
        "def loadFullImg_1(path, dsize):\n",
        "        try:\n",
        "             \n",
        "            print(path)\n",
        "            img = cv2.imread(\"/content/gdrive/MyDrive/cbisddsm/Test_output_full/Mass-Test_P_00016_LEFT_CC_FULL__PRE.png\", cv2.IMREAD_GRAYSCALE)\n",
        "            print(type(img))\n",
        "            img = cv2.resize(src=img, dsize=dsize)\n",
        "      \n",
        "            norm_img = (img - img.min()) / (img.max() - img.min())\n",
        "            print(f'After norm_img')\n",
        "            print(f'type {norm_img.shape}')\n",
        "            full_img = np.stack([norm_img, norm_img, norm_img], axis=-1)\n",
        "            print(f'After full_img')\n",
        "            print(f'type {full_img.shape}')\n",
        "            print(f'done for path {path} with shape {full_img.shape}')\n",
        "            return full_img\n",
        "        \n",
        "        except Exception as e:\n",
        "            print(f\"There is an error in loadFullImg {e}\")"
      ],
      "metadata": {
        "id": "A2Hu8b8_UMD2"
      },
      "execution_count": null,
      "outputs": []
    },
    {
      "cell_type": "code",
      "source": [
        "def loadMaskImg_1(path, dsize):\n",
        "        try:\n",
        "            # if not isinstance(path, str):\n",
        "            #     path=path.decode()\n",
        "            print(path)\n",
        "            img = cv2.imread(\"/content/gdrive/MyDrive/cbisddsm/Test_output_mask/Mass-Test_P_00016_LEFT_CC_MASK_1__PRE.png\", cv2.IMREAD_GRAYSCALE)\n",
        "            img = cv2.resize(src=img, dsize=dsize)\n",
        "\n",
        "            norm_img = (img - img.min()) / (img.max() - img.min())\n",
        "\n",
        "            mask_img = np.expand_dims(norm_img, axis=-1)\n",
        "            print(f'done for path {path} with shape {mask_img.shape}')\n",
        "            return mask_img\n",
        "\n",
        "        except Exception as e:\n",
        "            print(f\"Error in loadMaskIMG {e}\")"
      ],
      "metadata": {
        "id": "MN8ydZ_-UV74"
      },
      "execution_count": null,
      "outputs": []
    },
    {
      "cell_type": "code",
      "source": [
        "def tfParse_1(x_path, y_path):\n",
        "        try:\n",
        "            def _parse(x_path, y_path):\n",
        "                x = loadFullImg_1(path=x_path, dsize=target_size)\n",
        "                y = loadMaskImg_1(path=y_path, dsize=target_size)\n",
        "                return x,y\n",
        "\n",
        "            x, y = tf.numpy_function(_parse, [x_path, y_path], [tf.float64, tf.float64])\n",
        "              \n",
        "            x.set_shape([target_size[0], target_size[0], 3])\n",
        "            y.set_shape([target_size[0], target_size[1], 1])\n",
        "\n",
        "            return x,y\n",
        "            \n",
        "\n",
        "        except Exception as e:\n",
        "            print(f\"Error in tfParse {e}\")"
      ],
      "metadata": {
        "id": "wb2fsrPDUMK1"
      },
      "execution_count": null,
      "outputs": []
    },
    {
      "cell_type": "code",
      "source": [
        " #model.load_weights('model.weights.best.hdf5')"
      ],
      "metadata": {
        "id": "06CumsaLV6JC"
      },
      "execution_count": null,
      "outputs": []
    },
    {
      "cell_type": "code",
      "source": [
        "res_x, res_y = tfParse_1(test_x[0], test_y[0])"
      ],
      "metadata": {
        "id": "aRVx-4W1T0jO"
      },
      "execution_count": null,
      "outputs": []
    },
    {
      "cell_type": "code",
      "source": [
        "print(res_x.shape)\n",
        "print(res_y.shape)\n",
        "print(type(res_y.numpy())) \n",
        "print(res_y.numpy().shape)"
      ],
      "metadata": {
        "id": "XMaOVHjUT6He"
      },
      "execution_count": null,
      "outputs": []
    },
    {
      "cell_type": "code",
      "source": [
        "plt.figure(figsize = (50,8))\n",
        "plt.imshow(res_x.numpy(), cmap=\"gray\")\n",
        "plt.title(f\"Before cropping \", x=0.5, y=-0.1)"
      ],
      "metadata": {
        "id": "hh-whdVrYM4j"
      },
      "execution_count": null,
      "outputs": []
    },
    {
      "cell_type": "code",
      "source": [
        "# plt.figure(figsize = (50,8))\n",
        "# plt.imshow(res_y.numpy(), cmap=\"gray\")\n",
        "# plt.title(f\"Before cropping \", x=0.5, y=-0.1)\n",
        "print(res_x.numpy().shape)"
      ],
      "metadata": {
        "id": "pVcmbNaQZDTX"
      },
      "execution_count": null,
      "outputs": []
    },
    {
      "cell_type": "code",
      "source": [
        "prediction = unet.predict(res_x.numpy())"
      ],
      "metadata": {
        "id": "qjA1jjBgTnMf"
      },
      "execution_count": null,
      "outputs": []
    }
  ],
  "metadata": {
    "accelerator": "GPU",
    "colab": {
      "collapsed_sections": [],
      "name": "Cbisddsm_final_new_1.ipynb",
      "provenance": []
    },
    "gpuClass": "standard",
    "instance_type": "ml.m5.large",
    "kernelspec": {
      "display_name": "Python 3 (Data Science)",
      "language": "python",
      "name": "python3__SAGEMAKER_INTERNAL__arn:aws:sagemaker:us-east-1:081325390199:image/datascience-1.0"
    },
    "language_info": {
      "codemirror_mode": {
        "name": "ipython",
        "version": 3
      },
      "file_extension": ".py",
      "mimetype": "text/x-python",
      "name": "python",
      "nbconvert_exporter": "python",
      "pygments_lexer": "ipython3",
      "version": "3.7.10"
    }
  },
  "nbformat": 4,
  "nbformat_minor": 0
}