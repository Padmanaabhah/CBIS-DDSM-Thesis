{
  "cells": [
    {
      "cell_type": "code",
      "execution_count": 1,
      "metadata": {
        "id": "Xzc7BJKDBX3y"
      },
      "outputs": [],
      "source": [
        "#!pip install tensorflow==2.7.0"
      ]
    },
    {
      "cell_type": "code",
      "execution_count": 2,
      "metadata": {
        "id": "L6wiaECOBX30"
      },
      "outputs": [],
      "source": [
        "#pip install opencv-python-headless"
      ]
    },
    {
      "cell_type": "code",
      "execution_count": 3,
      "metadata": {
        "id": "cXp-5N_yBX30"
      },
      "outputs": [],
      "source": [
        "from distutils import extension\n",
        "from logging import exception\n",
        "import os\n",
        "from datetime import datetime as dt\n",
        "from regex import E\n",
        "from sqlalchemy import intersect\n",
        "import tensorflow as tf\n",
        "from tensorflow import keras\n",
        "import cv2\n",
        "import numpy as np \n",
        "import pathlib\n",
        "from keras.callbacks import ModelCheckpoint   \n",
        "from keras.regularizers import l2\n",
        "import matplotlib.pyplot as plt\n",
        "from keras.layers import Conv2D, BatchNormalization, Activation, MaxPool2D, Conv2DTranspose, Concatenate, Input\n",
        "from keras.models import Model\n",
        "from tensorflow.keras.applications.resnet50 import ResNet50"
      ]
    },
    {
      "cell_type": "code",
      "execution_count": 4,
      "metadata": {
        "colab": {
          "base_uri": "https://localhost:8080/"
        },
        "id": "9iQkKItqB1-t",
        "outputId": "f6aaf030-aefd-45cd-e683-d713d2d85471"
      },
      "outputs": [
        {
          "output_type": "stream",
          "name": "stdout",
          "text": [
            "Mounted at /content/gdrive\n"
          ]
        }
      ],
      "source": [
        "from google.colab import drive\n",
        "drive.mount('/content/gdrive')"
      ]
    },
    {
      "cell_type": "code",
      "execution_count": 5,
      "metadata": {
        "colab": {
          "base_uri": "https://localhost:8080/"
        },
        "id": "wQYE2sEYB-uE",
        "outputId": "b50f2fa2-91d3-4e7e-9b7b-d7b015cf9a77"
      },
      "outputs": [
        {
          "output_type": "stream",
          "name": "stdout",
          "text": [
            "Test_output_full  Test_output_mask  Train_output_full  Train_output_mask\n"
          ]
        }
      ],
      "source": [
        "!ls \"/content/gdrive/MyDrive/cbisddsm\""
      ]
    },
    {
      "cell_type": "code",
      "execution_count": 6,
      "metadata": {
        "id": "2foFHtBFB_U4"
      },
      "outputs": [],
      "source": [
        "# data_dir_train = pathlib.Path(\"/content/gdrive/MyDrive/Images/Train\")\n",
        "# data_dir_test = pathlib.Path('/content/gdrive/MyDrive/Images/Test')"
      ]
    },
    {
      "cell_type": "code",
      "execution_count": 7,
      "metadata": {
        "id": "zYVMXFDEBX31"
      },
      "outputs": [],
      "source": [
        "seed = 43\n",
        "encoder_input_width = 512\n",
        "encode_input_channels = 3\n",
        "encoder_input_shape = (encoder_input_width, encoder_input_width, encode_input_channels)\n",
        "\n",
        "kernsize = 3\n",
        "decoder_kernel_size = (kernsize, kernsize)\n",
        "stride = 2\n",
        "decoder_strides = (stride, stride)\n",
        "decoder_padding = \"same\"\n",
        "decoder_activation = None\n",
        "final_layer_filters = 1\n",
        "final_layer_activation = \"sigmoid\"\n",
        "\n",
        "train_full_img_dir = \"/content/gdrive/MyDrive/cbisddsm/Train_output_full\"\n",
        "train_mask_img_dir = \"/content/gdrive/MyDrive/cbisddsm/Train_output_mask\"\n",
        "\n",
        "test_full_img_dir = \"/content/gdrive/MyDrive/cbisddsm/Test_output_full\"\n",
        "test_mask_img_dir = \"/content/gdrive/MyDrive/cbisddsm/Test_output_mask\"\n",
        "results_dir = \"/content/results/fit\"\n",
        "extension = \".png\"\n",
        "\n",
        "target_size = (512, 512)\n",
        "\n",
        "brightness_delta = 0.3\n",
        "batch_size = 10\n",
        "\n",
        "weight_decay = 1e-5\n",
        "\n",
        "validate = False\n",
        "loss = \"binary_crossentropy\"\n",
        "learning_rate = 0.0001\n",
        "dropout = 0.5\n",
        "dropout_training = True\n",
        "num_epochs = 40\n",
        "callback_monitor = \"iouMetric\"\n",
        "callback_mode = \"max\"\n",
        "ckpt_save_weights_only = True\n",
        "ckpt_save_best_only = True\n",
        "earlystop_patience = 20\n",
        "restore_best_weights = True"
      ]
    },
    {
      "cell_type": "code",
      "execution_count": 8,
      "metadata": {
        "id": "WiJw56KyBX32"
      },
      "outputs": [],
      "source": [
        "# x_paths_list = []\n",
        "# for full in os.listdir(train_full_img_dir):\n",
        "#   if full.endswith(extension):\n",
        "#     x_paths_list.append(os.path.join(train_full_img_dir, full))\n",
        "\n",
        "# print(len(x_paths_list))"
      ]
    },
    {
      "cell_type": "code",
      "execution_count": 8,
      "metadata": {
        "id": "B28GisyHBX32"
      },
      "outputs": [],
      "source": [
        ""
      ]
    },
    {
      "cell_type": "code",
      "execution_count": 9,
      "metadata": {
        "id": "JGqSf0kQBX32"
      },
      "outputs": [],
      "source": [
        "def datasetPaths(full_img_dir, mask_img_dir):\n",
        "        try:\n",
        "            x_paths_list = []\n",
        "            y_paths_list = []\n",
        "\n",
        "            for full in os.listdir(full_img_dir):\n",
        "                if full.endswith(extension):\n",
        "                    x_paths_list.append(os.path.join(full_img_dir, full))\n",
        "            \n",
        "            for full in os.listdir(mask_img_dir):\n",
        "                if full.endswith(extension):\n",
        "                    y_paths_list.append(os.path.join(mask_img_dir, full))\n",
        "            \n",
        "            x_paths_list.sort()\n",
        "            y_paths_list.sort()\n",
        "\n",
        "            return x_paths_list, y_paths_list\n",
        "        except Exception as e:\n",
        "            print(f\"Error in datasetPaths {e}\")"
      ]
    },
    {
      "cell_type": "code",
      "execution_count": 10,
      "metadata": {
        "id": "7u3oVaRTBX33"
      },
      "outputs": [],
      "source": [
        "# def loadFullImg(path, dsize):\n",
        "#         try:\n",
        "#             if not isinstance(path, str):\n",
        "#                 path = path.decode()\n",
        "             \n",
        "            \n",
        "#             s3_client = boto3.resource('s3')\n",
        "#             obj = s3_client.get_object(Bucket='cbisddsm', Key=path)\n",
        "#             nparr = np.frombuffer(obj['Body'].read(), np.uint8)\n",
        "#             img = cv2.imdecode(nparr, cv2.IMREAD_COLOR)\n",
        "#             print(f'type type{img}')\n",
        "#             #bucket = s3_resource.Bucket('cbisddsm')\n",
        "#             #print(f'bucket.Object(path) {bucket.Object(path)}')\n",
        "#             #img = bucket.Object(path).get().get('Body').read()\n",
        "#             #print(f'img {img}')\n",
        "#             #img = cv2.imdecode(np.asarray(bytearray(img)), cv2.IMREAD_COLOR)\n",
        "           \n",
        "            \n",
        "#             #img = cv2.imread(path, cv2.IMREAD_GRAYSCALE)\n",
        "#             img = cv2.resize(src=img, dsize=dsize)\n",
        "\n",
        "#             norm_img = (img - img.min()) / (img.max() - img.min())\n",
        "\n",
        "#             full_img = np.stack([norm_img, norm_img, norm_img], axis=-1)\n",
        "#             print(f'done for path {path}')\n",
        "#             return full_img\n",
        "        \n",
        "#         except Exception as e:\n",
        "#             print(f\"There is an error in loadFullImg {e}\")\n",
        "            \n",
        "\n",
        "    \n",
        " "
      ]
    },
    {
      "cell_type": "code",
      "execution_count": 11,
      "metadata": {
        "id": "VQf1GqJeBX34"
      },
      "outputs": [],
      "source": [
        "def loadFullImg(path, dsize):\n",
        "        try:\n",
        "            if not isinstance(path, str):\n",
        "                path = path.decode()\n",
        "            \n",
        "            img = cv2.imread(path, cv2.IMREAD_GRAYSCALE)\n",
        "            #print(type(img))\n",
        "            img = cv2.resize(src=img, dsize=dsize)\n",
        "\n",
        "            norm_img = (img - img.min()) / (img.max() - img.min())\n",
        "            #print(f'After norm_img')\n",
        "            #print(f'type {norm_img.shape}')\n",
        "            full_img = np.stack([norm_img, norm_img, norm_img], axis=-1)\n",
        "            #print(f'After full_img')\n",
        "            #print(f'type {full_img.shape}')\n",
        "            #print(f'done for path {path} with shape {full_img.shape}')\n",
        "            return full_img\n",
        "        \n",
        "        except Exception as e:\n",
        "            print(f\"There is an error in loadFullImg {e}\")"
      ]
    },
    {
      "cell_type": "code",
      "execution_count": 12,
      "metadata": {
        "id": "Yfm6JA2rBX34"
      },
      "outputs": [],
      "source": [
        "# s3 = boto3.resource('s3')\n",
        "# my_bucket = s3.Bucket('cbisddsm')\n",
        "# i = 0\n",
        "# for object_summary in my_bucket.objects.filter(Prefix='Train_output_full'):    \n",
        "#     if i == 0:\n",
        "#         pass\n",
        "#     else:\n",
        "#         print(object_summary.key)\n",
        "#         img = loadFullImg(object_summary.key, target_size)\n",
        "#         print(img.shape)\n",
        "#         #break\n",
        "#     i += 1\n",
        "    \n",
        "    \n",
        "#             #print(object_summary.key)\n",
        "        \n",
        "#             #x_paths_list.append(object_summary.key)\n"
      ]
    },
    {
      "cell_type": "code",
      "execution_count": 13,
      "metadata": {
        "id": "KYSP3bIaBX35"
      },
      "outputs": [],
      "source": [
        "def loadMaskImg(path, dsize):\n",
        "        try:\n",
        "            if not isinstance(path, str):\n",
        "                path=path.decode()\n",
        "            \n",
        "            img = cv2.imread(path, cv2.IMREAD_GRAYSCALE)\n",
        "            img = cv2.resize(src=img, dsize=dsize)\n",
        "\n",
        "            norm_img = (img - img.min()) / (img.max() - img.min())\n",
        "\n",
        "            mask_img = np.expand_dims(norm_img, axis=-1)\n",
        "            #print(f'done for path {path} with shape {mask_img.shape}')\n",
        "            return mask_img\n",
        "\n",
        "        except Exception as e:\n",
        "            print(f\"Error in loadMaskIMG {e}\")"
      ]
    },
    {
      "cell_type": "code",
      "execution_count": 14,
      "metadata": {
        "id": "Co4SIeY6BX35"
      },
      "outputs": [],
      "source": [
        "# def loadMaskImg(path, dsize):\n",
        "#         try:\n",
        "#             if not isinstance(path, str):\n",
        "#                 path=path.decode()\n",
        "             \n",
        "#             s3_resource = boto3.resource('s3')\n",
        "#             bucket = s3_resource.Bucket('cbisddsm')\n",
        "# #             bucket = s3_resource.Bucket('cbisddsm')\n",
        "#             img = bucket.Object(path).get().get('Body').read()\n",
        "#             img = cv2.imdecode(np.asarray(bytearray(img)), cv2.IMREAD_COLOR)\n",
        "#             print(f'type type(img)')\n",
        "#             #img = cv2.imread(path, cv2.IMREAD_GRAYSCALE)\n",
        "#             img = cv2.resize(src=img, dsize=dsize)\n",
        "\n",
        "#             norm_img = (img - img.min()) / (img.max() - img.min())\n",
        "\n",
        "#             mask_img = np.expand_dims(norm_img, axis=-1)\n",
        "\n",
        "#             return mask_img\n",
        "\n",
        "#         except Exception as e:\n",
        "#             print(\"Error in loadMaskIMG\")"
      ]
    },
    {
      "cell_type": "code",
      "execution_count": 15,
      "metadata": {
        "id": "bawafpnnBX36"
      },
      "outputs": [],
      "source": [
        "def tfParse(x_path, y_path):\n",
        "        try:\n",
        "            def _parse(x_path, y_path):\n",
        "                x = loadFullImg(path=x_path, dsize=target_size)\n",
        "                y = loadMaskImg(path=y_path, dsize=target_size)\n",
        "                return x,y\n",
        "\n",
        "            x, y = tf.numpy_function(_parse, [x_path, y_path], [tf.float64, tf.float64])\n",
        "\n",
        "            x.set_shape([target_size[0], target_size[0], 3])\n",
        "            y.set_shape([target_size[0], target_size[1], 1])\n",
        "\n",
        "            return x,y\n",
        "            \n",
        "\n",
        "        except Exception as e:\n",
        "            print(f\"Error in tfParse {e}\")"
      ]
    },
    {
      "cell_type": "code",
      "execution_count": 16,
      "metadata": {
        "id": "tkHDbxVGBX36"
      },
      "outputs": [],
      "source": [
        "def imgAugment(x_img, y_img):\n",
        "        try:\n",
        "            if tf.random.uniform(()) > 0.5:\n",
        "                x_img = tf.image.flip_up_down(image=x_img)\n",
        "                y_img = tf.image.flip_up_down(image=y_img)\n",
        "\n",
        "            x_img = tf.image.random_brightness(\n",
        "                image=x_img, max_delta=brightness_delta\n",
        "            )\n",
        "\n",
        "            return x_img, y_img\n",
        "\n",
        "        except:\n",
        "            print(\"Erro in imgAugument\")"
      ]
    },
    {
      "cell_type": "code",
      "execution_count": 17,
      "metadata": {
        "id": "Mge3IsdLBX36"
      },
      "outputs": [],
      "source": [
        " def makeTFDataset( shuffle, augument, x_paths_list, y_paths_list, batch_size):\n",
        "        try:\n",
        "            ds = tf.data.Dataset.from_tensor_slices((x_paths_list, y_paths_list))\n",
        "            \n",
        "            if shuffle:\n",
        "                ds = ds.shuffle(buffer_size=len(x_paths_list))\n",
        "\n",
        "            ds = ds.map(tfParse, num_parallel_calls=tf.data.experimental.AUTOTUNE)\n",
        "            \n",
        "            if augument:\n",
        "                ds = ds.map(imgAugment, num_parallel_calls=tf.data.experimental.AUTOTUNE)\n",
        "\n",
        "            ds = ds.batch(batch_size=batch_size, drop_remainder=False)\n",
        "            ds = ds.repeat()\n",
        "\n",
        "            return ds\n",
        "\n",
        "        except Exception as e:\n",
        "            print(f\"Error in make TFDataset {e}\")"
      ]
    },
    {
      "cell_type": "code",
      "execution_count": 18,
      "metadata": {
        "id": "9RGLX5MnBX37"
      },
      "outputs": [],
      "source": [
        "def buildEncoder():\n",
        "        try:\n",
        "            VGG16_ = keras.applications.VGG16(\n",
        "                include_top=False, weights=\"imagenet\", input_shape=encoder_input_shape,\n",
        "            )\n",
        "\n",
        "            layer_names = [layer.name for layer in VGG16_.layers]\n",
        "\n",
        "            all_layer_outputs = [\n",
        "               VGG16_.get_layer(layer).output for layer in layer_names\n",
        "            ]\n",
        "\n",
        "            encoder_model = keras.Model(inputs=VGG16_.input, outputs=all_layer_outputs)\n",
        "\n",
        "            encoder_model.trainable = False\n",
        "\n",
        "            return encoder_model \n",
        "        \n",
        "        except Exception as e:\n",
        "            print(\"Error in buildEncoder\")"
      ]
    },
    {
      "cell_type": "code",
      "execution_count": 19,
      "metadata": {
        "id": "eNHrykF9BX37"
      },
      "outputs": [],
      "source": [
        "# def buildUnet():\n",
        "#         try:\n",
        "#             unet_input = keras.Input(\n",
        "#                 shape= encoder_input_shape, name=\"unet_input_layer\"\n",
        "#             )\n",
        "\n",
        "#             x = unet_input\n",
        "#             encoder_model = buildEncoder()\n",
        "#             all_encoder_layer_outputs = encoder_model(x)\n",
        "\n",
        "#             encoded_img = all_encoder_layer_outputs[-1]\n",
        "\n",
        "#             skip_outputs = [all_encoder_layer_outputs[i] for i in [2, 5,9, 13, 17]]\n",
        "#             #skip_outputs = [all_encoder_layer_outputs[i] for i in [2, 4, 6, 12, 15]]\n",
        "            \n",
        "#             decoder_filters = int(encoded_img.shape[-1])\n",
        "\n",
        "#             # ------------------------------------------\n",
        "#             # Block 5: 7x7 -> 14x14\n",
        "#             #  - `encoded_img` as initial input for decoder\n",
        "#             x = keras.layers.Conv2DTranspose(\n",
        "#                 name=\"block5_up_convT\",\n",
        "#                 filters=decoder_filters,\n",
        "#                 kernel_size=decoder_kernel_size,\n",
        "#                 strides=decoder_strides,\n",
        "#                 padding=decoder_padding,\n",
        "#                 kernel_regularizer=l2(weight_decay), \n",
        "#                 activation=decoder_activation,\n",
        "#             )(encoded_img)\n",
        "\n",
        "#             x = keras.layers.Concatenate(name=\"block5_up_concat\", axis=-1)(\n",
        "#                 [x, skip_outputs[4]]\n",
        "#             )\n",
        "\n",
        "#             x = keras.layers.Dropout(\n",
        "#                 name=\"block5_up_dropout\", rate=dropout, seed=seed\n",
        "#             )(x, training=dropout_training)\n",
        "\n",
        "#             x = keras.layers.Conv2D(\n",
        "#                 name=\"block5_up_conv3\",\n",
        "#                 filters=decoder_filters,\n",
        "#                 kernel_size=decoder_kernel_size,\n",
        "#                 strides=(1, 1),\n",
        "#                 padding=\"same\",\n",
        "#                 kernel_regularizer=l2(weight_decay), \n",
        "#                 activation=\"relu\",\n",
        "#             )(x)\n",
        "#             x = keras.layers.Conv2D(\n",
        "#                 name=\"block5_up_conv2\",\n",
        "#                 filters=decoder_filters,\n",
        "#                 kernel_size=decoder_kernel_size,\n",
        "#                 strides=(1, 1),\n",
        "#                 padding=\"same\",\n",
        "#                 kernel_regularizer=l2(weight_decay), \n",
        "#                 activation=\"relu\",\n",
        "#             )(x)\n",
        "#             x = keras.layers.Conv2D(\n",
        "#                 name=\"block5_up_conv1\",\n",
        "#                 filters=decoder_filters,\n",
        "#                 kernel_size=decoder_kernel_size,\n",
        "#                 strides=(1, 1),\n",
        "#                 kernel_regularizer=l2(weight_decay), \n",
        "#                 padding=\"same\",\n",
        "#                 activation=\"relu\",\n",
        "#             )(x)\n",
        "\n",
        "#             # ------------------------------------------\n",
        "#             # Block 4: 14x14 -> 28x28\n",
        "#             x = keras.layers.Conv2DTranspose(\n",
        "#                 name=\"block4_up_convT\",\n",
        "#                 filters=decoder_filters,\n",
        "#                 kernel_size=decoder_kernel_size,\n",
        "#                 strides=decoder_strides,\n",
        "#                 padding=decoder_padding,\n",
        "#                 kernel_regularizer=l2(weight_decay), \n",
        "#                 activation=decoder_activation,\n",
        "#             )(x)\n",
        "\n",
        "#             x = keras.layers.Concatenate(name=\"block4_up_concat\", axis=-1)(\n",
        "#                 [x, skip_outputs[3]]\n",
        "#             )\n",
        "\n",
        "#             x = keras.layers.Dropout(\n",
        "#                 name=\"block4_up_dropout\", rate=dropout, seed=seed\n",
        "#             )(x, training=dropout_training)\n",
        "\n",
        "#             x = keras.layers.Conv2D(\n",
        "#                 name=\"block4_up_conv3\",\n",
        "#                 filters=decoder_filters,\n",
        "#                 kernel_size=decoder_kernel_size,\n",
        "#                 strides=(1, 1),\n",
        "#                 padding=\"same\",\n",
        "#                 kernel_regularizer=l2(weight_decay), \n",
        "#                 activation=\"relu\",\n",
        "#             )(x)\n",
        "#             x = keras.layers.Conv2D(\n",
        "#                 name=\"block4_up_conv2\",\n",
        "#                 filters=decoder_filters,\n",
        "#                 kernel_size=decoder_kernel_size,\n",
        "#                 strides=(1, 1),\n",
        "#                 padding=\"same\",\n",
        "#                 kernel_regularizer=l2(weight_decay), \n",
        "#                 activation=\"relu\",\n",
        "#             )(x)\n",
        "#             x = keras.layers.Conv2D(\n",
        "#                 name=\"block4_up_conv1\",\n",
        "#                 filters=decoder_filters,\n",
        "#                 kernel_size=decoder_kernel_size,\n",
        "#                 strides=(1, 1),\n",
        "#                 padding=\"same\",\n",
        "#                 kernel_regularizer=l2(weight_decay), \n",
        "#                 activation=\"relu\",\n",
        "#             )(x)\n",
        "\n",
        "#             # ------------------------------------------\n",
        "#             # Block 3: 28x28 -> 56x56\n",
        "#             x = keras.layers.Conv2DTranspose(\n",
        "#                 name=\"block3_up_convT\",\n",
        "#                 filters=int(decoder_filters / 2),\n",
        "#                 kernel_size=decoder_kernel_size,\n",
        "#                 strides=decoder_strides,\n",
        "#                 padding=decoder_padding,\n",
        "#                 kernel_regularizer=l2(weight_decay), \n",
        "#                 activation=decoder_activation,\n",
        "#             )(x)\n",
        "\n",
        "#             x = keras.layers.Concatenate(name=\"block3_up_concat\", axis=-1)(\n",
        "#                 [x, skip_outputs[2]]\n",
        "#             )\n",
        "\n",
        "#             x = keras.layers.Dropout(\n",
        "#                 name=\"block3_up_dropout\", rate=dropout, seed=seed\n",
        "#             )(x, training=dropout_training)\n",
        "\n",
        "#             x = keras.layers.Conv2D(\n",
        "#                 name=\"block3_up_conv3\",\n",
        "#                 filters=int(decoder_filters / 2),\n",
        "#                 kernel_size=decoder_kernel_size,\n",
        "#                 strides=(1, 1),\n",
        "#                 padding=\"same\",\n",
        "#                 kernel_regularizer=l2(weight_decay), \n",
        "#                 activation=\"relu\",\n",
        "#             )(x)\n",
        "#             x = keras.layers.Conv2D(\n",
        "#                 name=\"block3_up_conv2\",\n",
        "#                 filters=int(decoder_filters / 2),\n",
        "#                 kernel_size=decoder_kernel_size,\n",
        "#                 strides=(1, 1),\n",
        "#                 kernel_regularizer=l2(weight_decay), \n",
        "#                 padding=\"same\",\n",
        "#                 activation=\"relu\",\n",
        "#             )(x)\n",
        "#             x = keras.layers.Conv2D(\n",
        "#                 name=\"block3_up_conv1\",\n",
        "#                 filters=int(decoder_filters / 2),\n",
        "#                 kernel_size=decoder_kernel_size,\n",
        "#                 kernel_regularizer=l2(weight_decay), \n",
        "#                 strides=(1, 1),\n",
        "#                 padding=\"same\",\n",
        "#                 activation=\"relu\",\n",
        "#             )(x)\n",
        "\n",
        "#             # ------------------------------------------\n",
        "#             # Block 2: 56x56 -> 112x112\n",
        "#             x = keras.layers.Conv2DTranspose(\n",
        "#                 name=\"block2_up_convT\",\n",
        "#                 filters=int(decoder_filters / 4),\n",
        "#                 kernel_size=decoder_kernel_size,\n",
        "#                 strides=decoder_strides,\n",
        "#                 padding=decoder_padding,\n",
        "#                 kernel_regularizer=l2(weight_decay), \n",
        "#                 activation=decoder_activation,\n",
        "#             )(x)\n",
        "\n",
        "#             x = keras.layers.Concatenate(name=\"block2_up_concat\", axis=-1)(\n",
        "#                 [x, skip_outputs[1]]\n",
        "#             )\n",
        "\n",
        "#             x = keras.layers.Dropout(\n",
        "#                 name=\"block2_up_dropout\", rate=dropout, seed=seed\n",
        "#             )(x, training=dropout_training)\n",
        "\n",
        "#             x = keras.layers.Conv2D(\n",
        "#                 name=\"block2_up_conv2\",\n",
        "#                 filters=int(decoder_filters / 4),\n",
        "#                 kernel_size=decoder_kernel_size,\n",
        "#                 strides=(1, 1),\n",
        "#                 kernel_regularizer=l2(weight_decay), \n",
        "#                 padding=\"same\",\n",
        "#                 activation=\"relu\",\n",
        "#             )(x)\n",
        "#             x = keras.layers.Conv2D(\n",
        "#                 name=\"block2_up_conv1\",\n",
        "#                 filters=int(decoder_filters / 4),\n",
        "#                 kernel_size=decoder_kernel_size,\n",
        "#                 strides=(1, 1),\n",
        "#                 kernel_regularizer=l2(weight_decay), \n",
        "#                 padding=\"same\",\n",
        "#                 activation=\"relu\",\n",
        "#             )(x)\n",
        "\n",
        "#             # ------------------------------------------\n",
        "#             # Block 1: 112x112 -> 224x224\n",
        "#             x = keras.layers.Conv2DTranspose(\n",
        "#                 name=\"block1_up_convT\",\n",
        "#                 filters=int(decoder_filters / 8),\n",
        "#                 kernel_size=decoder_kernel_size,\n",
        "#                 strides=decoder_strides,\n",
        "#                 padding=decoder_padding,\n",
        "#                 kernel_regularizer=l2(weight_decay), \n",
        "#                 activation=decoder_activation,\n",
        "#             )(x)\n",
        "\n",
        "#             x = keras.layers.Concatenate(name=\"block1_up_concat\", axis=-1)(\n",
        "#                 [x, skip_outputs[0]]\n",
        "#             )\n",
        "\n",
        "#             x = keras.layers.Dropout(\n",
        "#                 name=\"block1_up_dropout\", rate=dropout, seed=seed\n",
        "#             )(x, training=dropout_training)\n",
        "\n",
        "#             x = keras.layers.Conv2D(\n",
        "#                 name=\"block1_up_conv2\",\n",
        "#                 filters=int(decoder_filters / 8),\n",
        "#                 kernel_size=decoder_kernel_size,\n",
        "#                 strides=(1, 1),\n",
        "#                 padding=\"same\",\n",
        "#                 kernel_regularizer=l2(weight_decay), \n",
        "#                 activation=\"relu\",\n",
        "#             )(x)\n",
        "#             decoded_img = keras.layers.Conv2D(\n",
        "#                 name=\"block1_up_conv1\",\n",
        "#                 filters=int(decoder_filters / 8),\n",
        "#                 kernel_size=decoder_kernel_size,\n",
        "#                 strides=(1, 1),\n",
        "#                 padding=\"same\",\n",
        "#                 kernel_regularizer=l2(weight_decay), \n",
        "#                 activation=\"relu\",\n",
        "#             )(x)\n",
        "\n",
        "#             # ------------------------------------------\n",
        "#             # Final conv layer\n",
        "#             final_img = keras.layers.Conv2D(\n",
        "#                 name=\"final_up_conv\",\n",
        "#                 filters=final_layer_filters,\n",
        "#                 kernel_size=decoder_kernel_size,\n",
        "#                 strides=(1, 1),\n",
        "#                 padding=\"same\",\n",
        "#                 kernel_regularizer=l2(weight_decay), \n",
        "#                 activation=final_layer_activation,\n",
        "#             )(decoded_img)\n",
        "\n",
        "#             # ======\n",
        "#             #  Unet\n",
        "#             # ======\n",
        "\n",
        "#             unet = keras.Model(inputs=unet_input, outputs=final_img, name=\"Unet_VGG16\")\n",
        "\n",
        "#             return unet\n",
        "#         except Exception as e:\n",
        "#             print(f\"Error in Build Unet {e}\")"
      ]
    },
    {
      "cell_type": "code",
      "source": [
        " "
      ],
      "metadata": {
        "id": "9fta9rGKGYYx"
      },
      "execution_count": 19,
      "outputs": []
    },
    {
      "cell_type": "code",
      "source": [
        " "
      ],
      "metadata": {
        "id": "YEvS-LjLGZ85"
      },
      "execution_count": 19,
      "outputs": []
    },
    {
      "cell_type": "code",
      "source": [
        "from tensorflow.keras.layers import Conv2D, BatchNormalization, Activation, MaxPool2D, Conv2DTranspose, Concatenate, Input, Dropout\n",
        "from tensorflow.keras.models import Model\n",
        "from tensorflow.keras.applications import ResNet50\n",
        "\n",
        "def conv_block(input, num_filters):\n",
        "    x = Conv2D(num_filters, 3, padding=\"same\",kernel_regularizer=l2(0.01),\n",
        "                bias_regularizer=l2(0.01))(input)\n",
        "    x = BatchNormalization()(x)\n",
        "    x = Activation(\"relu\")(x)\n",
        "\n",
        "    x = Conv2D(num_filters, 3, padding=\"same\",kernel_regularizer=l2(0.01),\n",
        "                bias_regularizer=l2(0.01))(x)\n",
        "    x = BatchNormalization()(x)\n",
        "    x = Activation(\"relu\")(x)\n",
        "\n",
        "    return x\n",
        "\n",
        "def decoder_block(input, skip_features, num_filters):\n",
        "    x = Conv2DTranspose(num_filters, (2, 2), strides=2, padding=\"same\")(input)\n",
        "    x = Concatenate()([x, skip_features])\n",
        "    x = Dropout(rate=dropout, seed=seed\n",
        "            )(x, training=dropout_training)\n",
        "\n",
        "    x = conv_block(x, num_filters)\n",
        "    return x\n",
        "\n",
        "def build_resnet50_unet(input_shape):\n",
        "    \"\"\" Input \"\"\"\n",
        "    inputs = Input(input_shape)\n",
        "\n",
        "    \"\"\" Pre-trained ResNet50 Model \"\"\"\n",
        "    resnet50 = ResNet50(include_top=False, weights=\"imagenet\", input_tensor=inputs)\n",
        "\n",
        "    \"\"\" Encoder \"\"\"\n",
        "    s1 = resnet50.get_layer(\"input_1\").output           ## (512 x 512)\n",
        "    s2 = resnet50.get_layer(\"conv1_relu\").output        ## (256 x 256)\n",
        "    s3 = resnet50.get_layer(\"conv2_block3_out\").output  ## (128 x 128)\n",
        "    s4 = resnet50.get_layer(\"conv3_block4_out\").output  ## (64 x 64)\n",
        "\n",
        "    \"\"\" Bridge \"\"\"\n",
        "    b1 = resnet50.get_layer(\"conv4_block6_out\").output  ## (32 x 32)\n",
        "\n",
        "    \"\"\" Decoder \"\"\"\n",
        "    d1 = decoder_block(b1, s4, 512)                     ## (64 x 64)\n",
        "    d2 = decoder_block(d1, s3, 256)                     ## (128 x 128)\n",
        "    d3 = decoder_block(d2, s2, 128)                     ## (256 x 256)\n",
        "    d4 = decoder_block(d3, s1, 64)                      ## (512 x 512)\n",
        "\n",
        "    \"\"\" Output \"\"\"\n",
        "    outputs = Conv2D(1, 1, padding=\"same\", activation=\"sigmoid\")(d4)\n",
        "\n",
        "    model = Model(inputs, outputs, name=\"ResNet50_U-Net\")\n",
        "    return model"
      ],
      "metadata": {
        "id": "Sr4O-OxiGbcv"
      },
      "execution_count": 20,
      "outputs": []
    },
    {
      "cell_type": "code",
      "source": [
        ""
      ],
      "metadata": {
        "id": "3HWJwf9AGdmn"
      },
      "execution_count": 20,
      "outputs": []
    },
    {
      "cell_type": "code",
      "execution_count": 21,
      "metadata": {
        "id": "_sq8aqBYBX38"
      },
      "outputs": [],
      "source": [
        "def iouMetric( y_true, y_pred):\n",
        "        try:\n",
        "            def compute_iou(y_true, y_pred):\n",
        "                intersection = (y_true * y_pred).sum()\n",
        "                union = y_true.sum() + y_pred.sum() - intersection\n",
        "                x = (intersection + 1e-15) / (union + 1e-15)\n",
        "                x = x.astype(np.float32)\n",
        "                return x\n",
        "            \n",
        "            return tf.numpy_function(compute_iou, [y_true, y_pred], tf.float32)\n",
        "            \n",
        "        except Exception as e:\n",
        "            print(f\"Error in iouMetric {E}\")"
      ]
    },
    {
      "cell_type": "code",
      "execution_count": 22,
      "metadata": {
        "id": "xCkCusvKBCuz"
      },
      "outputs": [],
      "source": [
        "def dice_coef(y_true, y_pred):\n",
        "        try:\n",
        "            # def dice(true, pred, k = 1):\n",
        "            #     intersection = np.sum(pred[true==k]) * 2.0\n",
        "            #     dice = intersection / (np.sum(pred) + np.sum(true))\n",
        "            #     return dice \n",
        "            # return tf.numpy_function(dice, [y_true, y_pred], tf.double)\n",
        "            \n",
        "            y_true_f = tf.reshape(tf.dtypes.cast(y_true, tf.float32), [-1])\n",
        "            y_pred_f = tf.reshape(tf.dtypes.cast(y_pred, tf.float32), [-1])\n",
        "            intersection = tf.reduce_sum(y_true_f * y_pred_f)\n",
        "            return (2. * intersection + 1.) / (tf.reduce_sum(y_true_f) + tf.reduce_sum(y_pred_f) + 1.)\n",
        "        except Exception as e:\n",
        "            print(f\"Error in dice_coef {e}\")"
      ]
    },
    {
      "cell_type": "code",
      "execution_count": 23,
      "metadata": {
        "id": "Egz73rd9BX39"
      },
      "outputs": [],
      "source": [
        "def compile_( model):\n",
        "        try:\n",
        "            loss = keras.losses.BinaryCrossentropy(from_logits=False)\n",
        "            optimizer = keras.optimizers.Adam(learning_rate=learning_rate)\n",
        "            metrics = [\"accuracy\", iouMetric, dice_coef]\n",
        "            model.compile(loss=loss, optimizer=optimizer, metrics=metrics)\n",
        "\n",
        "            return model\n",
        "        except Exception as e:\n",
        "            print(f\"Failed at compile_ {e}\")"
      ]
    },
    {
      "cell_type": "code",
      "execution_count": 24,
      "metadata": {
        "id": "jNa9nYOcCV15"
      },
      "outputs": [],
      "source": [
        " test_x, test_y = datasetPaths(\n",
        "            full_img_dir=test_full_img_dir,\n",
        "            mask_img_dir=test_mask_img_dir\n",
        "        )\n",
        "        "
      ]
    },
    {
      "cell_type": "code",
      "execution_count": 25,
      "metadata": {
        "id": "wDDyk7GYCWU3"
      },
      "outputs": [],
      "source": [
        "# def evaluate(path,target_size):\n",
        "#   full_img_lst = []\n",
        "#   print(len(path))\n",
        "#   for imgpath in path:\n",
        "#     full_img = loadFullImg(imgpath, target_size)\n",
        "#     full_img_lst.append(full_img)\n",
        "#     #img = cv2.imread(imgpath, cv2.IMREAD_GRAYSCALE)\n",
        "#     #print(full_img.shape)\n",
        "#   return full_img_lst\n",
        "  \n",
        "# full_img_lst = evaluate(test_x, target_size)"
      ]
    },
    {
      "cell_type": "code",
      "execution_count": 26,
      "metadata": {
        "id": "pbuTQcYXCbvv"
      },
      "outputs": [],
      "source": [
        "# def evaluate_mask(path,target_size):\n",
        "#   mask_img_lst = []\n",
        "#   print(len(path))\n",
        "#   for imgpath in path:\n",
        "#     mask_img = loadMaskImg(imgpath, target_size)\n",
        "#     mask_img_lst.append(mask_img)\n",
        "#     #img = cv2.imread(imgpath, cv2.IMREAD_GRAYSCALE)\n",
        "#     #print(full_img.shape)\n",
        "#   return mask_img_lst\n",
        "  \n",
        "# mask_img_lst = evaluate(test_y, target_size)"
      ]
    },
    {
      "cell_type": "code",
      "execution_count": 27,
      "metadata": {
        "id": "_WCc1IIBIety"
      },
      "outputs": [],
      "source": [
        "# img = cv2.imread(test_x[0], cv2.IMREAD_GRAYSCALE)\n",
        "# print(img)"
      ]
    },
    {
      "cell_type": "code",
      "execution_count": 28,
      "metadata": {
        "id": "VeQ8YyfqHgYW"
      },
      "outputs": [],
      "source": [
        "# actual_x, actual_y =tfParse(test_x, test_y)"
      ]
    },
    {
      "cell_type": "code",
      "execution_count": 29,
      "metadata": {
        "id": "c1hGy4M6FyuV"
      },
      "outputs": [],
      "source": [
        "# full_img_lst[0]"
      ]
    },
    {
      "cell_type": "code",
      "execution_count": 30,
      "metadata": {
        "colab": {
          "base_uri": "https://localhost:8080/"
        },
        "id": "agKhRncmBX39",
        "outputId": "896a6ec8-ca31-4d65-fe85-35040e6d5ab1"
      },
      "outputs": [
        {
          "output_type": "stream",
          "name": "stdout",
          "text": [
            "Downloading data from https://storage.googleapis.com/tensorflow/keras-applications/resnet/resnet50_weights_tf_dim_ordering_tf_kernels_notop.h5\n",
            "94773248/94765736 [==============================] - 0s 0us/step\n",
            "94781440/94765736 [==============================] - 0s 0us/step\n",
            "Model: \"ResNet50_U-Net\"\n",
            "__________________________________________________________________________________________________\n",
            " Layer (type)                   Output Shape         Param #     Connected to                     \n",
            "==================================================================================================\n",
            " input_1 (InputLayer)           [(None, 512, 512, 3  0           []                               \n",
            "                                )]                                                                \n",
            "                                                                                                  \n",
            " conv1_pad (ZeroPadding2D)      (None, 518, 518, 3)  0           ['input_1[0][0]']                \n",
            "                                                                                                  \n",
            " conv1_conv (Conv2D)            (None, 256, 256, 64  9472        ['conv1_pad[0][0]']              \n",
            "                                )                                                                 \n",
            "                                                                                                  \n",
            " conv1_bn (BatchNormalization)  (None, 256, 256, 64  256         ['conv1_conv[0][0]']             \n",
            "                                )                                                                 \n",
            "                                                                                                  \n",
            " conv1_relu (Activation)        (None, 256, 256, 64  0           ['conv1_bn[0][0]']               \n",
            "                                )                                                                 \n",
            "                                                                                                  \n",
            " pool1_pad (ZeroPadding2D)      (None, 258, 258, 64  0           ['conv1_relu[0][0]']             \n",
            "                                )                                                                 \n",
            "                                                                                                  \n",
            " pool1_pool (MaxPooling2D)      (None, 128, 128, 64  0           ['pool1_pad[0][0]']              \n",
            "                                )                                                                 \n",
            "                                                                                                  \n",
            " conv2_block1_1_conv (Conv2D)   (None, 128, 128, 64  4160        ['pool1_pool[0][0]']             \n",
            "                                )                                                                 \n",
            "                                                                                                  \n",
            " conv2_block1_1_bn (BatchNormal  (None, 128, 128, 64  256        ['conv2_block1_1_conv[0][0]']    \n",
            " ization)                       )                                                                 \n",
            "                                                                                                  \n",
            " conv2_block1_1_relu (Activatio  (None, 128, 128, 64  0          ['conv2_block1_1_bn[0][0]']      \n",
            " n)                             )                                                                 \n",
            "                                                                                                  \n",
            " conv2_block1_2_conv (Conv2D)   (None, 128, 128, 64  36928       ['conv2_block1_1_relu[0][0]']    \n",
            "                                )                                                                 \n",
            "                                                                                                  \n",
            " conv2_block1_2_bn (BatchNormal  (None, 128, 128, 64  256        ['conv2_block1_2_conv[0][0]']    \n",
            " ization)                       )                                                                 \n",
            "                                                                                                  \n",
            " conv2_block1_2_relu (Activatio  (None, 128, 128, 64  0          ['conv2_block1_2_bn[0][0]']      \n",
            " n)                             )                                                                 \n",
            "                                                                                                  \n",
            " conv2_block1_0_conv (Conv2D)   (None, 128, 128, 25  16640       ['pool1_pool[0][0]']             \n",
            "                                6)                                                                \n",
            "                                                                                                  \n",
            " conv2_block1_3_conv (Conv2D)   (None, 128, 128, 25  16640       ['conv2_block1_2_relu[0][0]']    \n",
            "                                6)                                                                \n",
            "                                                                                                  \n",
            " conv2_block1_0_bn (BatchNormal  (None, 128, 128, 25  1024       ['conv2_block1_0_conv[0][0]']    \n",
            " ization)                       6)                                                                \n",
            "                                                                                                  \n",
            " conv2_block1_3_bn (BatchNormal  (None, 128, 128, 25  1024       ['conv2_block1_3_conv[0][0]']    \n",
            " ization)                       6)                                                                \n",
            "                                                                                                  \n",
            " conv2_block1_add (Add)         (None, 128, 128, 25  0           ['conv2_block1_0_bn[0][0]',      \n",
            "                                6)                                'conv2_block1_3_bn[0][0]']      \n",
            "                                                                                                  \n",
            " conv2_block1_out (Activation)  (None, 128, 128, 25  0           ['conv2_block1_add[0][0]']       \n",
            "                                6)                                                                \n",
            "                                                                                                  \n",
            " conv2_block2_1_conv (Conv2D)   (None, 128, 128, 64  16448       ['conv2_block1_out[0][0]']       \n",
            "                                )                                                                 \n",
            "                                                                                                  \n",
            " conv2_block2_1_bn (BatchNormal  (None, 128, 128, 64  256        ['conv2_block2_1_conv[0][0]']    \n",
            " ization)                       )                                                                 \n",
            "                                                                                                  \n",
            " conv2_block2_1_relu (Activatio  (None, 128, 128, 64  0          ['conv2_block2_1_bn[0][0]']      \n",
            " n)                             )                                                                 \n",
            "                                                                                                  \n",
            " conv2_block2_2_conv (Conv2D)   (None, 128, 128, 64  36928       ['conv2_block2_1_relu[0][0]']    \n",
            "                                )                                                                 \n",
            "                                                                                                  \n",
            " conv2_block2_2_bn (BatchNormal  (None, 128, 128, 64  256        ['conv2_block2_2_conv[0][0]']    \n",
            " ization)                       )                                                                 \n",
            "                                                                                                  \n",
            " conv2_block2_2_relu (Activatio  (None, 128, 128, 64  0          ['conv2_block2_2_bn[0][0]']      \n",
            " n)                             )                                                                 \n",
            "                                                                                                  \n",
            " conv2_block2_3_conv (Conv2D)   (None, 128, 128, 25  16640       ['conv2_block2_2_relu[0][0]']    \n",
            "                                6)                                                                \n",
            "                                                                                                  \n",
            " conv2_block2_3_bn (BatchNormal  (None, 128, 128, 25  1024       ['conv2_block2_3_conv[0][0]']    \n",
            " ization)                       6)                                                                \n",
            "                                                                                                  \n",
            " conv2_block2_add (Add)         (None, 128, 128, 25  0           ['conv2_block1_out[0][0]',       \n",
            "                                6)                                'conv2_block2_3_bn[0][0]']      \n",
            "                                                                                                  \n",
            " conv2_block2_out (Activation)  (None, 128, 128, 25  0           ['conv2_block2_add[0][0]']       \n",
            "                                6)                                                                \n",
            "                                                                                                  \n",
            " conv2_block3_1_conv (Conv2D)   (None, 128, 128, 64  16448       ['conv2_block2_out[0][0]']       \n",
            "                                )                                                                 \n",
            "                                                                                                  \n",
            " conv2_block3_1_bn (BatchNormal  (None, 128, 128, 64  256        ['conv2_block3_1_conv[0][0]']    \n",
            " ization)                       )                                                                 \n",
            "                                                                                                  \n",
            " conv2_block3_1_relu (Activatio  (None, 128, 128, 64  0          ['conv2_block3_1_bn[0][0]']      \n",
            " n)                             )                                                                 \n",
            "                                                                                                  \n",
            " conv2_block3_2_conv (Conv2D)   (None, 128, 128, 64  36928       ['conv2_block3_1_relu[0][0]']    \n",
            "                                )                                                                 \n",
            "                                                                                                  \n",
            " conv2_block3_2_bn (BatchNormal  (None, 128, 128, 64  256        ['conv2_block3_2_conv[0][0]']    \n",
            " ization)                       )                                                                 \n",
            "                                                                                                  \n",
            " conv2_block3_2_relu (Activatio  (None, 128, 128, 64  0          ['conv2_block3_2_bn[0][0]']      \n",
            " n)                             )                                                                 \n",
            "                                                                                                  \n",
            " conv2_block3_3_conv (Conv2D)   (None, 128, 128, 25  16640       ['conv2_block3_2_relu[0][0]']    \n",
            "                                6)                                                                \n",
            "                                                                                                  \n",
            " conv2_block3_3_bn (BatchNormal  (None, 128, 128, 25  1024       ['conv2_block3_3_conv[0][0]']    \n",
            " ization)                       6)                                                                \n",
            "                                                                                                  \n",
            " conv2_block3_add (Add)         (None, 128, 128, 25  0           ['conv2_block2_out[0][0]',       \n",
            "                                6)                                'conv2_block3_3_bn[0][0]']      \n",
            "                                                                                                  \n",
            " conv2_block3_out (Activation)  (None, 128, 128, 25  0           ['conv2_block3_add[0][0]']       \n",
            "                                6)                                                                \n",
            "                                                                                                  \n",
            " conv3_block1_1_conv (Conv2D)   (None, 64, 64, 128)  32896       ['conv2_block3_out[0][0]']       \n",
            "                                                                                                  \n",
            " conv3_block1_1_bn (BatchNormal  (None, 64, 64, 128)  512        ['conv3_block1_1_conv[0][0]']    \n",
            " ization)                                                                                         \n",
            "                                                                                                  \n",
            " conv3_block1_1_relu (Activatio  (None, 64, 64, 128)  0          ['conv3_block1_1_bn[0][0]']      \n",
            " n)                                                                                               \n",
            "                                                                                                  \n",
            " conv3_block1_2_conv (Conv2D)   (None, 64, 64, 128)  147584      ['conv3_block1_1_relu[0][0]']    \n",
            "                                                                                                  \n",
            " conv3_block1_2_bn (BatchNormal  (None, 64, 64, 128)  512        ['conv3_block1_2_conv[0][0]']    \n",
            " ization)                                                                                         \n",
            "                                                                                                  \n",
            " conv3_block1_2_relu (Activatio  (None, 64, 64, 128)  0          ['conv3_block1_2_bn[0][0]']      \n",
            " n)                                                                                               \n",
            "                                                                                                  \n",
            " conv3_block1_0_conv (Conv2D)   (None, 64, 64, 512)  131584      ['conv2_block3_out[0][0]']       \n",
            "                                                                                                  \n",
            " conv3_block1_3_conv (Conv2D)   (None, 64, 64, 512)  66048       ['conv3_block1_2_relu[0][0]']    \n",
            "                                                                                                  \n",
            " conv3_block1_0_bn (BatchNormal  (None, 64, 64, 512)  2048       ['conv3_block1_0_conv[0][0]']    \n",
            " ization)                                                                                         \n",
            "                                                                                                  \n",
            " conv3_block1_3_bn (BatchNormal  (None, 64, 64, 512)  2048       ['conv3_block1_3_conv[0][0]']    \n",
            " ization)                                                                                         \n",
            "                                                                                                  \n",
            " conv3_block1_add (Add)         (None, 64, 64, 512)  0           ['conv3_block1_0_bn[0][0]',      \n",
            "                                                                  'conv3_block1_3_bn[0][0]']      \n",
            "                                                                                                  \n",
            " conv3_block1_out (Activation)  (None, 64, 64, 512)  0           ['conv3_block1_add[0][0]']       \n",
            "                                                                                                  \n",
            " conv3_block2_1_conv (Conv2D)   (None, 64, 64, 128)  65664       ['conv3_block1_out[0][0]']       \n",
            "                                                                                                  \n",
            " conv3_block2_1_bn (BatchNormal  (None, 64, 64, 128)  512        ['conv3_block2_1_conv[0][0]']    \n",
            " ization)                                                                                         \n",
            "                                                                                                  \n",
            " conv3_block2_1_relu (Activatio  (None, 64, 64, 128)  0          ['conv3_block2_1_bn[0][0]']      \n",
            " n)                                                                                               \n",
            "                                                                                                  \n",
            " conv3_block2_2_conv (Conv2D)   (None, 64, 64, 128)  147584      ['conv3_block2_1_relu[0][0]']    \n",
            "                                                                                                  \n",
            " conv3_block2_2_bn (BatchNormal  (None, 64, 64, 128)  512        ['conv3_block2_2_conv[0][0]']    \n",
            " ization)                                                                                         \n",
            "                                                                                                  \n",
            " conv3_block2_2_relu (Activatio  (None, 64, 64, 128)  0          ['conv3_block2_2_bn[0][0]']      \n",
            " n)                                                                                               \n",
            "                                                                                                  \n",
            " conv3_block2_3_conv (Conv2D)   (None, 64, 64, 512)  66048       ['conv3_block2_2_relu[0][0]']    \n",
            "                                                                                                  \n",
            " conv3_block2_3_bn (BatchNormal  (None, 64, 64, 512)  2048       ['conv3_block2_3_conv[0][0]']    \n",
            " ization)                                                                                         \n",
            "                                                                                                  \n",
            " conv3_block2_add (Add)         (None, 64, 64, 512)  0           ['conv3_block1_out[0][0]',       \n",
            "                                                                  'conv3_block2_3_bn[0][0]']      \n",
            "                                                                                                  \n",
            " conv3_block2_out (Activation)  (None, 64, 64, 512)  0           ['conv3_block2_add[0][0]']       \n",
            "                                                                                                  \n",
            " conv3_block3_1_conv (Conv2D)   (None, 64, 64, 128)  65664       ['conv3_block2_out[0][0]']       \n",
            "                                                                                                  \n",
            " conv3_block3_1_bn (BatchNormal  (None, 64, 64, 128)  512        ['conv3_block3_1_conv[0][0]']    \n",
            " ization)                                                                                         \n",
            "                                                                                                  \n",
            " conv3_block3_1_relu (Activatio  (None, 64, 64, 128)  0          ['conv3_block3_1_bn[0][0]']      \n",
            " n)                                                                                               \n",
            "                                                                                                  \n",
            " conv3_block3_2_conv (Conv2D)   (None, 64, 64, 128)  147584      ['conv3_block3_1_relu[0][0]']    \n",
            "                                                                                                  \n",
            " conv3_block3_2_bn (BatchNormal  (None, 64, 64, 128)  512        ['conv3_block3_2_conv[0][0]']    \n",
            " ization)                                                                                         \n",
            "                                                                                                  \n",
            " conv3_block3_2_relu (Activatio  (None, 64, 64, 128)  0          ['conv3_block3_2_bn[0][0]']      \n",
            " n)                                                                                               \n",
            "                                                                                                  \n",
            " conv3_block3_3_conv (Conv2D)   (None, 64, 64, 512)  66048       ['conv3_block3_2_relu[0][0]']    \n",
            "                                                                                                  \n",
            " conv3_block3_3_bn (BatchNormal  (None, 64, 64, 512)  2048       ['conv3_block3_3_conv[0][0]']    \n",
            " ization)                                                                                         \n",
            "                                                                                                  \n",
            " conv3_block3_add (Add)         (None, 64, 64, 512)  0           ['conv3_block2_out[0][0]',       \n",
            "                                                                  'conv3_block3_3_bn[0][0]']      \n",
            "                                                                                                  \n",
            " conv3_block3_out (Activation)  (None, 64, 64, 512)  0           ['conv3_block3_add[0][0]']       \n",
            "                                                                                                  \n",
            " conv3_block4_1_conv (Conv2D)   (None, 64, 64, 128)  65664       ['conv3_block3_out[0][0]']       \n",
            "                                                                                                  \n",
            " conv3_block4_1_bn (BatchNormal  (None, 64, 64, 128)  512        ['conv3_block4_1_conv[0][0]']    \n",
            " ization)                                                                                         \n",
            "                                                                                                  \n",
            " conv3_block4_1_relu (Activatio  (None, 64, 64, 128)  0          ['conv3_block4_1_bn[0][0]']      \n",
            " n)                                                                                               \n",
            "                                                                                                  \n",
            " conv3_block4_2_conv (Conv2D)   (None, 64, 64, 128)  147584      ['conv3_block4_1_relu[0][0]']    \n",
            "                                                                                                  \n",
            " conv3_block4_2_bn (BatchNormal  (None, 64, 64, 128)  512        ['conv3_block4_2_conv[0][0]']    \n",
            " ization)                                                                                         \n",
            "                                                                                                  \n",
            " conv3_block4_2_relu (Activatio  (None, 64, 64, 128)  0          ['conv3_block4_2_bn[0][0]']      \n",
            " n)                                                                                               \n",
            "                                                                                                  \n",
            " conv3_block4_3_conv (Conv2D)   (None, 64, 64, 512)  66048       ['conv3_block4_2_relu[0][0]']    \n",
            "                                                                                                  \n",
            " conv3_block4_3_bn (BatchNormal  (None, 64, 64, 512)  2048       ['conv3_block4_3_conv[0][0]']    \n",
            " ization)                                                                                         \n",
            "                                                                                                  \n",
            " conv3_block4_add (Add)         (None, 64, 64, 512)  0           ['conv3_block3_out[0][0]',       \n",
            "                                                                  'conv3_block4_3_bn[0][0]']      \n",
            "                                                                                                  \n",
            " conv3_block4_out (Activation)  (None, 64, 64, 512)  0           ['conv3_block4_add[0][0]']       \n",
            "                                                                                                  \n",
            " conv4_block1_1_conv (Conv2D)   (None, 32, 32, 256)  131328      ['conv3_block4_out[0][0]']       \n",
            "                                                                                                  \n",
            " conv4_block1_1_bn (BatchNormal  (None, 32, 32, 256)  1024       ['conv4_block1_1_conv[0][0]']    \n",
            " ization)                                                                                         \n",
            "                                                                                                  \n",
            " conv4_block1_1_relu (Activatio  (None, 32, 32, 256)  0          ['conv4_block1_1_bn[0][0]']      \n",
            " n)                                                                                               \n",
            "                                                                                                  \n",
            " conv4_block1_2_conv (Conv2D)   (None, 32, 32, 256)  590080      ['conv4_block1_1_relu[0][0]']    \n",
            "                                                                                                  \n",
            " conv4_block1_2_bn (BatchNormal  (None, 32, 32, 256)  1024       ['conv4_block1_2_conv[0][0]']    \n",
            " ization)                                                                                         \n",
            "                                                                                                  \n",
            " conv4_block1_2_relu (Activatio  (None, 32, 32, 256)  0          ['conv4_block1_2_bn[0][0]']      \n",
            " n)                                                                                               \n",
            "                                                                                                  \n",
            " conv4_block1_0_conv (Conv2D)   (None, 32, 32, 1024  525312      ['conv3_block4_out[0][0]']       \n",
            "                                )                                                                 \n",
            "                                                                                                  \n",
            " conv4_block1_3_conv (Conv2D)   (None, 32, 32, 1024  263168      ['conv4_block1_2_relu[0][0]']    \n",
            "                                )                                                                 \n",
            "                                                                                                  \n",
            " conv4_block1_0_bn (BatchNormal  (None, 32, 32, 1024  4096       ['conv4_block1_0_conv[0][0]']    \n",
            " ization)                       )                                                                 \n",
            "                                                                                                  \n",
            " conv4_block1_3_bn (BatchNormal  (None, 32, 32, 1024  4096       ['conv4_block1_3_conv[0][0]']    \n",
            " ization)                       )                                                                 \n",
            "                                                                                                  \n",
            " conv4_block1_add (Add)         (None, 32, 32, 1024  0           ['conv4_block1_0_bn[0][0]',      \n",
            "                                )                                 'conv4_block1_3_bn[0][0]']      \n",
            "                                                                                                  \n",
            " conv4_block1_out (Activation)  (None, 32, 32, 1024  0           ['conv4_block1_add[0][0]']       \n",
            "                                )                                                                 \n",
            "                                                                                                  \n",
            " conv4_block2_1_conv (Conv2D)   (None, 32, 32, 256)  262400      ['conv4_block1_out[0][0]']       \n",
            "                                                                                                  \n",
            " conv4_block2_1_bn (BatchNormal  (None, 32, 32, 256)  1024       ['conv4_block2_1_conv[0][0]']    \n",
            " ization)                                                                                         \n",
            "                                                                                                  \n",
            " conv4_block2_1_relu (Activatio  (None, 32, 32, 256)  0          ['conv4_block2_1_bn[0][0]']      \n",
            " n)                                                                                               \n",
            "                                                                                                  \n",
            " conv4_block2_2_conv (Conv2D)   (None, 32, 32, 256)  590080      ['conv4_block2_1_relu[0][0]']    \n",
            "                                                                                                  \n",
            " conv4_block2_2_bn (BatchNormal  (None, 32, 32, 256)  1024       ['conv4_block2_2_conv[0][0]']    \n",
            " ization)                                                                                         \n",
            "                                                                                                  \n",
            " conv4_block2_2_relu (Activatio  (None, 32, 32, 256)  0          ['conv4_block2_2_bn[0][0]']      \n",
            " n)                                                                                               \n",
            "                                                                                                  \n",
            " conv4_block2_3_conv (Conv2D)   (None, 32, 32, 1024  263168      ['conv4_block2_2_relu[0][0]']    \n",
            "                                )                                                                 \n",
            "                                                                                                  \n",
            " conv4_block2_3_bn (BatchNormal  (None, 32, 32, 1024  4096       ['conv4_block2_3_conv[0][0]']    \n",
            " ization)                       )                                                                 \n",
            "                                                                                                  \n",
            " conv4_block2_add (Add)         (None, 32, 32, 1024  0           ['conv4_block1_out[0][0]',       \n",
            "                                )                                 'conv4_block2_3_bn[0][0]']      \n",
            "                                                                                                  \n",
            " conv4_block2_out (Activation)  (None, 32, 32, 1024  0           ['conv4_block2_add[0][0]']       \n",
            "                                )                                                                 \n",
            "                                                                                                  \n",
            " conv4_block3_1_conv (Conv2D)   (None, 32, 32, 256)  262400      ['conv4_block2_out[0][0]']       \n",
            "                                                                                                  \n",
            " conv4_block3_1_bn (BatchNormal  (None, 32, 32, 256)  1024       ['conv4_block3_1_conv[0][0]']    \n",
            " ization)                                                                                         \n",
            "                                                                                                  \n",
            " conv4_block3_1_relu (Activatio  (None, 32, 32, 256)  0          ['conv4_block3_1_bn[0][0]']      \n",
            " n)                                                                                               \n",
            "                                                                                                  \n",
            " conv4_block3_2_conv (Conv2D)   (None, 32, 32, 256)  590080      ['conv4_block3_1_relu[0][0]']    \n",
            "                                                                                                  \n",
            " conv4_block3_2_bn (BatchNormal  (None, 32, 32, 256)  1024       ['conv4_block3_2_conv[0][0]']    \n",
            " ization)                                                                                         \n",
            "                                                                                                  \n",
            " conv4_block3_2_relu (Activatio  (None, 32, 32, 256)  0          ['conv4_block3_2_bn[0][0]']      \n",
            " n)                                                                                               \n",
            "                                                                                                  \n",
            " conv4_block3_3_conv (Conv2D)   (None, 32, 32, 1024  263168      ['conv4_block3_2_relu[0][0]']    \n",
            "                                )                                                                 \n",
            "                                                                                                  \n",
            " conv4_block3_3_bn (BatchNormal  (None, 32, 32, 1024  4096       ['conv4_block3_3_conv[0][0]']    \n",
            " ization)                       )                                                                 \n",
            "                                                                                                  \n",
            " conv4_block3_add (Add)         (None, 32, 32, 1024  0           ['conv4_block2_out[0][0]',       \n",
            "                                )                                 'conv4_block3_3_bn[0][0]']      \n",
            "                                                                                                  \n",
            " conv4_block3_out (Activation)  (None, 32, 32, 1024  0           ['conv4_block3_add[0][0]']       \n",
            "                                )                                                                 \n",
            "                                                                                                  \n",
            " conv4_block4_1_conv (Conv2D)   (None, 32, 32, 256)  262400      ['conv4_block3_out[0][0]']       \n",
            "                                                                                                  \n",
            " conv4_block4_1_bn (BatchNormal  (None, 32, 32, 256)  1024       ['conv4_block4_1_conv[0][0]']    \n",
            " ization)                                                                                         \n",
            "                                                                                                  \n",
            " conv4_block4_1_relu (Activatio  (None, 32, 32, 256)  0          ['conv4_block4_1_bn[0][0]']      \n",
            " n)                                                                                               \n",
            "                                                                                                  \n",
            " conv4_block4_2_conv (Conv2D)   (None, 32, 32, 256)  590080      ['conv4_block4_1_relu[0][0]']    \n",
            "                                                                                                  \n",
            " conv4_block4_2_bn (BatchNormal  (None, 32, 32, 256)  1024       ['conv4_block4_2_conv[0][0]']    \n",
            " ization)                                                                                         \n",
            "                                                                                                  \n",
            " conv4_block4_2_relu (Activatio  (None, 32, 32, 256)  0          ['conv4_block4_2_bn[0][0]']      \n",
            " n)                                                                                               \n",
            "                                                                                                  \n",
            " conv4_block4_3_conv (Conv2D)   (None, 32, 32, 1024  263168      ['conv4_block4_2_relu[0][0]']    \n",
            "                                )                                                                 \n",
            "                                                                                                  \n",
            " conv4_block4_3_bn (BatchNormal  (None, 32, 32, 1024  4096       ['conv4_block4_3_conv[0][0]']    \n",
            " ization)                       )                                                                 \n",
            "                                                                                                  \n",
            " conv4_block4_add (Add)         (None, 32, 32, 1024  0           ['conv4_block3_out[0][0]',       \n",
            "                                )                                 'conv4_block4_3_bn[0][0]']      \n",
            "                                                                                                  \n",
            " conv4_block4_out (Activation)  (None, 32, 32, 1024  0           ['conv4_block4_add[0][0]']       \n",
            "                                )                                                                 \n",
            "                                                                                                  \n",
            " conv4_block5_1_conv (Conv2D)   (None, 32, 32, 256)  262400      ['conv4_block4_out[0][0]']       \n",
            "                                                                                                  \n",
            " conv4_block5_1_bn (BatchNormal  (None, 32, 32, 256)  1024       ['conv4_block5_1_conv[0][0]']    \n",
            " ization)                                                                                         \n",
            "                                                                                                  \n",
            " conv4_block5_1_relu (Activatio  (None, 32, 32, 256)  0          ['conv4_block5_1_bn[0][0]']      \n",
            " n)                                                                                               \n",
            "                                                                                                  \n",
            " conv4_block5_2_conv (Conv2D)   (None, 32, 32, 256)  590080      ['conv4_block5_1_relu[0][0]']    \n",
            "                                                                                                  \n",
            " conv4_block5_2_bn (BatchNormal  (None, 32, 32, 256)  1024       ['conv4_block5_2_conv[0][0]']    \n",
            " ization)                                                                                         \n",
            "                                                                                                  \n",
            " conv4_block5_2_relu (Activatio  (None, 32, 32, 256)  0          ['conv4_block5_2_bn[0][0]']      \n",
            " n)                                                                                               \n",
            "                                                                                                  \n",
            " conv4_block5_3_conv (Conv2D)   (None, 32, 32, 1024  263168      ['conv4_block5_2_relu[0][0]']    \n",
            "                                )                                                                 \n",
            "                                                                                                  \n",
            " conv4_block5_3_bn (BatchNormal  (None, 32, 32, 1024  4096       ['conv4_block5_3_conv[0][0]']    \n",
            " ization)                       )                                                                 \n",
            "                                                                                                  \n",
            " conv4_block5_add (Add)         (None, 32, 32, 1024  0           ['conv4_block4_out[0][0]',       \n",
            "                                )                                 'conv4_block5_3_bn[0][0]']      \n",
            "                                                                                                  \n",
            " conv4_block5_out (Activation)  (None, 32, 32, 1024  0           ['conv4_block5_add[0][0]']       \n",
            "                                )                                                                 \n",
            "                                                                                                  \n",
            " conv4_block6_1_conv (Conv2D)   (None, 32, 32, 256)  262400      ['conv4_block5_out[0][0]']       \n",
            "                                                                                                  \n",
            " conv4_block6_1_bn (BatchNormal  (None, 32, 32, 256)  1024       ['conv4_block6_1_conv[0][0]']    \n",
            " ization)                                                                                         \n",
            "                                                                                                  \n",
            " conv4_block6_1_relu (Activatio  (None, 32, 32, 256)  0          ['conv4_block6_1_bn[0][0]']      \n",
            " n)                                                                                               \n",
            "                                                                                                  \n",
            " conv4_block6_2_conv (Conv2D)   (None, 32, 32, 256)  590080      ['conv4_block6_1_relu[0][0]']    \n",
            "                                                                                                  \n",
            " conv4_block6_2_bn (BatchNormal  (None, 32, 32, 256)  1024       ['conv4_block6_2_conv[0][0]']    \n",
            " ization)                                                                                         \n",
            "                                                                                                  \n",
            " conv4_block6_2_relu (Activatio  (None, 32, 32, 256)  0          ['conv4_block6_2_bn[0][0]']      \n",
            " n)                                                                                               \n",
            "                                                                                                  \n",
            " conv4_block6_3_conv (Conv2D)   (None, 32, 32, 1024  263168      ['conv4_block6_2_relu[0][0]']    \n",
            "                                )                                                                 \n",
            "                                                                                                  \n",
            " conv4_block6_3_bn (BatchNormal  (None, 32, 32, 1024  4096       ['conv4_block6_3_conv[0][0]']    \n",
            " ization)                       )                                                                 \n",
            "                                                                                                  \n",
            " conv4_block6_add (Add)         (None, 32, 32, 1024  0           ['conv4_block5_out[0][0]',       \n",
            "                                )                                 'conv4_block6_3_bn[0][0]']      \n",
            "                                                                                                  \n",
            " conv4_block6_out (Activation)  (None, 32, 32, 1024  0           ['conv4_block6_add[0][0]']       \n",
            "                                )                                                                 \n",
            "                                                                                                  \n",
            " conv2d_transpose (Conv2DTransp  (None, 64, 64, 512)  2097664    ['conv4_block6_out[0][0]']       \n",
            " ose)                                                                                             \n",
            "                                                                                                  \n",
            " concatenate (Concatenate)      (None, 64, 64, 1024  0           ['conv2d_transpose[0][0]',       \n",
            "                                )                                 'conv3_block4_out[0][0]']       \n",
            "                                                                                                  \n",
            " dropout (Dropout)              (None, 64, 64, 1024  0           ['concatenate[0][0]']            \n",
            "                                )                                                                 \n",
            "                                                                                                  \n",
            " conv2d (Conv2D)                (None, 64, 64, 512)  4719104     ['dropout[0][0]']                \n",
            "                                                                                                  \n",
            " batch_normalization (BatchNorm  (None, 64, 64, 512)  2048       ['conv2d[0][0]']                 \n",
            " alization)                                                                                       \n",
            "                                                                                                  \n",
            " activation (Activation)        (None, 64, 64, 512)  0           ['batch_normalization[0][0]']    \n",
            "                                                                                                  \n",
            " conv2d_1 (Conv2D)              (None, 64, 64, 512)  2359808     ['activation[0][0]']             \n",
            "                                                                                                  \n",
            " batch_normalization_1 (BatchNo  (None, 64, 64, 512)  2048       ['conv2d_1[0][0]']               \n",
            " rmalization)                                                                                     \n",
            "                                                                                                  \n",
            " activation_1 (Activation)      (None, 64, 64, 512)  0           ['batch_normalization_1[0][0]']  \n",
            "                                                                                                  \n",
            " conv2d_transpose_1 (Conv2DTran  (None, 128, 128, 25  524544     ['activation_1[0][0]']           \n",
            " spose)                         6)                                                                \n",
            "                                                                                                  \n",
            " concatenate_1 (Concatenate)    (None, 128, 128, 51  0           ['conv2d_transpose_1[0][0]',     \n",
            "                                2)                                'conv2_block3_out[0][0]']       \n",
            "                                                                                                  \n",
            " dropout_1 (Dropout)            (None, 128, 128, 51  0           ['concatenate_1[0][0]']          \n",
            "                                2)                                                                \n",
            "                                                                                                  \n",
            " conv2d_2 (Conv2D)              (None, 128, 128, 25  1179904     ['dropout_1[0][0]']              \n",
            "                                6)                                                                \n",
            "                                                                                                  \n",
            " batch_normalization_2 (BatchNo  (None, 128, 128, 25  1024       ['conv2d_2[0][0]']               \n",
            " rmalization)                   6)                                                                \n",
            "                                                                                                  \n",
            " activation_2 (Activation)      (None, 128, 128, 25  0           ['batch_normalization_2[0][0]']  \n",
            "                                6)                                                                \n",
            "                                                                                                  \n",
            " conv2d_3 (Conv2D)              (None, 128, 128, 25  590080      ['activation_2[0][0]']           \n",
            "                                6)                                                                \n",
            "                                                                                                  \n",
            " batch_normalization_3 (BatchNo  (None, 128, 128, 25  1024       ['conv2d_3[0][0]']               \n",
            " rmalization)                   6)                                                                \n",
            "                                                                                                  \n",
            " activation_3 (Activation)      (None, 128, 128, 25  0           ['batch_normalization_3[0][0]']  \n",
            "                                6)                                                                \n",
            "                                                                                                  \n",
            " conv2d_transpose_2 (Conv2DTran  (None, 256, 256, 12  131200     ['activation_3[0][0]']           \n",
            " spose)                         8)                                                                \n",
            "                                                                                                  \n",
            " concatenate_2 (Concatenate)    (None, 256, 256, 19  0           ['conv2d_transpose_2[0][0]',     \n",
            "                                2)                                'conv1_relu[0][0]']             \n",
            "                                                                                                  \n",
            " dropout_2 (Dropout)            (None, 256, 256, 19  0           ['concatenate_2[0][0]']          \n",
            "                                2)                                                                \n",
            "                                                                                                  \n",
            " conv2d_4 (Conv2D)              (None, 256, 256, 12  221312      ['dropout_2[0][0]']              \n",
            "                                8)                                                                \n",
            "                                                                                                  \n",
            " batch_normalization_4 (BatchNo  (None, 256, 256, 12  512        ['conv2d_4[0][0]']               \n",
            " rmalization)                   8)                                                                \n",
            "                                                                                                  \n",
            " activation_4 (Activation)      (None, 256, 256, 12  0           ['batch_normalization_4[0][0]']  \n",
            "                                8)                                                                \n",
            "                                                                                                  \n",
            " conv2d_5 (Conv2D)              (None, 256, 256, 12  147584      ['activation_4[0][0]']           \n",
            "                                8)                                                                \n",
            "                                                                                                  \n",
            " batch_normalization_5 (BatchNo  (None, 256, 256, 12  512        ['conv2d_5[0][0]']               \n",
            " rmalization)                   8)                                                                \n",
            "                                                                                                  \n",
            " activation_5 (Activation)      (None, 256, 256, 12  0           ['batch_normalization_5[0][0]']  \n",
            "                                8)                                                                \n",
            "                                                                                                  \n",
            " conv2d_transpose_3 (Conv2DTran  (None, 512, 512, 64  32832      ['activation_5[0][0]']           \n",
            " spose)                         )                                                                 \n",
            "                                                                                                  \n",
            " concatenate_3 (Concatenate)    (None, 512, 512, 67  0           ['conv2d_transpose_3[0][0]',     \n",
            "                                )                                 'input_1[0][0]']                \n",
            "                                                                                                  \n",
            " dropout_3 (Dropout)            (None, 512, 512, 67  0           ['concatenate_3[0][0]']          \n",
            "                                )                                                                 \n",
            "                                                                                                  \n",
            " conv2d_6 (Conv2D)              (None, 512, 512, 64  38656       ['dropout_3[0][0]']              \n",
            "                                )                                                                 \n",
            "                                                                                                  \n",
            " batch_normalization_6 (BatchNo  (None, 512, 512, 64  256        ['conv2d_6[0][0]']               \n",
            " rmalization)                   )                                                                 \n",
            "                                                                                                  \n",
            " activation_6 (Activation)      (None, 512, 512, 64  0           ['batch_normalization_6[0][0]']  \n",
            "                                )                                                                 \n",
            "                                                                                                  \n",
            " conv2d_7 (Conv2D)              (None, 512, 512, 64  36928       ['activation_6[0][0]']           \n",
            "                                )                                                                 \n",
            "                                                                                                  \n",
            " batch_normalization_7 (BatchNo  (None, 512, 512, 64  256        ['conv2d_7[0][0]']               \n",
            " rmalization)                   )                                                                 \n",
            "                                                                                                  \n",
            " activation_7 (Activation)      (None, 512, 512, 64  0           ['batch_normalization_7[0][0]']  \n",
            "                                )                                                                 \n",
            "                                                                                                  \n",
            " conv2d_8 (Conv2D)              (None, 512, 512, 1)  65          ['activation_7[0][0]']           \n",
            "                                                                                                  \n",
            "==================================================================================================\n",
            "Total params: 20,676,545\n",
            "Trainable params: 20,642,113\n",
            "Non-trainable params: 34,432\n",
            "__________________________________________________________________________________________________\n",
            "\n",
            "Size of training set = 1231\n",
            "Size of test set = 361\n",
            "Number of epochs = 40\n",
            "Batch size = 10\n",
            "Number of training steps per epoch = 124\n",
            "Number of test steps per epoch = 37\n",
            "\n",
            "Epoch 1/40\n",
            "124/124 [==============================] - ETA: 0s - loss: 12.6860 - accuracy: 0.8111 - iouMetric: 0.0042 - dice_coef: 0.0085"
          ]
        },
        {
          "output_type": "stream",
          "name": "stderr",
          "text": [
            "WARNING:tensorflow:Can save best model only with val_loss available, skipping.\n",
            "WARNING:tensorflow:Can save best model only with val_loss available, skipping.\n"
          ]
        },
        {
          "output_type": "stream",
          "name": "stdout",
          "text": [
            "\b\b\b\b\b\b\b\b\b\b\b\b\b\b\b\b\b\b\b\b\b\b\b\b\b\b\b\b\b\b\b\b\b\b\b\b\b\b\b\b\b\b\b\b\b\b\b\b\b\b\b\b\b\b\b\b\b\b\b\b\b\b\b\b\b\b\b\b\b\b\b\b\b\b\b\b\b\b\b\b\b\b\b\b\b\b\b\b\b\b\b\b\b\b\b\b\b\b\b\b\b\b\b\b\b\b\b\b\b\b\b\b\b\b\b\b\b\b\b\b\b\b\b\b\b\r124/124 [==============================] - 456s 3s/step - loss: 12.6860 - accuracy: 0.8111 - iouMetric: 0.0042 - dice_coef: 0.0085\n",
            "Epoch 2/40\n",
            "124/124 [==============================] - ETA: 0s - loss: 3.5216 - accuracy: 0.9959 - iouMetric: 0.0043 - dice_coef: 0.0086"
          ]
        },
        {
          "output_type": "stream",
          "name": "stderr",
          "text": [
            "WARNING:tensorflow:Can save best model only with val_loss available, skipping.\n",
            "WARNING:tensorflow:Can save best model only with val_loss available, skipping.\n"
          ]
        },
        {
          "output_type": "stream",
          "name": "stdout",
          "text": [
            "\b\b\b\b\b\b\b\b\b\b\b\b\b\b\b\b\b\b\b\b\b\b\b\b\b\b\b\b\b\b\b\b\b\b\b\b\b\b\b\b\b\b\b\b\b\b\b\b\b\b\b\b\b\b\b\b\b\b\b\b\b\b\b\b\b\b\b\b\b\b\b\b\b\b\b\b\b\b\b\b\b\b\b\b\b\b\b\b\b\b\b\b\b\b\b\b\b\b\b\b\b\b\b\b\b\b\b\b\b\b\b\b\b\b\b\b\b\b\b\b\b\b\b\b\r124/124 [==============================] - 226s 2s/step - loss: 3.5216 - accuracy: 0.9959 - iouMetric: 0.0043 - dice_coef: 0.0086\n",
            "Epoch 3/40\n",
            "124/124 [==============================] - ETA: 0s - loss: 1.2415 - accuracy: 0.9960 - iouMetric: 0.0068 - dice_coef: 0.0135"
          ]
        },
        {
          "output_type": "stream",
          "name": "stderr",
          "text": [
            "WARNING:tensorflow:Can save best model only with val_loss available, skipping.\n",
            "WARNING:tensorflow:Can save best model only with val_loss available, skipping.\n"
          ]
        },
        {
          "output_type": "stream",
          "name": "stdout",
          "text": [
            "\b\b\b\b\b\b\b\b\b\b\b\b\b\b\b\b\b\b\b\b\b\b\b\b\b\b\b\b\b\b\b\b\b\b\b\b\b\b\b\b\b\b\b\b\b\b\b\b\b\b\b\b\b\b\b\b\b\b\b\b\b\b\b\b\b\b\b\b\b\b\b\b\b\b\b\b\b\b\b\b\b\b\b\b\b\b\b\b\b\b\b\b\b\b\b\b\b\b\b\b\b\b\b\b\b\b\b\b\b\b\b\b\b\b\b\b\b\b\b\b\b\b\b\b\r124/124 [==============================] - 226s 2s/step - loss: 1.2415 - accuracy: 0.9960 - iouMetric: 0.0068 - dice_coef: 0.0135\n",
            "Epoch 4/40\n",
            "124/124 [==============================] - ETA: 0s - loss: 0.5575 - accuracy: 0.9961 - iouMetric: 0.0094 - dice_coef: 0.0186"
          ]
        },
        {
          "output_type": "stream",
          "name": "stderr",
          "text": [
            "WARNING:tensorflow:Can save best model only with val_loss available, skipping.\n",
            "WARNING:tensorflow:Can save best model only with val_loss available, skipping.\n"
          ]
        },
        {
          "output_type": "stream",
          "name": "stdout",
          "text": [
            "\b\b\b\b\b\b\b\b\b\b\b\b\b\b\b\b\b\b\b\b\b\b\b\b\b\b\b\b\b\b\b\b\b\b\b\b\b\b\b\b\b\b\b\b\b\b\b\b\b\b\b\b\b\b\b\b\b\b\b\b\b\b\b\b\b\b\b\b\b\b\b\b\b\b\b\b\b\b\b\b\b\b\b\b\b\b\b\b\b\b\b\b\b\b\b\b\b\b\b\b\b\b\b\b\b\b\b\b\b\b\b\b\b\b\b\b\b\b\b\b\b\b\b\b\r124/124 [==============================] - 225s 2s/step - loss: 0.5575 - accuracy: 0.9961 - iouMetric: 0.0094 - dice_coef: 0.0186\n",
            "Epoch 5/40\n",
            "124/124 [==============================] - ETA: 0s - loss: 0.2944 - accuracy: 0.9961 - iouMetric: 0.0113 - dice_coef: 0.0224"
          ]
        },
        {
          "output_type": "stream",
          "name": "stderr",
          "text": [
            "WARNING:tensorflow:Can save best model only with val_loss available, skipping.\n",
            "WARNING:tensorflow:Can save best model only with val_loss available, skipping.\n"
          ]
        },
        {
          "output_type": "stream",
          "name": "stdout",
          "text": [
            "\b\b\b\b\b\b\b\b\b\b\b\b\b\b\b\b\b\b\b\b\b\b\b\b\b\b\b\b\b\b\b\b\b\b\b\b\b\b\b\b\b\b\b\b\b\b\b\b\b\b\b\b\b\b\b\b\b\b\b\b\b\b\b\b\b\b\b\b\b\b\b\b\b\b\b\b\b\b\b\b\b\b\b\b\b\b\b\b\b\b\b\b\b\b\b\b\b\b\b\b\b\b\b\b\b\b\b\b\b\b\b\b\b\b\b\b\b\b\b\b\b\b\b\b\r124/124 [==============================] - 233s 2s/step - loss: 0.2944 - accuracy: 0.9961 - iouMetric: 0.0113 - dice_coef: 0.0224\n",
            "Epoch 6/40\n",
            "124/124 [==============================] - ETA: 0s - loss: 0.1740 - accuracy: 0.9961 - iouMetric: 0.0139 - dice_coef: 0.0274"
          ]
        },
        {
          "output_type": "stream",
          "name": "stderr",
          "text": [
            "WARNING:tensorflow:Can save best model only with val_loss available, skipping.\n",
            "WARNING:tensorflow:Can save best model only with val_loss available, skipping.\n"
          ]
        },
        {
          "output_type": "stream",
          "name": "stdout",
          "text": [
            "\b\b\b\b\b\b\b\b\b\b\b\b\b\b\b\b\b\b\b\b\b\b\b\b\b\b\b\b\b\b\b\b\b\b\b\b\b\b\b\b\b\b\b\b\b\b\b\b\b\b\b\b\b\b\b\b\b\b\b\b\b\b\b\b\b\b\b\b\b\b\b\b\b\b\b\b\b\b\b\b\b\b\b\b\b\b\b\b\b\b\b\b\b\b\b\b\b\b\b\b\b\b\b\b\b\b\b\b\b\b\b\b\b\b\b\b\b\b\b\b\b\b\b\b\r124/124 [==============================] - 228s 2s/step - loss: 0.1740 - accuracy: 0.9961 - iouMetric: 0.0139 - dice_coef: 0.0274\n",
            "Epoch 7/40\n",
            "124/124 [==============================] - ETA: 0s - loss: 0.1130 - accuracy: 0.9962 - iouMetric: 0.0175 - dice_coef: 0.0342"
          ]
        },
        {
          "output_type": "stream",
          "name": "stderr",
          "text": [
            "WARNING:tensorflow:Can save best model only with val_loss available, skipping.\n",
            "WARNING:tensorflow:Can save best model only with val_loss available, skipping.\n"
          ]
        },
        {
          "output_type": "stream",
          "name": "stdout",
          "text": [
            "\b\b\b\b\b\b\b\b\b\b\b\b\b\b\b\b\b\b\b\b\b\b\b\b\b\b\b\b\b\b\b\b\b\b\b\b\b\b\b\b\b\b\b\b\b\b\b\b\b\b\b\b\b\b\b\b\b\b\b\b\b\b\b\b\b\b\b\b\b\b\b\b\b\b\b\b\b\b\b\b\b\b\b\b\b\b\b\b\b\b\b\b\b\b\b\b\b\b\b\b\b\b\b\b\b\b\b\b\b\b\b\b\b\b\b\b\b\b\b\b\b\b\b\b\r124/124 [==============================] - 230s 2s/step - loss: 0.1130 - accuracy: 0.9962 - iouMetric: 0.0175 - dice_coef: 0.0342\n",
            "Epoch 8/40\n",
            "124/124 [==============================] - ETA: 0s - loss: 0.0804 - accuracy: 0.9963 - iouMetric: 0.0209 - dice_coef: 0.0409"
          ]
        },
        {
          "output_type": "stream",
          "name": "stderr",
          "text": [
            "WARNING:tensorflow:Can save best model only with val_loss available, skipping.\n",
            "WARNING:tensorflow:Can save best model only with val_loss available, skipping.\n"
          ]
        },
        {
          "output_type": "stream",
          "name": "stdout",
          "text": [
            "\b\b\b\b\b\b\b\b\b\b\b\b\b\b\b\b\b\b\b\b\b\b\b\b\b\b\b\b\b\b\b\b\b\b\b\b\b\b\b\b\b\b\b\b\b\b\b\b\b\b\b\b\b\b\b\b\b\b\b\b\b\b\b\b\b\b\b\b\b\b\b\b\b\b\b\b\b\b\b\b\b\b\b\b\b\b\b\b\b\b\b\b\b\b\b\b\b\b\b\b\b\b\b\b\b\b\b\b\b\b\b\b\b\b\b\b\b\b\b\b\b\b\b\b\r124/124 [==============================] - 227s 2s/step - loss: 0.0804 - accuracy: 0.9963 - iouMetric: 0.0209 - dice_coef: 0.0409\n",
            "Epoch 9/40\n",
            "124/124 [==============================] - ETA: 0s - loss: 0.0610 - accuracy: 0.9967 - iouMetric: 0.0283 - dice_coef: 0.0549"
          ]
        },
        {
          "output_type": "stream",
          "name": "stderr",
          "text": [
            "WARNING:tensorflow:Can save best model only with val_loss available, skipping.\n",
            "WARNING:tensorflow:Can save best model only with val_loss available, skipping.\n"
          ]
        },
        {
          "output_type": "stream",
          "name": "stdout",
          "text": [
            "\b\b\b\b\b\b\b\b\b\b\b\b\b\b\b\b\b\b\b\b\b\b\b\b\b\b\b\b\b\b\b\b\b\b\b\b\b\b\b\b\b\b\b\b\b\b\b\b\b\b\b\b\b\b\b\b\b\b\b\b\b\b\b\b\b\b\b\b\b\b\b\b\b\b\b\b\b\b\b\b\b\b\b\b\b\b\b\b\b\b\b\b\b\b\b\b\b\b\b\b\b\b\b\b\b\b\b\b\b\b\b\b\b\b\b\b\b\b\b\b\b\b\b\b\r124/124 [==============================] - 228s 2s/step - loss: 0.0610 - accuracy: 0.9967 - iouMetric: 0.0283 - dice_coef: 0.0549\n",
            "Epoch 10/40\n",
            "124/124 [==============================] - ETA: 0s - loss: 0.0501 - accuracy: 0.9967 - iouMetric: 0.0329 - dice_coef: 0.0633"
          ]
        },
        {
          "output_type": "stream",
          "name": "stderr",
          "text": [
            "WARNING:tensorflow:Can save best model only with val_loss available, skipping.\n",
            "WARNING:tensorflow:Can save best model only with val_loss available, skipping.\n"
          ]
        },
        {
          "output_type": "stream",
          "name": "stdout",
          "text": [
            "\b\b\b\b\b\b\b\b\b\b\b\b\b\b\b\b\b\b\b\b\b\b\b\b\b\b\b\b\b\b\b\b\b\b\b\b\b\b\b\b\b\b\b\b\b\b\b\b\b\b\b\b\b\b\b\b\b\b\b\b\b\b\b\b\b\b\b\b\b\b\b\b\b\b\b\b\b\b\b\b\b\b\b\b\b\b\b\b\b\b\b\b\b\b\b\b\b\b\b\b\b\b\b\b\b\b\b\b\b\b\b\b\b\b\b\b\b\b\b\b\b\b\b\b\r124/124 [==============================] - 227s 2s/step - loss: 0.0501 - accuracy: 0.9967 - iouMetric: 0.0329 - dice_coef: 0.0633\n",
            "Epoch 11/40\n",
            "124/124 [==============================] - ETA: 0s - loss: 0.0427 - accuracy: 0.9968 - iouMetric: 0.0380 - dice_coef: 0.0728"
          ]
        },
        {
          "output_type": "stream",
          "name": "stderr",
          "text": [
            "WARNING:tensorflow:Can save best model only with val_loss available, skipping.\n",
            "WARNING:tensorflow:Can save best model only with val_loss available, skipping.\n"
          ]
        },
        {
          "output_type": "stream",
          "name": "stdout",
          "text": [
            "\b\b\b\b\b\b\b\b\b\b\b\b\b\b\b\b\b\b\b\b\b\b\b\b\b\b\b\b\b\b\b\b\b\b\b\b\b\b\b\b\b\b\b\b\b\b\b\b\b\b\b\b\b\b\b\b\b\b\b\b\b\b\b\b\b\b\b\b\b\b\b\b\b\b\b\b\b\b\b\b\b\b\b\b\b\b\b\b\b\b\b\b\b\b\b\b\b\b\b\b\b\b\b\b\b\b\b\b\b\b\b\b\b\b\b\b\b\b\b\b\b\b\b\b\r124/124 [==============================] - 228s 2s/step - loss: 0.0427 - accuracy: 0.9968 - iouMetric: 0.0380 - dice_coef: 0.0728\n",
            "Epoch 12/40\n",
            "124/124 [==============================] - ETA: 0s - loss: 0.0381 - accuracy: 0.9968 - iouMetric: 0.0433 - dice_coef: 0.0825"
          ]
        },
        {
          "output_type": "stream",
          "name": "stderr",
          "text": [
            "WARNING:tensorflow:Can save best model only with val_loss available, skipping.\n",
            "WARNING:tensorflow:Can save best model only with val_loss available, skipping.\n"
          ]
        },
        {
          "output_type": "stream",
          "name": "stdout",
          "text": [
            "\b\b\b\b\b\b\b\b\b\b\b\b\b\b\b\b\b\b\b\b\b\b\b\b\b\b\b\b\b\b\b\b\b\b\b\b\b\b\b\b\b\b\b\b\b\b\b\b\b\b\b\b\b\b\b\b\b\b\b\b\b\b\b\b\b\b\b\b\b\b\b\b\b\b\b\b\b\b\b\b\b\b\b\b\b\b\b\b\b\b\b\b\b\b\b\b\b\b\b\b\b\b\b\b\b\b\b\b\b\b\b\b\b\b\b\b\b\b\b\b\b\b\b\b\r124/124 [==============================] - 228s 2s/step - loss: 0.0381 - accuracy: 0.9968 - iouMetric: 0.0433 - dice_coef: 0.0825\n",
            "Epoch 13/40\n",
            "124/124 [==============================] - ETA: 0s - loss: 0.0347 - accuracy: 0.9968 - iouMetric: 0.0468 - dice_coef: 0.0888"
          ]
        },
        {
          "output_type": "stream",
          "name": "stderr",
          "text": [
            "WARNING:tensorflow:Can save best model only with val_loss available, skipping.\n",
            "WARNING:tensorflow:Can save best model only with val_loss available, skipping.\n"
          ]
        },
        {
          "output_type": "stream",
          "name": "stdout",
          "text": [
            "\b\b\b\b\b\b\b\b\b\b\b\b\b\b\b\b\b\b\b\b\b\b\b\b\b\b\b\b\b\b\b\b\b\b\b\b\b\b\b\b\b\b\b\b\b\b\b\b\b\b\b\b\b\b\b\b\b\b\b\b\b\b\b\b\b\b\b\b\b\b\b\b\b\b\b\b\b\b\b\b\b\b\b\b\b\b\b\b\b\b\b\b\b\b\b\b\b\b\b\b\b\b\b\b\b\b\b\b\b\b\b\b\b\b\b\b\b\b\b\b\b\b\b\b\r124/124 [==============================] - 229s 2s/step - loss: 0.0347 - accuracy: 0.9968 - iouMetric: 0.0468 - dice_coef: 0.0888\n",
            "Epoch 14/40\n",
            "124/124 [==============================] - ETA: 0s - loss: 0.0313 - accuracy: 0.9971 - iouMetric: 0.0577 - dice_coef: 0.1079"
          ]
        },
        {
          "output_type": "stream",
          "name": "stderr",
          "text": [
            "WARNING:tensorflow:Can save best model only with val_loss available, skipping.\n",
            "WARNING:tensorflow:Can save best model only with val_loss available, skipping.\n"
          ]
        },
        {
          "output_type": "stream",
          "name": "stdout",
          "text": [
            "\b\b\b\b\b\b\b\b\b\b\b\b\b\b\b\b\b\b\b\b\b\b\b\b\b\b\b\b\b\b\b\b\b\b\b\b\b\b\b\b\b\b\b\b\b\b\b\b\b\b\b\b\b\b\b\b\b\b\b\b\b\b\b\b\b\b\b\b\b\b\b\b\b\b\b\b\b\b\b\b\b\b\b\b\b\b\b\b\b\b\b\b\b\b\b\b\b\b\b\b\b\b\b\b\b\b\b\b\b\b\b\b\b\b\b\b\b\b\b\b\b\b\b\b\r124/124 [==============================] - 227s 2s/step - loss: 0.0313 - accuracy: 0.9971 - iouMetric: 0.0577 - dice_coef: 0.1079\n",
            "Epoch 15/40\n",
            "124/124 [==============================] - ETA: 0s - loss: 0.0306 - accuracy: 0.9963 - iouMetric: 0.0467 - dice_coef: 0.0887"
          ]
        },
        {
          "output_type": "stream",
          "name": "stderr",
          "text": [
            "WARNING:tensorflow:Can save best model only with val_loss available, skipping.\n",
            "WARNING:tensorflow:Can save best model only with val_loss available, skipping.\n"
          ]
        },
        {
          "output_type": "stream",
          "name": "stdout",
          "text": [
            "\b\b\b\b\b\b\b\b\b\b\b\b\b\b\b\b\b\b\b\b\b\b\b\b\b\b\b\b\b\b\b\b\b\b\b\b\b\b\b\b\b\b\b\b\b\b\b\b\b\b\b\b\b\b\b\b\b\b\b\b\b\b\b\b\b\b\b\b\b\b\b\b\b\b\b\b\b\b\b\b\b\b\b\b\b\b\b\b\b\b\b\b\b\b\b\b\b\b\b\b\b\b\b\b\b\b\b\b\b\b\b\b\b\b\b\b\b\b\b\b\b\b\b\b\r124/124 [==============================] - 230s 2s/step - loss: 0.0306 - accuracy: 0.9963 - iouMetric: 0.0467 - dice_coef: 0.0887\n",
            "Epoch 16/40\n",
            "124/124 [==============================] - ETA: 0s - loss: 0.0270 - accuracy: 0.9971 - iouMetric: 0.0689 - dice_coef: 0.1278"
          ]
        },
        {
          "output_type": "stream",
          "name": "stderr",
          "text": [
            "WARNING:tensorflow:Can save best model only with val_loss available, skipping.\n",
            "WARNING:tensorflow:Can save best model only with val_loss available, skipping.\n"
          ]
        },
        {
          "output_type": "stream",
          "name": "stdout",
          "text": [
            "\b\b\b\b\b\b\b\b\b\b\b\b\b\b\b\b\b\b\b\b\b\b\b\b\b\b\b\b\b\b\b\b\b\b\b\b\b\b\b\b\b\b\b\b\b\b\b\b\b\b\b\b\b\b\b\b\b\b\b\b\b\b\b\b\b\b\b\b\b\b\b\b\b\b\b\b\b\b\b\b\b\b\b\b\b\b\b\b\b\b\b\b\b\b\b\b\b\b\b\b\b\b\b\b\b\b\b\b\b\b\b\b\b\b\b\b\b\b\b\b\b\b\b\b\r124/124 [==============================] - 230s 2s/step - loss: 0.0270 - accuracy: 0.9971 - iouMetric: 0.0689 - dice_coef: 0.1278\n",
            "Epoch 17/40\n",
            "124/124 [==============================] - ETA: 0s - loss: 0.0251 - accuracy: 0.9972 - iouMetric: 0.0780 - dice_coef: 0.1433"
          ]
        },
        {
          "output_type": "stream",
          "name": "stderr",
          "text": [
            "WARNING:tensorflow:Can save best model only with val_loss available, skipping.\n",
            "WARNING:tensorflow:Can save best model only with val_loss available, skipping.\n"
          ]
        },
        {
          "output_type": "stream",
          "name": "stdout",
          "text": [
            "\b\b\b\b\b\b\b\b\b\b\b\b\b\b\b\b\b\b\b\b\b\b\b\b\b\b\b\b\b\b\b\b\b\b\b\b\b\b\b\b\b\b\b\b\b\b\b\b\b\b\b\b\b\b\b\b\b\b\b\b\b\b\b\b\b\b\b\b\b\b\b\b\b\b\b\b\b\b\b\b\b\b\b\b\b\b\b\b\b\b\b\b\b\b\b\b\b\b\b\b\b\b\b\b\b\b\b\b\b\b\b\b\b\b\b\b\b\b\b\b\b\b\b\b\r124/124 [==============================] - 229s 2s/step - loss: 0.0251 - accuracy: 0.9972 - iouMetric: 0.0780 - dice_coef: 0.1433\n",
            "Epoch 18/40\n",
            "124/124 [==============================] - ETA: 0s - loss: 0.0243 - accuracy: 0.9972 - iouMetric: 0.0794 - dice_coef: 0.1456"
          ]
        },
        {
          "output_type": "stream",
          "name": "stderr",
          "text": [
            "WARNING:tensorflow:Can save best model only with val_loss available, skipping.\n",
            "WARNING:tensorflow:Can save best model only with val_loss available, skipping.\n"
          ]
        },
        {
          "output_type": "stream",
          "name": "stdout",
          "text": [
            "\b\b\b\b\b\b\b\b\b\b\b\b\b\b\b\b\b\b\b\b\b\b\b\b\b\b\b\b\b\b\b\b\b\b\b\b\b\b\b\b\b\b\b\b\b\b\b\b\b\b\b\b\b\b\b\b\b\b\b\b\b\b\b\b\b\b\b\b\b\b\b\b\b\b\b\b\b\b\b\b\b\b\b\b\b\b\b\b\b\b\b\b\b\b\b\b\b\b\b\b\b\b\b\b\b\b\b\b\b\b\b\b\b\b\b\b\b\b\b\b\b\b\b\b\r124/124 [==============================] - 232s 2s/step - loss: 0.0243 - accuracy: 0.9972 - iouMetric: 0.0794 - dice_coef: 0.1456\n",
            "Epoch 19/40\n",
            "124/124 [==============================] - ETA: 0s - loss: 0.0228 - accuracy: 0.9973 - iouMetric: 0.0915 - dice_coef: 0.1665"
          ]
        },
        {
          "output_type": "stream",
          "name": "stderr",
          "text": [
            "WARNING:tensorflow:Can save best model only with val_loss available, skipping.\n",
            "WARNING:tensorflow:Can save best model only with val_loss available, skipping.\n"
          ]
        },
        {
          "output_type": "stream",
          "name": "stdout",
          "text": [
            "\b\b\b\b\b\b\b\b\b\b\b\b\b\b\b\b\b\b\b\b\b\b\b\b\b\b\b\b\b\b\b\b\b\b\b\b\b\b\b\b\b\b\b\b\b\b\b\b\b\b\b\b\b\b\b\b\b\b\b\b\b\b\b\b\b\b\b\b\b\b\b\b\b\b\b\b\b\b\b\b\b\b\b\b\b\b\b\b\b\b\b\b\b\b\b\b\b\b\b\b\b\b\b\b\b\b\b\b\b\b\b\b\b\b\b\b\b\b\b\b\b\b\b\b\r124/124 [==============================] - 228s 2s/step - loss: 0.0228 - accuracy: 0.9973 - iouMetric: 0.0915 - dice_coef: 0.1665\n",
            "Epoch 20/40\n",
            "124/124 [==============================] - ETA: 0s - loss: 0.0204 - accuracy: 0.9974 - iouMetric: 0.1041 - dice_coef: 0.1873"
          ]
        },
        {
          "output_type": "stream",
          "name": "stderr",
          "text": [
            "WARNING:tensorflow:Can save best model only with val_loss available, skipping.\n",
            "WARNING:tensorflow:Can save best model only with val_loss available, skipping.\n"
          ]
        },
        {
          "output_type": "stream",
          "name": "stdout",
          "text": [
            "\b\b\b\b\b\b\b\b\b\b\b\b\b\b\b\b\b\b\b\b\b\b\b\b\b\b\b\b\b\b\b\b\b\b\b\b\b\b\b\b\b\b\b\b\b\b\b\b\b\b\b\b\b\b\b\b\b\b\b\b\b\b\b\b\b\b\b\b\b\b\b\b\b\b\b\b\b\b\b\b\b\b\b\b\b\b\b\b\b\b\b\b\b\b\b\b\b\b\b\b\b\b\b\b\b\b\b\b\b\b\b\b\b\b\b\b\b\b\b\b\b\b\b\b\r124/124 [==============================] - 229s 2s/step - loss: 0.0204 - accuracy: 0.9974 - iouMetric: 0.1041 - dice_coef: 0.1873\n",
            "Epoch 21/40\n",
            "124/124 [==============================] - ETA: 0s - loss: 0.0183 - accuracy: 0.9976 - iouMetric: 0.1270 - dice_coef: 0.2235"
          ]
        },
        {
          "output_type": "stream",
          "name": "stderr",
          "text": [
            "WARNING:tensorflow:Can save best model only with val_loss available, skipping.\n",
            "WARNING:tensorflow:Can save best model only with val_loss available, skipping.\n"
          ]
        },
        {
          "output_type": "stream",
          "name": "stdout",
          "text": [
            "\b\b\b\b\b\b\b\b\b\b\b\b\b\b\b\b\b\b\b\b\b\b\b\b\b\b\b\b\b\b\b\b\b\b\b\b\b\b\b\b\b\b\b\b\b\b\b\b\b\b\b\b\b\b\b\b\b\b\b\b\b\b\b\b\b\b\b\b\b\b\b\b\b\b\b\b\b\b\b\b\b\b\b\b\b\b\b\b\b\b\b\b\b\b\b\b\b\b\b\b\b\b\b\b\b\b\b\b\b\b\b\b\b\b\b\b\b\b\b\b\b\b\b\b\r124/124 [==============================] - 228s 2s/step - loss: 0.0183 - accuracy: 0.9976 - iouMetric: 0.1270 - dice_coef: 0.2235\n",
            "Epoch 22/40\n",
            "124/124 [==============================] - ETA: 0s - loss: 0.0179 - accuracy: 0.9976 - iouMetric: 0.1309 - dice_coef: 0.2294"
          ]
        },
        {
          "output_type": "stream",
          "name": "stderr",
          "text": [
            "WARNING:tensorflow:Can save best model only with val_loss available, skipping.\n",
            "WARNING:tensorflow:Can save best model only with val_loss available, skipping.\n"
          ]
        },
        {
          "output_type": "stream",
          "name": "stdout",
          "text": [
            "\b\b\b\b\b\b\b\b\b\b\b\b\b\b\b\b\b\b\b\b\b\b\b\b\b\b\b\b\b\b\b\b\b\b\b\b\b\b\b\b\b\b\b\b\b\b\b\b\b\b\b\b\b\b\b\b\b\b\b\b\b\b\b\b\b\b\b\b\b\b\b\b\b\b\b\b\b\b\b\b\b\b\b\b\b\b\b\b\b\b\b\b\b\b\b\b\b\b\b\b\b\b\b\b\b\b\b\b\b\b\b\b\b\b\b\b\b\b\b\b\b\b\b\b\r124/124 [==============================] - 231s 2s/step - loss: 0.0179 - accuracy: 0.9976 - iouMetric: 0.1309 - dice_coef: 0.2294\n",
            "Epoch 23/40\n",
            "124/124 [==============================] - ETA: 0s - loss: 0.0162 - accuracy: 0.9978 - iouMetric: 0.1522 - dice_coef: 0.2620"
          ]
        },
        {
          "output_type": "stream",
          "name": "stderr",
          "text": [
            "WARNING:tensorflow:Can save best model only with val_loss available, skipping.\n",
            "WARNING:tensorflow:Can save best model only with val_loss available, skipping.\n"
          ]
        },
        {
          "output_type": "stream",
          "name": "stdout",
          "text": [
            "\b\b\b\b\b\b\b\b\b\b\b\b\b\b\b\b\b\b\b\b\b\b\b\b\b\b\b\b\b\b\b\b\b\b\b\b\b\b\b\b\b\b\b\b\b\b\b\b\b\b\b\b\b\b\b\b\b\b\b\b\b\b\b\b\b\b\b\b\b\b\b\b\b\b\b\b\b\b\b\b\b\b\b\b\b\b\b\b\b\b\b\b\b\b\b\b\b\b\b\b\b\b\b\b\b\b\b\b\b\b\b\b\b\b\b\b\b\b\b\b\b\b\b\b\r124/124 [==============================] - 230s 2s/step - loss: 0.0162 - accuracy: 0.9978 - iouMetric: 0.1522 - dice_coef: 0.2620\n",
            "Epoch 24/40\n",
            "124/124 [==============================] - ETA: 0s - loss: 0.0166 - accuracy: 0.9977 - iouMetric: 0.1520 - dice_coef: 0.2618"
          ]
        },
        {
          "output_type": "stream",
          "name": "stderr",
          "text": [
            "WARNING:tensorflow:Can save best model only with val_loss available, skipping.\n",
            "WARNING:tensorflow:Can save best model only with val_loss available, skipping.\n"
          ]
        },
        {
          "output_type": "stream",
          "name": "stdout",
          "text": [
            "\b\b\b\b\b\b\b\b\b\b\b\b\b\b\b\b\b\b\b\b\b\b\b\b\b\b\b\b\b\b\b\b\b\b\b\b\b\b\b\b\b\b\b\b\b\b\b\b\b\b\b\b\b\b\b\b\b\b\b\b\b\b\b\b\b\b\b\b\b\b\b\b\b\b\b\b\b\b\b\b\b\b\b\b\b\b\b\b\b\b\b\b\b\b\b\b\b\b\b\b\b\b\b\b\b\b\b\b\b\b\b\b\b\b\b\b\b\b\b\b\b\b\b\b\r124/124 [==============================] - 231s 2s/step - loss: 0.0166 - accuracy: 0.9977 - iouMetric: 0.1520 - dice_coef: 0.2618\n",
            "Epoch 25/40\n",
            "124/124 [==============================] - ETA: 0s - loss: 0.0149 - accuracy: 0.9979 - iouMetric: 0.1798 - dice_coef: 0.3028"
          ]
        },
        {
          "output_type": "stream",
          "name": "stderr",
          "text": [
            "WARNING:tensorflow:Can save best model only with val_loss available, skipping.\n",
            "WARNING:tensorflow:Can save best model only with val_loss available, skipping.\n"
          ]
        },
        {
          "output_type": "stream",
          "name": "stdout",
          "text": [
            "\b\b\b\b\b\b\b\b\b\b\b\b\b\b\b\b\b\b\b\b\b\b\b\b\b\b\b\b\b\b\b\b\b\b\b\b\b\b\b\b\b\b\b\b\b\b\b\b\b\b\b\b\b\b\b\b\b\b\b\b\b\b\b\b\b\b\b\b\b\b\b\b\b\b\b\b\b\b\b\b\b\b\b\b\b\b\b\b\b\b\b\b\b\b\b\b\b\b\b\b\b\b\b\b\b\b\b\b\b\b\b\b\b\b\b\b\b\b\b\b\b\b\b\b\r124/124 [==============================] - 231s 2s/step - loss: 0.0149 - accuracy: 0.9979 - iouMetric: 0.1798 - dice_coef: 0.3028\n",
            "Epoch 26/40\n",
            "124/124 [==============================] - ETA: 0s - loss: 0.0176 - accuracy: 0.9975 - iouMetric: 0.1626 - dice_coef: 0.2767"
          ]
        },
        {
          "output_type": "stream",
          "name": "stderr",
          "text": [
            "WARNING:tensorflow:Can save best model only with val_loss available, skipping.\n",
            "WARNING:tensorflow:Can save best model only with val_loss available, skipping.\n"
          ]
        },
        {
          "output_type": "stream",
          "name": "stdout",
          "text": [
            "\b\b\b\b\b\b\b\b\b\b\b\b\b\b\b\b\b\b\b\b\b\b\b\b\b\b\b\b\b\b\b\b\b\b\b\b\b\b\b\b\b\b\b\b\b\b\b\b\b\b\b\b\b\b\b\b\b\b\b\b\b\b\b\b\b\b\b\b\b\b\b\b\b\b\b\b\b\b\b\b\b\b\b\b\b\b\b\b\b\b\b\b\b\b\b\b\b\b\b\b\b\b\b\b\b\b\b\b\b\b\b\b\b\b\b\b\b\b\b\b\b\b\b\b\r124/124 [==============================] - 230s 2s/step - loss: 0.0176 - accuracy: 0.9975 - iouMetric: 0.1626 - dice_coef: 0.2767\n",
            "Epoch 27/40\n",
            "124/124 [==============================] - ETA: 0s - loss: 0.0140 - accuracy: 0.9978 - iouMetric: 0.1983 - dice_coef: 0.3283"
          ]
        },
        {
          "output_type": "stream",
          "name": "stderr",
          "text": [
            "WARNING:tensorflow:Can save best model only with val_loss available, skipping.\n",
            "WARNING:tensorflow:Can save best model only with val_loss available, skipping.\n"
          ]
        },
        {
          "output_type": "stream",
          "name": "stdout",
          "text": [
            "\b\b\b\b\b\b\b\b\b\b\b\b\b\b\b\b\b\b\b\b\b\b\b\b\b\b\b\b\b\b\b\b\b\b\b\b\b\b\b\b\b\b\b\b\b\b\b\b\b\b\b\b\b\b\b\b\b\b\b\b\b\b\b\b\b\b\b\b\b\b\b\b\b\b\b\b\b\b\b\b\b\b\b\b\b\b\b\b\b\b\b\b\b\b\b\b\b\b\b\b\b\b\b\b\b\b\b\b\b\b\b\b\b\b\b\b\b\b\b\b\b\b\b\b\r124/124 [==============================] - 232s 2s/step - loss: 0.0140 - accuracy: 0.9978 - iouMetric: 0.1983 - dice_coef: 0.3283\n",
            "Epoch 28/40\n",
            "124/124 [==============================] - ETA: 0s - loss: 0.0130 - accuracy: 0.9978 - iouMetric: 0.2083 - dice_coef: 0.3418"
          ]
        },
        {
          "output_type": "stream",
          "name": "stderr",
          "text": [
            "WARNING:tensorflow:Can save best model only with val_loss available, skipping.\n",
            "WARNING:tensorflow:Can save best model only with val_loss available, skipping.\n"
          ]
        },
        {
          "output_type": "stream",
          "name": "stdout",
          "text": [
            "\b\b\b\b\b\b\b\b\b\b\b\b\b\b\b\b\b\b\b\b\b\b\b\b\b\b\b\b\b\b\b\b\b\b\b\b\b\b\b\b\b\b\b\b\b\b\b\b\b\b\b\b\b\b\b\b\b\b\b\b\b\b\b\b\b\b\b\b\b\b\b\b\b\b\b\b\b\b\b\b\b\b\b\b\b\b\b\b\b\b\b\b\b\b\b\b\b\b\b\b\b\b\b\b\b\b\b\b\b\b\b\b\b\b\b\b\b\b\b\b\b\b\b\b\r124/124 [==============================] - 226s 2s/step - loss: 0.0130 - accuracy: 0.9978 - iouMetric: 0.2083 - dice_coef: 0.3418\n",
            "Epoch 29/40\n",
            "124/124 [==============================] - ETA: 0s - loss: 0.0123 - accuracy: 0.9980 - iouMetric: 0.2282 - dice_coef: 0.3693"
          ]
        },
        {
          "output_type": "stream",
          "name": "stderr",
          "text": [
            "WARNING:tensorflow:Can save best model only with val_loss available, skipping.\n",
            "WARNING:tensorflow:Can save best model only with val_loss available, skipping.\n"
          ]
        },
        {
          "output_type": "stream",
          "name": "stdout",
          "text": [
            "\b\b\b\b\b\b\b\b\b\b\b\b\b\b\b\b\b\b\b\b\b\b\b\b\b\b\b\b\b\b\b\b\b\b\b\b\b\b\b\b\b\b\b\b\b\b\b\b\b\b\b\b\b\b\b\b\b\b\b\b\b\b\b\b\b\b\b\b\b\b\b\b\b\b\b\b\b\b\b\b\b\b\b\b\b\b\b\b\b\b\b\b\b\b\b\b\b\b\b\b\b\b\b\b\b\b\b\b\b\b\b\b\b\b\b\b\b\b\b\b\b\b\b\b\r124/124 [==============================] - 230s 2s/step - loss: 0.0123 - accuracy: 0.9980 - iouMetric: 0.2282 - dice_coef: 0.3693\n",
            "Epoch 30/40\n",
            "124/124 [==============================] - ETA: 0s - loss: 0.0115 - accuracy: 0.9980 - iouMetric: 0.2423 - dice_coef: 0.3879"
          ]
        },
        {
          "output_type": "stream",
          "name": "stderr",
          "text": [
            "WARNING:tensorflow:Can save best model only with val_loss available, skipping.\n",
            "WARNING:tensorflow:Can save best model only with val_loss available, skipping.\n"
          ]
        },
        {
          "output_type": "stream",
          "name": "stdout",
          "text": [
            "\b\b\b\b\b\b\b\b\b\b\b\b\b\b\b\b\b\b\b\b\b\b\b\b\b\b\b\b\b\b\b\b\b\b\b\b\b\b\b\b\b\b\b\b\b\b\b\b\b\b\b\b\b\b\b\b\b\b\b\b\b\b\b\b\b\b\b\b\b\b\b\b\b\b\b\b\b\b\b\b\b\b\b\b\b\b\b\b\b\b\b\b\b\b\b\b\b\b\b\b\b\b\b\b\b\b\b\b\b\b\b\b\b\b\b\b\b\b\b\b\b\b\b\b\r124/124 [==============================] - 229s 2s/step - loss: 0.0115 - accuracy: 0.9980 - iouMetric: 0.2423 - dice_coef: 0.3879\n",
            "Epoch 31/40\n",
            "124/124 [==============================] - ETA: 0s - loss: 0.0109 - accuracy: 0.9981 - iouMetric: 0.2592 - dice_coef: 0.4096"
          ]
        },
        {
          "output_type": "stream",
          "name": "stderr",
          "text": [
            "WARNING:tensorflow:Can save best model only with val_loss available, skipping.\n",
            "WARNING:tensorflow:Can save best model only with val_loss available, skipping.\n"
          ]
        },
        {
          "output_type": "stream",
          "name": "stdout",
          "text": [
            "\b\b\b\b\b\b\b\b\b\b\b\b\b\b\b\b\b\b\b\b\b\b\b\b\b\b\b\b\b\b\b\b\b\b\b\b\b\b\b\b\b\b\b\b\b\b\b\b\b\b\b\b\b\b\b\b\b\b\b\b\b\b\b\b\b\b\b\b\b\b\b\b\b\b\b\b\b\b\b\b\b\b\b\b\b\b\b\b\b\b\b\b\b\b\b\b\b\b\b\b\b\b\b\b\b\b\b\b\b\b\b\b\b\b\b\b\b\b\b\b\b\b\b\b\r124/124 [==============================] - 231s 2s/step - loss: 0.0109 - accuracy: 0.9981 - iouMetric: 0.2592 - dice_coef: 0.4096\n",
            "Epoch 32/40\n",
            "124/124 [==============================] - ETA: 0s - loss: 0.0106 - accuracy: 0.9981 - iouMetric: 0.2698 - dice_coef: 0.4218"
          ]
        },
        {
          "output_type": "stream",
          "name": "stderr",
          "text": [
            "WARNING:tensorflow:Can save best model only with val_loss available, skipping.\n",
            "WARNING:tensorflow:Can save best model only with val_loss available, skipping.\n"
          ]
        },
        {
          "output_type": "stream",
          "name": "stdout",
          "text": [
            "\b\b\b\b\b\b\b\b\b\b\b\b\b\b\b\b\b\b\b\b\b\b\b\b\b\b\b\b\b\b\b\b\b\b\b\b\b\b\b\b\b\b\b\b\b\b\b\b\b\b\b\b\b\b\b\b\b\b\b\b\b\b\b\b\b\b\b\b\b\b\b\b\b\b\b\b\b\b\b\b\b\b\b\b\b\b\b\b\b\b\b\b\b\b\b\b\b\b\b\b\b\b\b\b\b\b\b\b\b\b\b\b\b\b\b\b\b\b\b\b\b\b\b\b\r124/124 [==============================] - 226s 2s/step - loss: 0.0106 - accuracy: 0.9981 - iouMetric: 0.2698 - dice_coef: 0.4218\n",
            "Epoch 33/40\n",
            "124/124 [==============================] - ETA: 0s - loss: 0.0101 - accuracy: 0.9982 - iouMetric: 0.2852 - dice_coef: 0.4411"
          ]
        },
        {
          "output_type": "stream",
          "name": "stderr",
          "text": [
            "WARNING:tensorflow:Can save best model only with val_loss available, skipping.\n",
            "WARNING:tensorflow:Can save best model only with val_loss available, skipping.\n"
          ]
        },
        {
          "output_type": "stream",
          "name": "stdout",
          "text": [
            "\b\b\b\b\b\b\b\b\b\b\b\b\b\b\b\b\b\b\b\b\b\b\b\b\b\b\b\b\b\b\b\b\b\b\b\b\b\b\b\b\b\b\b\b\b\b\b\b\b\b\b\b\b\b\b\b\b\b\b\b\b\b\b\b\b\b\b\b\b\b\b\b\b\b\b\b\b\b\b\b\b\b\b\b\b\b\b\b\b\b\b\b\b\b\b\b\b\b\b\b\b\b\b\b\b\b\b\b\b\b\b\b\b\b\b\b\b\b\b\b\b\b\b\b\r124/124 [==============================] - 232s 2s/step - loss: 0.0101 - accuracy: 0.9982 - iouMetric: 0.2852 - dice_coef: 0.4411\n",
            "Epoch 34/40\n",
            "124/124 [==============================] - ETA: 0s - loss: 0.0109 - accuracy: 0.9981 - iouMetric: 0.2853 - dice_coef: 0.4415"
          ]
        },
        {
          "output_type": "stream",
          "name": "stderr",
          "text": [
            "WARNING:tensorflow:Can save best model only with val_loss available, skipping.\n",
            "WARNING:tensorflow:Can save best model only with val_loss available, skipping.\n"
          ]
        },
        {
          "output_type": "stream",
          "name": "stdout",
          "text": [
            "\b\b\b\b\b\b\b\b\b\b\b\b\b\b\b\b\b\b\b\b\b\b\b\b\b\b\b\b\b\b\b\b\b\b\b\b\b\b\b\b\b\b\b\b\b\b\b\b\b\b\b\b\b\b\b\b\b\b\b\b\b\b\b\b\b\b\b\b\b\b\b\b\b\b\b\b\b\b\b\b\b\b\b\b\b\b\b\b\b\b\b\b\b\b\b\b\b\b\b\b\b\b\b\b\b\b\b\b\b\b\b\b\b\b\b\b\b\b\b\b\b\b\b\b\r124/124 [==============================] - 230s 2s/step - loss: 0.0109 - accuracy: 0.9981 - iouMetric: 0.2853 - dice_coef: 0.4415\n",
            "Epoch 35/40\n",
            "124/124 [==============================] - ETA: 0s - loss: 0.0104 - accuracy: 0.9982 - iouMetric: 0.3076 - dice_coef: 0.4678"
          ]
        },
        {
          "output_type": "stream",
          "name": "stderr",
          "text": [
            "WARNING:tensorflow:Can save best model only with val_loss available, skipping.\n",
            "WARNING:tensorflow:Can save best model only with val_loss available, skipping.\n"
          ]
        },
        {
          "output_type": "stream",
          "name": "stdout",
          "text": [
            "\b\b\b\b\b\b\b\b\b\b\b\b\b\b\b\b\b\b\b\b\b\b\b\b\b\b\b\b\b\b\b\b\b\b\b\b\b\b\b\b\b\b\b\b\b\b\b\b\b\b\b\b\b\b\b\b\b\b\b\b\b\b\b\b\b\b\b\b\b\b\b\b\b\b\b\b\b\b\b\b\b\b\b\b\b\b\b\b\b\b\b\b\b\b\b\b\b\b\b\b\b\b\b\b\b\b\b\b\b\b\b\b\b\b\b\b\b\b\b\b\b\b\b\b\r124/124 [==============================] - 230s 2s/step - loss: 0.0104 - accuracy: 0.9982 - iouMetric: 0.3076 - dice_coef: 0.4678\n",
            "Epoch 36/40\n",
            "124/124 [==============================] - ETA: 0s - loss: 0.0100 - accuracy: 0.9981 - iouMetric: 0.3084 - dice_coef: 0.4690"
          ]
        },
        {
          "output_type": "stream",
          "name": "stderr",
          "text": [
            "WARNING:tensorflow:Can save best model only with val_loss available, skipping.\n",
            "WARNING:tensorflow:Can save best model only with val_loss available, skipping.\n"
          ]
        },
        {
          "output_type": "stream",
          "name": "stdout",
          "text": [
            "\b\b\b\b\b\b\b\b\b\b\b\b\b\b\b\b\b\b\b\b\b\b\b\b\b\b\b\b\b\b\b\b\b\b\b\b\b\b\b\b\b\b\b\b\b\b\b\b\b\b\b\b\b\b\b\b\b\b\b\b\b\b\b\b\b\b\b\b\b\b\b\b\b\b\b\b\b\b\b\b\b\b\b\b\b\b\b\b\b\b\b\b\b\b\b\b\b\b\b\b\b\b\b\b\b\b\b\b\b\b\b\b\b\b\b\b\b\b\b\b\b\b\b\b\r124/124 [==============================] - 229s 2s/step - loss: 0.0100 - accuracy: 0.9981 - iouMetric: 0.3084 - dice_coef: 0.4690\n",
            "Epoch 37/40\n",
            "124/124 [==============================] - ETA: 0s - loss: 0.0091 - accuracy: 0.9982 - iouMetric: 0.3312 - dice_coef: 0.4946"
          ]
        },
        {
          "output_type": "stream",
          "name": "stderr",
          "text": [
            "WARNING:tensorflow:Can save best model only with val_loss available, skipping.\n",
            "WARNING:tensorflow:Can save best model only with val_loss available, skipping.\n"
          ]
        },
        {
          "output_type": "stream",
          "name": "stdout",
          "text": [
            "\b\b\b\b\b\b\b\b\b\b\b\b\b\b\b\b\b\b\b\b\b\b\b\b\b\b\b\b\b\b\b\b\b\b\b\b\b\b\b\b\b\b\b\b\b\b\b\b\b\b\b\b\b\b\b\b\b\b\b\b\b\b\b\b\b\b\b\b\b\b\b\b\b\b\b\b\b\b\b\b\b\b\b\b\b\b\b\b\b\b\b\b\b\b\b\b\b\b\b\b\b\b\b\b\b\b\b\b\b\b\b\b\b\b\b\b\b\b\b\b\b\b\b\b\r124/124 [==============================] - 233s 2s/step - loss: 0.0091 - accuracy: 0.9982 - iouMetric: 0.3312 - dice_coef: 0.4946\n",
            "Epoch 38/40\n",
            "124/124 [==============================] - ETA: 0s - loss: 0.0088 - accuracy: 0.9982 - iouMetric: 0.3390 - dice_coef: 0.5039"
          ]
        },
        {
          "output_type": "stream",
          "name": "stderr",
          "text": [
            "WARNING:tensorflow:Can save best model only with val_loss available, skipping.\n",
            "WARNING:tensorflow:Can save best model only with val_loss available, skipping.\n"
          ]
        },
        {
          "output_type": "stream",
          "name": "stdout",
          "text": [
            "\b\b\b\b\b\b\b\b\b\b\b\b\b\b\b\b\b\b\b\b\b\b\b\b\b\b\b\b\b\b\b\b\b\b\b\b\b\b\b\b\b\b\b\b\b\b\b\b\b\b\b\b\b\b\b\b\b\b\b\b\b\b\b\b\b\b\b\b\b\b\b\b\b\b\b\b\b\b\b\b\b\b\b\b\b\b\b\b\b\b\b\b\b\b\b\b\b\b\b\b\b\b\b\b\b\b\b\b\b\b\b\b\b\b\b\b\b\b\b\b\b\b\b\b\r124/124 [==============================] - 228s 2s/step - loss: 0.0088 - accuracy: 0.9982 - iouMetric: 0.3390 - dice_coef: 0.5039\n",
            "Epoch 39/40\n",
            "124/124 [==============================] - ETA: 0s - loss: 0.0088 - accuracy: 0.9983 - iouMetric: 0.3501 - dice_coef: 0.5158"
          ]
        },
        {
          "output_type": "stream",
          "name": "stderr",
          "text": [
            "WARNING:tensorflow:Can save best model only with val_loss available, skipping.\n",
            "WARNING:tensorflow:Can save best model only with val_loss available, skipping.\n"
          ]
        },
        {
          "output_type": "stream",
          "name": "stdout",
          "text": [
            "\b\b\b\b\b\b\b\b\b\b\b\b\b\b\b\b\b\b\b\b\b\b\b\b\b\b\b\b\b\b\b\b\b\b\b\b\b\b\b\b\b\b\b\b\b\b\b\b\b\b\b\b\b\b\b\b\b\b\b\b\b\b\b\b\b\b\b\b\b\b\b\b\b\b\b\b\b\b\b\b\b\b\b\b\b\b\b\b\b\b\b\b\b\b\b\b\b\b\b\b\b\b\b\b\b\b\b\b\b\b\b\b\b\b\b\b\b\b\b\b\b\b\b\b\r124/124 [==============================] - 231s 2s/step - loss: 0.0088 - accuracy: 0.9983 - iouMetric: 0.3501 - dice_coef: 0.5158\n",
            "Epoch 40/40\n",
            "124/124 [==============================] - ETA: 0s - loss: 0.0081 - accuracy: 0.9983 - iouMetric: 0.3714 - dice_coef: 0.5393"
          ]
        },
        {
          "output_type": "stream",
          "name": "stderr",
          "text": [
            "WARNING:tensorflow:Can save best model only with val_loss available, skipping.\n",
            "WARNING:tensorflow:Can save best model only with val_loss available, skipping.\n"
          ]
        },
        {
          "output_type": "stream",
          "name": "stdout",
          "text": [
            "\b\b\b\b\b\b\b\b\b\b\b\b\b\b\b\b\b\b\b\b\b\b\b\b\b\b\b\b\b\b\b\b\b\b\b\b\b\b\b\b\b\b\b\b\b\b\b\b\b\b\b\b\b\b\b\b\b\b\b\b\b\b\b\b\b\b\b\b\b\b\b\b\b\b\b\b\b\b\b\b\b\b\b\b\b\b\b\b\b\b\b\b\b\b\b\b\b\b\b\b\b\b\b\b\b\b\b\b\b\b\b\b\b\b\b\b\b\b\b\b\b\b\b\b\r124/124 [==============================] - 230s 2s/step - loss: 0.0081 - accuracy: 0.9983 - iouMetric: 0.3714 - dice_coef: 0.5393\n",
            "Completed\n"
          ]
        }
      ],
      "source": [
        "checkpointer = ModelCheckpoint(filepath='model.weights.best.hdf5', verbose=1, save_best_only=True)  \n",
        "model_time = dt.now().strftime(\"%Y%m%d_%H%M%S\")\n",
        "model_folder = os.path.join(results_dir, model_time)\n",
        "os.makedirs(model_folder)\n",
        "\n",
        "tensorboard_folder = os.path.join(model_folder, \"tensorlogs\")\n",
        "os.makedirs(tensorboard_folder)\n",
        "\n",
        "ckpt_folder = os.path.join(model_folder, \"checkpoints\")\n",
        "os.makedirs(ckpt_folder)\n",
        "\n",
        "csv_logger_folder = os.path.join(model_folder, \"csv_logger\")\n",
        "os.makedirs(csv_logger_folder)\n",
        "\n",
        "hist_folder = os.path.join(model_folder, \"model_history\")\n",
        "os.makedirs(hist_folder)\n",
        "\n",
        "saved_model_folder = os.path.join(model_folder, \"Saved_model\")\n",
        "os.makedirs(saved_model_folder)\n",
        "\n",
        "model_params_folder = os.path.join(model_folder, \"model_params\")\n",
        "os.makedirs(model_params_folder)\n",
        "\n",
        "train_x, train_y = datasetPaths(\n",
        "    full_img_dir=train_full_img_dir,\n",
        "    mask_img_dir=train_mask_img_dir \n",
        ")\n",
        "\n",
        "test_x, test_y = datasetPaths(\n",
        "    full_img_dir=test_full_img_dir,\n",
        "    mask_img_dir=test_mask_img_dir\n",
        ")\n",
        "\n",
        "train_ds = makeTFDataset(shuffle=True, augument=True,\n",
        "x_paths_list = train_x, y_paths_list=train_y, batch_size=batch_size)\n",
        "\n",
        "\n",
        "test_ds = makeTFDataset(\n",
        "    shuffle=False,\n",
        "    augument=False,\n",
        "    x_paths_list=test_x,\n",
        "    y_paths_list=test_y,\n",
        "    batch_size=batch_size)      \n",
        "    \n",
        "#unet = buildUnet()\n",
        "input_shape = (512, 512, 3)\n",
        "model = build_resnet50_unet(input_shape)\n",
        "model.summary()\n",
        "\n",
        "unet = compile_(model=model)\n",
        "\n",
        "# ckpt_path = (ckpt_folder + f\"/{model_time}\" + \"_Epoch-{epoch:03d}\" + \"_IOU-{iouMetric:.8f\")\n",
        "ckpt_path = (ckpt_folder + f\"/{model_time}\")\n",
        "\n",
        "ckpt_callback = keras.callbacks.ModelCheckpoint(\n",
        "    filepath= ckpt_path,\n",
        "    monitors= callback_monitor,\n",
        "    mode= callback_mode,\n",
        "    save_weights_only= ckpt_save_weights_only,\n",
        "    save_best_only=ckpt_save_best_only,\n",
        "    verbose=1\n",
        ")\n",
        "\n",
        "es_callback = keras.callbacks.EarlyStopping(\n",
        "    patience= earlystop_patience,\n",
        "    monitor= callback_monitor,\n",
        "    mode= callback_mode,\n",
        "    restore_best_weights= restore_best_weights,\n",
        ")\n",
        "\n",
        "# TensorBoard\n",
        "tb_callback = keras.callbacks.TensorBoard(\n",
        "    log_dir=tensorboard_folder, histogram_freq=1, profile_batch=0\n",
        ")\n",
        "\n",
        "# CSV Logger\n",
        "csv_logger_path = os.path.join(csv_logger_folder, \"csv_logger.csv\")\n",
        "csv_logger = keras.callbacks.CSVLogger(\n",
        "    filename=csv_logger_path, separator=\",\", append=True\n",
        ")\n",
        "\n",
        "# Putting them together\n",
        "callbacks = [ckpt_callback, es_callback, tb_callback, csv_logger, checkpointer]\n",
        "\n",
        "train_steps = len(train_x) // batch_size\n",
        "test_steps = len(test_x) // batch_size\n",
        "\n",
        "if len(train_x) % batch_size != 0:\n",
        "    train_steps += 1\n",
        "if len(test_x) % batch_size != 0:\n",
        "    test_steps += 1\n",
        "\n",
        "print()\n",
        "print(f\"Size of training set = {len(train_x)}\")\n",
        "print(f\"Size of test set = {len(test_x)}\")\n",
        "print(f\"Number of epochs = {num_epochs}\")\n",
        "print(f\"Batch size = {batch_size}\")\n",
        "print(f\"Number of training steps per epoch = {train_steps}\")\n",
        "print(f\"Number of test steps per epoch = {test_steps}\")\n",
        "print()\n",
        "\n",
        "# if __name__ == \"__main__\":     \n",
        "    \n",
        "#     model.summary()\n",
        "\n",
        "\n",
        "if validate:\n",
        "        history = unet.fit(\n",
        "            train_ds,\n",
        "            validation_data=test_ds,\n",
        "            epochs=num_epochs,\n",
        "            steps_per_epoch=train_steps,\n",
        "            validation_steps=test_steps,\n",
        "            callbacks=callbacks,\n",
        "            verbose=1,\n",
        "        )\n",
        "elif not validate:\n",
        "    history = unet.fit(\n",
        "        train_ds,\n",
        "        epochs=num_epochs,\n",
        "        steps_per_epoch=train_steps,\n",
        "        callbacks=callbacks,\n",
        "        verbose=1\n",
        "    )\n",
        "\n",
        "#y_hat = unet.evaluate(test_ds)\n",
        "\n",
        "print(\"Completed\")     \n",
        "        "
      ]
    },
    {
      "cell_type": "code",
      "execution_count": 31,
      "metadata": {
        "id": "MBPWHo79s1Hz"
      },
      "outputs": [],
      "source": [
        " def makeTFDataset1( shuffle, augument, x_paths_list, y_paths_list, batch_size):\n",
        "        try:\n",
        "            ds = tf.data.Dataset.from_tensor_slices((x_paths_list, y_paths_list))\n",
        "            \n",
        "            if shuffle:\n",
        "                ds = ds.shuffle(buffer_size=len(x_paths_list))\n",
        "\n",
        "            ds = ds.map(tfParse, num_parallel_calls=tf.data.experimental.AUTOTUNE)\n",
        "            \n",
        "            if augument:\n",
        "                ds = ds.map(imgAugment, num_parallel_calls=tf.data.experimental.AUTOTUNE)\n",
        "\n",
        "            ds = ds.batch(batch_size=batch_size, drop_remainder=False)\n",
        "            #ds = ds.repeat()\n",
        "\n",
        "            return ds\n",
        "\n",
        "        except Exception as e:\n",
        "            print(f\"Error in make TFDataset {e}\")"
      ]
    },
    {
      "cell_type": "code",
      "execution_count": 32,
      "metadata": {
        "id": "LCumD8yCBX3-"
      },
      "outputs": [],
      "source": [
        "test_ds = makeTFDataset1(\n",
        "    shuffle=False,\n",
        "    augument=False,\n",
        "    x_paths_list=test_x,\n",
        "    y_paths_list=test_y,\n",
        "    batch_size=batch_size)    "
      ]
    },
    {
      "cell_type": "code",
      "execution_count": 33,
      "metadata": {
        "id": "MGkGHRtCIlcu"
      },
      "outputs": [],
      "source": [
        "\n",
        "train_ds = makeTFDataset1(shuffle=True, augument=True,\n",
        "x_paths_list = train_x, y_paths_list=train_y, batch_size=batch_size)"
      ]
    },
    {
      "cell_type": "code",
      "source": [
        "unet.save('model.weights.best.hdf5')"
      ],
      "metadata": {
        "id": "VSrZF6OUpckZ"
      },
      "execution_count": 34,
      "outputs": []
    },
    {
      "cell_type": "code",
      "source": [
        "!zip -r /content/results/fit.zip /content/results/fit /content/model.weights.best.hdf5"
      ],
      "metadata": {
        "colab": {
          "base_uri": "https://localhost:8080/"
        },
        "id": "BrIfHhG6jOdC",
        "outputId": "32875d21-c3f2-4c9a-ad4b-f39b3039be24"
      },
      "execution_count": 35,
      "outputs": [
        {
          "output_type": "stream",
          "name": "stdout",
          "text": [
            "  adding: content/results/fit/ (stored 0%)\n",
            "  adding: content/results/fit/20220824_160920/ (stored 0%)\n",
            "  adding: content/results/fit/20220824_160920/tensorlogs/ (stored 0%)\n",
            "  adding: content/results/fit/20220824_160920/tensorlogs/train/ (stored 0%)\n",
            "  adding: content/results/fit/20220824_160920/tensorlogs/train/events.out.tfevents.1661357370.168207105ff2.72.0.v2 (deflated 65%)\n",
            "  adding: content/results/fit/20220824_160920/model_params/ (stored 0%)\n",
            "  adding: content/results/fit/20220824_160920/model_history/ (stored 0%)\n",
            "  adding: content/results/fit/20220824_160920/csv_logger/ (stored 0%)\n",
            "  adding: content/results/fit/20220824_160920/csv_logger/csv_logger.csv (deflated 50%)\n",
            "  adding: content/results/fit/20220824_160920/checkpoints/ (stored 0%)\n",
            "  adding: content/results/fit/20220824_160920/Saved_model/ (stored 0%)\n",
            "  adding: content/model.weights.best.hdf5 (deflated 8%)\n"
          ]
        }
      ]
    },
    {
      "cell_type": "code",
      "source": [
        "from google.colab import files\n",
        "files.download(\"/content/results/fit.zip\")\n",
        "# files.download('model.weights.best.hdf5')"
      ],
      "metadata": {
        "colab": {
          "base_uri": "https://localhost:8080/",
          "height": 17
        },
        "id": "z1P2DEQMjQB_",
        "outputId": "c205207a-ee14-4b17-bb99-d4d2e4e28b52"
      },
      "execution_count": 36,
      "outputs": [
        {
          "output_type": "display_data",
          "data": {
            "text/plain": [
              "<IPython.core.display.Javascript object>"
            ],
            "application/javascript": [
              "\n",
              "    async function download(id, filename, size) {\n",
              "      if (!google.colab.kernel.accessAllowed) {\n",
              "        return;\n",
              "      }\n",
              "      const div = document.createElement('div');\n",
              "      const label = document.createElement('label');\n",
              "      label.textContent = `Downloading \"${filename}\": `;\n",
              "      div.appendChild(label);\n",
              "      const progress = document.createElement('progress');\n",
              "      progress.max = size;\n",
              "      div.appendChild(progress);\n",
              "      document.body.appendChild(div);\n",
              "\n",
              "      const buffers = [];\n",
              "      let downloaded = 0;\n",
              "\n",
              "      const channel = await google.colab.kernel.comms.open(id);\n",
              "      // Send a message to notify the kernel that we're ready.\n",
              "      channel.send({})\n",
              "\n",
              "      for await (const message of channel.messages) {\n",
              "        // Send a message to notify the kernel that we're ready.\n",
              "        channel.send({})\n",
              "        if (message.buffers) {\n",
              "          for (const buffer of message.buffers) {\n",
              "            buffers.push(buffer);\n",
              "            downloaded += buffer.byteLength;\n",
              "            progress.value = downloaded;\n",
              "          }\n",
              "        }\n",
              "      }\n",
              "      const blob = new Blob(buffers, {type: 'application/binary'});\n",
              "      const a = document.createElement('a');\n",
              "      a.href = window.URL.createObjectURL(blob);\n",
              "      a.download = filename;\n",
              "      div.appendChild(a);\n",
              "      a.click();\n",
              "      div.remove();\n",
              "    }\n",
              "  "
            ]
          },
          "metadata": {}
        },
        {
          "output_type": "display_data",
          "data": {
            "text/plain": [
              "<IPython.core.display.Javascript object>"
            ],
            "application/javascript": [
              "download(\"download_d8f3f9eb-9be3-46c5-9427-1b4f01c73a92\", \"fit.zip\", 232760072)"
            ]
          },
          "metadata": {}
        }
      ]
    },
    {
      "cell_type": "code",
      "source": [
        ""
      ],
      "metadata": {
        "id": "cM5c61hsY9zq"
      },
      "execution_count": 36,
      "outputs": []
    },
    {
      "cell_type": "code",
      "execution_count": 37,
      "metadata": {
        "id": "bRy91OTxNnym",
        "colab": {
          "base_uri": "https://localhost:8080/"
        },
        "outputId": "da9e36a4-f466-40f0-ba62-8e7abf82d08b"
      },
      "outputs": [
        {
          "output_type": "execute_result",
          "data": {
            "text/plain": [
              "[0.018379807472229004,\n",
              " 0.9966456890106201,\n",
              " 0.15609969198703766,\n",
              " 0.26446694135665894]"
            ]
          },
          "metadata": {},
          "execution_count": 37
        }
      ],
      "source": [
        "score = unet.evaluate(test_ds, verbose=0)\n",
        "score "
      ]
    },
    {
      "cell_type": "code",
      "source": [
        ""
      ],
      "metadata": {
        "id": "ehZjMJj_ViSR"
      },
      "execution_count": 37,
      "outputs": []
    },
    {
      "cell_type": "code",
      "execution_count": 38,
      "metadata": {
        "id": "ihfzEvA6NAS0",
        "colab": {
          "base_uri": "https://localhost:8080/"
        },
        "outputId": "8b1d614e-19e0-4bc1-8dea-9108e864864a"
      },
      "outputs": [
        {
          "output_type": "stream",
          "name": "stdout",
          "text": [
            "Accuracy 0.9966456890106201\n",
            "IOU Metrics 0.15609969198703766\n",
            "dice_coef 0.26446694135665894\n"
          ]
        }
      ],
      "source": [
        "print(f\"Accuracy {score[1]}\")\n",
        "print(f\"IOU Metrics {score[2]}\")\n",
        "print(f\"dice_coef {score[3]}\")"
      ]
    },
    {
      "cell_type": "code",
      "source": [
        ""
      ],
      "metadata": {
        "id": "W2FrY_epVoRS"
      },
      "execution_count": 38,
      "outputs": []
    },
    {
      "cell_type": "code",
      "execution_count": 39,
      "metadata": {
        "id": "dtht3dayvWSI"
      },
      "outputs": [],
      "source": [
        "i = 20"
      ]
    },
    {
      "cell_type": "code",
      "execution_count": 39,
      "metadata": {
        "id": "IVeEZIevwLzg"
      },
      "outputs": [],
      "source": [
        ""
      ]
    },
    {
      "cell_type": "code",
      "execution_count": 39,
      "metadata": {
        "id": "Ms8fiADKwq6i"
      },
      "outputs": [],
      "source": [
        ""
      ]
    },
    {
      "cell_type": "code",
      "execution_count": 40,
      "metadata": {
        "id": "A2Hu8b8_UMD2"
      },
      "outputs": [],
      "source": [
        "def loadFullImg_1(path, dsize):\n",
        "        try:\n",
        "             \n",
        "            print(path)\n",
        "            img = cv2.imread(\"/content/gdrive/MyDrive/cbisddsm/Test_output_full/Mass-Test_P_00016_LEFT_CC_FULL__PRE.png\", cv2.IMREAD_GRAYSCALE)\n",
        "            print(type(img))\n",
        "            img = cv2.resize(src=img, dsize=dsize)\n",
        "      \n",
        "            norm_img = (img - img.min()) / (img.max() - img.min())\n",
        "            print(f'After norm_img')\n",
        "            print(f'type {norm_img.shape}')\n",
        "            full_img = np.stack([norm_img, norm_img, norm_img], axis=-1)\n",
        "            print(f'After full_img')\n",
        "            print(f'type {full_img.shape}')\n",
        "            print(f'done for path {path} with shape {full_img.shape}')\n",
        "            return full_img\n",
        "        \n",
        "        except Exception as e:\n",
        "            print(f\"There is an error in loadFullImg {e}\")"
      ]
    },
    {
      "cell_type": "code",
      "execution_count": 41,
      "metadata": {
        "id": "MN8ydZ_-UV74"
      },
      "outputs": [],
      "source": [
        "def loadMaskImg_1(path, dsize):\n",
        "        try:\n",
        "            # if not isinstance(path, str):\n",
        "            #     path=path.decode()\n",
        "            print(path)\n",
        "            img = cv2.imread(\"/content/gdrive/MyDrive/cbisddsm/Test_output_mask/Mass-Test_P_00016_LEFT_CC_MASK_1__PRE.png\", cv2.IMREAD_GRAYSCALE)\n",
        "            img = cv2.resize(src=img, dsize=dsize)\n",
        "\n",
        "            norm_img = (img - img.min()) / (img.max() - img.min())\n",
        "\n",
        "            mask_img = np.expand_dims(norm_img, axis=-1)\n",
        "            print(f'done for path {path} with shape {mask_img.shape}')\n",
        "            return mask_img\n",
        "\n",
        "        except Exception as e:\n",
        "            print(f\"Error in loadMaskIMG {e}\")"
      ]
    },
    {
      "cell_type": "code",
      "execution_count": 42,
      "metadata": {
        "id": "wb2fsrPDUMK1"
      },
      "outputs": [],
      "source": [
        "def tfParse_1(x_path, y_path):\n",
        "        try:\n",
        "            def _parse(x_path, y_path):\n",
        "                x = loadFullImg_1(path=x_path, dsize=target_size)\n",
        "                y = loadMaskImg_1(path=y_path, dsize=target_size)\n",
        "                return x,y\n",
        "\n",
        "            x, y = tf.numpy_function(_parse, [x_path, y_path], [tf.float64, tf.float64])\n",
        "              \n",
        "            x.set_shape([target_size[0], target_size[0], 3])\n",
        "            y.set_shape([target_size[0], target_size[1], 1])\n",
        "\n",
        "            return x,y\n",
        "            \n",
        "\n",
        "        except Exception as e:\n",
        "            print(f\"Error in tfParse {e}\")"
      ]
    },
    {
      "cell_type": "code",
      "execution_count": 43,
      "metadata": {
        "id": "06CumsaLV6JC"
      },
      "outputs": [],
      "source": [
        " #model.load_weights('model.weights.best.hdf5')"
      ]
    },
    {
      "cell_type": "code",
      "execution_count": 44,
      "metadata": {
        "id": "aRVx-4W1T0jO",
        "colab": {
          "base_uri": "https://localhost:8080/"
        },
        "outputId": "4c0d7fc7-afc8-43e1-f376-262d0deebe18"
      },
      "outputs": [
        {
          "output_type": "stream",
          "name": "stdout",
          "text": [
            "/content/gdrive/MyDrive/cbisddsm/Test_output_full/Mass-Test_P_00131_LEFT_CC_FULL__PRE.png\n",
            "<class 'numpy.ndarray'>\n",
            "After norm_img\n",
            "type (512, 512)\n",
            "After full_img\n",
            "type (512, 512, 3)\n",
            "done for path /content/gdrive/MyDrive/cbisddsm/Test_output_full/Mass-Test_P_00131_LEFT_CC_FULL__PRE.png with shape (512, 512, 3)\n",
            "/content/gdrive/MyDrive/cbisddsm/Test_output_mask/Mass-Test_P_00131_LEFT_CC_MASK_1__PRE.png\n",
            "done for path /content/gdrive/MyDrive/cbisddsm/Test_output_mask/Mass-Test_P_00131_LEFT_CC_MASK_1__PRE.png with shape (512, 512, 1)\n"
          ]
        }
      ],
      "source": [
        "res_x, res_y = tfParse_1(test_x[i], test_y[i])"
      ]
    },
    {
      "cell_type": "code",
      "execution_count": 45,
      "metadata": {
        "id": "XMaOVHjUT6He",
        "colab": {
          "base_uri": "https://localhost:8080/"
        },
        "outputId": "b34005ee-4e8a-48ea-8bcd-cd5701066ec8"
      },
      "outputs": [
        {
          "output_type": "stream",
          "name": "stdout",
          "text": [
            "(512, 512, 3)\n",
            "(512, 512, 1)\n",
            "<class 'numpy.ndarray'>\n",
            "(512, 512, 3)\n",
            "(512, 512, 1)\n"
          ]
        }
      ],
      "source": [
        "print(res_x.shape)\n",
        "print(res_y.shape)\n",
        "print(type(res_y.numpy())) \n",
        "print(res_x.numpy().shape)\n",
        "print(res_y.numpy().shape)"
      ]
    },
    {
      "cell_type": "code",
      "execution_count": 46,
      "metadata": {
        "id": "hh-whdVrYM4j",
        "colab": {
          "base_uri": "https://localhost:8080/",
          "height": 527
        },
        "outputId": "84af2bb4-da5e-46aa-db01-ea7a6598d9bc"
      },
      "outputs": [
        {
          "output_type": "execute_result",
          "data": {
            "text/plain": [
              "Text(0.5, -0.1, 'Before cropping ')"
            ]
          },
          "metadata": {},
          "execution_count": 46
        },
        {
          "output_type": "display_data",
          "data": {
            "text/plain": [
              "<Figure size 3600x576 with 1 Axes>"
            ],
            "image/png": "[encoded data removed]"
          },
          "metadata": {
            "needs_background": "light"
          }
        }
      ],
      "source": [
        "plt.figure(figsize = (50,8))\n",
        "plt.imshow(res_x.numpy(), cmap=\"gray\")\n",
        "plt.title(f\"Before cropping \", x=0.5, y=-0.1)"
      ]
    },
    {
      "cell_type": "code",
      "execution_count": 47,
      "metadata": {
        "id": "pVcmbNaQZDTX",
        "colab": {
          "base_uri": "https://localhost:8080/",
          "height": 527
        },
        "outputId": "f6367734-bdca-4b74-f9b4-17f9fd73acd3"
      },
      "outputs": [
        {
          "output_type": "stream",
          "name": "stdout",
          "text": [
            "(512, 512, 3)\n"
          ]
        },
        {
          "output_type": "display_data",
          "data": {
            "text/plain": [
              "<Figure size 3600x576 with 1 Axes>"
            ],
            "image/png": "[encoded data removed]"
          },
          "metadata": {
            "needs_background": "light"
          }
        }
      ],
      "source": [
        "plt.figure(figsize = (50,8))\n",
        "plt.imshow(res_y.numpy()[:,:,0], cmap=\"gray\")\n",
        "plt.title(f\"Before cropping \", x=0.5, y=-0.1)\n",
        "print(res_x.numpy().shape)"
      ]
    },
    {
      "cell_type": "code",
      "execution_count": 48,
      "metadata": {
        "id": "teGKIGb0IhFK"
      },
      "outputs": [],
      "source": [
        "# res_y.numpy()[:,:,0].shape"
      ]
    },
    {
      "cell_type": "code",
      "execution_count": 49,
      "metadata": {
        "id": "Qis1l2Zd_1a7"
      },
      "outputs": [],
      "source": [
        "# res_x.numpy().shape"
      ]
    },
    {
      "cell_type": "code",
      "execution_count": 50,
      "metadata": {
        "id": "qjA1jjBgTnMf"
      },
      "outputs": [],
      "source": [
        "prediction = unet.predict(test_ds)"
      ]
    },
    {
      "cell_type": "code",
      "execution_count": 51,
      "metadata": {
        "id": "Hs8fB-GcJeq5"
      },
      "outputs": [],
      "source": [
        "# type(prediction)"
      ]
    },
    {
      "cell_type": "code",
      "execution_count": 52,
      "metadata": {
        "id": "U10ju5R8Jmxn"
      },
      "outputs": [],
      "source": [
        "# prediction.shape"
      ]
    },
    {
      "cell_type": "code",
      "execution_count": 53,
      "metadata": {
        "id": "pIMrBwBPJj24"
      },
      "outputs": [],
      "source": [
        "# prediction[0].shape"
      ]
    },
    {
      "cell_type": "code",
      "execution_count": 54,
      "metadata": {
        "id": "X8GIuGP7Jq0I",
        "colab": {
          "base_uri": "https://localhost:8080/",
          "height": 527
        },
        "outputId": "e6927d8c-03a7-43c4-dc76-45aa4720d594"
      },
      "outputs": [
        {
          "output_type": "stream",
          "name": "stdout",
          "text": [
            "(512, 512, 3)\n"
          ]
        },
        {
          "output_type": "display_data",
          "data": {
            "text/plain": [
              "<Figure size 3600x576 with 1 Axes>"
            ],
            "image/png": "[encoded data removed]"
          },
          "metadata": {
            "needs_background": "light"
          }
        }
      ],
      "source": [
        "plt.figure(figsize = (50,8))\n",
        "plt.imshow(prediction[i][:,:,0], cmap=\"gray\")\n",
        "plt.title(f\"Before cropping \", x=0.5, y=-0.1)\n",
        "print(res_x.numpy().shape)"
      ]
    }
  ],
  "metadata": {
    "accelerator": "GPU",
    "colab": {
      "collapsed_sections": [],
      "name": "Cbisddsm_final_new_19.ipynb",
      "provenance": []
    },
    "gpuClass": "standard",
    "instance_type": "ml.m5.large",
    "kernelspec": {
      "display_name": "Python 3 (Data Science)",
      "language": "python",
      "name": "python3__SAGEMAKER_INTERNAL__arn:aws:sagemaker:us-east-1:081325390199:image/datascience-1.0"
    },
    "language_info": {
      "codemirror_mode": {
        "name": "ipython",
        "version": 3
      },
      "file_extension": ".py",
      "mimetype": "text/x-python",
      "name": "python",
      "nbconvert_exporter": "python",
      "pygments_lexer": "ipython3",
      "version": "3.7.10"
    }
  },
  "nbformat": 4,
  "nbformat_minor": 0
}